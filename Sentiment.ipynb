{
  "nbformat": 4,
  "nbformat_minor": 0,
  "metadata": {
    "colab": {
      "name": "Sentiment.ipynb",
      "provenance": [],
      "collapsed_sections": [
        "OVeOwI-jKI0Q",
        "yqc17yy6_neX",
        "X2_ElwvtKQMP",
        "u1PsnTraKXMf",
        "SVtm04JbLeR_",
        "SQNCsZ_aOM9_",
        "2xOjhP4bWI6h",
        "rqFUTNmHX1Xw",
        "VDuF-ef5u8EZ",
        "s_vwE6lYvUKY",
        "Ax4dTFycvftJ",
        "0sIzIVGfv1UI",
        "MCV6rzZ6T-6X",
        "-9j67o2GUD9v",
        "uH7jxIYDUMH3",
        "Y8tq5MNkk990",
        "crYrjQiqlUEM",
        "teEF3ST-uQre",
        "D4Fep3_YUQWw",
        "StfOLzZ_gNbv"
      ],
      "authorship_tag": "ABX9TyMEnAaZ19G/Bk0aCOqMRJ1S",
      "include_colab_link": true
    },
    "kernelspec": {
      "name": "python3",
      "display_name": "Python 3"
    },
    "language_info": {
      "name": "python"
    },
    "accelerator": "TPU"
  },
  "cells": [
    {
      "cell_type": "markdown",
      "metadata": {
        "id": "view-in-github",
        "colab_type": "text"
      },
      "source": [
        "<a href=\"https://colab.research.google.com/github/mendoanjoe/sentiment-analysis/blob/main/Sentiment.ipynb\" target=\"_parent\"><img src=\"https://colab.research.google.com/assets/colab-badge.svg\" alt=\"Open In Colab\"/></a>"
      ]
    },
    {
      "cell_type": "markdown",
      "source": [
        "# Library"
      ],
      "metadata": {
        "id": "OVeOwI-jKI0Q"
      }
    },
    {
      "cell_type": "code",
      "execution_count": null,
      "metadata": {
        "colab": {
          "base_uri": "https://localhost:8080/"
        },
        "id": "EGUagNyw_YTd",
        "outputId": "46f30e8e-cf29-460a-8b96-126c1316ca4d"
      },
      "outputs": [
        {
          "output_type": "stream",
          "name": "stdout",
          "text": [
            "Collecting Sastrawi\n",
            "  Downloading Sastrawi-1.0.1-py2.py3-none-any.whl (209 kB)\n",
            "\u001b[?25l\r\u001b[K     |█▋                              | 10 kB 14.4 MB/s eta 0:00:01\r\u001b[K     |███▏                            | 20 kB 12.4 MB/s eta 0:00:01\r\u001b[K     |████▊                           | 30 kB 9.0 MB/s eta 0:00:01\r\u001b[K     |██████▎                         | 40 kB 7.8 MB/s eta 0:00:01\r\u001b[K     |███████▉                        | 51 kB 5.7 MB/s eta 0:00:01\r\u001b[K     |█████████▍                      | 61 kB 5.8 MB/s eta 0:00:01\r\u001b[K     |███████████                     | 71 kB 5.6 MB/s eta 0:00:01\r\u001b[K     |████████████▌                   | 81 kB 6.2 MB/s eta 0:00:01\r\u001b[K     |██████████████                  | 92 kB 6.1 MB/s eta 0:00:01\r\u001b[K     |███████████████▋                | 102 kB 5.4 MB/s eta 0:00:01\r\u001b[K     |█████████████████▏              | 112 kB 5.4 MB/s eta 0:00:01\r\u001b[K     |██████████████████▊             | 122 kB 5.4 MB/s eta 0:00:01\r\u001b[K     |████████████████████▎           | 133 kB 5.4 MB/s eta 0:00:01\r\u001b[K     |█████████████████████▉          | 143 kB 5.4 MB/s eta 0:00:01\r\u001b[K     |███████████████████████▍        | 153 kB 5.4 MB/s eta 0:00:01\r\u001b[K     |█████████████████████████       | 163 kB 5.4 MB/s eta 0:00:01\r\u001b[K     |██████████████████████████▋     | 174 kB 5.4 MB/s eta 0:00:01\r\u001b[K     |████████████████████████████▏   | 184 kB 5.4 MB/s eta 0:00:01\r\u001b[K     |█████████████████████████████▊  | 194 kB 5.4 MB/s eta 0:00:01\r\u001b[K     |███████████████████████████████▎| 204 kB 5.4 MB/s eta 0:00:01\r\u001b[K     |████████████████████████████████| 209 kB 5.4 MB/s \n",
            "\u001b[?25hInstalling collected packages: Sastrawi\n",
            "Successfully installed Sastrawi-1.0.1\n",
            "Requirement already satisfied: textblob in /usr/local/lib/python3.7/dist-packages (0.15.3)\n",
            "Requirement already satisfied: nltk>=3.1 in /usr/local/lib/python3.7/dist-packages (from textblob) (3.2.5)\n",
            "Requirement already satisfied: six in /usr/local/lib/python3.7/dist-packages (from nltk>=3.1->textblob) (1.15.0)\n",
            "Collecting transformers\n",
            "  Downloading transformers-4.15.0-py3-none-any.whl (3.4 MB)\n",
            "\u001b[K     |████████████████████████████████| 3.4 MB 5.4 MB/s \n",
            "\u001b[?25hCollecting sacremoses\n",
            "  Downloading sacremoses-0.0.46-py3-none-any.whl (895 kB)\n",
            "\u001b[K     |████████████████████████████████| 895 kB 64.3 MB/s \n",
            "\u001b[?25hRequirement already satisfied: regex!=2019.12.17 in /usr/local/lib/python3.7/dist-packages (from transformers) (2019.12.20)\n",
            "Collecting pyyaml>=5.1\n",
            "  Downloading PyYAML-6.0-cp37-cp37m-manylinux_2_5_x86_64.manylinux1_x86_64.manylinux_2_12_x86_64.manylinux2010_x86_64.whl (596 kB)\n",
            "\u001b[K     |████████████████████████████████| 596 kB 54.9 MB/s \n",
            "\u001b[?25hCollecting tokenizers<0.11,>=0.10.1\n",
            "  Downloading tokenizers-0.10.3-cp37-cp37m-manylinux_2_5_x86_64.manylinux1_x86_64.manylinux_2_12_x86_64.manylinux2010_x86_64.whl (3.3 MB)\n",
            "\u001b[K     |████████████████████████████████| 3.3 MB 43.7 MB/s \n",
            "\u001b[?25hRequirement already satisfied: requests in /usr/local/lib/python3.7/dist-packages (from transformers) (2.23.0)\n",
            "Requirement already satisfied: tqdm>=4.27 in /usr/local/lib/python3.7/dist-packages (from transformers) (4.62.3)\n",
            "Requirement already satisfied: importlib-metadata in /usr/local/lib/python3.7/dist-packages (from transformers) (4.8.2)\n",
            "Requirement already satisfied: packaging>=20.0 in /usr/local/lib/python3.7/dist-packages (from transformers) (21.3)\n",
            "Requirement already satisfied: numpy>=1.17 in /usr/local/lib/python3.7/dist-packages (from transformers) (1.19.5)\n",
            "Requirement already satisfied: filelock in /usr/local/lib/python3.7/dist-packages (from transformers) (3.4.0)\n",
            "Collecting huggingface-hub<1.0,>=0.1.0\n",
            "  Downloading huggingface_hub-0.2.1-py3-none-any.whl (61 kB)\n",
            "\u001b[K     |████████████████████████████████| 61 kB 427 kB/s \n",
            "\u001b[?25hRequirement already satisfied: typing-extensions>=3.7.4.3 in /usr/local/lib/python3.7/dist-packages (from huggingface-hub<1.0,>=0.1.0->transformers) (3.10.0.2)\n",
            "Requirement already satisfied: pyparsing!=3.0.5,>=2.0.2 in /usr/local/lib/python3.7/dist-packages (from packaging>=20.0->transformers) (3.0.6)\n",
            "Requirement already satisfied: zipp>=0.5 in /usr/local/lib/python3.7/dist-packages (from importlib-metadata->transformers) (3.6.0)\n",
            "Requirement already satisfied: chardet<4,>=3.0.2 in /usr/local/lib/python3.7/dist-packages (from requests->transformers) (3.0.4)\n",
            "Requirement already satisfied: idna<3,>=2.5 in /usr/local/lib/python3.7/dist-packages (from requests->transformers) (2.10)\n",
            "Requirement already satisfied: urllib3!=1.25.0,!=1.25.1,<1.26,>=1.21.1 in /usr/local/lib/python3.7/dist-packages (from requests->transformers) (1.24.3)\n",
            "Requirement already satisfied: certifi>=2017.4.17 in /usr/local/lib/python3.7/dist-packages (from requests->transformers) (2021.10.8)\n",
            "Requirement already satisfied: joblib in /usr/local/lib/python3.7/dist-packages (from sacremoses->transformers) (1.1.0)\n",
            "Requirement already satisfied: click in /usr/local/lib/python3.7/dist-packages (from sacremoses->transformers) (7.1.2)\n",
            "Requirement already satisfied: six in /usr/local/lib/python3.7/dist-packages (from sacremoses->transformers) (1.15.0)\n",
            "Installing collected packages: pyyaml, tokenizers, sacremoses, huggingface-hub, transformers\n",
            "  Attempting uninstall: pyyaml\n",
            "    Found existing installation: PyYAML 3.13\n",
            "    Uninstalling PyYAML-3.13:\n",
            "      Successfully uninstalled PyYAML-3.13\n",
            "Successfully installed huggingface-hub-0.2.1 pyyaml-6.0 sacremoses-0.0.46 tokenizers-0.10.3 transformers-4.15.0\n"
          ]
        }
      ],
      "source": [
        "!pip install Sastrawi\n",
        "!pip install textblob\n",
        "!pip install transformers"
      ]
    },
    {
      "cell_type": "code",
      "source": [
        "import io\n",
        "import pandas as pd\n",
        "import matplotlib.pyplot as plt\n",
        "import json\n",
        "import string\n",
        "import re\n",
        "import nltk\n",
        "import pickle\n",
        "\n",
        "nltk.download('punkt')\n",
        "nltk.download('averaged_perceptron_tagger')\n",
        "nltk.download('wordnet')\n",
        "\n",
        "from nltk.stem import WordNetLemmatizer\n",
        "from nltk.corpus import wordnet\n",
        "from Sastrawi.Stemmer.StemmerFactory import StemmerFactory\n",
        "from google.colab import drive\n",
        "from google.colab import files\n",
        "from wordcloud import WordCloud\n",
        "from textblob import TextBlob\n",
        "from transformers import pipeline\n",
        "from transformers import AutoTokenizer, AutoModelForSequenceClassification\n",
        "from sklearn import model_selection\n",
        "from sklearn.feature_extraction.text import TfidfVectorizer\n",
        "from sklearn.svm import SVC\n",
        "from sklearn.metrics import accuracy_score\n",
        "from sklearn.metrics import classification_report\n",
        "from sklearn.model_selection import train_test_split, StratifiedKFold, cross_val_score"
      ],
      "metadata": {
        "colab": {
          "base_uri": "https://localhost:8080/"
        },
        "id": "95CRbCfq_bMY",
        "outputId": "ef3e81df-f8c9-4f22-b991-b07401c5dae8"
      },
      "execution_count": null,
      "outputs": [
        {
          "output_type": "stream",
          "name": "stdout",
          "text": [
            "[nltk_data] Downloading package punkt to /root/nltk_data...\n",
            "[nltk_data]   Unzipping tokenizers/punkt.zip.\n",
            "[nltk_data] Downloading package averaged_perceptron_tagger to\n",
            "[nltk_data]     /root/nltk_data...\n",
            "[nltk_data]   Unzipping taggers/averaged_perceptron_tagger.zip.\n",
            "[nltk_data] Downloading package wordnet to /root/nltk_data...\n",
            "[nltk_data]   Unzipping corpora/wordnet.zip.\n"
          ]
        }
      ]
    },
    {
      "cell_type": "markdown",
      "source": [
        "# Data sociolla & female daily"
      ],
      "metadata": {
        "id": "yqc17yy6_neX"
      }
    },
    {
      "cell_type": "markdown",
      "source": [
        "## Upload data sociolla.json & femaledaily.json"
      ],
      "metadata": {
        "id": "HL3o6osdJDFx"
      }
    },
    {
      "cell_type": "code",
      "source": [
        "data_files = files.upload()"
      ],
      "metadata": {
        "colab": {
          "resources": {
            "http://localhost:8080/nbextensions/google.colab/files.js": {
              "data": "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",
              "ok": true,
              "headers": [
                [
                  "content-type",
                  "application/javascript"
                ]
              ],
              "status": 200,
              "status_text": ""
            }
          },
          "base_uri": "https://localhost:8080/",
          "height": 107
        },
        "id": "xYgvz4I5_3If",
        "outputId": "d5db74f5-e993-400c-bf89-b79c63e8c089"
      },
      "execution_count": null,
      "outputs": [
        {
          "output_type": "display_data",
          "data": {
            "text/html": [
              "\n",
              "     <input type=\"file\" id=\"files-e10faa19-8f74-4753-b1e6-e0ecd1e9d153\" name=\"files[]\" multiple disabled\n",
              "        style=\"border:none\" />\n",
              "     <output id=\"result-e10faa19-8f74-4753-b1e6-e0ecd1e9d153\">\n",
              "      Upload widget is only available when the cell has been executed in the\n",
              "      current browser session. Please rerun this cell to enable.\n",
              "      </output>\n",
              "      <script src=\"/nbextensions/google.colab/files.js\"></script> "
            ],
            "text/plain": [
              "<IPython.core.display.HTML object>"
            ]
          },
          "metadata": {}
        },
        {
          "output_type": "stream",
          "name": "stdout",
          "text": [
            "Saving femaledaily.json to femaledaily.json\n",
            "Saving sociolla.json to sociolla (2).json\n"
          ]
        }
      ]
    },
    {
      "cell_type": "code",
      "source": [
        "json_sociolla = json.loads(data_files['sociolla.json'])\n",
        "json_femaleDaily = json.loads(data_files['femaledaily.json'])"
      ],
      "metadata": {
        "id": "mLWMtoMOGutj"
      },
      "execution_count": null,
      "outputs": []
    },
    {
      "cell_type": "markdown",
      "source": [
        "## Normalize json to dataframe"
      ],
      "metadata": {
        "id": "6YQJpsy8JLW5"
      }
    },
    {
      "cell_type": "code",
      "source": [
        "# https://towardsdatascience.com/how-to-convert-json-into-a-pandas-dataframe-100b2ae1e0d8\n",
        "df_sociolla = pd.json_normalize(json_sociolla, meta=[['user', 'name'], ['product', 'name']])\n",
        "df_femaleDaily = pd.json_normalize(json_femaleDaily, meta=[['product', 'packaging_avg'], ['product', 'rating_avg'], ['product', 'total_review'], ['user', 'age_range']])"
      ],
      "metadata": {
        "id": "UOaZnPVCBtqv"
      },
      "execution_count": null,
      "outputs": []
    },
    {
      "cell_type": "markdown",
      "source": [
        "## Preview dataframe"
      ],
      "metadata": {
        "id": "eVToHabXJQ05"
      }
    },
    {
      "cell_type": "code",
      "source": [
        "df_sociolla.head()"
      ],
      "metadata": {
        "colab": {
          "base_uri": "https://localhost:8080/",
          "height": 476
        },
        "id": "rvbeDHVyIz2q",
        "outputId": "dbbac3ad-a4db-40a4-c741-41492d36a759"
      },
      "execution_count": null,
      "outputs": [
        {
          "output_type": "execute_result",
          "data": {
            "text/html": [
              "\n",
              "  <div id=\"df-a5a5af2e-4a5f-40fd-b02d-53db39aae14a\">\n",
              "    <div class=\"colab-df-container\">\n",
              "      <div>\n",
              "<style scoped>\n",
              "    .dataframe tbody tr th:only-of-type {\n",
              "        vertical-align: middle;\n",
              "    }\n",
              "\n",
              "    .dataframe tbody tr th {\n",
              "        vertical-align: top;\n",
              "    }\n",
              "\n",
              "    .dataframe thead th {\n",
              "        text-align: right;\n",
              "    }\n",
              "</style>\n",
              "<table border=\"1\" class=\"dataframe\">\n",
              "  <thead>\n",
              "    <tr style=\"text-align: right;\">\n",
              "      <th></th>\n",
              "      <th>_id</th>\n",
              "      <th>details</th>\n",
              "      <th>star_texture</th>\n",
              "      <th>star_effectiveness</th>\n",
              "      <th>star_packaging</th>\n",
              "      <th>star_value_for_money</th>\n",
              "      <th>average_rating</th>\n",
              "      <th>created_at</th>\n",
              "      <th>detail</th>\n",
              "      <th>user.name</th>\n",
              "      <th>product.name</th>\n",
              "    </tr>\n",
              "  </thead>\n",
              "  <tbody>\n",
              "    <tr>\n",
              "      <th>0</th>\n",
              "      <td>61b8df2fc6f4e3442ee516fa</td>\n",
              "      <td>suka banget sama produk ini, gampang dibawa ke...</td>\n",
              "      <td>5</td>\n",
              "      <td>5</td>\n",
              "      <td>5</td>\n",
              "      <td>5</td>\n",
              "      <td>5.0</td>\n",
              "      <td>2021-12-14T18:15:11.866Z</td>\n",
              "      <td>suka banget sama produk ini, gampang dibawa ke...</td>\n",
              "      <td>Zahra Asyifa</td>\n",
              "      <td>Cica Beat The Sun Powder</td>\n",
              "    </tr>\n",
              "    <tr>\n",
              "      <th>1</th>\n",
              "      <td>61b8a6cd8b24ecb6db2e6736</td>\n",
              "      <td>ini aku pertama kali beli produk ini dan aku e...</td>\n",
              "      <td>5</td>\n",
              "      <td>5</td>\n",
              "      <td>5</td>\n",
              "      <td>5</td>\n",
              "      <td>5.0</td>\n",
              "      <td>2021-12-14T14:14:37.221Z</td>\n",
              "      <td>ini aku pertama kali beli produk ini dan aku e...</td>\n",
              "      <td>Nurlela Achmad</td>\n",
              "      <td>Cica Beat The Sun SPF 50 PA ++++</td>\n",
              "    </tr>\n",
              "    <tr>\n",
              "      <th>2</th>\n",
              "      <td>61b89df3b7db5e79311918c7</td>\n",
              "      <td>I love the packaging, the texture, tapi kurang...</td>\n",
              "      <td>4</td>\n",
              "      <td>4</td>\n",
              "      <td>5</td>\n",
              "      <td>5</td>\n",
              "      <td>4.5</td>\n",
              "      <td>2021-12-14T13:36:51.246Z</td>\n",
              "      <td>I love the packaging, the texture, tapi kurang...</td>\n",
              "      <td>adinda subagio</td>\n",
              "      <td>Cica Beat The Sun SPF 50 PA ++++</td>\n",
              "    </tr>\n",
              "    <tr>\n",
              "      <th>3</th>\n",
              "      <td>61b86abe0ba0d9449dae81f1</td>\n",
              "      <td>menyesal kenapa baru tahu ada sunscreen yang b...</td>\n",
              "      <td>5</td>\n",
              "      <td>5</td>\n",
              "      <td>5</td>\n",
              "      <td>5</td>\n",
              "      <td>5.0</td>\n",
              "      <td>2021-12-14T09:58:22.157Z</td>\n",
              "      <td>menyesal kenapa baru tahu ada sunscreen yang b...</td>\n",
              "      <td>Amalia Anggraini</td>\n",
              "      <td>Cica Beat The Sun Powder</td>\n",
              "    </tr>\n",
              "    <tr>\n",
              "      <th>4</th>\n",
              "      <td>61b8692ca4eb722150610da8</td>\n",
              "      <td>suka!! bagus bgt buat touch up ditambah lg ini...</td>\n",
              "      <td>5</td>\n",
              "      <td>5</td>\n",
              "      <td>5</td>\n",
              "      <td>4</td>\n",
              "      <td>4.8</td>\n",
              "      <td>2021-12-14T09:51:40.672Z</td>\n",
              "      <td>suka!! bagus bgt buat touch up ditambah lg ini...</td>\n",
              "      <td>Winda Teresia</td>\n",
              "      <td>Cica Beat The Sun Powder</td>\n",
              "    </tr>\n",
              "  </tbody>\n",
              "</table>\n",
              "</div>\n",
              "      <button class=\"colab-df-convert\" onclick=\"convertToInteractive('df-a5a5af2e-4a5f-40fd-b02d-53db39aae14a')\"\n",
              "              title=\"Convert this dataframe to an interactive table.\"\n",
              "              style=\"display:none;\">\n",
              "        \n",
              "  <svg xmlns=\"http://www.w3.org/2000/svg\" height=\"24px\"viewBox=\"0 0 24 24\"\n",
              "       width=\"24px\">\n",
              "    <path d=\"M0 0h24v24H0V0z\" fill=\"none\"/>\n",
              "    <path d=\"M18.56 5.44l.94 2.06.94-2.06 2.06-.94-2.06-.94-.94-2.06-.94 2.06-2.06.94zm-11 1L8.5 8.5l.94-2.06 2.06-.94-2.06-.94L8.5 2.5l-.94 2.06-2.06.94zm10 10l.94 2.06.94-2.06 2.06-.94-2.06-.94-.94-2.06-.94 2.06-2.06.94z\"/><path d=\"M17.41 7.96l-1.37-1.37c-.4-.4-.92-.59-1.43-.59-.52 0-1.04.2-1.43.59L10.3 9.45l-7.72 7.72c-.78.78-.78 2.05 0 2.83L4 21.41c.39.39.9.59 1.41.59.51 0 1.02-.2 1.41-.59l7.78-7.78 2.81-2.81c.8-.78.8-2.07 0-2.86zM5.41 20L4 18.59l7.72-7.72 1.47 1.35L5.41 20z\"/>\n",
              "  </svg>\n",
              "      </button>\n",
              "      \n",
              "  <style>\n",
              "    .colab-df-container {\n",
              "      display:flex;\n",
              "      flex-wrap:wrap;\n",
              "      gap: 12px;\n",
              "    }\n",
              "\n",
              "    .colab-df-convert {\n",
              "      background-color: #E8F0FE;\n",
              "      border: none;\n",
              "      border-radius: 50%;\n",
              "      cursor: pointer;\n",
              "      display: none;\n",
              "      fill: #1967D2;\n",
              "      height: 32px;\n",
              "      padding: 0 0 0 0;\n",
              "      width: 32px;\n",
              "    }\n",
              "\n",
              "    .colab-df-convert:hover {\n",
              "      background-color: #E2EBFA;\n",
              "      box-shadow: 0px 1px 2px rgba(60, 64, 67, 0.3), 0px 1px 3px 1px rgba(60, 64, 67, 0.15);\n",
              "      fill: #174EA6;\n",
              "    }\n",
              "\n",
              "    [theme=dark] .colab-df-convert {\n",
              "      background-color: #3B4455;\n",
              "      fill: #D2E3FC;\n",
              "    }\n",
              "\n",
              "    [theme=dark] .colab-df-convert:hover {\n",
              "      background-color: #434B5C;\n",
              "      box-shadow: 0px 1px 3px 1px rgba(0, 0, 0, 0.15);\n",
              "      filter: drop-shadow(0px 1px 2px rgba(0, 0, 0, 0.3));\n",
              "      fill: #FFFFFF;\n",
              "    }\n",
              "  </style>\n",
              "\n",
              "      <script>\n",
              "        const buttonEl =\n",
              "          document.querySelector('#df-a5a5af2e-4a5f-40fd-b02d-53db39aae14a button.colab-df-convert');\n",
              "        buttonEl.style.display =\n",
              "          google.colab.kernel.accessAllowed ? 'block' : 'none';\n",
              "\n",
              "        async function convertToInteractive(key) {\n",
              "          const element = document.querySelector('#df-a5a5af2e-4a5f-40fd-b02d-53db39aae14a');\n",
              "          const dataTable =\n",
              "            await google.colab.kernel.invokeFunction('convertToInteractive',\n",
              "                                                     [key], {});\n",
              "          if (!dataTable) return;\n",
              "\n",
              "          const docLinkHtml = 'Like what you see? Visit the ' +\n",
              "            '<a target=\"_blank\" href=https://colab.research.google.com/notebooks/data_table.ipynb>data table notebook</a>'\n",
              "            + ' to learn more about interactive tables.';\n",
              "          element.innerHTML = '';\n",
              "          dataTable['output_type'] = 'display_data';\n",
              "          await google.colab.output.renderOutput(dataTable, element);\n",
              "          const docLink = document.createElement('div');\n",
              "          docLink.innerHTML = docLinkHtml;\n",
              "          element.appendChild(docLink);\n",
              "        }\n",
              "      </script>\n",
              "    </div>\n",
              "  </div>\n",
              "  "
            ],
            "text/plain": [
              "                        _id  ...                      product.name\n",
              "0  61b8df2fc6f4e3442ee516fa  ...          Cica Beat The Sun Powder\n",
              "1  61b8a6cd8b24ecb6db2e6736  ...  Cica Beat The Sun SPF 50 PA ++++\n",
              "2  61b89df3b7db5e79311918c7  ...  Cica Beat The Sun SPF 50 PA ++++\n",
              "3  61b86abe0ba0d9449dae81f1  ...          Cica Beat The Sun Powder\n",
              "4  61b8692ca4eb722150610da8  ...          Cica Beat The Sun Powder\n",
              "\n",
              "[5 rows x 11 columns]"
            ]
          },
          "metadata": {},
          "execution_count": 35
        }
      ]
    },
    {
      "cell_type": "code",
      "source": [
        "df_femaleDaily.head()"
      ],
      "metadata": {
        "colab": {
          "base_uri": "https://localhost:8080/",
          "height": 461
        },
        "id": "I-iZnrp6I14g",
        "outputId": "2002393d-f5a6-47b6-a827-809965fb955f"
      },
      "execution_count": null,
      "outputs": [
        {
          "output_type": "execute_result",
          "data": {
            "text/html": [
              "\n",
              "  <div id=\"df-b17cb8a0-40c2-41c1-a23c-3b2924030b56\">\n",
              "    <div class=\"colab-df-container\">\n",
              "      <div>\n",
              "<style scoped>\n",
              "    .dataframe tbody tr th:only-of-type {\n",
              "        vertical-align: middle;\n",
              "    }\n",
              "\n",
              "    .dataframe tbody tr th {\n",
              "        vertical-align: top;\n",
              "    }\n",
              "\n",
              "    .dataframe thead th {\n",
              "        text-align: right;\n",
              "    }\n",
              "</style>\n",
              "<table border=\"1\" class=\"dataframe\">\n",
              "  <thead>\n",
              "    <tr style=\"text-align: right;\">\n",
              "      <th></th>\n",
              "      <th>rvwr_review_rating</th>\n",
              "      <th>rvwr_review_txt</th>\n",
              "      <th>fullname</th>\n",
              "      <th>review_cur_ori</th>\n",
              "      <th>review_cur_update</th>\n",
              "      <th>prod_item</th>\n",
              "      <th>brand_name</th>\n",
              "      <th>_id.$oid</th>\n",
              "      <th>product.total_review</th>\n",
              "      <th>product.packaging_avg</th>\n",
              "      <th>product.rating_avg</th>\n",
              "      <th>user.age_range</th>\n",
              "    </tr>\n",
              "  </thead>\n",
              "  <tbody>\n",
              "    <tr>\n",
              "      <th>0</th>\n",
              "      <td>5</td>\n",
              "      <td>akhirnya beli produk ini pas banget lagi sale ...</td>\n",
              "      <td>Nadira Ananda Thamrin</td>\n",
              "      <td>IDR</td>\n",
              "      <td>IDR</td>\n",
              "      <td>Cica Beat The Sun Powder</td>\n",
              "      <td>N'pure</td>\n",
              "      <td>619a26b06f6dfb81c79927e2</td>\n",
              "      <td>1452</td>\n",
              "      <td>1</td>\n",
              "      <td>4.9</td>\n",
              "      <td>19 - 24</td>\n",
              "    </tr>\n",
              "    <tr>\n",
              "      <th>1</th>\n",
              "      <td>5</td>\n",
              "      <td>Sun powder dari N'pure ini bagus bangett, gabo...</td>\n",
              "      <td>Oktavia Zuhrotul Hafshah</td>\n",
              "      <td>IDR</td>\n",
              "      <td>IDR</td>\n",
              "      <td>Cica Beat The Sun Powder</td>\n",
              "      <td>N'pure</td>\n",
              "      <td>619a26b06f6dfb81c7992804</td>\n",
              "      <td>1452</td>\n",
              "      <td>1</td>\n",
              "      <td>4.9</td>\n",
              "      <td>18 and Under</td>\n",
              "    </tr>\n",
              "    <tr>\n",
              "      <th>2</th>\n",
              "      <td>5</td>\n",
              "      <td>waw sumpah si ini sunscreen yang bener bener b...</td>\n",
              "      <td>wawa</td>\n",
              "      <td>IDR</td>\n",
              "      <td>IDR</td>\n",
              "      <td>Cica Beat The Sun</td>\n",
              "      <td>N'pure</td>\n",
              "      <td>619a26b06f6dfb81c7992833</td>\n",
              "      <td>2952</td>\n",
              "      <td>1</td>\n",
              "      <td>4.9</td>\n",
              "      <td>18 and Under</td>\n",
              "    </tr>\n",
              "    <tr>\n",
              "      <th>3</th>\n",
              "      <td>5</td>\n",
              "      <td>N'PURE Cica Beat The Sun Powder ini bener-bene...</td>\n",
              "      <td>Shinta Dwi Asmarani</td>\n",
              "      <td>IDR</td>\n",
              "      <td>IDR</td>\n",
              "      <td>Cica Beat The Sun Powder</td>\n",
              "      <td>N'pure</td>\n",
              "      <td>619a26b06f6dfb81c7992844</td>\n",
              "      <td>1452</td>\n",
              "      <td>1</td>\n",
              "      <td>4.9</td>\n",
              "      <td>25 - 29</td>\n",
              "    </tr>\n",
              "    <tr>\n",
              "      <th>4</th>\n",
              "      <td>5</td>\n",
              "      <td>Suka sama teksturnya powder dan aplikatornya b...</td>\n",
              "      <td>Selizar Effendy</td>\n",
              "      <td>IDR</td>\n",
              "      <td>IDR</td>\n",
              "      <td>Cica Beat The Sun Powder</td>\n",
              "      <td>N'pure</td>\n",
              "      <td>619a26b06f6dfb81c79928a8</td>\n",
              "      <td>1452</td>\n",
              "      <td>1</td>\n",
              "      <td>4.9</td>\n",
              "      <td>25 - 29</td>\n",
              "    </tr>\n",
              "  </tbody>\n",
              "</table>\n",
              "</div>\n",
              "      <button class=\"colab-df-convert\" onclick=\"convertToInteractive('df-b17cb8a0-40c2-41c1-a23c-3b2924030b56')\"\n",
              "              title=\"Convert this dataframe to an interactive table.\"\n",
              "              style=\"display:none;\">\n",
              "        \n",
              "  <svg xmlns=\"http://www.w3.org/2000/svg\" height=\"24px\"viewBox=\"0 0 24 24\"\n",
              "       width=\"24px\">\n",
              "    <path d=\"M0 0h24v24H0V0z\" fill=\"none\"/>\n",
              "    <path d=\"M18.56 5.44l.94 2.06.94-2.06 2.06-.94-2.06-.94-.94-2.06-.94 2.06-2.06.94zm-11 1L8.5 8.5l.94-2.06 2.06-.94-2.06-.94L8.5 2.5l-.94 2.06-2.06.94zm10 10l.94 2.06.94-2.06 2.06-.94-2.06-.94-.94-2.06-.94 2.06-2.06.94z\"/><path d=\"M17.41 7.96l-1.37-1.37c-.4-.4-.92-.59-1.43-.59-.52 0-1.04.2-1.43.59L10.3 9.45l-7.72 7.72c-.78.78-.78 2.05 0 2.83L4 21.41c.39.39.9.59 1.41.59.51 0 1.02-.2 1.41-.59l7.78-7.78 2.81-2.81c.8-.78.8-2.07 0-2.86zM5.41 20L4 18.59l7.72-7.72 1.47 1.35L5.41 20z\"/>\n",
              "  </svg>\n",
              "      </button>\n",
              "      \n",
              "  <style>\n",
              "    .colab-df-container {\n",
              "      display:flex;\n",
              "      flex-wrap:wrap;\n",
              "      gap: 12px;\n",
              "    }\n",
              "\n",
              "    .colab-df-convert {\n",
              "      background-color: #E8F0FE;\n",
              "      border: none;\n",
              "      border-radius: 50%;\n",
              "      cursor: pointer;\n",
              "      display: none;\n",
              "      fill: #1967D2;\n",
              "      height: 32px;\n",
              "      padding: 0 0 0 0;\n",
              "      width: 32px;\n",
              "    }\n",
              "\n",
              "    .colab-df-convert:hover {\n",
              "      background-color: #E2EBFA;\n",
              "      box-shadow: 0px 1px 2px rgba(60, 64, 67, 0.3), 0px 1px 3px 1px rgba(60, 64, 67, 0.15);\n",
              "      fill: #174EA6;\n",
              "    }\n",
              "\n",
              "    [theme=dark] .colab-df-convert {\n",
              "      background-color: #3B4455;\n",
              "      fill: #D2E3FC;\n",
              "    }\n",
              "\n",
              "    [theme=dark] .colab-df-convert:hover {\n",
              "      background-color: #434B5C;\n",
              "      box-shadow: 0px 1px 3px 1px rgba(0, 0, 0, 0.15);\n",
              "      filter: drop-shadow(0px 1px 2px rgba(0, 0, 0, 0.3));\n",
              "      fill: #FFFFFF;\n",
              "    }\n",
              "  </style>\n",
              "\n",
              "      <script>\n",
              "        const buttonEl =\n",
              "          document.querySelector('#df-b17cb8a0-40c2-41c1-a23c-3b2924030b56 button.colab-df-convert');\n",
              "        buttonEl.style.display =\n",
              "          google.colab.kernel.accessAllowed ? 'block' : 'none';\n",
              "\n",
              "        async function convertToInteractive(key) {\n",
              "          const element = document.querySelector('#df-b17cb8a0-40c2-41c1-a23c-3b2924030b56');\n",
              "          const dataTable =\n",
              "            await google.colab.kernel.invokeFunction('convertToInteractive',\n",
              "                                                     [key], {});\n",
              "          if (!dataTable) return;\n",
              "\n",
              "          const docLinkHtml = 'Like what you see? Visit the ' +\n",
              "            '<a target=\"_blank\" href=https://colab.research.google.com/notebooks/data_table.ipynb>data table notebook</a>'\n",
              "            + ' to learn more about interactive tables.';\n",
              "          element.innerHTML = '';\n",
              "          dataTable['output_type'] = 'display_data';\n",
              "          await google.colab.output.renderOutput(dataTable, element);\n",
              "          const docLink = document.createElement('div');\n",
              "          docLink.innerHTML = docLinkHtml;\n",
              "          element.appendChild(docLink);\n",
              "        }\n",
              "      </script>\n",
              "    </div>\n",
              "  </div>\n",
              "  "
            ],
            "text/plain": [
              "   rvwr_review_rating  ... user.age_range\n",
              "0                   5  ...        19 - 24\n",
              "1                   5  ...   18 and Under\n",
              "2                   5  ...   18 and Under\n",
              "3                   5  ...        25 - 29\n",
              "4                   5  ...        25 - 29\n",
              "\n",
              "[5 rows x 12 columns]"
            ]
          },
          "metadata": {},
          "execution_count": 36
        }
      ]
    },
    {
      "cell_type": "markdown",
      "source": [
        "## Picking datasource"
      ],
      "metadata": {
        "id": "RG_rTRKGJaTH"
      }
    },
    {
      "cell_type": "code",
      "source": [
        "data_sociolla = df_sociolla[['details']]\n",
        "data_femaleDaily = df_femaleDaily[['rvwr_review_txt']]\n",
        "\n",
        "# rename to details\n",
        "data_femaleDaily.rename(columns = {'rvwr_review_txt':'details'}, inplace = True)"
      ],
      "metadata": {
        "colab": {
          "base_uri": "https://localhost:8080/"
        },
        "id": "Ek9zaz_YJi74",
        "outputId": "08a8df81-e44f-4149-e90b-13c0d2a5d6b2"
      },
      "execution_count": null,
      "outputs": [
        {
          "output_type": "stream",
          "name": "stderr",
          "text": [
            "/usr/local/lib/python3.7/dist-packages/pandas/core/frame.py:4308: SettingWithCopyWarning: \n",
            "A value is trying to be set on a copy of a slice from a DataFrame\n",
            "\n",
            "See the caveats in the documentation: https://pandas.pydata.org/pandas-docs/stable/user_guide/indexing.html#returning-a-view-versus-a-copy\n",
            "  errors=errors,\n"
          ]
        }
      ]
    },
    {
      "cell_type": "markdown",
      "source": [
        "## Preview datasource"
      ],
      "metadata": {
        "id": "Lmchm_1QJ9np"
      }
    },
    {
      "cell_type": "code",
      "source": [
        "data_sociolla.head()"
      ],
      "metadata": {
        "colab": {
          "base_uri": "https://localhost:8080/",
          "height": 206
        },
        "id": "wkYZPcEWKA3g",
        "outputId": "a22d779d-53f7-428c-8861-dc7ad62cb030"
      },
      "execution_count": null,
      "outputs": [
        {
          "output_type": "execute_result",
          "data": {
            "text/html": [
              "\n",
              "  <div id=\"df-5dc3f828-1b28-4e27-ada8-b96c4b08cb85\">\n",
              "    <div class=\"colab-df-container\">\n",
              "      <div>\n",
              "<style scoped>\n",
              "    .dataframe tbody tr th:only-of-type {\n",
              "        vertical-align: middle;\n",
              "    }\n",
              "\n",
              "    .dataframe tbody tr th {\n",
              "        vertical-align: top;\n",
              "    }\n",
              "\n",
              "    .dataframe thead th {\n",
              "        text-align: right;\n",
              "    }\n",
              "</style>\n",
              "<table border=\"1\" class=\"dataframe\">\n",
              "  <thead>\n",
              "    <tr style=\"text-align: right;\">\n",
              "      <th></th>\n",
              "      <th>details</th>\n",
              "    </tr>\n",
              "  </thead>\n",
              "  <tbody>\n",
              "    <tr>\n",
              "      <th>0</th>\n",
              "      <td>suka banget sama produk ini, gampang dibawa ke...</td>\n",
              "    </tr>\n",
              "    <tr>\n",
              "      <th>1</th>\n",
              "      <td>ini aku pertama kali beli produk ini dan aku e...</td>\n",
              "    </tr>\n",
              "    <tr>\n",
              "      <th>2</th>\n",
              "      <td>I love the packaging, the texture, tapi kurang...</td>\n",
              "    </tr>\n",
              "    <tr>\n",
              "      <th>3</th>\n",
              "      <td>menyesal kenapa baru tahu ada sunscreen yang b...</td>\n",
              "    </tr>\n",
              "    <tr>\n",
              "      <th>4</th>\n",
              "      <td>suka!! bagus bgt buat touch up ditambah lg ini...</td>\n",
              "    </tr>\n",
              "  </tbody>\n",
              "</table>\n",
              "</div>\n",
              "      <button class=\"colab-df-convert\" onclick=\"convertToInteractive('df-5dc3f828-1b28-4e27-ada8-b96c4b08cb85')\"\n",
              "              title=\"Convert this dataframe to an interactive table.\"\n",
              "              style=\"display:none;\">\n",
              "        \n",
              "  <svg xmlns=\"http://www.w3.org/2000/svg\" height=\"24px\"viewBox=\"0 0 24 24\"\n",
              "       width=\"24px\">\n",
              "    <path d=\"M0 0h24v24H0V0z\" fill=\"none\"/>\n",
              "    <path d=\"M18.56 5.44l.94 2.06.94-2.06 2.06-.94-2.06-.94-.94-2.06-.94 2.06-2.06.94zm-11 1L8.5 8.5l.94-2.06 2.06-.94-2.06-.94L8.5 2.5l-.94 2.06-2.06.94zm10 10l.94 2.06.94-2.06 2.06-.94-2.06-.94-.94-2.06-.94 2.06-2.06.94z\"/><path d=\"M17.41 7.96l-1.37-1.37c-.4-.4-.92-.59-1.43-.59-.52 0-1.04.2-1.43.59L10.3 9.45l-7.72 7.72c-.78.78-.78 2.05 0 2.83L4 21.41c.39.39.9.59 1.41.59.51 0 1.02-.2 1.41-.59l7.78-7.78 2.81-2.81c.8-.78.8-2.07 0-2.86zM5.41 20L4 18.59l7.72-7.72 1.47 1.35L5.41 20z\"/>\n",
              "  </svg>\n",
              "      </button>\n",
              "      \n",
              "  <style>\n",
              "    .colab-df-container {\n",
              "      display:flex;\n",
              "      flex-wrap:wrap;\n",
              "      gap: 12px;\n",
              "    }\n",
              "\n",
              "    .colab-df-convert {\n",
              "      background-color: #E8F0FE;\n",
              "      border: none;\n",
              "      border-radius: 50%;\n",
              "      cursor: pointer;\n",
              "      display: none;\n",
              "      fill: #1967D2;\n",
              "      height: 32px;\n",
              "      padding: 0 0 0 0;\n",
              "      width: 32px;\n",
              "    }\n",
              "\n",
              "    .colab-df-convert:hover {\n",
              "      background-color: #E2EBFA;\n",
              "      box-shadow: 0px 1px 2px rgba(60, 64, 67, 0.3), 0px 1px 3px 1px rgba(60, 64, 67, 0.15);\n",
              "      fill: #174EA6;\n",
              "    }\n",
              "\n",
              "    [theme=dark] .colab-df-convert {\n",
              "      background-color: #3B4455;\n",
              "      fill: #D2E3FC;\n",
              "    }\n",
              "\n",
              "    [theme=dark] .colab-df-convert:hover {\n",
              "      background-color: #434B5C;\n",
              "      box-shadow: 0px 1px 3px 1px rgba(0, 0, 0, 0.15);\n",
              "      filter: drop-shadow(0px 1px 2px rgba(0, 0, 0, 0.3));\n",
              "      fill: #FFFFFF;\n",
              "    }\n",
              "  </style>\n",
              "\n",
              "      <script>\n",
              "        const buttonEl =\n",
              "          document.querySelector('#df-5dc3f828-1b28-4e27-ada8-b96c4b08cb85 button.colab-df-convert');\n",
              "        buttonEl.style.display =\n",
              "          google.colab.kernel.accessAllowed ? 'block' : 'none';\n",
              "\n",
              "        async function convertToInteractive(key) {\n",
              "          const element = document.querySelector('#df-5dc3f828-1b28-4e27-ada8-b96c4b08cb85');\n",
              "          const dataTable =\n",
              "            await google.colab.kernel.invokeFunction('convertToInteractive',\n",
              "                                                     [key], {});\n",
              "          if (!dataTable) return;\n",
              "\n",
              "          const docLinkHtml = 'Like what you see? Visit the ' +\n",
              "            '<a target=\"_blank\" href=https://colab.research.google.com/notebooks/data_table.ipynb>data table notebook</a>'\n",
              "            + ' to learn more about interactive tables.';\n",
              "          element.innerHTML = '';\n",
              "          dataTable['output_type'] = 'display_data';\n",
              "          await google.colab.output.renderOutput(dataTable, element);\n",
              "          const docLink = document.createElement('div');\n",
              "          docLink.innerHTML = docLinkHtml;\n",
              "          element.appendChild(docLink);\n",
              "        }\n",
              "      </script>\n",
              "    </div>\n",
              "  </div>\n",
              "  "
            ],
            "text/plain": [
              "                                             details\n",
              "0  suka banget sama produk ini, gampang dibawa ke...\n",
              "1  ini aku pertama kali beli produk ini dan aku e...\n",
              "2  I love the packaging, the texture, tapi kurang...\n",
              "3  menyesal kenapa baru tahu ada sunscreen yang b...\n",
              "4  suka!! bagus bgt buat touch up ditambah lg ini..."
            ]
          },
          "metadata": {},
          "execution_count": 73
        }
      ]
    },
    {
      "cell_type": "code",
      "source": [
        "data_femaleDaily.head()"
      ],
      "metadata": {
        "colab": {
          "base_uri": "https://localhost:8080/",
          "height": 206
        },
        "id": "mSgVESBQKCzv",
        "outputId": "b5700cae-7980-42a9-952a-34faf1beaa83"
      },
      "execution_count": null,
      "outputs": [
        {
          "output_type": "execute_result",
          "data": {
            "text/html": [
              "\n",
              "  <div id=\"df-4c64e1b6-b53a-488d-ae0b-363eaa9c28fd\">\n",
              "    <div class=\"colab-df-container\">\n",
              "      <div>\n",
              "<style scoped>\n",
              "    .dataframe tbody tr th:only-of-type {\n",
              "        vertical-align: middle;\n",
              "    }\n",
              "\n",
              "    .dataframe tbody tr th {\n",
              "        vertical-align: top;\n",
              "    }\n",
              "\n",
              "    .dataframe thead th {\n",
              "        text-align: right;\n",
              "    }\n",
              "</style>\n",
              "<table border=\"1\" class=\"dataframe\">\n",
              "  <thead>\n",
              "    <tr style=\"text-align: right;\">\n",
              "      <th></th>\n",
              "      <th>details</th>\n",
              "    </tr>\n",
              "  </thead>\n",
              "  <tbody>\n",
              "    <tr>\n",
              "      <th>0</th>\n",
              "      <td>akhirnya beli produk ini pas banget lagi sale ...</td>\n",
              "    </tr>\n",
              "    <tr>\n",
              "      <th>1</th>\n",
              "      <td>Sun powder dari N'pure ini bagus bangett, gabo...</td>\n",
              "    </tr>\n",
              "    <tr>\n",
              "      <th>2</th>\n",
              "      <td>waw sumpah si ini sunscreen yang bener bener b...</td>\n",
              "    </tr>\n",
              "    <tr>\n",
              "      <th>3</th>\n",
              "      <td>N'PURE Cica Beat The Sun Powder ini bener-bene...</td>\n",
              "    </tr>\n",
              "    <tr>\n",
              "      <th>4</th>\n",
              "      <td>Suka sama teksturnya powder dan aplikatornya b...</td>\n",
              "    </tr>\n",
              "  </tbody>\n",
              "</table>\n",
              "</div>\n",
              "      <button class=\"colab-df-convert\" onclick=\"convertToInteractive('df-4c64e1b6-b53a-488d-ae0b-363eaa9c28fd')\"\n",
              "              title=\"Convert this dataframe to an interactive table.\"\n",
              "              style=\"display:none;\">\n",
              "        \n",
              "  <svg xmlns=\"http://www.w3.org/2000/svg\" height=\"24px\"viewBox=\"0 0 24 24\"\n",
              "       width=\"24px\">\n",
              "    <path d=\"M0 0h24v24H0V0z\" fill=\"none\"/>\n",
              "    <path d=\"M18.56 5.44l.94 2.06.94-2.06 2.06-.94-2.06-.94-.94-2.06-.94 2.06-2.06.94zm-11 1L8.5 8.5l.94-2.06 2.06-.94-2.06-.94L8.5 2.5l-.94 2.06-2.06.94zm10 10l.94 2.06.94-2.06 2.06-.94-2.06-.94-.94-2.06-.94 2.06-2.06.94z\"/><path d=\"M17.41 7.96l-1.37-1.37c-.4-.4-.92-.59-1.43-.59-.52 0-1.04.2-1.43.59L10.3 9.45l-7.72 7.72c-.78.78-.78 2.05 0 2.83L4 21.41c.39.39.9.59 1.41.59.51 0 1.02-.2 1.41-.59l7.78-7.78 2.81-2.81c.8-.78.8-2.07 0-2.86zM5.41 20L4 18.59l7.72-7.72 1.47 1.35L5.41 20z\"/>\n",
              "  </svg>\n",
              "      </button>\n",
              "      \n",
              "  <style>\n",
              "    .colab-df-container {\n",
              "      display:flex;\n",
              "      flex-wrap:wrap;\n",
              "      gap: 12px;\n",
              "    }\n",
              "\n",
              "    .colab-df-convert {\n",
              "      background-color: #E8F0FE;\n",
              "      border: none;\n",
              "      border-radius: 50%;\n",
              "      cursor: pointer;\n",
              "      display: none;\n",
              "      fill: #1967D2;\n",
              "      height: 32px;\n",
              "      padding: 0 0 0 0;\n",
              "      width: 32px;\n",
              "    }\n",
              "\n",
              "    .colab-df-convert:hover {\n",
              "      background-color: #E2EBFA;\n",
              "      box-shadow: 0px 1px 2px rgba(60, 64, 67, 0.3), 0px 1px 3px 1px rgba(60, 64, 67, 0.15);\n",
              "      fill: #174EA6;\n",
              "    }\n",
              "\n",
              "    [theme=dark] .colab-df-convert {\n",
              "      background-color: #3B4455;\n",
              "      fill: #D2E3FC;\n",
              "    }\n",
              "\n",
              "    [theme=dark] .colab-df-convert:hover {\n",
              "      background-color: #434B5C;\n",
              "      box-shadow: 0px 1px 3px 1px rgba(0, 0, 0, 0.15);\n",
              "      filter: drop-shadow(0px 1px 2px rgba(0, 0, 0, 0.3));\n",
              "      fill: #FFFFFF;\n",
              "    }\n",
              "  </style>\n",
              "\n",
              "      <script>\n",
              "        const buttonEl =\n",
              "          document.querySelector('#df-4c64e1b6-b53a-488d-ae0b-363eaa9c28fd button.colab-df-convert');\n",
              "        buttonEl.style.display =\n",
              "          google.colab.kernel.accessAllowed ? 'block' : 'none';\n",
              "\n",
              "        async function convertToInteractive(key) {\n",
              "          const element = document.querySelector('#df-4c64e1b6-b53a-488d-ae0b-363eaa9c28fd');\n",
              "          const dataTable =\n",
              "            await google.colab.kernel.invokeFunction('convertToInteractive',\n",
              "                                                     [key], {});\n",
              "          if (!dataTable) return;\n",
              "\n",
              "          const docLinkHtml = 'Like what you see? Visit the ' +\n",
              "            '<a target=\"_blank\" href=https://colab.research.google.com/notebooks/data_table.ipynb>data table notebook</a>'\n",
              "            + ' to learn more about interactive tables.';\n",
              "          element.innerHTML = '';\n",
              "          dataTable['output_type'] = 'display_data';\n",
              "          await google.colab.output.renderOutput(dataTable, element);\n",
              "          const docLink = document.createElement('div');\n",
              "          docLink.innerHTML = docLinkHtml;\n",
              "          element.appendChild(docLink);\n",
              "        }\n",
              "      </script>\n",
              "    </div>\n",
              "  </div>\n",
              "  "
            ],
            "text/plain": [
              "                                             details\n",
              "0  akhirnya beli produk ini pas banget lagi sale ...\n",
              "1  Sun powder dari N'pure ini bagus bangett, gabo...\n",
              "2  waw sumpah si ini sunscreen yang bener bener b...\n",
              "3  N'PURE Cica Beat The Sun Powder ini bener-bene...\n",
              "4  Suka sama teksturnya powder dan aplikatornya b..."
            ]
          },
          "metadata": {},
          "execution_count": 74
        }
      ]
    },
    {
      "cell_type": "markdown",
      "source": [
        "# Text Preprocessing"
      ],
      "metadata": {
        "id": "X2_ElwvtKQMP"
      }
    },
    {
      "cell_type": "markdown",
      "source": [
        "## Case folding / to lower case"
      ],
      "metadata": {
        "id": "u1PsnTraKXMf"
      }
    },
    {
      "cell_type": "code",
      "source": [
        "def preUsingCaseFolding(text):\n",
        "  return text.casefold()"
      ],
      "metadata": {
        "id": "h5YFX13bKrIn"
      },
      "execution_count": null,
      "outputs": []
    },
    {
      "cell_type": "code",
      "source": [
        "data_sociolla['Pre #1'] = data_sociolla['details'].apply(preUsingCaseFolding)\n",
        "data_sociolla.head()"
      ],
      "metadata": {
        "colab": {
          "base_uri": "https://localhost:8080/",
          "height": 310
        },
        "id": "i6NpGG47K9Dw",
        "outputId": "f5ae639c-4712-4e5a-a05e-01c3ff56de8b"
      },
      "execution_count": null,
      "outputs": [
        {
          "output_type": "stream",
          "name": "stderr",
          "text": [
            "/usr/local/lib/python3.7/dist-packages/ipykernel_launcher.py:1: SettingWithCopyWarning: \n",
            "A value is trying to be set on a copy of a slice from a DataFrame.\n",
            "Try using .loc[row_indexer,col_indexer] = value instead\n",
            "\n",
            "See the caveats in the documentation: https://pandas.pydata.org/pandas-docs/stable/user_guide/indexing.html#returning-a-view-versus-a-copy\n",
            "  \"\"\"Entry point for launching an IPython kernel.\n"
          ]
        },
        {
          "output_type": "execute_result",
          "data": {
            "text/html": [
              "\n",
              "  <div id=\"df-385129a2-2f8b-451e-aabc-73de7bd4a6a2\">\n",
              "    <div class=\"colab-df-container\">\n",
              "      <div>\n",
              "<style scoped>\n",
              "    .dataframe tbody tr th:only-of-type {\n",
              "        vertical-align: middle;\n",
              "    }\n",
              "\n",
              "    .dataframe tbody tr th {\n",
              "        vertical-align: top;\n",
              "    }\n",
              "\n",
              "    .dataframe thead th {\n",
              "        text-align: right;\n",
              "    }\n",
              "</style>\n",
              "<table border=\"1\" class=\"dataframe\">\n",
              "  <thead>\n",
              "    <tr style=\"text-align: right;\">\n",
              "      <th></th>\n",
              "      <th>details</th>\n",
              "      <th>Pre #1</th>\n",
              "    </tr>\n",
              "  </thead>\n",
              "  <tbody>\n",
              "    <tr>\n",
              "      <th>0</th>\n",
              "      <td>suka banget sama produk ini, gampang dibawa ke...</td>\n",
              "      <td>suka banget sama produk ini, gampang dibawa ke...</td>\n",
              "    </tr>\n",
              "    <tr>\n",
              "      <th>1</th>\n",
              "      <td>ini aku pertama kali beli produk ini dan aku e...</td>\n",
              "      <td>ini aku pertama kali beli produk ini dan aku e...</td>\n",
              "    </tr>\n",
              "    <tr>\n",
              "      <th>2</th>\n",
              "      <td>I love the packaging, the texture, tapi kurang...</td>\n",
              "      <td>i love the packaging, the texture, tapi kurang...</td>\n",
              "    </tr>\n",
              "    <tr>\n",
              "      <th>3</th>\n",
              "      <td>menyesal kenapa baru tahu ada sunscreen yang b...</td>\n",
              "      <td>menyesal kenapa baru tahu ada sunscreen yang b...</td>\n",
              "    </tr>\n",
              "    <tr>\n",
              "      <th>4</th>\n",
              "      <td>suka!! bagus bgt buat touch up ditambah lg ini...</td>\n",
              "      <td>suka!! bagus bgt buat touch up ditambah lg ini...</td>\n",
              "    </tr>\n",
              "  </tbody>\n",
              "</table>\n",
              "</div>\n",
              "      <button class=\"colab-df-convert\" onclick=\"convertToInteractive('df-385129a2-2f8b-451e-aabc-73de7bd4a6a2')\"\n",
              "              title=\"Convert this dataframe to an interactive table.\"\n",
              "              style=\"display:none;\">\n",
              "        \n",
              "  <svg xmlns=\"http://www.w3.org/2000/svg\" height=\"24px\"viewBox=\"0 0 24 24\"\n",
              "       width=\"24px\">\n",
              "    <path d=\"M0 0h24v24H0V0z\" fill=\"none\"/>\n",
              "    <path d=\"M18.56 5.44l.94 2.06.94-2.06 2.06-.94-2.06-.94-.94-2.06-.94 2.06-2.06.94zm-11 1L8.5 8.5l.94-2.06 2.06-.94-2.06-.94L8.5 2.5l-.94 2.06-2.06.94zm10 10l.94 2.06.94-2.06 2.06-.94-2.06-.94-.94-2.06-.94 2.06-2.06.94z\"/><path d=\"M17.41 7.96l-1.37-1.37c-.4-.4-.92-.59-1.43-.59-.52 0-1.04.2-1.43.59L10.3 9.45l-7.72 7.72c-.78.78-.78 2.05 0 2.83L4 21.41c.39.39.9.59 1.41.59.51 0 1.02-.2 1.41-.59l7.78-7.78 2.81-2.81c.8-.78.8-2.07 0-2.86zM5.41 20L4 18.59l7.72-7.72 1.47 1.35L5.41 20z\"/>\n",
              "  </svg>\n",
              "      </button>\n",
              "      \n",
              "  <style>\n",
              "    .colab-df-container {\n",
              "      display:flex;\n",
              "      flex-wrap:wrap;\n",
              "      gap: 12px;\n",
              "    }\n",
              "\n",
              "    .colab-df-convert {\n",
              "      background-color: #E8F0FE;\n",
              "      border: none;\n",
              "      border-radius: 50%;\n",
              "      cursor: pointer;\n",
              "      display: none;\n",
              "      fill: #1967D2;\n",
              "      height: 32px;\n",
              "      padding: 0 0 0 0;\n",
              "      width: 32px;\n",
              "    }\n",
              "\n",
              "    .colab-df-convert:hover {\n",
              "      background-color: #E2EBFA;\n",
              "      box-shadow: 0px 1px 2px rgba(60, 64, 67, 0.3), 0px 1px 3px 1px rgba(60, 64, 67, 0.15);\n",
              "      fill: #174EA6;\n",
              "    }\n",
              "\n",
              "    [theme=dark] .colab-df-convert {\n",
              "      background-color: #3B4455;\n",
              "      fill: #D2E3FC;\n",
              "    }\n",
              "\n",
              "    [theme=dark] .colab-df-convert:hover {\n",
              "      background-color: #434B5C;\n",
              "      box-shadow: 0px 1px 3px 1px rgba(0, 0, 0, 0.15);\n",
              "      filter: drop-shadow(0px 1px 2px rgba(0, 0, 0, 0.3));\n",
              "      fill: #FFFFFF;\n",
              "    }\n",
              "  </style>\n",
              "\n",
              "      <script>\n",
              "        const buttonEl =\n",
              "          document.querySelector('#df-385129a2-2f8b-451e-aabc-73de7bd4a6a2 button.colab-df-convert');\n",
              "        buttonEl.style.display =\n",
              "          google.colab.kernel.accessAllowed ? 'block' : 'none';\n",
              "\n",
              "        async function convertToInteractive(key) {\n",
              "          const element = document.querySelector('#df-385129a2-2f8b-451e-aabc-73de7bd4a6a2');\n",
              "          const dataTable =\n",
              "            await google.colab.kernel.invokeFunction('convertToInteractive',\n",
              "                                                     [key], {});\n",
              "          if (!dataTable) return;\n",
              "\n",
              "          const docLinkHtml = 'Like what you see? Visit the ' +\n",
              "            '<a target=\"_blank\" href=https://colab.research.google.com/notebooks/data_table.ipynb>data table notebook</a>'\n",
              "            + ' to learn more about interactive tables.';\n",
              "          element.innerHTML = '';\n",
              "          dataTable['output_type'] = 'display_data';\n",
              "          await google.colab.output.renderOutput(dataTable, element);\n",
              "          const docLink = document.createElement('div');\n",
              "          docLink.innerHTML = docLinkHtml;\n",
              "          element.appendChild(docLink);\n",
              "        }\n",
              "      </script>\n",
              "    </div>\n",
              "  </div>\n",
              "  "
            ],
            "text/plain": [
              "                                             details                                             Pre #1\n",
              "0  suka banget sama produk ini, gampang dibawa ke...  suka banget sama produk ini, gampang dibawa ke...\n",
              "1  ini aku pertama kali beli produk ini dan aku e...  ini aku pertama kali beli produk ini dan aku e...\n",
              "2  I love the packaging, the texture, tapi kurang...  i love the packaging, the texture, tapi kurang...\n",
              "3  menyesal kenapa baru tahu ada sunscreen yang b...  menyesal kenapa baru tahu ada sunscreen yang b...\n",
              "4  suka!! bagus bgt buat touch up ditambah lg ini...  suka!! bagus bgt buat touch up ditambah lg ini..."
            ]
          },
          "metadata": {},
          "execution_count": 76
        }
      ]
    },
    {
      "cell_type": "code",
      "source": [
        "data_femaleDaily['Pre #1'] = data_femaleDaily['details'].apply(preUsingCaseFolding)\n",
        "data_femaleDaily.head()"
      ],
      "metadata": {
        "colab": {
          "base_uri": "https://localhost:8080/",
          "height": 310
        },
        "id": "CLJkm0PCLRp4",
        "outputId": "ba3cf134-6b2b-41f7-9aa2-2e207b8e5d14"
      },
      "execution_count": null,
      "outputs": [
        {
          "output_type": "stream",
          "name": "stderr",
          "text": [
            "/usr/local/lib/python3.7/dist-packages/ipykernel_launcher.py:1: SettingWithCopyWarning: \n",
            "A value is trying to be set on a copy of a slice from a DataFrame.\n",
            "Try using .loc[row_indexer,col_indexer] = value instead\n",
            "\n",
            "See the caveats in the documentation: https://pandas.pydata.org/pandas-docs/stable/user_guide/indexing.html#returning-a-view-versus-a-copy\n",
            "  \"\"\"Entry point for launching an IPython kernel.\n"
          ]
        },
        {
          "output_type": "execute_result",
          "data": {
            "text/html": [
              "\n",
              "  <div id=\"df-072972a7-9966-448e-8283-c44dc3f51abe\">\n",
              "    <div class=\"colab-df-container\">\n",
              "      <div>\n",
              "<style scoped>\n",
              "    .dataframe tbody tr th:only-of-type {\n",
              "        vertical-align: middle;\n",
              "    }\n",
              "\n",
              "    .dataframe tbody tr th {\n",
              "        vertical-align: top;\n",
              "    }\n",
              "\n",
              "    .dataframe thead th {\n",
              "        text-align: right;\n",
              "    }\n",
              "</style>\n",
              "<table border=\"1\" class=\"dataframe\">\n",
              "  <thead>\n",
              "    <tr style=\"text-align: right;\">\n",
              "      <th></th>\n",
              "      <th>details</th>\n",
              "      <th>Pre #1</th>\n",
              "    </tr>\n",
              "  </thead>\n",
              "  <tbody>\n",
              "    <tr>\n",
              "      <th>0</th>\n",
              "      <td>akhirnya beli produk ini pas banget lagi sale ...</td>\n",
              "      <td>akhirnya beli produk ini pas banget lagi sale ...</td>\n",
              "    </tr>\n",
              "    <tr>\n",
              "      <th>1</th>\n",
              "      <td>Sun powder dari N'pure ini bagus bangett, gabo...</td>\n",
              "      <td>sun powder dari n'pure ini bagus bangett, gabo...</td>\n",
              "    </tr>\n",
              "    <tr>\n",
              "      <th>2</th>\n",
              "      <td>waw sumpah si ini sunscreen yang bener bener b...</td>\n",
              "      <td>waw sumpah si ini sunscreen yang bener bener b...</td>\n",
              "    </tr>\n",
              "    <tr>\n",
              "      <th>3</th>\n",
              "      <td>N'PURE Cica Beat The Sun Powder ini bener-bene...</td>\n",
              "      <td>n'pure cica beat the sun powder ini bener-bene...</td>\n",
              "    </tr>\n",
              "    <tr>\n",
              "      <th>4</th>\n",
              "      <td>Suka sama teksturnya powder dan aplikatornya b...</td>\n",
              "      <td>suka sama teksturnya powder dan aplikatornya b...</td>\n",
              "    </tr>\n",
              "  </tbody>\n",
              "</table>\n",
              "</div>\n",
              "      <button class=\"colab-df-convert\" onclick=\"convertToInteractive('df-072972a7-9966-448e-8283-c44dc3f51abe')\"\n",
              "              title=\"Convert this dataframe to an interactive table.\"\n",
              "              style=\"display:none;\">\n",
              "        \n",
              "  <svg xmlns=\"http://www.w3.org/2000/svg\" height=\"24px\"viewBox=\"0 0 24 24\"\n",
              "       width=\"24px\">\n",
              "    <path d=\"M0 0h24v24H0V0z\" fill=\"none\"/>\n",
              "    <path d=\"M18.56 5.44l.94 2.06.94-2.06 2.06-.94-2.06-.94-.94-2.06-.94 2.06-2.06.94zm-11 1L8.5 8.5l.94-2.06 2.06-.94-2.06-.94L8.5 2.5l-.94 2.06-2.06.94zm10 10l.94 2.06.94-2.06 2.06-.94-2.06-.94-.94-2.06-.94 2.06-2.06.94z\"/><path d=\"M17.41 7.96l-1.37-1.37c-.4-.4-.92-.59-1.43-.59-.52 0-1.04.2-1.43.59L10.3 9.45l-7.72 7.72c-.78.78-.78 2.05 0 2.83L4 21.41c.39.39.9.59 1.41.59.51 0 1.02-.2 1.41-.59l7.78-7.78 2.81-2.81c.8-.78.8-2.07 0-2.86zM5.41 20L4 18.59l7.72-7.72 1.47 1.35L5.41 20z\"/>\n",
              "  </svg>\n",
              "      </button>\n",
              "      \n",
              "  <style>\n",
              "    .colab-df-container {\n",
              "      display:flex;\n",
              "      flex-wrap:wrap;\n",
              "      gap: 12px;\n",
              "    }\n",
              "\n",
              "    .colab-df-convert {\n",
              "      background-color: #E8F0FE;\n",
              "      border: none;\n",
              "      border-radius: 50%;\n",
              "      cursor: pointer;\n",
              "      display: none;\n",
              "      fill: #1967D2;\n",
              "      height: 32px;\n",
              "      padding: 0 0 0 0;\n",
              "      width: 32px;\n",
              "    }\n",
              "\n",
              "    .colab-df-convert:hover {\n",
              "      background-color: #E2EBFA;\n",
              "      box-shadow: 0px 1px 2px rgba(60, 64, 67, 0.3), 0px 1px 3px 1px rgba(60, 64, 67, 0.15);\n",
              "      fill: #174EA6;\n",
              "    }\n",
              "\n",
              "    [theme=dark] .colab-df-convert {\n",
              "      background-color: #3B4455;\n",
              "      fill: #D2E3FC;\n",
              "    }\n",
              "\n",
              "    [theme=dark] .colab-df-convert:hover {\n",
              "      background-color: #434B5C;\n",
              "      box-shadow: 0px 1px 3px 1px rgba(0, 0, 0, 0.15);\n",
              "      filter: drop-shadow(0px 1px 2px rgba(0, 0, 0, 0.3));\n",
              "      fill: #FFFFFF;\n",
              "    }\n",
              "  </style>\n",
              "\n",
              "      <script>\n",
              "        const buttonEl =\n",
              "          document.querySelector('#df-072972a7-9966-448e-8283-c44dc3f51abe button.colab-df-convert');\n",
              "        buttonEl.style.display =\n",
              "          google.colab.kernel.accessAllowed ? 'block' : 'none';\n",
              "\n",
              "        async function convertToInteractive(key) {\n",
              "          const element = document.querySelector('#df-072972a7-9966-448e-8283-c44dc3f51abe');\n",
              "          const dataTable =\n",
              "            await google.colab.kernel.invokeFunction('convertToInteractive',\n",
              "                                                     [key], {});\n",
              "          if (!dataTable) return;\n",
              "\n",
              "          const docLinkHtml = 'Like what you see? Visit the ' +\n",
              "            '<a target=\"_blank\" href=https://colab.research.google.com/notebooks/data_table.ipynb>data table notebook</a>'\n",
              "            + ' to learn more about interactive tables.';\n",
              "          element.innerHTML = '';\n",
              "          dataTable['output_type'] = 'display_data';\n",
              "          await google.colab.output.renderOutput(dataTable, element);\n",
              "          const docLink = document.createElement('div');\n",
              "          docLink.innerHTML = docLinkHtml;\n",
              "          element.appendChild(docLink);\n",
              "        }\n",
              "      </script>\n",
              "    </div>\n",
              "  </div>\n",
              "  "
            ],
            "text/plain": [
              "                                             details                                             Pre #1\n",
              "0  akhirnya beli produk ini pas banget lagi sale ...  akhirnya beli produk ini pas banget lagi sale ...\n",
              "1  Sun powder dari N'pure ini bagus bangett, gabo...  sun powder dari n'pure ini bagus bangett, gabo...\n",
              "2  waw sumpah si ini sunscreen yang bener bener b...  waw sumpah si ini sunscreen yang bener bener b...\n",
              "3  N'PURE Cica Beat The Sun Powder ini bener-bene...  n'pure cica beat the sun powder ini bener-bene...\n",
              "4  Suka sama teksturnya powder dan aplikatornya b...  suka sama teksturnya powder dan aplikatornya b..."
            ]
          },
          "metadata": {},
          "execution_count": 77
        }
      ]
    },
    {
      "cell_type": "markdown",
      "source": [
        "## Punctuation removal"
      ],
      "metadata": {
        "id": "SVtm04JbLeR_"
      }
    },
    {
      "cell_type": "code",
      "source": [
        "def preUsingPunctuationRemoval(text):\n",
        "  return text.translate(str.maketrans('', '', string.punctuation))"
      ],
      "metadata": {
        "id": "DrXh8dvGLlf_"
      },
      "execution_count": null,
      "outputs": []
    },
    {
      "cell_type": "code",
      "source": [
        "data_sociolla['Pre #2'] = data_sociolla['Pre #1'].apply(preUsingPunctuationRemoval)\n",
        "data_sociolla.head()"
      ],
      "metadata": {
        "colab": {
          "base_uri": "https://localhost:8080/",
          "height": 310
        },
        "id": "ybxu24N4MThI",
        "outputId": "7de03b53-dc82-4f08-bae1-bb727d1ed4f6"
      },
      "execution_count": null,
      "outputs": [
        {
          "output_type": "stream",
          "name": "stderr",
          "text": [
            "/usr/local/lib/python3.7/dist-packages/ipykernel_launcher.py:1: SettingWithCopyWarning: \n",
            "A value is trying to be set on a copy of a slice from a DataFrame.\n",
            "Try using .loc[row_indexer,col_indexer] = value instead\n",
            "\n",
            "See the caveats in the documentation: https://pandas.pydata.org/pandas-docs/stable/user_guide/indexing.html#returning-a-view-versus-a-copy\n",
            "  \"\"\"Entry point for launching an IPython kernel.\n"
          ]
        },
        {
          "output_type": "execute_result",
          "data": {
            "text/html": [
              "\n",
              "  <div id=\"df-ff56d4ea-35a3-4361-86a4-8dd0eeba33ee\">\n",
              "    <div class=\"colab-df-container\">\n",
              "      <div>\n",
              "<style scoped>\n",
              "    .dataframe tbody tr th:only-of-type {\n",
              "        vertical-align: middle;\n",
              "    }\n",
              "\n",
              "    .dataframe tbody tr th {\n",
              "        vertical-align: top;\n",
              "    }\n",
              "\n",
              "    .dataframe thead th {\n",
              "        text-align: right;\n",
              "    }\n",
              "</style>\n",
              "<table border=\"1\" class=\"dataframe\">\n",
              "  <thead>\n",
              "    <tr style=\"text-align: right;\">\n",
              "      <th></th>\n",
              "      <th>details</th>\n",
              "      <th>Pre #1</th>\n",
              "      <th>Pre #2</th>\n",
              "    </tr>\n",
              "  </thead>\n",
              "  <tbody>\n",
              "    <tr>\n",
              "      <th>0</th>\n",
              "      <td>suka banget sama produk ini, gampang dibawa ke...</td>\n",
              "      <td>suka banget sama produk ini, gampang dibawa ke...</td>\n",
              "      <td>suka banget sama produk ini gampang dibawa kem...</td>\n",
              "    </tr>\n",
              "    <tr>\n",
              "      <th>1</th>\n",
              "      <td>ini aku pertama kali beli produk ini dan aku e...</td>\n",
              "      <td>ini aku pertama kali beli produk ini dan aku e...</td>\n",
              "      <td>ini aku pertama kali beli produk ini dan aku e...</td>\n",
              "    </tr>\n",
              "    <tr>\n",
              "      <th>2</th>\n",
              "      <td>I love the packaging, the texture, tapi kurang...</td>\n",
              "      <td>i love the packaging, the texture, tapi kurang...</td>\n",
              "      <td>i love the packaging the texture tapi kurang s...</td>\n",
              "    </tr>\n",
              "    <tr>\n",
              "      <th>3</th>\n",
              "      <td>menyesal kenapa baru tahu ada sunscreen yang b...</td>\n",
              "      <td>menyesal kenapa baru tahu ada sunscreen yang b...</td>\n",
              "      <td>menyesal kenapa baru tahu ada sunscreen yang b...</td>\n",
              "    </tr>\n",
              "    <tr>\n",
              "      <th>4</th>\n",
              "      <td>suka!! bagus bgt buat touch up ditambah lg ini...</td>\n",
              "      <td>suka!! bagus bgt buat touch up ditambah lg ini...</td>\n",
              "      <td>suka bagus bgt buat touch up ditambah lg ini a...</td>\n",
              "    </tr>\n",
              "  </tbody>\n",
              "</table>\n",
              "</div>\n",
              "      <button class=\"colab-df-convert\" onclick=\"convertToInteractive('df-ff56d4ea-35a3-4361-86a4-8dd0eeba33ee')\"\n",
              "              title=\"Convert this dataframe to an interactive table.\"\n",
              "              style=\"display:none;\">\n",
              "        \n",
              "  <svg xmlns=\"http://www.w3.org/2000/svg\" height=\"24px\"viewBox=\"0 0 24 24\"\n",
              "       width=\"24px\">\n",
              "    <path d=\"M0 0h24v24H0V0z\" fill=\"none\"/>\n",
              "    <path d=\"M18.56 5.44l.94 2.06.94-2.06 2.06-.94-2.06-.94-.94-2.06-.94 2.06-2.06.94zm-11 1L8.5 8.5l.94-2.06 2.06-.94-2.06-.94L8.5 2.5l-.94 2.06-2.06.94zm10 10l.94 2.06.94-2.06 2.06-.94-2.06-.94-.94-2.06-.94 2.06-2.06.94z\"/><path d=\"M17.41 7.96l-1.37-1.37c-.4-.4-.92-.59-1.43-.59-.52 0-1.04.2-1.43.59L10.3 9.45l-7.72 7.72c-.78.78-.78 2.05 0 2.83L4 21.41c.39.39.9.59 1.41.59.51 0 1.02-.2 1.41-.59l7.78-7.78 2.81-2.81c.8-.78.8-2.07 0-2.86zM5.41 20L4 18.59l7.72-7.72 1.47 1.35L5.41 20z\"/>\n",
              "  </svg>\n",
              "      </button>\n",
              "      \n",
              "  <style>\n",
              "    .colab-df-container {\n",
              "      display:flex;\n",
              "      flex-wrap:wrap;\n",
              "      gap: 12px;\n",
              "    }\n",
              "\n",
              "    .colab-df-convert {\n",
              "      background-color: #E8F0FE;\n",
              "      border: none;\n",
              "      border-radius: 50%;\n",
              "      cursor: pointer;\n",
              "      display: none;\n",
              "      fill: #1967D2;\n",
              "      height: 32px;\n",
              "      padding: 0 0 0 0;\n",
              "      width: 32px;\n",
              "    }\n",
              "\n",
              "    .colab-df-convert:hover {\n",
              "      background-color: #E2EBFA;\n",
              "      box-shadow: 0px 1px 2px rgba(60, 64, 67, 0.3), 0px 1px 3px 1px rgba(60, 64, 67, 0.15);\n",
              "      fill: #174EA6;\n",
              "    }\n",
              "\n",
              "    [theme=dark] .colab-df-convert {\n",
              "      background-color: #3B4455;\n",
              "      fill: #D2E3FC;\n",
              "    }\n",
              "\n",
              "    [theme=dark] .colab-df-convert:hover {\n",
              "      background-color: #434B5C;\n",
              "      box-shadow: 0px 1px 3px 1px rgba(0, 0, 0, 0.15);\n",
              "      filter: drop-shadow(0px 1px 2px rgba(0, 0, 0, 0.3));\n",
              "      fill: #FFFFFF;\n",
              "    }\n",
              "  </style>\n",
              "\n",
              "      <script>\n",
              "        const buttonEl =\n",
              "          document.querySelector('#df-ff56d4ea-35a3-4361-86a4-8dd0eeba33ee button.colab-df-convert');\n",
              "        buttonEl.style.display =\n",
              "          google.colab.kernel.accessAllowed ? 'block' : 'none';\n",
              "\n",
              "        async function convertToInteractive(key) {\n",
              "          const element = document.querySelector('#df-ff56d4ea-35a3-4361-86a4-8dd0eeba33ee');\n",
              "          const dataTable =\n",
              "            await google.colab.kernel.invokeFunction('convertToInteractive',\n",
              "                                                     [key], {});\n",
              "          if (!dataTable) return;\n",
              "\n",
              "          const docLinkHtml = 'Like what you see? Visit the ' +\n",
              "            '<a target=\"_blank\" href=https://colab.research.google.com/notebooks/data_table.ipynb>data table notebook</a>'\n",
              "            + ' to learn more about interactive tables.';\n",
              "          element.innerHTML = '';\n",
              "          dataTable['output_type'] = 'display_data';\n",
              "          await google.colab.output.renderOutput(dataTable, element);\n",
              "          const docLink = document.createElement('div');\n",
              "          docLink.innerHTML = docLinkHtml;\n",
              "          element.appendChild(docLink);\n",
              "        }\n",
              "      </script>\n",
              "    </div>\n",
              "  </div>\n",
              "  "
            ],
            "text/plain": [
              "                                             details  ...                                             Pre #2\n",
              "0  suka banget sama produk ini, gampang dibawa ke...  ...  suka banget sama produk ini gampang dibawa kem...\n",
              "1  ini aku pertama kali beli produk ini dan aku e...  ...  ini aku pertama kali beli produk ini dan aku e...\n",
              "2  I love the packaging, the texture, tapi kurang...  ...  i love the packaging the texture tapi kurang s...\n",
              "3  menyesal kenapa baru tahu ada sunscreen yang b...  ...  menyesal kenapa baru tahu ada sunscreen yang b...\n",
              "4  suka!! bagus bgt buat touch up ditambah lg ini...  ...  suka bagus bgt buat touch up ditambah lg ini a...\n",
              "\n",
              "[5 rows x 3 columns]"
            ]
          },
          "metadata": {},
          "execution_count": 79
        }
      ]
    },
    {
      "cell_type": "code",
      "source": [
        "data_femaleDaily['Pre #2'] = data_femaleDaily['Pre #1'].apply(preUsingPunctuationRemoval)\n",
        "data_femaleDaily.head()"
      ],
      "metadata": {
        "colab": {
          "base_uri": "https://localhost:8080/",
          "height": 310
        },
        "id": "RiOZ633VMVH2",
        "outputId": "e20f31c3-a4e7-4646-e2be-ccf8b97a5e19"
      },
      "execution_count": null,
      "outputs": [
        {
          "output_type": "stream",
          "name": "stderr",
          "text": [
            "/usr/local/lib/python3.7/dist-packages/ipykernel_launcher.py:1: SettingWithCopyWarning: \n",
            "A value is trying to be set on a copy of a slice from a DataFrame.\n",
            "Try using .loc[row_indexer,col_indexer] = value instead\n",
            "\n",
            "See the caveats in the documentation: https://pandas.pydata.org/pandas-docs/stable/user_guide/indexing.html#returning-a-view-versus-a-copy\n",
            "  \"\"\"Entry point for launching an IPython kernel.\n"
          ]
        },
        {
          "output_type": "execute_result",
          "data": {
            "text/html": [
              "\n",
              "  <div id=\"df-3878b978-f310-425a-9ba9-70253984ebb0\">\n",
              "    <div class=\"colab-df-container\">\n",
              "      <div>\n",
              "<style scoped>\n",
              "    .dataframe tbody tr th:only-of-type {\n",
              "        vertical-align: middle;\n",
              "    }\n",
              "\n",
              "    .dataframe tbody tr th {\n",
              "        vertical-align: top;\n",
              "    }\n",
              "\n",
              "    .dataframe thead th {\n",
              "        text-align: right;\n",
              "    }\n",
              "</style>\n",
              "<table border=\"1\" class=\"dataframe\">\n",
              "  <thead>\n",
              "    <tr style=\"text-align: right;\">\n",
              "      <th></th>\n",
              "      <th>details</th>\n",
              "      <th>Pre #1</th>\n",
              "      <th>Pre #2</th>\n",
              "    </tr>\n",
              "  </thead>\n",
              "  <tbody>\n",
              "    <tr>\n",
              "      <th>0</th>\n",
              "      <td>akhirnya beli produk ini pas banget lagi sale ...</td>\n",
              "      <td>akhirnya beli produk ini pas banget lagi sale ...</td>\n",
              "      <td>akhirnya beli produk ini pas banget lagi sale ...</td>\n",
              "    </tr>\n",
              "    <tr>\n",
              "      <th>1</th>\n",
              "      <td>Sun powder dari N'pure ini bagus bangett, gabo...</td>\n",
              "      <td>sun powder dari n'pure ini bagus bangett, gabo...</td>\n",
              "      <td>sun powder dari npure ini bagus bangett gaboon...</td>\n",
              "    </tr>\n",
              "    <tr>\n",
              "      <th>2</th>\n",
              "      <td>waw sumpah si ini sunscreen yang bener bener b...</td>\n",
              "      <td>waw sumpah si ini sunscreen yang bener bener b...</td>\n",
              "      <td>waw sumpah si ini sunscreen yang bener bener b...</td>\n",
              "    </tr>\n",
              "    <tr>\n",
              "      <th>3</th>\n",
              "      <td>N'PURE Cica Beat The Sun Powder ini bener-bene...</td>\n",
              "      <td>n'pure cica beat the sun powder ini bener-bene...</td>\n",
              "      <td>npure cica beat the sun powder ini benerbener ...</td>\n",
              "    </tr>\n",
              "    <tr>\n",
              "      <th>4</th>\n",
              "      <td>Suka sama teksturnya powder dan aplikatornya b...</td>\n",
              "      <td>suka sama teksturnya powder dan aplikatornya b...</td>\n",
              "      <td>suka sama teksturnya powder dan aplikatornya b...</td>\n",
              "    </tr>\n",
              "  </tbody>\n",
              "</table>\n",
              "</div>\n",
              "      <button class=\"colab-df-convert\" onclick=\"convertToInteractive('df-3878b978-f310-425a-9ba9-70253984ebb0')\"\n",
              "              title=\"Convert this dataframe to an interactive table.\"\n",
              "              style=\"display:none;\">\n",
              "        \n",
              "  <svg xmlns=\"http://www.w3.org/2000/svg\" height=\"24px\"viewBox=\"0 0 24 24\"\n",
              "       width=\"24px\">\n",
              "    <path d=\"M0 0h24v24H0V0z\" fill=\"none\"/>\n",
              "    <path d=\"M18.56 5.44l.94 2.06.94-2.06 2.06-.94-2.06-.94-.94-2.06-.94 2.06-2.06.94zm-11 1L8.5 8.5l.94-2.06 2.06-.94-2.06-.94L8.5 2.5l-.94 2.06-2.06.94zm10 10l.94 2.06.94-2.06 2.06-.94-2.06-.94-.94-2.06-.94 2.06-2.06.94z\"/><path d=\"M17.41 7.96l-1.37-1.37c-.4-.4-.92-.59-1.43-.59-.52 0-1.04.2-1.43.59L10.3 9.45l-7.72 7.72c-.78.78-.78 2.05 0 2.83L4 21.41c.39.39.9.59 1.41.59.51 0 1.02-.2 1.41-.59l7.78-7.78 2.81-2.81c.8-.78.8-2.07 0-2.86zM5.41 20L4 18.59l7.72-7.72 1.47 1.35L5.41 20z\"/>\n",
              "  </svg>\n",
              "      </button>\n",
              "      \n",
              "  <style>\n",
              "    .colab-df-container {\n",
              "      display:flex;\n",
              "      flex-wrap:wrap;\n",
              "      gap: 12px;\n",
              "    }\n",
              "\n",
              "    .colab-df-convert {\n",
              "      background-color: #E8F0FE;\n",
              "      border: none;\n",
              "      border-radius: 50%;\n",
              "      cursor: pointer;\n",
              "      display: none;\n",
              "      fill: #1967D2;\n",
              "      height: 32px;\n",
              "      padding: 0 0 0 0;\n",
              "      width: 32px;\n",
              "    }\n",
              "\n",
              "    .colab-df-convert:hover {\n",
              "      background-color: #E2EBFA;\n",
              "      box-shadow: 0px 1px 2px rgba(60, 64, 67, 0.3), 0px 1px 3px 1px rgba(60, 64, 67, 0.15);\n",
              "      fill: #174EA6;\n",
              "    }\n",
              "\n",
              "    [theme=dark] .colab-df-convert {\n",
              "      background-color: #3B4455;\n",
              "      fill: #D2E3FC;\n",
              "    }\n",
              "\n",
              "    [theme=dark] .colab-df-convert:hover {\n",
              "      background-color: #434B5C;\n",
              "      box-shadow: 0px 1px 3px 1px rgba(0, 0, 0, 0.15);\n",
              "      filter: drop-shadow(0px 1px 2px rgba(0, 0, 0, 0.3));\n",
              "      fill: #FFFFFF;\n",
              "    }\n",
              "  </style>\n",
              "\n",
              "      <script>\n",
              "        const buttonEl =\n",
              "          document.querySelector('#df-3878b978-f310-425a-9ba9-70253984ebb0 button.colab-df-convert');\n",
              "        buttonEl.style.display =\n",
              "          google.colab.kernel.accessAllowed ? 'block' : 'none';\n",
              "\n",
              "        async function convertToInteractive(key) {\n",
              "          const element = document.querySelector('#df-3878b978-f310-425a-9ba9-70253984ebb0');\n",
              "          const dataTable =\n",
              "            await google.colab.kernel.invokeFunction('convertToInteractive',\n",
              "                                                     [key], {});\n",
              "          if (!dataTable) return;\n",
              "\n",
              "          const docLinkHtml = 'Like what you see? Visit the ' +\n",
              "            '<a target=\"_blank\" href=https://colab.research.google.com/notebooks/data_table.ipynb>data table notebook</a>'\n",
              "            + ' to learn more about interactive tables.';\n",
              "          element.innerHTML = '';\n",
              "          dataTable['output_type'] = 'display_data';\n",
              "          await google.colab.output.renderOutput(dataTable, element);\n",
              "          const docLink = document.createElement('div');\n",
              "          docLink.innerHTML = docLinkHtml;\n",
              "          element.appendChild(docLink);\n",
              "        }\n",
              "      </script>\n",
              "    </div>\n",
              "  </div>\n",
              "  "
            ],
            "text/plain": [
              "                                             details  ...                                             Pre #2\n",
              "0  akhirnya beli produk ini pas banget lagi sale ...  ...  akhirnya beli produk ini pas banget lagi sale ...\n",
              "1  Sun powder dari N'pure ini bagus bangett, gabo...  ...  sun powder dari npure ini bagus bangett gaboon...\n",
              "2  waw sumpah si ini sunscreen yang bener bener b...  ...  waw sumpah si ini sunscreen yang bener bener b...\n",
              "3  N'PURE Cica Beat The Sun Powder ini bener-bene...  ...  npure cica beat the sun powder ini benerbener ...\n",
              "4  Suka sama teksturnya powder dan aplikatornya b...  ...  suka sama teksturnya powder dan aplikatornya b...\n",
              "\n",
              "[5 rows x 3 columns]"
            ]
          },
          "metadata": {},
          "execution_count": 80
        }
      ]
    },
    {
      "cell_type": "markdown",
      "source": [
        "## Remove emoji & emoticon"
      ],
      "metadata": {
        "id": "SQNCsZ_aOM9_"
      }
    },
    {
      "cell_type": "code",
      "source": [
        "# Upload dictionary emoticon 'Emoticon_Dict.p'\n",
        "data_file_emoticon = files.upload()"
      ],
      "metadata": {
        "colab": {
          "resources": {
            "http://localhost:8080/nbextensions/google.colab/files.js": {
              "data": "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",
              "ok": true,
              "headers": [
                [
                  "content-type",
                  "application/javascript"
                ]
              ],
              "status": 200,
              "status_text": ""
            }
          },
          "base_uri": "https://localhost:8080/",
          "height": 73
        },
        "id": "ygxwjvxFRv87",
        "outputId": "68cbce3f-f0e0-4bbc-f779-daa1e34debeb"
      },
      "execution_count": null,
      "outputs": [
        {
          "output_type": "display_data",
          "data": {
            "text/html": [
              "\n",
              "     <input type=\"file\" id=\"files-a03cc4ea-7a19-4dac-ad05-b13073bbb347\" name=\"files[]\" multiple disabled\n",
              "        style=\"border:none\" />\n",
              "     <output id=\"result-a03cc4ea-7a19-4dac-ad05-b13073bbb347\">\n",
              "      Upload widget is only available when the cell has been executed in the\n",
              "      current browser session. Please rerun this cell to enable.\n",
              "      </output>\n",
              "      <script src=\"/nbextensions/google.colab/files.js\"></script> "
            ],
            "text/plain": [
              "<IPython.core.display.HTML object>"
            ]
          },
          "metadata": {}
        },
        {
          "output_type": "stream",
          "name": "stdout",
          "text": [
            "Saving Emoticon_Dict.p to Emoticon_Dict.p\n"
          ]
        }
      ]
    },
    {
      "cell_type": "code",
      "source": [
        "with open('/content/Emoticon_Dict.p', 'rb') as fp:\n",
        "  Emoticon_Dict = pickle.load(fp)"
      ],
      "metadata": {
        "id": "UEXL29hUSYPU"
      },
      "execution_count": null,
      "outputs": []
    },
    {
      "cell_type": "code",
      "source": [
        "def preUsingRemoveEmoji(text):\n",
        "  em_pattern = re.compile(\"[\"\n",
        "  u\"\\U0001F600-\\U0001F64F\" # emoticons\n",
        "  u\"\\U0001F300-\\U0001F5FF\" # symbols & pictographs\n",
        "  u\"\\U0001F680-\\U0001F6FF\" # transport & map symbols\n",
        "  u\"\\U0001F1E0-\\U0001F1FF\" # flags (iOS)\n",
        "  u\"\\U00002702-\\U000027B0\"\n",
        "  u\"\\U000024C2-\\U0001F251\"\n",
        "  \"]+\", flags=re.UNICODE)\n",
        "  return em_pattern.sub(r'', text)\n",
        "\n",
        "def preUsingRemoveEmoticon(text):\n",
        "  emt_pattern = re.compile(u'(' + u'|'.join(k for k in Emoticon_Dict) + u')')\n",
        "  return emt_pattern.sub(r'', text)"
      ],
      "metadata": {
        "id": "K_A76GV7ORlF"
      },
      "execution_count": null,
      "outputs": []
    },
    {
      "cell_type": "code",
      "source": [
        "data_sociolla['Pre #3'] = data_sociolla['Pre #2'].apply(preUsingRemoveEmoji)\n",
        "data_sociolla['Pre #3'] = data_sociolla['Pre #3'].apply(preUsingRemoveEmoticon)\n",
        "data_sociolla.head()"
      ],
      "metadata": {
        "colab": {
          "base_uri": "https://localhost:8080/",
          "height": 414
        },
        "id": "3dOKucv8VrzJ",
        "outputId": "930208fe-023d-4e4d-aa00-806cef1c131b"
      },
      "execution_count": null,
      "outputs": [
        {
          "output_type": "stream",
          "name": "stderr",
          "text": [
            "/usr/local/lib/python3.7/dist-packages/ipykernel_launcher.py:1: SettingWithCopyWarning: \n",
            "A value is trying to be set on a copy of a slice from a DataFrame.\n",
            "Try using .loc[row_indexer,col_indexer] = value instead\n",
            "\n",
            "See the caveats in the documentation: https://pandas.pydata.org/pandas-docs/stable/user_guide/indexing.html#returning-a-view-versus-a-copy\n",
            "  \"\"\"Entry point for launching an IPython kernel.\n",
            "/usr/local/lib/python3.7/dist-packages/ipykernel_launcher.py:2: SettingWithCopyWarning: \n",
            "A value is trying to be set on a copy of a slice from a DataFrame.\n",
            "Try using .loc[row_indexer,col_indexer] = value instead\n",
            "\n",
            "See the caveats in the documentation: https://pandas.pydata.org/pandas-docs/stable/user_guide/indexing.html#returning-a-view-versus-a-copy\n",
            "  \n"
          ]
        },
        {
          "output_type": "execute_result",
          "data": {
            "text/html": [
              "\n",
              "  <div id=\"df-046c0464-a7b9-4235-903c-895b70e0eee0\">\n",
              "    <div class=\"colab-df-container\">\n",
              "      <div>\n",
              "<style scoped>\n",
              "    .dataframe tbody tr th:only-of-type {\n",
              "        vertical-align: middle;\n",
              "    }\n",
              "\n",
              "    .dataframe tbody tr th {\n",
              "        vertical-align: top;\n",
              "    }\n",
              "\n",
              "    .dataframe thead th {\n",
              "        text-align: right;\n",
              "    }\n",
              "</style>\n",
              "<table border=\"1\" class=\"dataframe\">\n",
              "  <thead>\n",
              "    <tr style=\"text-align: right;\">\n",
              "      <th></th>\n",
              "      <th>details</th>\n",
              "      <th>Pre #1</th>\n",
              "      <th>Pre #2</th>\n",
              "      <th>Pre #3</th>\n",
              "    </tr>\n",
              "  </thead>\n",
              "  <tbody>\n",
              "    <tr>\n",
              "      <th>0</th>\n",
              "      <td>suka banget sama produk ini, gampang dibawa ke...</td>\n",
              "      <td>suka banget sama produk ini, gampang dibawa ke...</td>\n",
              "      <td>suka banget sama produk ini gampang dibawa kem...</td>\n",
              "      <td>suka banget sama produk ini gampang dibawa kem...</td>\n",
              "    </tr>\n",
              "    <tr>\n",
              "      <th>1</th>\n",
              "      <td>ini aku pertama kali beli produk ini dan aku e...</td>\n",
              "      <td>ini aku pertama kali beli produk ini dan aku e...</td>\n",
              "      <td>ini aku pertama kali beli produk ini dan aku e...</td>\n",
              "      <td>ini aku pertama kali beli produk ini dan aku e...</td>\n",
              "    </tr>\n",
              "    <tr>\n",
              "      <th>2</th>\n",
              "      <td>I love the packaging, the texture, tapi kurang...</td>\n",
              "      <td>i love the packaging, the texture, tapi kurang...</td>\n",
              "      <td>i love the packaging the texture tapi kurang s...</td>\n",
              "      <td>i love the packaging the texture tapi kurang s...</td>\n",
              "    </tr>\n",
              "    <tr>\n",
              "      <th>3</th>\n",
              "      <td>menyesal kenapa baru tahu ada sunscreen yang b...</td>\n",
              "      <td>menyesal kenapa baru tahu ada sunscreen yang b...</td>\n",
              "      <td>menyesal kenapa baru tahu ada sunscreen yang b...</td>\n",
              "      <td>menyesal kenapa baru tahu ada sunscreen yang b...</td>\n",
              "    </tr>\n",
              "    <tr>\n",
              "      <th>4</th>\n",
              "      <td>suka!! bagus bgt buat touch up ditambah lg ini...</td>\n",
              "      <td>suka!! bagus bgt buat touch up ditambah lg ini...</td>\n",
              "      <td>suka bagus bgt buat touch up ditambah lg ini a...</td>\n",
              "      <td>suka bagus bgt buat touch up ditambah lg ini a...</td>\n",
              "    </tr>\n",
              "  </tbody>\n",
              "</table>\n",
              "</div>\n",
              "      <button class=\"colab-df-convert\" onclick=\"convertToInteractive('df-046c0464-a7b9-4235-903c-895b70e0eee0')\"\n",
              "              title=\"Convert this dataframe to an interactive table.\"\n",
              "              style=\"display:none;\">\n",
              "        \n",
              "  <svg xmlns=\"http://www.w3.org/2000/svg\" height=\"24px\"viewBox=\"0 0 24 24\"\n",
              "       width=\"24px\">\n",
              "    <path d=\"M0 0h24v24H0V0z\" fill=\"none\"/>\n",
              "    <path d=\"M18.56 5.44l.94 2.06.94-2.06 2.06-.94-2.06-.94-.94-2.06-.94 2.06-2.06.94zm-11 1L8.5 8.5l.94-2.06 2.06-.94-2.06-.94L8.5 2.5l-.94 2.06-2.06.94zm10 10l.94 2.06.94-2.06 2.06-.94-2.06-.94-.94-2.06-.94 2.06-2.06.94z\"/><path d=\"M17.41 7.96l-1.37-1.37c-.4-.4-.92-.59-1.43-.59-.52 0-1.04.2-1.43.59L10.3 9.45l-7.72 7.72c-.78.78-.78 2.05 0 2.83L4 21.41c.39.39.9.59 1.41.59.51 0 1.02-.2 1.41-.59l7.78-7.78 2.81-2.81c.8-.78.8-2.07 0-2.86zM5.41 20L4 18.59l7.72-7.72 1.47 1.35L5.41 20z\"/>\n",
              "  </svg>\n",
              "      </button>\n",
              "      \n",
              "  <style>\n",
              "    .colab-df-container {\n",
              "      display:flex;\n",
              "      flex-wrap:wrap;\n",
              "      gap: 12px;\n",
              "    }\n",
              "\n",
              "    .colab-df-convert {\n",
              "      background-color: #E8F0FE;\n",
              "      border: none;\n",
              "      border-radius: 50%;\n",
              "      cursor: pointer;\n",
              "      display: none;\n",
              "      fill: #1967D2;\n",
              "      height: 32px;\n",
              "      padding: 0 0 0 0;\n",
              "      width: 32px;\n",
              "    }\n",
              "\n",
              "    .colab-df-convert:hover {\n",
              "      background-color: #E2EBFA;\n",
              "      box-shadow: 0px 1px 2px rgba(60, 64, 67, 0.3), 0px 1px 3px 1px rgba(60, 64, 67, 0.15);\n",
              "      fill: #174EA6;\n",
              "    }\n",
              "\n",
              "    [theme=dark] .colab-df-convert {\n",
              "      background-color: #3B4455;\n",
              "      fill: #D2E3FC;\n",
              "    }\n",
              "\n",
              "    [theme=dark] .colab-df-convert:hover {\n",
              "      background-color: #434B5C;\n",
              "      box-shadow: 0px 1px 3px 1px rgba(0, 0, 0, 0.15);\n",
              "      filter: drop-shadow(0px 1px 2px rgba(0, 0, 0, 0.3));\n",
              "      fill: #FFFFFF;\n",
              "    }\n",
              "  </style>\n",
              "\n",
              "      <script>\n",
              "        const buttonEl =\n",
              "          document.querySelector('#df-046c0464-a7b9-4235-903c-895b70e0eee0 button.colab-df-convert');\n",
              "        buttonEl.style.display =\n",
              "          google.colab.kernel.accessAllowed ? 'block' : 'none';\n",
              "\n",
              "        async function convertToInteractive(key) {\n",
              "          const element = document.querySelector('#df-046c0464-a7b9-4235-903c-895b70e0eee0');\n",
              "          const dataTable =\n",
              "            await google.colab.kernel.invokeFunction('convertToInteractive',\n",
              "                                                     [key], {});\n",
              "          if (!dataTable) return;\n",
              "\n",
              "          const docLinkHtml = 'Like what you see? Visit the ' +\n",
              "            '<a target=\"_blank\" href=https://colab.research.google.com/notebooks/data_table.ipynb>data table notebook</a>'\n",
              "            + ' to learn more about interactive tables.';\n",
              "          element.innerHTML = '';\n",
              "          dataTable['output_type'] = 'display_data';\n",
              "          await google.colab.output.renderOutput(dataTable, element);\n",
              "          const docLink = document.createElement('div');\n",
              "          docLink.innerHTML = docLinkHtml;\n",
              "          element.appendChild(docLink);\n",
              "        }\n",
              "      </script>\n",
              "    </div>\n",
              "  </div>\n",
              "  "
            ],
            "text/plain": [
              "                                             details  ...                                             Pre #3\n",
              "0  suka banget sama produk ini, gampang dibawa ke...  ...  suka banget sama produk ini gampang dibawa kem...\n",
              "1  ini aku pertama kali beli produk ini dan aku e...  ...  ini aku pertama kali beli produk ini dan aku e...\n",
              "2  I love the packaging, the texture, tapi kurang...  ...  i love the packaging the texture tapi kurang s...\n",
              "3  menyesal kenapa baru tahu ada sunscreen yang b...  ...  menyesal kenapa baru tahu ada sunscreen yang b...\n",
              "4  suka!! bagus bgt buat touch up ditambah lg ini...  ...  suka bagus bgt buat touch up ditambah lg ini a...\n",
              "\n",
              "[5 rows x 4 columns]"
            ]
          },
          "metadata": {},
          "execution_count": 82
        }
      ]
    },
    {
      "cell_type": "code",
      "source": [
        "data_femaleDaily['Pre #3'] = data_femaleDaily['Pre #2'].apply(preUsingRemoveEmoji)\n",
        "data_femaleDaily['Pre #3'] = data_femaleDaily['Pre #3'].apply(preUsingRemoveEmoticon)\n",
        "data_femaleDaily.head()"
      ],
      "metadata": {
        "colab": {
          "base_uri": "https://localhost:8080/",
          "height": 414
        },
        "id": "3xTBqrPJVtHR",
        "outputId": "511c043f-6d5f-46b8-9aeb-7ae40a6706c9"
      },
      "execution_count": null,
      "outputs": [
        {
          "output_type": "stream",
          "name": "stderr",
          "text": [
            "/usr/local/lib/python3.7/dist-packages/ipykernel_launcher.py:1: SettingWithCopyWarning: \n",
            "A value is trying to be set on a copy of a slice from a DataFrame.\n",
            "Try using .loc[row_indexer,col_indexer] = value instead\n",
            "\n",
            "See the caveats in the documentation: https://pandas.pydata.org/pandas-docs/stable/user_guide/indexing.html#returning-a-view-versus-a-copy\n",
            "  \"\"\"Entry point for launching an IPython kernel.\n",
            "/usr/local/lib/python3.7/dist-packages/ipykernel_launcher.py:2: SettingWithCopyWarning: \n",
            "A value is trying to be set on a copy of a slice from a DataFrame.\n",
            "Try using .loc[row_indexer,col_indexer] = value instead\n",
            "\n",
            "See the caveats in the documentation: https://pandas.pydata.org/pandas-docs/stable/user_guide/indexing.html#returning-a-view-versus-a-copy\n",
            "  \n"
          ]
        },
        {
          "output_type": "execute_result",
          "data": {
            "text/html": [
              "\n",
              "  <div id=\"df-6309471a-e5d5-4276-a27b-ced87c062b43\">\n",
              "    <div class=\"colab-df-container\">\n",
              "      <div>\n",
              "<style scoped>\n",
              "    .dataframe tbody tr th:only-of-type {\n",
              "        vertical-align: middle;\n",
              "    }\n",
              "\n",
              "    .dataframe tbody tr th {\n",
              "        vertical-align: top;\n",
              "    }\n",
              "\n",
              "    .dataframe thead th {\n",
              "        text-align: right;\n",
              "    }\n",
              "</style>\n",
              "<table border=\"1\" class=\"dataframe\">\n",
              "  <thead>\n",
              "    <tr style=\"text-align: right;\">\n",
              "      <th></th>\n",
              "      <th>details</th>\n",
              "      <th>Pre #1</th>\n",
              "      <th>Pre #2</th>\n",
              "      <th>Pre #3</th>\n",
              "    </tr>\n",
              "  </thead>\n",
              "  <tbody>\n",
              "    <tr>\n",
              "      <th>0</th>\n",
              "      <td>akhirnya beli produk ini pas banget lagi sale ...</td>\n",
              "      <td>akhirnya beli produk ini pas banget lagi sale ...</td>\n",
              "      <td>akhirnya beli produk ini pas banget lagi sale ...</td>\n",
              "      <td>akhirnya beli produk ini pas banget lagi sale ...</td>\n",
              "    </tr>\n",
              "    <tr>\n",
              "      <th>1</th>\n",
              "      <td>Sun powder dari N'pure ini bagus bangett, gabo...</td>\n",
              "      <td>sun powder dari n'pure ini bagus bangett, gabo...</td>\n",
              "      <td>sun powder dari npure ini bagus bangett gaboon...</td>\n",
              "      <td>sun powder dari npure ini bagus bangett gaboon...</td>\n",
              "    </tr>\n",
              "    <tr>\n",
              "      <th>2</th>\n",
              "      <td>waw sumpah si ini sunscreen yang bener bener b...</td>\n",
              "      <td>waw sumpah si ini sunscreen yang bener bener b...</td>\n",
              "      <td>waw sumpah si ini sunscreen yang bener bener b...</td>\n",
              "      <td>waw sumpah si ini sunscreen yang bener bener b...</td>\n",
              "    </tr>\n",
              "    <tr>\n",
              "      <th>3</th>\n",
              "      <td>N'PURE Cica Beat The Sun Powder ini bener-bene...</td>\n",
              "      <td>n'pure cica beat the sun powder ini bener-bene...</td>\n",
              "      <td>npure cica beat the sun powder ini benerbener ...</td>\n",
              "      <td>npure cica beat the sun powder ini benerbener ...</td>\n",
              "    </tr>\n",
              "    <tr>\n",
              "      <th>4</th>\n",
              "      <td>Suka sama teksturnya powder dan aplikatornya b...</td>\n",
              "      <td>suka sama teksturnya powder dan aplikatornya b...</td>\n",
              "      <td>suka sama teksturnya powder dan aplikatornya b...</td>\n",
              "      <td>suka sama teksturnya powder dan aplikatornya b...</td>\n",
              "    </tr>\n",
              "  </tbody>\n",
              "</table>\n",
              "</div>\n",
              "      <button class=\"colab-df-convert\" onclick=\"convertToInteractive('df-6309471a-e5d5-4276-a27b-ced87c062b43')\"\n",
              "              title=\"Convert this dataframe to an interactive table.\"\n",
              "              style=\"display:none;\">\n",
              "        \n",
              "  <svg xmlns=\"http://www.w3.org/2000/svg\" height=\"24px\"viewBox=\"0 0 24 24\"\n",
              "       width=\"24px\">\n",
              "    <path d=\"M0 0h24v24H0V0z\" fill=\"none\"/>\n",
              "    <path d=\"M18.56 5.44l.94 2.06.94-2.06 2.06-.94-2.06-.94-.94-2.06-.94 2.06-2.06.94zm-11 1L8.5 8.5l.94-2.06 2.06-.94-2.06-.94L8.5 2.5l-.94 2.06-2.06.94zm10 10l.94 2.06.94-2.06 2.06-.94-2.06-.94-.94-2.06-.94 2.06-2.06.94z\"/><path d=\"M17.41 7.96l-1.37-1.37c-.4-.4-.92-.59-1.43-.59-.52 0-1.04.2-1.43.59L10.3 9.45l-7.72 7.72c-.78.78-.78 2.05 0 2.83L4 21.41c.39.39.9.59 1.41.59.51 0 1.02-.2 1.41-.59l7.78-7.78 2.81-2.81c.8-.78.8-2.07 0-2.86zM5.41 20L4 18.59l7.72-7.72 1.47 1.35L5.41 20z\"/>\n",
              "  </svg>\n",
              "      </button>\n",
              "      \n",
              "  <style>\n",
              "    .colab-df-container {\n",
              "      display:flex;\n",
              "      flex-wrap:wrap;\n",
              "      gap: 12px;\n",
              "    }\n",
              "\n",
              "    .colab-df-convert {\n",
              "      background-color: #E8F0FE;\n",
              "      border: none;\n",
              "      border-radius: 50%;\n",
              "      cursor: pointer;\n",
              "      display: none;\n",
              "      fill: #1967D2;\n",
              "      height: 32px;\n",
              "      padding: 0 0 0 0;\n",
              "      width: 32px;\n",
              "    }\n",
              "\n",
              "    .colab-df-convert:hover {\n",
              "      background-color: #E2EBFA;\n",
              "      box-shadow: 0px 1px 2px rgba(60, 64, 67, 0.3), 0px 1px 3px 1px rgba(60, 64, 67, 0.15);\n",
              "      fill: #174EA6;\n",
              "    }\n",
              "\n",
              "    [theme=dark] .colab-df-convert {\n",
              "      background-color: #3B4455;\n",
              "      fill: #D2E3FC;\n",
              "    }\n",
              "\n",
              "    [theme=dark] .colab-df-convert:hover {\n",
              "      background-color: #434B5C;\n",
              "      box-shadow: 0px 1px 3px 1px rgba(0, 0, 0, 0.15);\n",
              "      filter: drop-shadow(0px 1px 2px rgba(0, 0, 0, 0.3));\n",
              "      fill: #FFFFFF;\n",
              "    }\n",
              "  </style>\n",
              "\n",
              "      <script>\n",
              "        const buttonEl =\n",
              "          document.querySelector('#df-6309471a-e5d5-4276-a27b-ced87c062b43 button.colab-df-convert');\n",
              "        buttonEl.style.display =\n",
              "          google.colab.kernel.accessAllowed ? 'block' : 'none';\n",
              "\n",
              "        async function convertToInteractive(key) {\n",
              "          const element = document.querySelector('#df-6309471a-e5d5-4276-a27b-ced87c062b43');\n",
              "          const dataTable =\n",
              "            await google.colab.kernel.invokeFunction('convertToInteractive',\n",
              "                                                     [key], {});\n",
              "          if (!dataTable) return;\n",
              "\n",
              "          const docLinkHtml = 'Like what you see? Visit the ' +\n",
              "            '<a target=\"_blank\" href=https://colab.research.google.com/notebooks/data_table.ipynb>data table notebook</a>'\n",
              "            + ' to learn more about interactive tables.';\n",
              "          element.innerHTML = '';\n",
              "          dataTable['output_type'] = 'display_data';\n",
              "          await google.colab.output.renderOutput(dataTable, element);\n",
              "          const docLink = document.createElement('div');\n",
              "          docLink.innerHTML = docLinkHtml;\n",
              "          element.appendChild(docLink);\n",
              "        }\n",
              "      </script>\n",
              "    </div>\n",
              "  </div>\n",
              "  "
            ],
            "text/plain": [
              "                                             details  ...                                             Pre #3\n",
              "0  akhirnya beli produk ini pas banget lagi sale ...  ...  akhirnya beli produk ini pas banget lagi sale ...\n",
              "1  Sun powder dari N'pure ini bagus bangett, gabo...  ...  sun powder dari npure ini bagus bangett gaboon...\n",
              "2  waw sumpah si ini sunscreen yang bener bener b...  ...  waw sumpah si ini sunscreen yang bener bener b...\n",
              "3  N'PURE Cica Beat The Sun Powder ini bener-bene...  ...  npure cica beat the sun powder ini benerbener ...\n",
              "4  Suka sama teksturnya powder dan aplikatornya b...  ...  suka sama teksturnya powder dan aplikatornya b...\n",
              "\n",
              "[5 rows x 4 columns]"
            ]
          },
          "metadata": {},
          "execution_count": 83
        }
      ]
    },
    {
      "cell_type": "markdown",
      "source": [
        "## Other cleaning text"
      ],
      "metadata": {
        "id": "2xOjhP4bWI6h"
      }
    },
    {
      "cell_type": "code",
      "source": [
        "def cleanUsingRegex(text):\n",
        "  text = re.sub(r'@[A-Za-z0-9]+', '', text) # remove mentions\n",
        "  text = re.sub(r'#[A-Za-z0-9]+', '', text) # remove hashtag\n",
        "  text = re.sub(r\"http\\S+\", '', text) # remove link\n",
        "  text = text.replace('\\n', ' ') # replace new line into space\n",
        "  text = text.strip(' ') # remove characters space from both left and right text\n",
        "  \n",
        "  return text"
      ],
      "metadata": {
        "id": "UqFxKYsuWOHR"
      },
      "execution_count": null,
      "outputs": []
    },
    {
      "cell_type": "code",
      "source": [
        "data_sociolla['Pre #4'] = data_sociolla['Pre #3'].apply(cleanUsingRegex)\n",
        "data_sociolla.head()"
      ],
      "metadata": {
        "colab": {
          "base_uri": "https://localhost:8080/",
          "height": 441
        },
        "id": "DKTowZszWUSv",
        "outputId": "06cb3ff3-7d13-418c-a06b-e3f9b06136a6"
      },
      "execution_count": null,
      "outputs": [
        {
          "output_type": "stream",
          "name": "stderr",
          "text": [
            "/usr/local/lib/python3.7/dist-packages/ipykernel_launcher.py:1: SettingWithCopyWarning: \n",
            "A value is trying to be set on a copy of a slice from a DataFrame.\n",
            "Try using .loc[row_indexer,col_indexer] = value instead\n",
            "\n",
            "See the caveats in the documentation: https://pandas.pydata.org/pandas-docs/stable/user_guide/indexing.html#returning-a-view-versus-a-copy\n",
            "  \"\"\"Entry point for launching an IPython kernel.\n"
          ]
        },
        {
          "output_type": "execute_result",
          "data": {
            "text/html": [
              "\n",
              "  <div id=\"df-e1186324-a9cc-46bc-abc1-94e7168055c2\">\n",
              "    <div class=\"colab-df-container\">\n",
              "      <div>\n",
              "<style scoped>\n",
              "    .dataframe tbody tr th:only-of-type {\n",
              "        vertical-align: middle;\n",
              "    }\n",
              "\n",
              "    .dataframe tbody tr th {\n",
              "        vertical-align: top;\n",
              "    }\n",
              "\n",
              "    .dataframe thead th {\n",
              "        text-align: right;\n",
              "    }\n",
              "</style>\n",
              "<table border=\"1\" class=\"dataframe\">\n",
              "  <thead>\n",
              "    <tr style=\"text-align: right;\">\n",
              "      <th></th>\n",
              "      <th>details</th>\n",
              "      <th>Pre #1</th>\n",
              "      <th>Pre #2</th>\n",
              "      <th>Pre #3</th>\n",
              "      <th>Pre #4</th>\n",
              "    </tr>\n",
              "  </thead>\n",
              "  <tbody>\n",
              "    <tr>\n",
              "      <th>0</th>\n",
              "      <td>suka banget sama produk ini, gampang dibawa ke...</td>\n",
              "      <td>suka banget sama produk ini, gampang dibawa ke...</td>\n",
              "      <td>suka banget sama produk ini gampang dibawa kem...</td>\n",
              "      <td>suka banget sama produk ini gampang dibawa kem...</td>\n",
              "      <td>suka banget sama produk ini gampang dibawa kem...</td>\n",
              "    </tr>\n",
              "    <tr>\n",
              "      <th>1</th>\n",
              "      <td>ini aku pertama kali beli produk ini dan aku e...</td>\n",
              "      <td>ini aku pertama kali beli produk ini dan aku e...</td>\n",
              "      <td>ini aku pertama kali beli produk ini dan aku e...</td>\n",
              "      <td>ini aku pertama kali beli produk ini dan aku e...</td>\n",
              "      <td>ini aku pertama kali beli produk ini dan aku e...</td>\n",
              "    </tr>\n",
              "    <tr>\n",
              "      <th>2</th>\n",
              "      <td>I love the packaging, the texture, tapi kurang...</td>\n",
              "      <td>i love the packaging, the texture, tapi kurang...</td>\n",
              "      <td>i love the packaging the texture tapi kurang s...</td>\n",
              "      <td>i love the packaging the texture tapi kurang s...</td>\n",
              "      <td>i love the packaging the texture tapi kurang s...</td>\n",
              "    </tr>\n",
              "    <tr>\n",
              "      <th>3</th>\n",
              "      <td>menyesal kenapa baru tahu ada sunscreen yang b...</td>\n",
              "      <td>menyesal kenapa baru tahu ada sunscreen yang b...</td>\n",
              "      <td>menyesal kenapa baru tahu ada sunscreen yang b...</td>\n",
              "      <td>menyesal kenapa baru tahu ada sunscreen yang b...</td>\n",
              "      <td>menyesal kenapa baru tahu ada sunscreen yang b...</td>\n",
              "    </tr>\n",
              "    <tr>\n",
              "      <th>4</th>\n",
              "      <td>suka!! bagus bgt buat touch up ditambah lg ini...</td>\n",
              "      <td>suka!! bagus bgt buat touch up ditambah lg ini...</td>\n",
              "      <td>suka bagus bgt buat touch up ditambah lg ini a...</td>\n",
              "      <td>suka bagus bgt buat touch up ditambah lg ini a...</td>\n",
              "      <td>suka bagus bgt buat touch up ditambah lg ini a...</td>\n",
              "    </tr>\n",
              "  </tbody>\n",
              "</table>\n",
              "</div>\n",
              "      <button class=\"colab-df-convert\" onclick=\"convertToInteractive('df-e1186324-a9cc-46bc-abc1-94e7168055c2')\"\n",
              "              title=\"Convert this dataframe to an interactive table.\"\n",
              "              style=\"display:none;\">\n",
              "        \n",
              "  <svg xmlns=\"http://www.w3.org/2000/svg\" height=\"24px\"viewBox=\"0 0 24 24\"\n",
              "       width=\"24px\">\n",
              "    <path d=\"M0 0h24v24H0V0z\" fill=\"none\"/>\n",
              "    <path d=\"M18.56 5.44l.94 2.06.94-2.06 2.06-.94-2.06-.94-.94-2.06-.94 2.06-2.06.94zm-11 1L8.5 8.5l.94-2.06 2.06-.94-2.06-.94L8.5 2.5l-.94 2.06-2.06.94zm10 10l.94 2.06.94-2.06 2.06-.94-2.06-.94-.94-2.06-.94 2.06-2.06.94z\"/><path d=\"M17.41 7.96l-1.37-1.37c-.4-.4-.92-.59-1.43-.59-.52 0-1.04.2-1.43.59L10.3 9.45l-7.72 7.72c-.78.78-.78 2.05 0 2.83L4 21.41c.39.39.9.59 1.41.59.51 0 1.02-.2 1.41-.59l7.78-7.78 2.81-2.81c.8-.78.8-2.07 0-2.86zM5.41 20L4 18.59l7.72-7.72 1.47 1.35L5.41 20z\"/>\n",
              "  </svg>\n",
              "      </button>\n",
              "      \n",
              "  <style>\n",
              "    .colab-df-container {\n",
              "      display:flex;\n",
              "      flex-wrap:wrap;\n",
              "      gap: 12px;\n",
              "    }\n",
              "\n",
              "    .colab-df-convert {\n",
              "      background-color: #E8F0FE;\n",
              "      border: none;\n",
              "      border-radius: 50%;\n",
              "      cursor: pointer;\n",
              "      display: none;\n",
              "      fill: #1967D2;\n",
              "      height: 32px;\n",
              "      padding: 0 0 0 0;\n",
              "      width: 32px;\n",
              "    }\n",
              "\n",
              "    .colab-df-convert:hover {\n",
              "      background-color: #E2EBFA;\n",
              "      box-shadow: 0px 1px 2px rgba(60, 64, 67, 0.3), 0px 1px 3px 1px rgba(60, 64, 67, 0.15);\n",
              "      fill: #174EA6;\n",
              "    }\n",
              "\n",
              "    [theme=dark] .colab-df-convert {\n",
              "      background-color: #3B4455;\n",
              "      fill: #D2E3FC;\n",
              "    }\n",
              "\n",
              "    [theme=dark] .colab-df-convert:hover {\n",
              "      background-color: #434B5C;\n",
              "      box-shadow: 0px 1px 3px 1px rgba(0, 0, 0, 0.15);\n",
              "      filter: drop-shadow(0px 1px 2px rgba(0, 0, 0, 0.3));\n",
              "      fill: #FFFFFF;\n",
              "    }\n",
              "  </style>\n",
              "\n",
              "      <script>\n",
              "        const buttonEl =\n",
              "          document.querySelector('#df-e1186324-a9cc-46bc-abc1-94e7168055c2 button.colab-df-convert');\n",
              "        buttonEl.style.display =\n",
              "          google.colab.kernel.accessAllowed ? 'block' : 'none';\n",
              "\n",
              "        async function convertToInteractive(key) {\n",
              "          const element = document.querySelector('#df-e1186324-a9cc-46bc-abc1-94e7168055c2');\n",
              "          const dataTable =\n",
              "            await google.colab.kernel.invokeFunction('convertToInteractive',\n",
              "                                                     [key], {});\n",
              "          if (!dataTable) return;\n",
              "\n",
              "          const docLinkHtml = 'Like what you see? Visit the ' +\n",
              "            '<a target=\"_blank\" href=https://colab.research.google.com/notebooks/data_table.ipynb>data table notebook</a>'\n",
              "            + ' to learn more about interactive tables.';\n",
              "          element.innerHTML = '';\n",
              "          dataTable['output_type'] = 'display_data';\n",
              "          await google.colab.output.renderOutput(dataTable, element);\n",
              "          const docLink = document.createElement('div');\n",
              "          docLink.innerHTML = docLinkHtml;\n",
              "          element.appendChild(docLink);\n",
              "        }\n",
              "      </script>\n",
              "    </div>\n",
              "  </div>\n",
              "  "
            ],
            "text/plain": [
              "                                             details  ...                                             Pre #4\n",
              "0  suka banget sama produk ini, gampang dibawa ke...  ...  suka banget sama produk ini gampang dibawa kem...\n",
              "1  ini aku pertama kali beli produk ini dan aku e...  ...  ini aku pertama kali beli produk ini dan aku e...\n",
              "2  I love the packaging, the texture, tapi kurang...  ...  i love the packaging the texture tapi kurang s...\n",
              "3  menyesal kenapa baru tahu ada sunscreen yang b...  ...  menyesal kenapa baru tahu ada sunscreen yang b...\n",
              "4  suka!! bagus bgt buat touch up ditambah lg ini...  ...  suka bagus bgt buat touch up ditambah lg ini a...\n",
              "\n",
              "[5 rows x 5 columns]"
            ]
          },
          "metadata": {},
          "execution_count": 85
        }
      ]
    },
    {
      "cell_type": "code",
      "source": [
        "data_femaleDaily['Pre #4'] = data_femaleDaily['Pre #3'].apply(cleanUsingRegex)\n",
        "data_femaleDaily.head()"
      ],
      "metadata": {
        "colab": {
          "base_uri": "https://localhost:8080/",
          "height": 441
        },
        "id": "lmhHwrnJWWBw",
        "outputId": "bb14448f-70f5-4e8f-8a9f-e85b5800545d"
      },
      "execution_count": null,
      "outputs": [
        {
          "output_type": "stream",
          "name": "stderr",
          "text": [
            "/usr/local/lib/python3.7/dist-packages/ipykernel_launcher.py:1: SettingWithCopyWarning: \n",
            "A value is trying to be set on a copy of a slice from a DataFrame.\n",
            "Try using .loc[row_indexer,col_indexer] = value instead\n",
            "\n",
            "See the caveats in the documentation: https://pandas.pydata.org/pandas-docs/stable/user_guide/indexing.html#returning-a-view-versus-a-copy\n",
            "  \"\"\"Entry point for launching an IPython kernel.\n"
          ]
        },
        {
          "output_type": "execute_result",
          "data": {
            "text/html": [
              "\n",
              "  <div id=\"df-e197fd39-d0e0-4b02-a73e-b7f04ae125c7\">\n",
              "    <div class=\"colab-df-container\">\n",
              "      <div>\n",
              "<style scoped>\n",
              "    .dataframe tbody tr th:only-of-type {\n",
              "        vertical-align: middle;\n",
              "    }\n",
              "\n",
              "    .dataframe tbody tr th {\n",
              "        vertical-align: top;\n",
              "    }\n",
              "\n",
              "    .dataframe thead th {\n",
              "        text-align: right;\n",
              "    }\n",
              "</style>\n",
              "<table border=\"1\" class=\"dataframe\">\n",
              "  <thead>\n",
              "    <tr style=\"text-align: right;\">\n",
              "      <th></th>\n",
              "      <th>details</th>\n",
              "      <th>Pre #1</th>\n",
              "      <th>Pre #2</th>\n",
              "      <th>Pre #3</th>\n",
              "      <th>Pre #4</th>\n",
              "    </tr>\n",
              "  </thead>\n",
              "  <tbody>\n",
              "    <tr>\n",
              "      <th>0</th>\n",
              "      <td>akhirnya beli produk ini pas banget lagi sale ...</td>\n",
              "      <td>akhirnya beli produk ini pas banget lagi sale ...</td>\n",
              "      <td>akhirnya beli produk ini pas banget lagi sale ...</td>\n",
              "      <td>akhirnya beli produk ini pas banget lagi sale ...</td>\n",
              "      <td>akhirnya beli produk ini pas banget lagi sale ...</td>\n",
              "    </tr>\n",
              "    <tr>\n",
              "      <th>1</th>\n",
              "      <td>Sun powder dari N'pure ini bagus bangett, gabo...</td>\n",
              "      <td>sun powder dari n'pure ini bagus bangett, gabo...</td>\n",
              "      <td>sun powder dari npure ini bagus bangett gaboon...</td>\n",
              "      <td>sun powder dari npure ini bagus bangett gaboon...</td>\n",
              "      <td>sun powder dari npure ini bagus bangett gaboon...</td>\n",
              "    </tr>\n",
              "    <tr>\n",
              "      <th>2</th>\n",
              "      <td>waw sumpah si ini sunscreen yang bener bener b...</td>\n",
              "      <td>waw sumpah si ini sunscreen yang bener bener b...</td>\n",
              "      <td>waw sumpah si ini sunscreen yang bener bener b...</td>\n",
              "      <td>waw sumpah si ini sunscreen yang bener bener b...</td>\n",
              "      <td>waw sumpah si ini sunscreen yang bener bener b...</td>\n",
              "    </tr>\n",
              "    <tr>\n",
              "      <th>3</th>\n",
              "      <td>N'PURE Cica Beat The Sun Powder ini bener-bene...</td>\n",
              "      <td>n'pure cica beat the sun powder ini bener-bene...</td>\n",
              "      <td>npure cica beat the sun powder ini benerbener ...</td>\n",
              "      <td>npure cica beat the sun powder ini benerbener ...</td>\n",
              "      <td>npure cica beat the sun powder ini benerbener ...</td>\n",
              "    </tr>\n",
              "    <tr>\n",
              "      <th>4</th>\n",
              "      <td>Suka sama teksturnya powder dan aplikatornya b...</td>\n",
              "      <td>suka sama teksturnya powder dan aplikatornya b...</td>\n",
              "      <td>suka sama teksturnya powder dan aplikatornya b...</td>\n",
              "      <td>suka sama teksturnya powder dan aplikatornya b...</td>\n",
              "      <td>suka sama teksturnya powder dan aplikatornya b...</td>\n",
              "    </tr>\n",
              "  </tbody>\n",
              "</table>\n",
              "</div>\n",
              "      <button class=\"colab-df-convert\" onclick=\"convertToInteractive('df-e197fd39-d0e0-4b02-a73e-b7f04ae125c7')\"\n",
              "              title=\"Convert this dataframe to an interactive table.\"\n",
              "              style=\"display:none;\">\n",
              "        \n",
              "  <svg xmlns=\"http://www.w3.org/2000/svg\" height=\"24px\"viewBox=\"0 0 24 24\"\n",
              "       width=\"24px\">\n",
              "    <path d=\"M0 0h24v24H0V0z\" fill=\"none\"/>\n",
              "    <path d=\"M18.56 5.44l.94 2.06.94-2.06 2.06-.94-2.06-.94-.94-2.06-.94 2.06-2.06.94zm-11 1L8.5 8.5l.94-2.06 2.06-.94-2.06-.94L8.5 2.5l-.94 2.06-2.06.94zm10 10l.94 2.06.94-2.06 2.06-.94-2.06-.94-.94-2.06-.94 2.06-2.06.94z\"/><path d=\"M17.41 7.96l-1.37-1.37c-.4-.4-.92-.59-1.43-.59-.52 0-1.04.2-1.43.59L10.3 9.45l-7.72 7.72c-.78.78-.78 2.05 0 2.83L4 21.41c.39.39.9.59 1.41.59.51 0 1.02-.2 1.41-.59l7.78-7.78 2.81-2.81c.8-.78.8-2.07 0-2.86zM5.41 20L4 18.59l7.72-7.72 1.47 1.35L5.41 20z\"/>\n",
              "  </svg>\n",
              "      </button>\n",
              "      \n",
              "  <style>\n",
              "    .colab-df-container {\n",
              "      display:flex;\n",
              "      flex-wrap:wrap;\n",
              "      gap: 12px;\n",
              "    }\n",
              "\n",
              "    .colab-df-convert {\n",
              "      background-color: #E8F0FE;\n",
              "      border: none;\n",
              "      border-radius: 50%;\n",
              "      cursor: pointer;\n",
              "      display: none;\n",
              "      fill: #1967D2;\n",
              "      height: 32px;\n",
              "      padding: 0 0 0 0;\n",
              "      width: 32px;\n",
              "    }\n",
              "\n",
              "    .colab-df-convert:hover {\n",
              "      background-color: #E2EBFA;\n",
              "      box-shadow: 0px 1px 2px rgba(60, 64, 67, 0.3), 0px 1px 3px 1px rgba(60, 64, 67, 0.15);\n",
              "      fill: #174EA6;\n",
              "    }\n",
              "\n",
              "    [theme=dark] .colab-df-convert {\n",
              "      background-color: #3B4455;\n",
              "      fill: #D2E3FC;\n",
              "    }\n",
              "\n",
              "    [theme=dark] .colab-df-convert:hover {\n",
              "      background-color: #434B5C;\n",
              "      box-shadow: 0px 1px 3px 1px rgba(0, 0, 0, 0.15);\n",
              "      filter: drop-shadow(0px 1px 2px rgba(0, 0, 0, 0.3));\n",
              "      fill: #FFFFFF;\n",
              "    }\n",
              "  </style>\n",
              "\n",
              "      <script>\n",
              "        const buttonEl =\n",
              "          document.querySelector('#df-e197fd39-d0e0-4b02-a73e-b7f04ae125c7 button.colab-df-convert');\n",
              "        buttonEl.style.display =\n",
              "          google.colab.kernel.accessAllowed ? 'block' : 'none';\n",
              "\n",
              "        async function convertToInteractive(key) {\n",
              "          const element = document.querySelector('#df-e197fd39-d0e0-4b02-a73e-b7f04ae125c7');\n",
              "          const dataTable =\n",
              "            await google.colab.kernel.invokeFunction('convertToInteractive',\n",
              "                                                     [key], {});\n",
              "          if (!dataTable) return;\n",
              "\n",
              "          const docLinkHtml = 'Like what you see? Visit the ' +\n",
              "            '<a target=\"_blank\" href=https://colab.research.google.com/notebooks/data_table.ipynb>data table notebook</a>'\n",
              "            + ' to learn more about interactive tables.';\n",
              "          element.innerHTML = '';\n",
              "          dataTable['output_type'] = 'display_data';\n",
              "          await google.colab.output.renderOutput(dataTable, element);\n",
              "          const docLink = document.createElement('div');\n",
              "          docLink.innerHTML = docLinkHtml;\n",
              "          element.appendChild(docLink);\n",
              "        }\n",
              "      </script>\n",
              "    </div>\n",
              "  </div>\n",
              "  "
            ],
            "text/plain": [
              "                                             details  ...                                             Pre #4\n",
              "0  akhirnya beli produk ini pas banget lagi sale ...  ...  akhirnya beli produk ini pas banget lagi sale ...\n",
              "1  Sun powder dari N'pure ini bagus bangett, gabo...  ...  sun powder dari npure ini bagus bangett gaboon...\n",
              "2  waw sumpah si ini sunscreen yang bener bener b...  ...  waw sumpah si ini sunscreen yang bener bener b...\n",
              "3  N'PURE Cica Beat The Sun Powder ini bener-bene...  ...  npure cica beat the sun powder ini benerbener ...\n",
              "4  Suka sama teksturnya powder dan aplikatornya b...  ...  suka sama teksturnya powder dan aplikatornya b...\n",
              "\n",
              "[5 rows x 5 columns]"
            ]
          },
          "metadata": {},
          "execution_count": 86
        }
      ]
    },
    {
      "cell_type": "markdown",
      "source": [
        "## Using Sastrawi to reduce inflected words in Indonesian Language"
      ],
      "metadata": {
        "id": "rqFUTNmHX1Xw"
      }
    },
    {
      "cell_type": "code",
      "source": [
        "factory = StemmerFactory()\n",
        "stemmer = factory.create_stemmer()"
      ],
      "metadata": {
        "id": "ExxzNd6vX39P"
      },
      "execution_count": null,
      "outputs": []
    },
    {
      "cell_type": "code",
      "source": [
        "def cleanUsingSastrawi(text):\n",
        "  return stemmer.stem(text)"
      ],
      "metadata": {
        "id": "yS_BdVLtX59e"
      },
      "execution_count": null,
      "outputs": []
    },
    {
      "cell_type": "code",
      "source": [
        "data_sociolla['Pre #5'] = data_sociolla['Pre #4'].apply(cleanUsingSastrawi)\n",
        "data_sociolla.head()"
      ],
      "metadata": {
        "colab": {
          "base_uri": "https://localhost:8080/",
          "height": 441
        },
        "id": "X3Xa-VFfX71W",
        "outputId": "1de9314c-4bdd-43e1-9238-8bd00f57d803"
      },
      "execution_count": null,
      "outputs": [
        {
          "output_type": "stream",
          "name": "stderr",
          "text": [
            "/usr/local/lib/python3.7/dist-packages/ipykernel_launcher.py:1: SettingWithCopyWarning: \n",
            "A value is trying to be set on a copy of a slice from a DataFrame.\n",
            "Try using .loc[row_indexer,col_indexer] = value instead\n",
            "\n",
            "See the caveats in the documentation: https://pandas.pydata.org/pandas-docs/stable/user_guide/indexing.html#returning-a-view-versus-a-copy\n",
            "  \"\"\"Entry point for launching an IPython kernel.\n"
          ]
        },
        {
          "output_type": "execute_result",
          "data": {
            "text/html": [
              "\n",
              "  <div id=\"df-b733db18-8b20-4022-8afd-15a723f602d3\">\n",
              "    <div class=\"colab-df-container\">\n",
              "      <div>\n",
              "<style scoped>\n",
              "    .dataframe tbody tr th:only-of-type {\n",
              "        vertical-align: middle;\n",
              "    }\n",
              "\n",
              "    .dataframe tbody tr th {\n",
              "        vertical-align: top;\n",
              "    }\n",
              "\n",
              "    .dataframe thead th {\n",
              "        text-align: right;\n",
              "    }\n",
              "</style>\n",
              "<table border=\"1\" class=\"dataframe\">\n",
              "  <thead>\n",
              "    <tr style=\"text-align: right;\">\n",
              "      <th></th>\n",
              "      <th>details</th>\n",
              "      <th>Pre #1</th>\n",
              "      <th>Pre #2</th>\n",
              "      <th>Pre #3</th>\n",
              "      <th>Pre #4</th>\n",
              "      <th>Pre #5</th>\n",
              "    </tr>\n",
              "  </thead>\n",
              "  <tbody>\n",
              "    <tr>\n",
              "      <th>0</th>\n",
              "      <td>suka banget sama produk ini, gampang dibawa ke...</td>\n",
              "      <td>suka banget sama produk ini, gampang dibawa ke...</td>\n",
              "      <td>suka banget sama produk ini gampang dibawa kem...</td>\n",
              "      <td>suka banget sama produk ini gampang dibawa kem...</td>\n",
              "      <td>suka banget sama produk ini gampang dibawa kem...</td>\n",
              "      <td>suka banget sama produk ini gampang bawa mana ...</td>\n",
              "    </tr>\n",
              "    <tr>\n",
              "      <th>1</th>\n",
              "      <td>ini aku pertama kali beli produk ini dan aku e...</td>\n",
              "      <td>ini aku pertama kali beli produk ini dan aku e...</td>\n",
              "      <td>ini aku pertama kali beli produk ini dan aku e...</td>\n",
              "      <td>ini aku pertama kali beli produk ini dan aku e...</td>\n",
              "      <td>ini aku pertama kali beli produk ini dan aku e...</td>\n",
              "      <td>ini aku pertama kali beli produk ini dan aku e...</td>\n",
              "    </tr>\n",
              "    <tr>\n",
              "      <th>2</th>\n",
              "      <td>I love the packaging, the texture, tapi kurang...</td>\n",
              "      <td>i love the packaging, the texture, tapi kurang...</td>\n",
              "      <td>i love the packaging the texture tapi kurang s...</td>\n",
              "      <td>i love the packaging the texture tapi kurang s...</td>\n",
              "      <td>i love the packaging the texture tapi kurang s...</td>\n",
              "      <td>i love the packaging the texture tapi kurang s...</td>\n",
              "    </tr>\n",
              "    <tr>\n",
              "      <th>3</th>\n",
              "      <td>menyesal kenapa baru tahu ada sunscreen yang b...</td>\n",
              "      <td>menyesal kenapa baru tahu ada sunscreen yang b...</td>\n",
              "      <td>menyesal kenapa baru tahu ada sunscreen yang b...</td>\n",
              "      <td>menyesal kenapa baru tahu ada sunscreen yang b...</td>\n",
              "      <td>menyesal kenapa baru tahu ada sunscreen yang b...</td>\n",
              "      <td>sesal kenapa baru tahu ada sunscreen yang bent...</td>\n",
              "    </tr>\n",
              "    <tr>\n",
              "      <th>4</th>\n",
              "      <td>suka!! bagus bgt buat touch up ditambah lg ini...</td>\n",
              "      <td>suka!! bagus bgt buat touch up ditambah lg ini...</td>\n",
              "      <td>suka bagus bgt buat touch up ditambah lg ini a...</td>\n",
              "      <td>suka bagus bgt buat touch up ditambah lg ini a...</td>\n",
              "      <td>suka bagus bgt buat touch up ditambah lg ini a...</td>\n",
              "      <td>suka bagus bgt buat touch up tambah lg ini ada...</td>\n",
              "    </tr>\n",
              "  </tbody>\n",
              "</table>\n",
              "</div>\n",
              "      <button class=\"colab-df-convert\" onclick=\"convertToInteractive('df-b733db18-8b20-4022-8afd-15a723f602d3')\"\n",
              "              title=\"Convert this dataframe to an interactive table.\"\n",
              "              style=\"display:none;\">\n",
              "        \n",
              "  <svg xmlns=\"http://www.w3.org/2000/svg\" height=\"24px\"viewBox=\"0 0 24 24\"\n",
              "       width=\"24px\">\n",
              "    <path d=\"M0 0h24v24H0V0z\" fill=\"none\"/>\n",
              "    <path d=\"M18.56 5.44l.94 2.06.94-2.06 2.06-.94-2.06-.94-.94-2.06-.94 2.06-2.06.94zm-11 1L8.5 8.5l.94-2.06 2.06-.94-2.06-.94L8.5 2.5l-.94 2.06-2.06.94zm10 10l.94 2.06.94-2.06 2.06-.94-2.06-.94-.94-2.06-.94 2.06-2.06.94z\"/><path d=\"M17.41 7.96l-1.37-1.37c-.4-.4-.92-.59-1.43-.59-.52 0-1.04.2-1.43.59L10.3 9.45l-7.72 7.72c-.78.78-.78 2.05 0 2.83L4 21.41c.39.39.9.59 1.41.59.51 0 1.02-.2 1.41-.59l7.78-7.78 2.81-2.81c.8-.78.8-2.07 0-2.86zM5.41 20L4 18.59l7.72-7.72 1.47 1.35L5.41 20z\"/>\n",
              "  </svg>\n",
              "      </button>\n",
              "      \n",
              "  <style>\n",
              "    .colab-df-container {\n",
              "      display:flex;\n",
              "      flex-wrap:wrap;\n",
              "      gap: 12px;\n",
              "    }\n",
              "\n",
              "    .colab-df-convert {\n",
              "      background-color: #E8F0FE;\n",
              "      border: none;\n",
              "      border-radius: 50%;\n",
              "      cursor: pointer;\n",
              "      display: none;\n",
              "      fill: #1967D2;\n",
              "      height: 32px;\n",
              "      padding: 0 0 0 0;\n",
              "      width: 32px;\n",
              "    }\n",
              "\n",
              "    .colab-df-convert:hover {\n",
              "      background-color: #E2EBFA;\n",
              "      box-shadow: 0px 1px 2px rgba(60, 64, 67, 0.3), 0px 1px 3px 1px rgba(60, 64, 67, 0.15);\n",
              "      fill: #174EA6;\n",
              "    }\n",
              "\n",
              "    [theme=dark] .colab-df-convert {\n",
              "      background-color: #3B4455;\n",
              "      fill: #D2E3FC;\n",
              "    }\n",
              "\n",
              "    [theme=dark] .colab-df-convert:hover {\n",
              "      background-color: #434B5C;\n",
              "      box-shadow: 0px 1px 3px 1px rgba(0, 0, 0, 0.15);\n",
              "      filter: drop-shadow(0px 1px 2px rgba(0, 0, 0, 0.3));\n",
              "      fill: #FFFFFF;\n",
              "    }\n",
              "  </style>\n",
              "\n",
              "      <script>\n",
              "        const buttonEl =\n",
              "          document.querySelector('#df-b733db18-8b20-4022-8afd-15a723f602d3 button.colab-df-convert');\n",
              "        buttonEl.style.display =\n",
              "          google.colab.kernel.accessAllowed ? 'block' : 'none';\n",
              "\n",
              "        async function convertToInteractive(key) {\n",
              "          const element = document.querySelector('#df-b733db18-8b20-4022-8afd-15a723f602d3');\n",
              "          const dataTable =\n",
              "            await google.colab.kernel.invokeFunction('convertToInteractive',\n",
              "                                                     [key], {});\n",
              "          if (!dataTable) return;\n",
              "\n",
              "          const docLinkHtml = 'Like what you see? Visit the ' +\n",
              "            '<a target=\"_blank\" href=https://colab.research.google.com/notebooks/data_table.ipynb>data table notebook</a>'\n",
              "            + ' to learn more about interactive tables.';\n",
              "          element.innerHTML = '';\n",
              "          dataTable['output_type'] = 'display_data';\n",
              "          await google.colab.output.renderOutput(dataTable, element);\n",
              "          const docLink = document.createElement('div');\n",
              "          docLink.innerHTML = docLinkHtml;\n",
              "          element.appendChild(docLink);\n",
              "        }\n",
              "      </script>\n",
              "    </div>\n",
              "  </div>\n",
              "  "
            ],
            "text/plain": [
              "                                             details  ...                                             Pre #5\n",
              "0  suka banget sama produk ini, gampang dibawa ke...  ...  suka banget sama produk ini gampang bawa mana ...\n",
              "1  ini aku pertama kali beli produk ini dan aku e...  ...  ini aku pertama kali beli produk ini dan aku e...\n",
              "2  I love the packaging, the texture, tapi kurang...  ...  i love the packaging the texture tapi kurang s...\n",
              "3  menyesal kenapa baru tahu ada sunscreen yang b...  ...  sesal kenapa baru tahu ada sunscreen yang bent...\n",
              "4  suka!! bagus bgt buat touch up ditambah lg ini...  ...  suka bagus bgt buat touch up tambah lg ini ada...\n",
              "\n",
              "[5 rows x 6 columns]"
            ]
          },
          "metadata": {},
          "execution_count": 89
        }
      ]
    },
    {
      "cell_type": "code",
      "source": [
        "data_femaleDaily['Pre #5'] = data_femaleDaily['Pre #4'].apply(cleanUsingSastrawi)\n",
        "data_femaleDaily.head()"
      ],
      "metadata": {
        "colab": {
          "base_uri": "https://localhost:8080/",
          "height": 441
        },
        "id": "BNNsCBS8YGbo",
        "outputId": "99b18c1c-b5c3-45c9-97b8-e4f261d8c21c"
      },
      "execution_count": null,
      "outputs": [
        {
          "output_type": "stream",
          "name": "stderr",
          "text": [
            "/usr/local/lib/python3.7/dist-packages/ipykernel_launcher.py:1: SettingWithCopyWarning: \n",
            "A value is trying to be set on a copy of a slice from a DataFrame.\n",
            "Try using .loc[row_indexer,col_indexer] = value instead\n",
            "\n",
            "See the caveats in the documentation: https://pandas.pydata.org/pandas-docs/stable/user_guide/indexing.html#returning-a-view-versus-a-copy\n",
            "  \"\"\"Entry point for launching an IPython kernel.\n"
          ]
        },
        {
          "output_type": "execute_result",
          "data": {
            "text/html": [
              "\n",
              "  <div id=\"df-7377da3e-8b42-435f-9ab1-921f4ebe0b0f\">\n",
              "    <div class=\"colab-df-container\">\n",
              "      <div>\n",
              "<style scoped>\n",
              "    .dataframe tbody tr th:only-of-type {\n",
              "        vertical-align: middle;\n",
              "    }\n",
              "\n",
              "    .dataframe tbody tr th {\n",
              "        vertical-align: top;\n",
              "    }\n",
              "\n",
              "    .dataframe thead th {\n",
              "        text-align: right;\n",
              "    }\n",
              "</style>\n",
              "<table border=\"1\" class=\"dataframe\">\n",
              "  <thead>\n",
              "    <tr style=\"text-align: right;\">\n",
              "      <th></th>\n",
              "      <th>details</th>\n",
              "      <th>Pre #1</th>\n",
              "      <th>Pre #2</th>\n",
              "      <th>Pre #3</th>\n",
              "      <th>Pre #4</th>\n",
              "      <th>Pre #5</th>\n",
              "    </tr>\n",
              "  </thead>\n",
              "  <tbody>\n",
              "    <tr>\n",
              "      <th>0</th>\n",
              "      <td>akhirnya beli produk ini pas banget lagi sale ...</td>\n",
              "      <td>akhirnya beli produk ini pas banget lagi sale ...</td>\n",
              "      <td>akhirnya beli produk ini pas banget lagi sale ...</td>\n",
              "      <td>akhirnya beli produk ini pas banget lagi sale ...</td>\n",
              "      <td>akhirnya beli produk ini pas banget lagi sale ...</td>\n",
              "      <td>akhir beli produk ini pas banget lagi sale jug...</td>\n",
              "    </tr>\n",
              "    <tr>\n",
              "      <th>1</th>\n",
              "      <td>Sun powder dari N'pure ini bagus bangett, gabo...</td>\n",
              "      <td>sun powder dari n'pure ini bagus bangett, gabo...</td>\n",
              "      <td>sun powder dari npure ini bagus bangett gaboon...</td>\n",
              "      <td>sun powder dari npure ini bagus bangett gaboon...</td>\n",
              "      <td>sun powder dari npure ini bagus bangett gaboon...</td>\n",
              "      <td>sun powder dari npure ini bagus bangett gaboon...</td>\n",
              "    </tr>\n",
              "    <tr>\n",
              "      <th>2</th>\n",
              "      <td>waw sumpah si ini sunscreen yang bener bener b...</td>\n",
              "      <td>waw sumpah si ini sunscreen yang bener bener b...</td>\n",
              "      <td>waw sumpah si ini sunscreen yang bener bener b...</td>\n",
              "      <td>waw sumpah si ini sunscreen yang bener bener b...</td>\n",
              "      <td>waw sumpah si ini sunscreen yang bener bener b...</td>\n",
              "      <td>waw sumpah si ini sunscreen yang bener bener b...</td>\n",
              "    </tr>\n",
              "    <tr>\n",
              "      <th>3</th>\n",
              "      <td>N'PURE Cica Beat The Sun Powder ini bener-bene...</td>\n",
              "      <td>n'pure cica beat the sun powder ini bener-bene...</td>\n",
              "      <td>npure cica beat the sun powder ini benerbener ...</td>\n",
              "      <td>npure cica beat the sun powder ini benerbener ...</td>\n",
              "      <td>npure cica beat the sun powder ini benerbener ...</td>\n",
              "      <td>npure cica beat the sun powder ini benerbener ...</td>\n",
              "    </tr>\n",
              "    <tr>\n",
              "      <th>4</th>\n",
              "      <td>Suka sama teksturnya powder dan aplikatornya b...</td>\n",
              "      <td>suka sama teksturnya powder dan aplikatornya b...</td>\n",
              "      <td>suka sama teksturnya powder dan aplikatornya b...</td>\n",
              "      <td>suka sama teksturnya powder dan aplikatornya b...</td>\n",
              "      <td>suka sama teksturnya powder dan aplikatornya b...</td>\n",
              "      <td>suka sama tekstur powder dan aplikatornya brus...</td>\n",
              "    </tr>\n",
              "  </tbody>\n",
              "</table>\n",
              "</div>\n",
              "      <button class=\"colab-df-convert\" onclick=\"convertToInteractive('df-7377da3e-8b42-435f-9ab1-921f4ebe0b0f')\"\n",
              "              title=\"Convert this dataframe to an interactive table.\"\n",
              "              style=\"display:none;\">\n",
              "        \n",
              "  <svg xmlns=\"http://www.w3.org/2000/svg\" height=\"24px\"viewBox=\"0 0 24 24\"\n",
              "       width=\"24px\">\n",
              "    <path d=\"M0 0h24v24H0V0z\" fill=\"none\"/>\n",
              "    <path d=\"M18.56 5.44l.94 2.06.94-2.06 2.06-.94-2.06-.94-.94-2.06-.94 2.06-2.06.94zm-11 1L8.5 8.5l.94-2.06 2.06-.94-2.06-.94L8.5 2.5l-.94 2.06-2.06.94zm10 10l.94 2.06.94-2.06 2.06-.94-2.06-.94-.94-2.06-.94 2.06-2.06.94z\"/><path d=\"M17.41 7.96l-1.37-1.37c-.4-.4-.92-.59-1.43-.59-.52 0-1.04.2-1.43.59L10.3 9.45l-7.72 7.72c-.78.78-.78 2.05 0 2.83L4 21.41c.39.39.9.59 1.41.59.51 0 1.02-.2 1.41-.59l7.78-7.78 2.81-2.81c.8-.78.8-2.07 0-2.86zM5.41 20L4 18.59l7.72-7.72 1.47 1.35L5.41 20z\"/>\n",
              "  </svg>\n",
              "      </button>\n",
              "      \n",
              "  <style>\n",
              "    .colab-df-container {\n",
              "      display:flex;\n",
              "      flex-wrap:wrap;\n",
              "      gap: 12px;\n",
              "    }\n",
              "\n",
              "    .colab-df-convert {\n",
              "      background-color: #E8F0FE;\n",
              "      border: none;\n",
              "      border-radius: 50%;\n",
              "      cursor: pointer;\n",
              "      display: none;\n",
              "      fill: #1967D2;\n",
              "      height: 32px;\n",
              "      padding: 0 0 0 0;\n",
              "      width: 32px;\n",
              "    }\n",
              "\n",
              "    .colab-df-convert:hover {\n",
              "      background-color: #E2EBFA;\n",
              "      box-shadow: 0px 1px 2px rgba(60, 64, 67, 0.3), 0px 1px 3px 1px rgba(60, 64, 67, 0.15);\n",
              "      fill: #174EA6;\n",
              "    }\n",
              "\n",
              "    [theme=dark] .colab-df-convert {\n",
              "      background-color: #3B4455;\n",
              "      fill: #D2E3FC;\n",
              "    }\n",
              "\n",
              "    [theme=dark] .colab-df-convert:hover {\n",
              "      background-color: #434B5C;\n",
              "      box-shadow: 0px 1px 3px 1px rgba(0, 0, 0, 0.15);\n",
              "      filter: drop-shadow(0px 1px 2px rgba(0, 0, 0, 0.3));\n",
              "      fill: #FFFFFF;\n",
              "    }\n",
              "  </style>\n",
              "\n",
              "      <script>\n",
              "        const buttonEl =\n",
              "          document.querySelector('#df-7377da3e-8b42-435f-9ab1-921f4ebe0b0f button.colab-df-convert');\n",
              "        buttonEl.style.display =\n",
              "          google.colab.kernel.accessAllowed ? 'block' : 'none';\n",
              "\n",
              "        async function convertToInteractive(key) {\n",
              "          const element = document.querySelector('#df-7377da3e-8b42-435f-9ab1-921f4ebe0b0f');\n",
              "          const dataTable =\n",
              "            await google.colab.kernel.invokeFunction('convertToInteractive',\n",
              "                                                     [key], {});\n",
              "          if (!dataTable) return;\n",
              "\n",
              "          const docLinkHtml = 'Like what you see? Visit the ' +\n",
              "            '<a target=\"_blank\" href=https://colab.research.google.com/notebooks/data_table.ipynb>data table notebook</a>'\n",
              "            + ' to learn more about interactive tables.';\n",
              "          element.innerHTML = '';\n",
              "          dataTable['output_type'] = 'display_data';\n",
              "          await google.colab.output.renderOutput(dataTable, element);\n",
              "          const docLink = document.createElement('div');\n",
              "          docLink.innerHTML = docLinkHtml;\n",
              "          element.appendChild(docLink);\n",
              "        }\n",
              "      </script>\n",
              "    </div>\n",
              "  </div>\n",
              "  "
            ],
            "text/plain": [
              "                                             details  ...                                             Pre #5\n",
              "0  akhirnya beli produk ini pas banget lagi sale ...  ...  akhir beli produk ini pas banget lagi sale jug...\n",
              "1  Sun powder dari N'pure ini bagus bangett, gabo...  ...  sun powder dari npure ini bagus bangett gaboon...\n",
              "2  waw sumpah si ini sunscreen yang bener bener b...  ...  waw sumpah si ini sunscreen yang bener bener b...\n",
              "3  N'PURE Cica Beat The Sun Powder ini bener-bene...  ...  npure cica beat the sun powder ini benerbener ...\n",
              "4  Suka sama teksturnya powder dan aplikatornya b...  ...  suka sama tekstur powder dan aplikatornya brus...\n",
              "\n",
              "[5 rows x 6 columns]"
            ]
          },
          "metadata": {},
          "execution_count": 90
        }
      ]
    },
    {
      "cell_type": "markdown",
      "source": [
        "## Checkpoint save sastrawi"
      ],
      "metadata": {
        "id": "VDuF-ef5u8EZ"
      }
    },
    {
      "cell_type": "code",
      "source": [
        "data_sociolla.to_json(r'/content/sociolla-sastrawi.json')\n",
        "data_femaleDaily.to_json(r'/content/femaleDaily-sastrawi.json')"
      ],
      "metadata": {
        "id": "-Qeo5hy1uD-q"
      },
      "execution_count": null,
      "outputs": []
    },
    {
      "cell_type": "markdown",
      "source": [
        "# Labeling using transformers"
      ],
      "metadata": {
        "id": "s_vwE6lYvUKY"
      }
    },
    {
      "cell_type": "markdown",
      "source": [
        "## Load data from last checkpoint"
      ],
      "metadata": {
        "id": "Ax4dTFycvftJ"
      }
    },
    {
      "cell_type": "code",
      "source": [
        "data_files = files.upload()"
      ],
      "metadata": {
        "id": "joioS7QbvqTw",
        "colab": {
          "resources": {
            "http://localhost:8080/nbextensions/google.colab/files.js": {
              "data": "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",
              "ok": true,
              "headers": [
                [
                  "content-type",
                  "application/javascript"
                ]
              ],
              "status": 200,
              "status_text": ""
            }
          },
          "base_uri": "https://localhost:8080/",
          "height": 107
        },
        "outputId": "9fb373c5-667b-4630-98c8-c5b50a06f387"
      },
      "execution_count": null,
      "outputs": [
        {
          "output_type": "display_data",
          "data": {
            "text/html": [
              "\n",
              "     <input type=\"file\" id=\"files-9342d2b4-22bf-4fbe-87a2-faf02d7e7a0c\" name=\"files[]\" multiple disabled\n",
              "        style=\"border:none\" />\n",
              "     <output id=\"result-9342d2b4-22bf-4fbe-87a2-faf02d7e7a0c\">\n",
              "      Upload widget is only available when the cell has been executed in the\n",
              "      current browser session. Please rerun this cell to enable.\n",
              "      </output>\n",
              "      <script src=\"/nbextensions/google.colab/files.js\"></script> "
            ],
            "text/plain": [
              "<IPython.core.display.HTML object>"
            ]
          },
          "metadata": {}
        },
        {
          "output_type": "stream",
          "name": "stdout",
          "text": [
            "Saving femaleDaily-sastrawi.json to femaleDaily-sastrawi.json\n",
            "Saving sociolla-sastrawi.json to sociolla-sastrawi.json\n"
          ]
        }
      ]
    },
    {
      "cell_type": "code",
      "source": [
        "data_sociolla = pd.read_json(data_files['sociolla-sastrawi.json'])\n",
        "data_femaleDaily = pd.read_json(data_files['femaleDaily-sastrawi.json'])"
      ],
      "metadata": {
        "id": "lLdq-LKGxLW2"
      },
      "execution_count": null,
      "outputs": []
    },
    {
      "cell_type": "markdown",
      "source": [
        "## Labeling using bert indonesia by mdhugol"
      ],
      "metadata": {
        "id": "0sIzIVGfv1UI"
      }
    },
    {
      "cell_type": "code",
      "source": [
        "pretrained= \"mdhugol/indonesia-bert-sentiment-classification\"\n",
        "model = AutoModelForSequenceClassification.from_pretrained(pretrained)\n",
        "tokenizer = AutoTokenizer.from_pretrained(pretrained)\n",
        "sentiment_analysis = pipeline(\"sentiment-analysis\", model=model, tokenizer=tokenizer)"
      ],
      "metadata": {
        "id": "Xpbec7H_dn8L"
      },
      "execution_count": null,
      "outputs": []
    },
    {
      "cell_type": "markdown",
      "source": [
        "## Start labelling"
      ],
      "metadata": {
        "id": "MCV6rzZ6T-6X"
      }
    },
    {
      "cell_type": "code",
      "source": [
        "label_index = {'LABEL_0': 'positive', 'LABEL_1': 'neutral', 'LABEL_2': 'negative'}\n",
        "def preLabelingUsingBertLabel(text):\n",
        "  if len(text.split()) > 512:\n",
        "    return 'TOMUCH'\n",
        "  \n",
        "  labeling_result = sentiment_analysis(text)\n",
        "  labelnya = label_index[labeling_result[0]['label']]\n",
        "  return labelnya\n",
        "\n",
        "def preLabelingUsingBertStatus(text):\n",
        "  if len(text.split()) > 512:\n",
        "    return 'TOMUCH'\n",
        "\n",
        "  labeling_result = sentiment_analysis(text)\n",
        "  scorenya = labeling_result[0]['score']\n",
        "  return scorenya"
      ],
      "metadata": {
        "id": "FvWmfPq1fq1T"
      },
      "execution_count": null,
      "outputs": []
    },
    {
      "cell_type": "code",
      "source": [
        "data_sociolla['Pre Label #6'] = data_sociolla['Pre #5'].apply(preLabelingUsingBertLabel)\n",
        "data_sociolla['Pre Score #7'] = data_sociolla['Pre #5'].apply(preLabelingUsingBertStatus)\n",
        "data_sociolla.head()"
      ],
      "metadata": {
        "colab": {
          "base_uri": "https://localhost:8080/",
          "height": 354
        },
        "id": "Q7lbBEx0mak_",
        "outputId": "48604a82-e9eb-4639-b23d-008cf766ea87"
      },
      "execution_count": null,
      "outputs": [
        {
          "output_type": "execute_result",
          "data": {
            "text/html": [
              "\n",
              "  <div id=\"df-d49eed02-38d5-45a6-8b3a-27e0d938118b\">\n",
              "    <div class=\"colab-df-container\">\n",
              "      <div>\n",
              "<style scoped>\n",
              "    .dataframe tbody tr th:only-of-type {\n",
              "        vertical-align: middle;\n",
              "    }\n",
              "\n",
              "    .dataframe tbody tr th {\n",
              "        vertical-align: top;\n",
              "    }\n",
              "\n",
              "    .dataframe thead th {\n",
              "        text-align: right;\n",
              "    }\n",
              "</style>\n",
              "<table border=\"1\" class=\"dataframe\">\n",
              "  <thead>\n",
              "    <tr style=\"text-align: right;\">\n",
              "      <th></th>\n",
              "      <th>details</th>\n",
              "      <th>Pre #1</th>\n",
              "      <th>Pre #2</th>\n",
              "      <th>Pre #3</th>\n",
              "      <th>Pre #4</th>\n",
              "      <th>Pre #5</th>\n",
              "      <th>Pre Label #6</th>\n",
              "      <th>Pre Score #7</th>\n",
              "    </tr>\n",
              "  </thead>\n",
              "  <tbody>\n",
              "    <tr>\n",
              "      <th>0</th>\n",
              "      <td>suka banget sama produk ini, gampang dibawa ke...</td>\n",
              "      <td>suka banget sama produk ini, gampang dibawa ke...</td>\n",
              "      <td>suka banget sama produk ini gampang dibawa kem...</td>\n",
              "      <td>suka banget sama produk ini gampang dibawa kem...</td>\n",
              "      <td>suka banget sama produk ini gampang dibawa kem...</td>\n",
              "      <td>suka banget sama produk ini gampang bawa mana ...</td>\n",
              "      <td>positive</td>\n",
              "      <td>0.997601</td>\n",
              "    </tr>\n",
              "    <tr>\n",
              "      <th>1</th>\n",
              "      <td>ini aku pertama kali beli produk ini dan aku e...</td>\n",
              "      <td>ini aku pertama kali beli produk ini dan aku e...</td>\n",
              "      <td>ini aku pertama kali beli produk ini dan aku e...</td>\n",
              "      <td>ini aku pertama kali beli produk ini dan aku e...</td>\n",
              "      <td>ini aku pertama kali beli produk ini dan aku e...</td>\n",
              "      <td>ini aku pertama kali beli produk ini dan aku e...</td>\n",
              "      <td>positive</td>\n",
              "      <td>0.99484</td>\n",
              "    </tr>\n",
              "    <tr>\n",
              "      <th>2</th>\n",
              "      <td>I love the packaging, the texture, tapi kurang...</td>\n",
              "      <td>i love the packaging, the texture, tapi kurang...</td>\n",
              "      <td>i love the packaging the texture tapi kurang s...</td>\n",
              "      <td>i love the packaging the texture tapi kurang s...</td>\n",
              "      <td>i love the packaging the texture tapi kurang s...</td>\n",
              "      <td>i love the packaging the texture tapi kurang s...</td>\n",
              "      <td>positive</td>\n",
              "      <td>0.984812</td>\n",
              "    </tr>\n",
              "    <tr>\n",
              "      <th>3</th>\n",
              "      <td>menyesal kenapa baru tahu ada sunscreen yang b...</td>\n",
              "      <td>menyesal kenapa baru tahu ada sunscreen yang b...</td>\n",
              "      <td>menyesal kenapa baru tahu ada sunscreen yang b...</td>\n",
              "      <td>menyesal kenapa baru tahu ada sunscreen yang b...</td>\n",
              "      <td>menyesal kenapa baru tahu ada sunscreen yang b...</td>\n",
              "      <td>sesal kenapa baru tahu ada sunscreen yang bent...</td>\n",
              "      <td>positive</td>\n",
              "      <td>0.603314</td>\n",
              "    </tr>\n",
              "    <tr>\n",
              "      <th>4</th>\n",
              "      <td>suka!! bagus bgt buat touch up ditambah lg ini...</td>\n",
              "      <td>suka!! bagus bgt buat touch up ditambah lg ini...</td>\n",
              "      <td>suka bagus bgt buat touch up ditambah lg ini a...</td>\n",
              "      <td>suka bagus bgt buat touch up ditambah lg ini a...</td>\n",
              "      <td>suka bagus bgt buat touch up ditambah lg ini a...</td>\n",
              "      <td>suka bagus bgt buat touch up tambah lg ini ada...</td>\n",
              "      <td>positive</td>\n",
              "      <td>0.996414</td>\n",
              "    </tr>\n",
              "  </tbody>\n",
              "</table>\n",
              "</div>\n",
              "      <button class=\"colab-df-convert\" onclick=\"convertToInteractive('df-d49eed02-38d5-45a6-8b3a-27e0d938118b')\"\n",
              "              title=\"Convert this dataframe to an interactive table.\"\n",
              "              style=\"display:none;\">\n",
              "        \n",
              "  <svg xmlns=\"http://www.w3.org/2000/svg\" height=\"24px\"viewBox=\"0 0 24 24\"\n",
              "       width=\"24px\">\n",
              "    <path d=\"M0 0h24v24H0V0z\" fill=\"none\"/>\n",
              "    <path d=\"M18.56 5.44l.94 2.06.94-2.06 2.06-.94-2.06-.94-.94-2.06-.94 2.06-2.06.94zm-11 1L8.5 8.5l.94-2.06 2.06-.94-2.06-.94L8.5 2.5l-.94 2.06-2.06.94zm10 10l.94 2.06.94-2.06 2.06-.94-2.06-.94-.94-2.06-.94 2.06-2.06.94z\"/><path d=\"M17.41 7.96l-1.37-1.37c-.4-.4-.92-.59-1.43-.59-.52 0-1.04.2-1.43.59L10.3 9.45l-7.72 7.72c-.78.78-.78 2.05 0 2.83L4 21.41c.39.39.9.59 1.41.59.51 0 1.02-.2 1.41-.59l7.78-7.78 2.81-2.81c.8-.78.8-2.07 0-2.86zM5.41 20L4 18.59l7.72-7.72 1.47 1.35L5.41 20z\"/>\n",
              "  </svg>\n",
              "      </button>\n",
              "      \n",
              "  <style>\n",
              "    .colab-df-container {\n",
              "      display:flex;\n",
              "      flex-wrap:wrap;\n",
              "      gap: 12px;\n",
              "    }\n",
              "\n",
              "    .colab-df-convert {\n",
              "      background-color: #E8F0FE;\n",
              "      border: none;\n",
              "      border-radius: 50%;\n",
              "      cursor: pointer;\n",
              "      display: none;\n",
              "      fill: #1967D2;\n",
              "      height: 32px;\n",
              "      padding: 0 0 0 0;\n",
              "      width: 32px;\n",
              "    }\n",
              "\n",
              "    .colab-df-convert:hover {\n",
              "      background-color: #E2EBFA;\n",
              "      box-shadow: 0px 1px 2px rgba(60, 64, 67, 0.3), 0px 1px 3px 1px rgba(60, 64, 67, 0.15);\n",
              "      fill: #174EA6;\n",
              "    }\n",
              "\n",
              "    [theme=dark] .colab-df-convert {\n",
              "      background-color: #3B4455;\n",
              "      fill: #D2E3FC;\n",
              "    }\n",
              "\n",
              "    [theme=dark] .colab-df-convert:hover {\n",
              "      background-color: #434B5C;\n",
              "      box-shadow: 0px 1px 3px 1px rgba(0, 0, 0, 0.15);\n",
              "      filter: drop-shadow(0px 1px 2px rgba(0, 0, 0, 0.3));\n",
              "      fill: #FFFFFF;\n",
              "    }\n",
              "  </style>\n",
              "\n",
              "      <script>\n",
              "        const buttonEl =\n",
              "          document.querySelector('#df-d49eed02-38d5-45a6-8b3a-27e0d938118b button.colab-df-convert');\n",
              "        buttonEl.style.display =\n",
              "          google.colab.kernel.accessAllowed ? 'block' : 'none';\n",
              "\n",
              "        async function convertToInteractive(key) {\n",
              "          const element = document.querySelector('#df-d49eed02-38d5-45a6-8b3a-27e0d938118b');\n",
              "          const dataTable =\n",
              "            await google.colab.kernel.invokeFunction('convertToInteractive',\n",
              "                                                     [key], {});\n",
              "          if (!dataTable) return;\n",
              "\n",
              "          const docLinkHtml = 'Like what you see? Visit the ' +\n",
              "            '<a target=\"_blank\" href=https://colab.research.google.com/notebooks/data_table.ipynb>data table notebook</a>'\n",
              "            + ' to learn more about interactive tables.';\n",
              "          element.innerHTML = '';\n",
              "          dataTable['output_type'] = 'display_data';\n",
              "          await google.colab.output.renderOutput(dataTable, element);\n",
              "          const docLink = document.createElement('div');\n",
              "          docLink.innerHTML = docLinkHtml;\n",
              "          element.appendChild(docLink);\n",
              "        }\n",
              "      </script>\n",
              "    </div>\n",
              "  </div>\n",
              "  "
            ],
            "text/plain": [
              "                                             details  ... Pre Score #7\n",
              "0  suka banget sama produk ini, gampang dibawa ke...  ...     0.997601\n",
              "1  ini aku pertama kali beli produk ini dan aku e...  ...      0.99484\n",
              "2  I love the packaging, the texture, tapi kurang...  ...     0.984812\n",
              "3  menyesal kenapa baru tahu ada sunscreen yang b...  ...     0.603314\n",
              "4  suka!! bagus bgt buat touch up ditambah lg ini...  ...     0.996414\n",
              "\n",
              "[5 rows x 8 columns]"
            ]
          },
          "metadata": {},
          "execution_count": 33
        }
      ]
    },
    {
      "cell_type": "code",
      "source": [
        "data_femaleDaily['Pre Label #6'] = data_femaleDaily['Pre #5'].apply(preLabelingUsingBertLabel)\n",
        "data_femaleDaily['Pre Label #7'] = data_femaleDaily['Pre #5'].apply(preLabelingUsingBertStatus)\n",
        "data_femaleDaily.head()"
      ],
      "metadata": {
        "id": "obPLXulFmdFu",
        "colab": {
          "base_uri": "https://localhost:8080/",
          "height": 354
        },
        "outputId": "09d07ab8-5701-4b16-c1ef-383c4c5166fe"
      },
      "execution_count": null,
      "outputs": [
        {
          "output_type": "execute_result",
          "data": {
            "text/html": [
              "\n",
              "  <div id=\"df-adf29b46-14a2-48e4-8a65-346df4b41810\">\n",
              "    <div class=\"colab-df-container\">\n",
              "      <div>\n",
              "<style scoped>\n",
              "    .dataframe tbody tr th:only-of-type {\n",
              "        vertical-align: middle;\n",
              "    }\n",
              "\n",
              "    .dataframe tbody tr th {\n",
              "        vertical-align: top;\n",
              "    }\n",
              "\n",
              "    .dataframe thead th {\n",
              "        text-align: right;\n",
              "    }\n",
              "</style>\n",
              "<table border=\"1\" class=\"dataframe\">\n",
              "  <thead>\n",
              "    <tr style=\"text-align: right;\">\n",
              "      <th></th>\n",
              "      <th>details</th>\n",
              "      <th>Pre #1</th>\n",
              "      <th>Pre #2</th>\n",
              "      <th>Pre #3</th>\n",
              "      <th>Pre #4</th>\n",
              "      <th>Pre #5</th>\n",
              "      <th>Pre Label #6</th>\n",
              "      <th>Pre Label #7</th>\n",
              "    </tr>\n",
              "  </thead>\n",
              "  <tbody>\n",
              "    <tr>\n",
              "      <th>0</th>\n",
              "      <td>akhirnya beli produk ini pas banget lagi sale ...</td>\n",
              "      <td>akhirnya beli produk ini pas banget lagi sale ...</td>\n",
              "      <td>akhirnya beli produk ini pas banget lagi sale ...</td>\n",
              "      <td>akhirnya beli produk ini pas banget lagi sale ...</td>\n",
              "      <td>akhirnya beli produk ini pas banget lagi sale ...</td>\n",
              "      <td>akhir beli produk ini pas banget lagi sale jug...</td>\n",
              "      <td>positive</td>\n",
              "      <td>0.992975</td>\n",
              "    </tr>\n",
              "    <tr>\n",
              "      <th>1</th>\n",
              "      <td>Sun powder dari N'pure ini bagus bangett, gabo...</td>\n",
              "      <td>sun powder dari n'pure ini bagus bangett, gabo...</td>\n",
              "      <td>sun powder dari npure ini bagus bangett gaboon...</td>\n",
              "      <td>sun powder dari npure ini bagus bangett gaboon...</td>\n",
              "      <td>sun powder dari npure ini bagus bangett gaboon...</td>\n",
              "      <td>sun powder dari npure ini bagus bangett gaboon...</td>\n",
              "      <td>positive</td>\n",
              "      <td>0.997575</td>\n",
              "    </tr>\n",
              "    <tr>\n",
              "      <th>2</th>\n",
              "      <td>waw sumpah si ini sunscreen yang bener bener b...</td>\n",
              "      <td>waw sumpah si ini sunscreen yang bener bener b...</td>\n",
              "      <td>waw sumpah si ini sunscreen yang bener bener b...</td>\n",
              "      <td>waw sumpah si ini sunscreen yang bener bener b...</td>\n",
              "      <td>waw sumpah si ini sunscreen yang bener bener b...</td>\n",
              "      <td>waw sumpah si ini sunscreen yang bener bener b...</td>\n",
              "      <td>positive</td>\n",
              "      <td>0.997351</td>\n",
              "    </tr>\n",
              "    <tr>\n",
              "      <th>3</th>\n",
              "      <td>N'PURE Cica Beat The Sun Powder ini bener-bene...</td>\n",
              "      <td>n'pure cica beat the sun powder ini bener-bene...</td>\n",
              "      <td>npure cica beat the sun powder ini benerbener ...</td>\n",
              "      <td>npure cica beat the sun powder ini benerbener ...</td>\n",
              "      <td>npure cica beat the sun powder ini benerbener ...</td>\n",
              "      <td>npure cica beat the sun powder ini benerbener ...</td>\n",
              "      <td>positive</td>\n",
              "      <td>0.788924</td>\n",
              "    </tr>\n",
              "    <tr>\n",
              "      <th>4</th>\n",
              "      <td>Suka sama teksturnya powder dan aplikatornya b...</td>\n",
              "      <td>suka sama teksturnya powder dan aplikatornya b...</td>\n",
              "      <td>suka sama teksturnya powder dan aplikatornya b...</td>\n",
              "      <td>suka sama teksturnya powder dan aplikatornya b...</td>\n",
              "      <td>suka sama teksturnya powder dan aplikatornya b...</td>\n",
              "      <td>suka sama tekstur powder dan aplikatornya brus...</td>\n",
              "      <td>positive</td>\n",
              "      <td>0.997626</td>\n",
              "    </tr>\n",
              "  </tbody>\n",
              "</table>\n",
              "</div>\n",
              "      <button class=\"colab-df-convert\" onclick=\"convertToInteractive('df-adf29b46-14a2-48e4-8a65-346df4b41810')\"\n",
              "              title=\"Convert this dataframe to an interactive table.\"\n",
              "              style=\"display:none;\">\n",
              "        \n",
              "  <svg xmlns=\"http://www.w3.org/2000/svg\" height=\"24px\"viewBox=\"0 0 24 24\"\n",
              "       width=\"24px\">\n",
              "    <path d=\"M0 0h24v24H0V0z\" fill=\"none\"/>\n",
              "    <path d=\"M18.56 5.44l.94 2.06.94-2.06 2.06-.94-2.06-.94-.94-2.06-.94 2.06-2.06.94zm-11 1L8.5 8.5l.94-2.06 2.06-.94-2.06-.94L8.5 2.5l-.94 2.06-2.06.94zm10 10l.94 2.06.94-2.06 2.06-.94-2.06-.94-.94-2.06-.94 2.06-2.06.94z\"/><path d=\"M17.41 7.96l-1.37-1.37c-.4-.4-.92-.59-1.43-.59-.52 0-1.04.2-1.43.59L10.3 9.45l-7.72 7.72c-.78.78-.78 2.05 0 2.83L4 21.41c.39.39.9.59 1.41.59.51 0 1.02-.2 1.41-.59l7.78-7.78 2.81-2.81c.8-.78.8-2.07 0-2.86zM5.41 20L4 18.59l7.72-7.72 1.47 1.35L5.41 20z\"/>\n",
              "  </svg>\n",
              "      </button>\n",
              "      \n",
              "  <style>\n",
              "    .colab-df-container {\n",
              "      display:flex;\n",
              "      flex-wrap:wrap;\n",
              "      gap: 12px;\n",
              "    }\n",
              "\n",
              "    .colab-df-convert {\n",
              "      background-color: #E8F0FE;\n",
              "      border: none;\n",
              "      border-radius: 50%;\n",
              "      cursor: pointer;\n",
              "      display: none;\n",
              "      fill: #1967D2;\n",
              "      height: 32px;\n",
              "      padding: 0 0 0 0;\n",
              "      width: 32px;\n",
              "    }\n",
              "\n",
              "    .colab-df-convert:hover {\n",
              "      background-color: #E2EBFA;\n",
              "      box-shadow: 0px 1px 2px rgba(60, 64, 67, 0.3), 0px 1px 3px 1px rgba(60, 64, 67, 0.15);\n",
              "      fill: #174EA6;\n",
              "    }\n",
              "\n",
              "    [theme=dark] .colab-df-convert {\n",
              "      background-color: #3B4455;\n",
              "      fill: #D2E3FC;\n",
              "    }\n",
              "\n",
              "    [theme=dark] .colab-df-convert:hover {\n",
              "      background-color: #434B5C;\n",
              "      box-shadow: 0px 1px 3px 1px rgba(0, 0, 0, 0.15);\n",
              "      filter: drop-shadow(0px 1px 2px rgba(0, 0, 0, 0.3));\n",
              "      fill: #FFFFFF;\n",
              "    }\n",
              "  </style>\n",
              "\n",
              "      <script>\n",
              "        const buttonEl =\n",
              "          document.querySelector('#df-adf29b46-14a2-48e4-8a65-346df4b41810 button.colab-df-convert');\n",
              "        buttonEl.style.display =\n",
              "          google.colab.kernel.accessAllowed ? 'block' : 'none';\n",
              "\n",
              "        async function convertToInteractive(key) {\n",
              "          const element = document.querySelector('#df-adf29b46-14a2-48e4-8a65-346df4b41810');\n",
              "          const dataTable =\n",
              "            await google.colab.kernel.invokeFunction('convertToInteractive',\n",
              "                                                     [key], {});\n",
              "          if (!dataTable) return;\n",
              "\n",
              "          const docLinkHtml = 'Like what you see? Visit the ' +\n",
              "            '<a target=\"_blank\" href=https://colab.research.google.com/notebooks/data_table.ipynb>data table notebook</a>'\n",
              "            + ' to learn more about interactive tables.';\n",
              "          element.innerHTML = '';\n",
              "          dataTable['output_type'] = 'display_data';\n",
              "          await google.colab.output.renderOutput(dataTable, element);\n",
              "          const docLink = document.createElement('div');\n",
              "          docLink.innerHTML = docLinkHtml;\n",
              "          element.appendChild(docLink);\n",
              "        }\n",
              "      </script>\n",
              "    </div>\n",
              "  </div>\n",
              "  "
            ],
            "text/plain": [
              "                                             details  ... Pre Label #7\n",
              "0  akhirnya beli produk ini pas banget lagi sale ...  ...     0.992975\n",
              "1  Sun powder dari N'pure ini bagus bangett, gabo...  ...     0.997575\n",
              "2  waw sumpah si ini sunscreen yang bener bener b...  ...     0.997351\n",
              "3  N'PURE Cica Beat The Sun Powder ini bener-bene...  ...     0.788924\n",
              "4  Suka sama teksturnya powder dan aplikatornya b...  ...     0.997626\n",
              "\n",
              "[5 rows x 8 columns]"
            ]
          },
          "metadata": {},
          "execution_count": 34
        }
      ]
    },
    {
      "cell_type": "markdown",
      "source": [
        "## Checkpoin save labelling"
      ],
      "metadata": {
        "id": "-9j67o2GUD9v"
      }
    },
    {
      "cell_type": "code",
      "source": [
        "data_sociolla.to_json(r'/content/sociolla-labelling.json')\n",
        "data_femaleDaily.to_json(r'/content/femaleDaily-labelling.json')"
      ],
      "metadata": {
        "id": "0WL96dTPTS0R"
      },
      "execution_count": null,
      "outputs": []
    },
    {
      "cell_type": "markdown",
      "source": [
        "# Analysis sentiment"
      ],
      "metadata": {
        "id": "uH7jxIYDUMH3"
      }
    },
    {
      "cell_type": "markdown",
      "source": [
        "## Load data from last checkpoint"
      ],
      "metadata": {
        "id": "i0TufBB-UgN-"
      }
    },
    {
      "cell_type": "code",
      "source": [
        "data_files = files.upload()"
      ],
      "metadata": {
        "colab": {
          "resources": {
            "http://localhost:8080/nbextensions/google.colab/files.js": {
              "data": "Ly8gQ29weXJpZ2h0IDIwMTcgR29vZ2xlIExMQwovLwovLyBMaWNlbnNlZCB1bmRlciB0aGUgQXBhY2hlIExpY2Vuc2UsIFZlcnNpb24gMi4wICh0aGUgIkxpY2Vuc2UiKTsKLy8geW91IG1heSBub3QgdXNlIHRoaXMgZmlsZSBleGNlcHQgaW4gY29tcGxpYW5jZSB3aXRoIHRoZSBMaWNlbnNlLgovLyBZb3UgbWF5IG9idGFpbiBhIGNvcHkgb2YgdGhlIExpY2Vuc2UgYXQKLy8KLy8gICAgICBodHRwOi8vd3d3LmFwYWNoZS5vcmcvbGljZW5zZXMvTElDRU5TRS0yLjAKLy8KLy8gVW5sZXNzIHJlcXVpcmVkIGJ5IGFwcGxpY2FibGUgbGF3IG9yIGFncmVlZCB0byBpbiB3cml0aW5nLCBzb2Z0d2FyZQovLyBkaXN0cmlidXRlZCB1bmRlciB0aGUgTGljZW5zZSBpcyBkaXN0cmlidXRlZCBvbiBhbiAiQVMgSVMiIEJBU0lTLAovLyBXSVRIT1VUIFdBUlJBTlRJRVMgT1IgQ09ORElUSU9OUyBPRiBBTlkgS0lORCwgZWl0aGVyIGV4cHJlc3Mgb3IgaW1wbGllZC4KLy8gU2VlIHRoZSBMaWNlbnNlIGZvciB0aGUgc3BlY2lmaWMgbGFuZ3VhZ2UgZ292ZXJuaW5nIHBlcm1pc3Npb25zIGFuZAovLyBsaW1pdGF0aW9ucyB1bmRlciB0aGUgTGljZW5zZS4KCi8qKgogKiBAZmlsZW92ZXJ2aWV3IEhlbHBlcnMgZm9yIGdvb2dsZS5jb2xhYiBQeXRob24gbW9kdWxlLgogKi8KKGZ1bmN0aW9uKHNjb3BlKSB7CmZ1bmN0aW9uIHNwYW4odGV4dCwgc3R5bGVBdHRyaWJ1dGVzID0ge30pIHsKICBjb25zdCBlbGVtZW50ID0gZG9jdW1lbnQuY3JlYXRlRWxlbWVudCgnc3BhbicpOwogIGVsZW1lbnQudGV4dENvbnRlbnQgPSB0ZXh0OwogIGZvciAoY29uc3Qga2V5IG9mIE9iamVjdC5rZXlzKHN0eWxlQXR0cmlidXRlcykpIHsKICAgIGVsZW1lbnQuc3R5bGVba2V5XSA9IHN0eWxlQXR0cmlidXRlc1trZXldOwogIH0KICByZXR1cm4gZWxlbWVudDsKfQoKLy8gTWF4IG51bWJlciBvZiBieXRlcyB3aGljaCB3aWxsIGJlIHVwbG9hZGVkIGF0IGEgdGltZS4KY29uc3QgTUFYX1BBWUxPQURfU0laRSA9IDEwMCAqIDEwMjQ7CgpmdW5jdGlvbiBfdXBsb2FkRmlsZXMoaW5wdXRJZCwgb3V0cHV0SWQpIHsKICBjb25zdCBzdGVwcyA9IHVwbG9hZEZpbGVzU3RlcChpbnB1dElkLCBvdXRwdXRJZCk7CiAgY29uc3Qgb3V0cHV0RWxlbWVudCA9IGRvY3VtZW50LmdldEVsZW1lbnRCeUlkKG91dHB1dElkKTsKICAvLyBDYWNoZSBzdGVwcyBvbiB0aGUgb3V0cHV0RWxlbWVudCB0byBtYWtlIGl0IGF2YWlsYWJsZSBmb3IgdGhlIG5leHQgY2FsbAogIC8vIHRvIHVwbG9hZEZpbGVzQ29udGludWUgZnJvbSBQeXRob24uCiAgb3V0cHV0RWxlbWVudC5zdGVwcyA9IHN0ZXBzOwoKICByZXR1cm4gX3VwbG9hZEZpbGVzQ29udGludWUob3V0cHV0SWQpOwp9CgovLyBUaGlzIGlzIHJvdWdobHkgYW4gYXN5bmMgZ2VuZXJhdG9yIChub3Qgc3VwcG9ydGVkIGluIHRoZSBicm93c2VyIHlldCksCi8vIHdoZXJlIHRoZXJlIGFyZSBtdWx0aXBsZSBhc3luY2hyb25vdXMgc3RlcHMgYW5kIHRoZSBQeXRob24gc2lkZSBpcyBnb2luZwovLyB0byBwb2xsIGZvciBjb21wbGV0aW9uIG9mIGVhY2ggc3RlcC4KLy8gVGhpcyB1c2VzIGEgUHJvbWlzZSB0byBibG9jayB0aGUgcHl0aG9uIHNpZGUgb24gY29tcGxldGlvbiBvZiBlYWNoIHN0ZXAsCi8vIHRoZW4gcGFzc2VzIHRoZSByZXN1bHQgb2YgdGhlIHByZXZpb3VzIHN0ZXAgYXMgdGhlIGlucHV0IHRvIHRoZSBuZXh0IHN0ZXAuCmZ1bmN0aW9uIF91cGxvYWRGaWxlc0NvbnRpbnVlKG91dHB1dElkKSB7CiAgY29uc3Qgb3V0cHV0RWxlbWVudCA9IGRvY3VtZW50LmdldEVsZW1lbnRCeUlkKG91dHB1dElkKTsKICBjb25zdCBzdGVwcyA9IG91dHB1dEVsZW1lbnQuc3RlcHM7CgogIGNvbnN0IG5leHQgPSBzdGVwcy5uZXh0KG91dHB1dEVsZW1lbnQubGFzdFByb21pc2VWYWx1ZSk7CiAgcmV0dXJuIFByb21pc2UucmVzb2x2ZShuZXh0LnZhbHVlLnByb21pc2UpLnRoZW4oKHZhbHVlKSA9PiB7CiAgICAvLyBDYWNoZSB0aGUgbGFzdCBwcm9taXNlIHZhbHVlIHRvIG1ha2UgaXQgYXZhaWxhYmxlIHRvIHRoZSBuZXh0CiAgICAvLyBzdGVwIG9mIHRoZSBnZW5lcmF0b3IuCiAgICBvdXRwdXRFbGVtZW50Lmxhc3RQcm9taXNlVmFsdWUgPSB2YWx1ZTsKICAgIHJldHVybiBuZXh0LnZhbHVlLnJlc3BvbnNlOwogIH0pOwp9CgovKioKICogR2VuZXJhdG9yIGZ1bmN0aW9uIHdoaWNoIGlzIGNhbGxlZCBiZXR3ZWVuIGVhY2ggYXN5bmMgc3RlcCBvZiB0aGUgdXBsb2FkCiAqIHByb2Nlc3MuCiAqIEBwYXJhbSB7c3RyaW5nfSBpbnB1dElkIEVsZW1lbnQgSUQgb2YgdGhlIGlucHV0IGZpbGUgcGlja2VyIGVsZW1lbnQuCiAqIEBwYXJhbSB7c3RyaW5nfSBvdXRwdXRJZCBFbGVtZW50IElEIG9mIHRoZSBvdXRwdXQgZGlzcGxheS4KICogQHJldHVybiB7IUl0ZXJhYmxlPCFPYmplY3Q+fSBJdGVyYWJsZSBvZiBuZXh0IHN0ZXBzLgogKi8KZnVuY3Rpb24qIHVwbG9hZEZpbGVzU3RlcChpbnB1dElkLCBvdXRwdXRJZCkgewogIGNvbnN0IGlucHV0RWxlbWVudCA9IGRvY3VtZW50LmdldEVsZW1lbnRCeUlkKGlucHV0SWQpOwogIGlucHV0RWxlbWVudC5kaXNhYmxlZCA9IGZhbHNlOwoKICBjb25zdCBvdXRwdXRFbGVtZW50ID0gZG9jdW1lbnQuZ2V0RWxlbWVudEJ5SWQob3V0cHV0SWQpOwogIG91dHB1dEVsZW1lbnQuaW5uZXJIVE1MID0gJyc7CgogIGNvbnN0IHBpY2tlZFByb21pc2UgPSBuZXcgUHJvbWlzZSgocmVzb2x2ZSkgPT4gewogICAgaW5wdXRFbGVtZW50LmFkZEV2ZW50TGlzdGVuZXIoJ2NoYW5nZScsIChlKSA9PiB7CiAgICAgIHJlc29sdmUoZS50YXJnZXQuZmlsZXMpOwogICAgfSk7CiAgfSk7CgogIGNvbnN0IGNhbmNlbCA9IGRvY3VtZW50LmNyZWF0ZUVsZW1lbnQoJ2J1dHRvbicpOwogIGlucHV0RWxlbWVudC5wYXJlbnRFbGVtZW50LmFwcGVuZENoaWxkKGNhbmNlbCk7CiAgY2FuY2VsLnRleHRDb250ZW50ID0gJ0NhbmNlbCB1cGxvYWQnOwogIGNvbnN0IGNhbmNlbFByb21pc2UgPSBuZXcgUHJvbWlzZSgocmVzb2x2ZSkgPT4gewogICAgY2FuY2VsLm9uY2xpY2sgPSAoKSA9PiB7CiAgICAgIHJlc29sdmUobnVsbCk7CiAgICB9OwogIH0pOwoKICAvLyBXYWl0IGZvciB0aGUgdXNlciB0byBwaWNrIHRoZSBmaWxlcy4KICBjb25zdCBmaWxlcyA9IHlpZWxkIHsKICAgIHByb21pc2U6IFByb21pc2UucmFjZShbcGlja2VkUHJvbWlzZSwgY2FuY2VsUHJvbWlzZV0pLAogICAgcmVzcG9uc2U6IHsKICAgICAgYWN0aW9uOiAnc3RhcnRpbmcnLAogICAgfQogIH07CgogIGNhbmNlbC5yZW1vdmUoKTsKCiAgLy8gRGlzYWJsZSB0aGUgaW5wdXQgZWxlbWVudCBzaW5jZSBmdXJ0aGVyIHBpY2tzIGFyZSBub3QgYWxsb3dlZC4KICBpbnB1dEVsZW1lbnQuZGlzYWJsZWQgPSB0cnVlOwoKICBpZiAoIWZpbGVzKSB7CiAgICByZXR1cm4gewogICAgICByZXNwb25zZTogewogICAgICAgIGFjdGlvbjogJ2NvbXBsZXRlJywKICAgICAgfQogICAgfTsKICB9CgogIGZvciAoY29uc3QgZmlsZSBvZiBmaWxlcykgewogICAgY29uc3QgbGkgPSBkb2N1bWVudC5jcmVhdGVFbGVtZW50KCdsaScpOwogICAgbGkuYXBwZW5kKHNwYW4oZmlsZS5uYW1lLCB7Zm9udFdlaWdodDogJ2JvbGQnfSkpOwogICAgbGkuYXBwZW5kKHNwYW4oCiAgICAgICAgYCgke2ZpbGUudHlwZSB8fCAnbi9hJ30pIC0gJHtmaWxlLnNpemV9IGJ5dGVzLCBgICsKICAgICAgICBgbGFzdCBtb2RpZmllZDogJHsKICAgICAgICAgICAgZmlsZS5sYXN0TW9kaWZpZWREYXRlID8gZmlsZS5sYXN0TW9kaWZpZWREYXRlLnRvTG9jYWxlRGF0ZVN0cmluZygpIDoKICAgICAgICAgICAgICAgICAgICAgICAgICAgICAgICAgICAgJ24vYSd9IC0gYCkpOwogICAgY29uc3QgcGVyY2VudCA9IHNwYW4oJzAlIGRvbmUnKTsKICAgIGxpLmFwcGVuZENoaWxkKHBlcmNlbnQpOwoKICAgIG91dHB1dEVsZW1lbnQuYXBwZW5kQ2hpbGQobGkpOwoKICAgIGNvbnN0IGZpbGVEYXRhUHJvbWlzZSA9IG5ldyBQcm9taXNlKChyZXNvbHZlKSA9PiB7CiAgICAgIGNvbnN0IHJlYWRlciA9IG5ldyBGaWxlUmVhZGVyKCk7CiAgICAgIHJlYWRlci5vbmxvYWQgPSAoZSkgPT4gewogICAgICAgIHJlc29sdmUoZS50YXJnZXQucmVzdWx0KTsKICAgICAgfTsKICAgICAgcmVhZGVyLnJlYWRBc0FycmF5QnVmZmVyKGZpbGUpOwogICAgfSk7CiAgICAvLyBXYWl0IGZvciB0aGUgZGF0YSB0byBiZSByZWFkeS4KICAgIGxldCBmaWxlRGF0YSA9IHlpZWxkIHsKICAgICAgcHJvbWlzZTogZmlsZURhdGFQcm9taXNlLAogICAgICByZXNwb25zZTogewogICAgICAgIGFjdGlvbjogJ2NvbnRpbnVlJywKICAgICAgfQogICAgfTsKCiAgICAvLyBVc2UgYSBjaHVua2VkIHNlbmRpbmcgdG8gYXZvaWQgbWVzc2FnZSBzaXplIGxpbWl0cy4gU2VlIGIvNjIxMTU2NjAuCiAgICBsZXQgcG9zaXRpb24gPSAwOwogICAgZG8gewogICAgICBjb25zdCBsZW5ndGggPSBNYXRoLm1pbihmaWxlRGF0YS5ieXRlTGVuZ3RoIC0gcG9zaXRpb24sIE1BWF9QQVlMT0FEX1NJWkUpOwogICAgICBjb25zdCBjaHVuayA9IG5ldyBVaW50OEFycmF5KGZpbGVEYXRhLCBwb3NpdGlvbiwgbGVuZ3RoKTsKICAgICAgcG9zaXRpb24gKz0gbGVuZ3RoOwoKICAgICAgY29uc3QgYmFzZTY0ID0gYnRvYShTdHJpbmcuZnJvbUNoYXJDb2RlLmFwcGx5KG51bGwsIGNodW5rKSk7CiAgICAgIHlpZWxkIHsKICAgICAgICByZXNwb25zZTogewogICAgICAgICAgYWN0aW9uOiAnYXBwZW5kJywKICAgICAgICAgIGZpbGU6IGZpbGUubmFtZSwKICAgICAgICAgIGRhdGE6IGJhc2U2NCwKICAgICAgICB9LAogICAgICB9OwoKICAgICAgbGV0IHBlcmNlbnREb25lID0gZmlsZURhdGEuYnl0ZUxlbmd0aCA9PT0gMCA/CiAgICAgICAgICAxMDAgOgogICAgICAgICAgTWF0aC5yb3VuZCgocG9zaXRpb24gLyBmaWxlRGF0YS5ieXRlTGVuZ3RoKSAqIDEwMCk7CiAgICAgIHBlcmNlbnQudGV4dENvbnRlbnQgPSBgJHtwZXJjZW50RG9uZX0lIGRvbmVgOwoKICAgIH0gd2hpbGUgKHBvc2l0aW9uIDwgZmlsZURhdGEuYnl0ZUxlbmd0aCk7CiAgfQoKICAvLyBBbGwgZG9uZS4KICB5aWVsZCB7CiAgICByZXNwb25zZTogewogICAgICBhY3Rpb246ICdjb21wbGV0ZScsCiAgICB9CiAgfTsKfQoKc2NvcGUuZ29vZ2xlID0gc2NvcGUuZ29vZ2xlIHx8IHt9OwpzY29wZS5nb29nbGUuY29sYWIgPSBzY29wZS5nb29nbGUuY29sYWIgfHwge307CnNjb3BlLmdvb2dsZS5jb2xhYi5fZmlsZXMgPSB7CiAgX3VwbG9hZEZpbGVzLAogIF91cGxvYWRGaWxlc0NvbnRpbnVlLAp9Owp9KShzZWxmKTsK",
              "ok": true,
              "headers": [
                [
                  "content-type",
                  "application/javascript"
                ]
              ],
              "status": 200,
              "status_text": ""
            }
          },
          "base_uri": "https://localhost:8080/",
          "height": 107
        },
        "id": "PRzTFczVUkgO",
        "outputId": "0666a929-dde6-4966-9320-a330f5752eb8"
      },
      "execution_count": null,
      "outputs": [
        {
          "output_type": "display_data",
          "data": {
            "text/html": [
              "\n",
              "     <input type=\"file\" id=\"files-cc6911c4-cfe7-4470-b3a5-11cda196738f\" name=\"files[]\" multiple disabled\n",
              "        style=\"border:none\" />\n",
              "     <output id=\"result-cc6911c4-cfe7-4470-b3a5-11cda196738f\">\n",
              "      Upload widget is only available when the cell has been executed in the\n",
              "      current browser session. Please rerun this cell to enable.\n",
              "      </output>\n",
              "      <script src=\"/nbextensions/google.colab/files.js\"></script> "
            ],
            "text/plain": [
              "<IPython.core.display.HTML object>"
            ]
          },
          "metadata": {}
        },
        {
          "output_type": "stream",
          "name": "stdout",
          "text": [
            "Saving femaleDaily-labelling.json to femaleDaily-labelling.json\n",
            "Saving sociolla-labelling.json to sociolla-labelling.json\n"
          ]
        }
      ]
    },
    {
      "cell_type": "code",
      "source": [
        "data_sociolla = pd.read_json(data_files['sociolla-labelling.json'])\n",
        "data_femaleDaily = pd.read_json(data_files['femaleDaily-labelling.json'])"
      ],
      "metadata": {
        "id": "R7VT9qcmUlNu"
      },
      "execution_count": null,
      "outputs": []
    },
    {
      "cell_type": "code",
      "source": [
        "data_sociolla = data_sociolla[['Pre #5', 'Pre Label #6', 'Pre Score #7']]\n",
        "data_femaleDaily = data_femaleDaily[['Pre #5', 'Pre Label #6', 'Pre Score #7']]"
      ],
      "metadata": {
        "id": "zrbhm91UUyZP"
      },
      "execution_count": null,
      "outputs": []
    },
    {
      "cell_type": "code",
      "source": [
        "# rename column\n",
        "data_sociolla.rename(columns = {'Pre #5':'text', 'Pre Label #6':'sentiment', 'Pre Score #7':'score'}, inplace = True)\n",
        "data_femaleDaily.rename(columns = {'Pre #5':'text', 'Pre Label #6':'sentiment', 'Pre Score #7':'score'}, inplace = True)"
      ],
      "metadata": {
        "id": "80CY9f1oVKhR"
      },
      "execution_count": null,
      "outputs": []
    },
    {
      "cell_type": "markdown",
      "source": [
        "## Replace \"TOMUCH\" manual"
      ],
      "metadata": {
        "id": "_-jBa5bxk5UM"
      }
    },
    {
      "cell_type": "code",
      "source": [
        "# replace TOMUCH manual\n",
        "data_sociolla.loc[1252,\"score\"]= 0.9973069429\n",
        "data_sociolla.loc[1252,\"sentiment\"]= \"positive\"\n",
        "data_sociolla.loc[1941,\"score\"]= 0.9973069429\n",
        "data_sociolla.loc[1941,\"sentiment\"]= \"positive\""
      ],
      "metadata": {
        "id": "gXqgMXuueaZZ"
      },
      "execution_count": null,
      "outputs": []
    },
    {
      "cell_type": "markdown",
      "source": [
        "## Preview sociolla label"
      ],
      "metadata": {
        "id": "Y8tq5MNkk990"
      }
    },
    {
      "cell_type": "code",
      "source": [
        "%matplotlib inline\n",
        "tb_count = data_sociolla['sentiment'].value_counts()\n",
        "plt.figure(figsize=(10, 8))\n",
        "plt.pie(tb_count.values, labels=tb_count.index, autopct='%.2f')\n",
        "plt.legend()"
      ],
      "metadata": {
        "colab": {
          "base_uri": "https://localhost:8080/",
          "height": 483
        },
        "id": "aVtuD9XRcVoi",
        "outputId": "993e89ba-3c23-4fe5-d30d-b1b043a4b323"
      },
      "execution_count": null,
      "outputs": [
        {
          "output_type": "execute_result",
          "data": {
            "text/plain": [
              "<matplotlib.legend.Legend at 0x7fb29ebeea90>"
            ]
          },
          "metadata": {},
          "execution_count": 39
        },
        {
          "output_type": "display_data",
          "data": {
            "image/png": "[encoded data removed]",
            "text/plain": [
              "<Figure size 720x576 with 1 Axes>"
            ]
          },
          "metadata": {}
        }
      ]
    },
    {
      "cell_type": "markdown",
      "source": [
        "## insert negative sentiment into female daily data set"
      ],
      "metadata": {
        "id": "t7o5dCWaBuDd"
      }
    },
    {
      "cell_type": "code",
      "source": [
        " data_femaleDaily.loc[-1] = ['jelek banget', 'negative', 0.388924]\n",
        " data_femaleDaily.index = data_femaleDaily.index + 1\n",
        " data_femaleDaily = data_femaleDaily.sort_index()"
      ],
      "metadata": {
        "id": "yxFsPiQpB3ln"
      },
      "execution_count": null,
      "outputs": []
    },
    {
      "cell_type": "markdown",
      "source": [
        "## Preview female daily label"
      ],
      "metadata": {
        "id": "xgaKBcQHlFst"
      }
    },
    {
      "cell_type": "code",
      "source": [
        "%matplotlib inline\n",
        "tb_count = data_femaleDaily['sentiment'].value_counts()\n",
        "plt.figure(figsize=(10, 8))\n",
        "plt.pie(tb_count.values, labels=tb_count.index, autopct='%.2f')\n",
        "plt.legend()"
      ],
      "metadata": {
        "colab": {
          "base_uri": "https://localhost:8080/",
          "height": 483
        },
        "id": "YR76ncugfsdP",
        "outputId": "5e9dfb70-c3b7-4d33-d36f-0174430a5c36"
      },
      "execution_count": null,
      "outputs": [
        {
          "output_type": "execute_result",
          "data": {
            "text/plain": [
              "<matplotlib.legend.Legend at 0x7fb29e763410>"
            ]
          },
          "metadata": {},
          "execution_count": 41
        },
        {
          "output_type": "display_data",
          "data": {
            "image/png": "[encoded data removed]",
            "text/plain": [
              "<Figure size 720x576 with 1 Axes>"
            ]
          },
          "metadata": {}
        }
      ]
    },
    {
      "cell_type": "markdown",
      "source": [
        "## Split data into train and test"
      ],
      "metadata": {
        "id": "crYrjQiqlUEM"
      }
    },
    {
      "cell_type": "code",
      "source": [
        "train, test = train_test_split(data_sociolla, test_size=0.2, random_state=1)\n",
        "sociolla_X_train = train['text'].values\n",
        "sociolla_X_test = test['text'].values\n",
        "sociolla_Y_train = train['sentiment']\n",
        "sociolla_Y_test = test['sentiment']"
      ],
      "metadata": {
        "id": "Dj0q9u1UlWrU"
      },
      "execution_count": null,
      "outputs": []
    },
    {
      "cell_type": "code",
      "source": [
        "sociolla_train = pd.DataFrame()\n",
        "sociolla_train['text'] = sociolla_X_train\n",
        "sociolla_train['sentiment'] = sociolla_Y_train\n",
        "\n",
        "sociolla_test = pd.DataFrame()\n",
        "sociolla_test['text'] = sociolla_X_test\n",
        "sociolla_test['sentiment'] = sociolla_Y_test"
      ],
      "metadata": {
        "id": "rotFvXM2t1gy"
      },
      "execution_count": null,
      "outputs": []
    },
    {
      "cell_type": "code",
      "source": [
        "train, test = train_test_split(data_femaleDaily, test_size=0.2, random_state=1)\n",
        "femaleDaily_X_train = train['text'].values\n",
        "femaleDaily_X_test = test['text'].values\n",
        "femaleDaily_Y_train = train['sentiment']\n",
        "femaleDaily_Y_test = test['sentiment']"
      ],
      "metadata": {
        "id": "8KTjFhmZuGel"
      },
      "execution_count": null,
      "outputs": []
    },
    {
      "cell_type": "code",
      "source": [
        "femaleDaily_train = pd.DataFrame()\n",
        "femaleDaily_train['text'] = femaleDaily_X_train\n",
        "femaleDaily_train['sentiment'] = femaleDaily_Y_train\n",
        "\n",
        "femaleDaily_test = pd.DataFrame()\n",
        "femaleDaily_test['text'] = femaleDaily_X_test\n",
        "femaleDaily_test['sentiment'] = femaleDaily_Y_test"
      ],
      "metadata": {
        "id": "9DeUNUhHuHXd"
      },
      "execution_count": null,
      "outputs": []
    },
    {
      "cell_type": "markdown",
      "source": [
        "## Checkpoint save train & test"
      ],
      "metadata": {
        "id": "teEF3ST-uQre"
      }
    },
    {
      "cell_type": "code",
      "source": [
        "sociolla_train.to_json(r'/content/sociolla-train.json')\n",
        "sociolla_test.to_json(r'/content/sociolla-test.json')"
      ],
      "metadata": {
        "id": "ETARR6GluYBO"
      },
      "execution_count": null,
      "outputs": []
    },
    {
      "cell_type": "code",
      "source": [
        "femaleDaily_train.to_json(r'/content/femaleDaily-train.json')\n",
        "femaleDaily_test.to_json(r'/content/femaleDaily-test.json')"
      ],
      "metadata": {
        "id": "ZkI9_bW1udJG"
      },
      "execution_count": null,
      "outputs": []
    },
    {
      "cell_type": "markdown",
      "source": [
        "## SVM analysis"
      ],
      "metadata": {
        "id": "D4Fep3_YUQWw"
      }
    },
    {
      "cell_type": "markdown",
      "source": [
        "### Sociolla"
      ],
      "metadata": {
        "id": "StfOLzZ_gNbv"
      }
    },
    {
      "cell_type": "markdown",
      "source": [
        "#### TFIDF"
      ],
      "metadata": {
        "id": "0_9B4EYQvBVl"
      }
    },
    {
      "cell_type": "code",
      "source": [
        "sociolla_TFIDF = TfidfVectorizer()"
      ],
      "metadata": {
        "id": "lK9uGLelhYCG"
      },
      "execution_count": null,
      "outputs": []
    },
    {
      "cell_type": "code",
      "source": [
        "sociolla_TFIDF.fit(data_sociolla['text'])\n",
        "sociolla_train_tfidf = sociolla_TFIDF.transform(sociolla_train['text'])\n",
        "sociolla_test_tfidf = sociolla_TFIDF.transform(sociolla_test['text'])"
      ],
      "metadata": {
        "id": "6kmDcSJyvUsd"
      },
      "execution_count": null,
      "outputs": []
    },
    {
      "cell_type": "code",
      "source": [
        "print(sociolla_TFIDF.vocabulary_)"
      ],
      "metadata": {
        "colab": {
          "base_uri": "https://localhost:8080/"
        },
        "id": "vm9XNk5hhkE_",
        "outputId": "8c390c75-9b9f-409f-d36e-941aa2a2e4d4"
      },
      "execution_count": null,
      "outputs": [
        {
          "output_type": "stream",
          "name": "stdout",
          "text": [
            "{'suka': 4682, 'banget': 457, 'sama': 4237, 'produk': 3972, 'ini': 2159, 'gampang': 1712, 'bawa': 513, 'mana': 2941, 'dan': 1188, 'juga': 2319, 'emang': 1494, 'enak': 1504, 'di': 1267, 'muka': 3183, 'cuma': 1154, 'kurang': 2646, 'agak': 125, 'susah': 4788, 'keluar': 2448, 'gitu': 1815, 'jadi': 2240, 'harus': 1969, 'apply': 329, 'beberapa': 538, 'lama': 2695, 'baru': 499, 'rasa': 4060, 'kalo': 2373, 'isi': 2215, 'aku': 172, 'pertama': 3806, 'kali': 2367, 'beli': 569, 'excited': 1542, 'bgt': 682, 'mau': 3003, 'coba': 1050, 'moga': 3144, 'cocok': 1069, 'hasil': 1972, 'bakal': 426, 'good': 1867, 'hehe': 1994, 'it': 2221, 'really': 4073, 'wajah': 5286, 'jdi': 2277, 'glowing': 1832, 'love': 2850, 'the': 5015, 'packaging': 3634, 'texture': 4998, 'tapi': 4844, 'whitecastnya': 5358, 'yaa': 5420, 'akan': 155, 'sirna': 4525, 'iring': 2209, 'waktu': 5308, 'sih': 4487, 'buat': 845, 'retouch': 4146, 'lumayan': 2876, 'ya': 5419, 'karna': 2404, 'pas': 3732, 'itu': 2229, 'salah': 4228, 'jd': 2275, 'yauda': 5452, 'ttp': 5152, 'caw': 953, 'aja': 144, 'pake': 3674, 'ampe': 253, 'abis': 74, 'sesal': 4441, 'kenapa': 2479, 'tahu': 4813, 'ada': 100, 'sunscreen': 4746, 'yang': 5445, 'bentuk': 597, 'bedak': 545, 'soal': 4595, 'punya': 4012, 'selalu': 4362, 'bikin': 715, 'tambah': 4826, 'kusam': 2652, 'bantu': 489, 'solusi': 4607, 'aplikasi': 308, 'ulang': 5207, 'bagus': 395, 'touch': 5100, 'up': 5232, 'lg': 2781, 'spfnya': 4637, 'mantul': 2964, 'dibawabawa': 1282, 'ringkes': 4182, 'bisa': 725, 'dimasukkin': 1324, 'ke': 2421, 'dalam': 1184, 'pouch': 3909, 'makeup': 2922, 'so': 4594, 'usefull': 5249, 'turut': 5178, 'gue': 1901, 'yg': 5470, 'dari': 1198, 'gak': 1693, 'lengket': 2762, 'sensitif': 4406, 'breakout': 812, 'cinta': 1020, 'nih': 3402, 'npure': 3444, 'sunscreennya': 4752, 'nggak': 3370, 'ribet': 4151, 'karena': 2399, 'dia': 1268, 'powder': 3912, 'pakai': 3667, 'kapan': 2393, 'tekstur': 4874, 'simple': 4513, 'make': 2915, 'tahan': 4812, 'hari': 1965, 'diplay': 1351, 'pencet': 3770, 'saran': 4263, 'packagingnya': 3636, 'baik': 420, 'sedikit': 4321, 'sihh': 4489, 'reapply': 4080, 'terus': 4981, 'mate': 2992, 'kecil': 2430, 'dimasukin': 1323, 'tas': 4852, 'jujurly': 2334, 'penasaran': 3768, 'lucuk': 2871, 'dateng': 1205, 'nyata': 3507, 'nya': 3480, 'karen': 2398, 'ga': 1668, 'nempel': 3263, 'ku': 2621, 'hehehehe': 2000, 'bener': 582, 'ngaruh': 3285, 'tadi': 4810, 'belang': 564, 'abnget': 77, 'siang': 4477, 'pke': 3834, 'kerudung': 2513, 'lagi': 2673, 'telah': 4894, 'rutin': 4214, 'belum': 574, 'rumah': 4205, 'ngecover': 3311, 'semua': 4386, 'restock': 4139, 'lalallaayeuyeyelallalayeyeyyeyeelalalalayeyeye': 2692, '1st': 20, 'time': 5049, 'lihat': 2804, 'review': 4147, 'orangorang': 3590, 'tarik': 4849, 'konsep': 2597, 'kalian': 2368, 'males': 2936, 'brushnya': 830, 'lembut': 2751, 'super': 4773, 'halus': 1939, 'gradakan': 1879, 'worth': 5400, 'to': 5077, 'try': 5145, 'recommended': 4099, 'langsug': 2704, 'far': 1568, 'selain': 4359, 'bahan': 412, 'alami': 200, 'milik': 3103, 'kandung': 2381, 'aman': 239, 'untuk': 5226, 'kulit': 2636, 'efek': 1455, 'lembab': 2744, 'takut': 4823, 'hmmm': 2047, 'ringan': 4169, 'nemu': 3265, 'dgn': 1265, 'travel': 5115, 'friendly': 1655, 'gin': 1807, 'tp': 5104, 'gatau': 1745, 'knp': 2577, 'tiap': 5037, 'muncul': 3202, 'bruntusan': 824, 'parah': 3718, 'hm': 2045, 'masih': 2974, 'blm': 748, 'ngaruh2': 3286, 'skrg': 4556, 'warna': 5317, 'terlalu': 4960, 'after': 120, 'application': 324, 'asa': 351, 'liat': 2793, 'happy': 1953, 'bangettt': 475, 'cuteeee': 1166, 'benerbenerrr': 588, 'ringann': 4177, 'parahhh': 3720, 'dipake': 1342, 'nyaaa': 3482, 'ringannn': 4178, 'natural': 3242, 'bangetttt': 476, 'jujur': 2333, 'fiks': 1584, 'pasti': 3739, 'order': 3592, 'sihhhh': 4492, 'jatuh': 2268, 'cintaaa': 1022, 'bs': 834, 'komen': 2593, 'banyak': 491, 'krn': 2618, 'racun': 4040, 'flash': 1615, 'bundle': 876, '12': 10, 'hrus': 2067, 'rekomennya': 4117, 'kak': 2359, 'tasya': 4854, 'sensi': 4405, 'krim': 2615, 'putih': 4026, 'cepet': 979, 'serap': 4420, 'greasy': 1887, 'berat': 606, 'nyaman': 3491, 'anehaneh': 269, 'deh': 1229, 'engga': 1515, 'wangi': 5313, 'ganggu': 1717, 'ken': 2474, 'cari': 938, 'soresore': 4623, 'kalau': 2363, 'jajan': 2249, 'sper': 4631, 'gp': 1874, 'mahal': 2898, 'sekali': 4344, 'over': 3612, 'joy': 2308, 'apa': 288, 'makenya': 2919, 'sometimes': 4614, 'kek': 2441, 'topeng': 5094, 'haha': 1922, 'at': 366, 'least': 2732, 'seperti': 4418, 'kilang': 2534, 'minyak': 3116, 'matte': 2996, 'sangat': 4254, 'mudah': 3178, 'apalagi': 296, 'tipe': 5061, 'makan': 2908, 'tempat': 4907, 'langsung': 2705, 'pasa': 3733, 'recomended': 4091, 'yaaaaa': 5423, 'kirain': 2541, 'kilap': 2535, 'tau': 4855, 'ngefek': 3316, 'atau': 368, 'enggak': 1517, 'lucu': 2868, 'efektif': 1457, 'light': 2800, 'oily': 3550, 'bkin': 730, 'jerawat': 2290, 'harga': 1960, 'jangkau': 2258, 'bangga': 483, 'sm': 4572, 'lokal': 2831, 'skr': 4554, 'life': 2799, 'changerrr': 1002, 'bener2': 583, 'tolong': 5084, 'mid': 3095, 'day': 1209, 'ganti': 1718, 'jg': 2295, 'wkakaka': 5374, 'translucent': 5112, 'gaada': 1671, 'fragrance': 1639, 'very': 5271, 'comfyy': 1087, 'walau': 5310, 'keringat': 2503, 'during': 1443, 'sukakkk': 4700, 'awal': 375, 'claimnya': 1038, 'kering': 2502, 'and': 261, 'timbul': 5048, 'reaksi': 4072, 'negatif': 3254, 'panas': 3696, 'gatal': 1744, 'no': 3417, 'white': 5347, 'cast': 949, 'soothingnya': 4620, 'cons': 1099, 'dry': 1428, 'skin': 4543, 'malah': 2933, 'jauh': 2271, 'bingung': 721, 'udah': 5196, 'trus': 5140, 're': 4071, 'gimana': 1806, 'praktis': 3939, 'nambah': 3226, 'coverage': 1117, 'asal': 352, 'kita': 2545, 'foundation': 1633, 'pudar': 4004, 'padahal': 3654, 'aplikasiinnya': 311, 'tuh': 5160, 'kerja': 2509, 'dengan': 1246, 'job': 2306, 'kasih': 2409, 'effect': 1460, 'dewy': 1263, 'lama2': 2696, 'blend': 741, 'akhir': 157, 'tidak': 5042, 'finish': 1595, 'suitable': 4681, 'akueven': 175, 'acne': 88, 'untung': 5229, 'nyajadi': 3488, 'malas': 2934, 'somehow': 4612, 'oke': 3558, 'cukup': 1152, 'sahabat': 4221, 'size': 4535, 'oke2': 3559, 'komposisi': 2595, 'but': 886, 'hopefully': 2059, 'someday': 4611, 'hybrid': 2089, 'guna': 1903, 'manfaat': 2948, 'utk': 5253, 'nyerap': 3514, 'jenis': 2288, 'compact': 1089, 'dibawa2': 1280, 'paling': 3694, 'penting': 3776, 'affordable': 118, 'terenakkkkk': 4944, 'ninggalin': 3413, 'pokok': 3870, 'definisi': 1226, 'cintak': 1028, 'kombinasi': 2590, 'tanpa': 4840, 'kusaammm': 2651, 'pokoknyaaa': 3877, 'sukaaaaaa': 4687, 'spf': 4634, 'tinggi': 5058, 'lebih': 2740, 'outdoor': 3608, 'cica': 1014, 'ok': 3556, 'sensitive': 4411, 'sudah': 4678, 'repurchase': 4133, 'kayak': 2419, 'prlu': 3961, 'suncreen': 4728, 'simpleunik': 4516, 'mager': 2894, 'skincare': 4544, 'ber': 599, 'layer': 2727, 'moisturising': 3148, 'stlh': 4672, 'toner': 5087, 'serum': 4438, 'lanjut': 2708, 'skip': 4549, 'moisturiser': 3147, 'sumuk': 4718, 'pernah': 3801, 'atas': 367, 'bawah': 516, 'set': 4447, 'baguss': 399, 'dann': 1190, 'lindung': 2813, 'sinar': 4519, 'matahari': 2984, 'waw': 5327, 'bangett': 473, 'naro': 3240, 'wishlist': 5369, 'release': 4122, 'dannnn': 1192, 'omg': 3576, 'this': 5025, 'product': 3968, 'is': 2213, 'beyond': 676, 'my': 3214, 'expectationsss': 1546, 'senang': 4392, 'iniiii': 2165, 'beat': 530, 'sun': 4719, 'benerbener': 587, 'kemanamana': 2460, 'tetep': 4996, 'bgtt': 690, 'reccomended': 4085, 'model': 3142, 'mula': 3192, 'nyobain': 3532, 'tinggal': 5056, 'putar': 4023, 'sapuin': 4261, 'seluruh': 4375, 'travelling': 5120, 'like': 2805, 'sunscreens': 4755, 'are': 342, 'easy': 1447, 'get': 1791, 'especially': 1529, 'local': 2825, 'brands': 806, 'with': 5372, 'not': 3439, 'hot': 2060, 'on': 3578, 'face': 1556, 'comfortable': 1085, 'wear': 5330, 'all': 222, 'still': 4671, 'safe': 4219, 'tentang': 4919, 'fungsi': 1665, 'kemana2': 2457, 'perlu': 3800, 'jari': 2260, 'higienis': 2028, 'cream': 1128, 'diblenddan': 1290, 'menyerapgk': 3068, 'whiitecastdan': 5345, 'melembabkankadang': 3022, 'moisturizergk': 3153, 'pilling': 3823, 'jugafinishingnya': 2326, 'yacuman': 5434, 'kok': 2583, 'hype': 2095, 'ukur': 5204, '35': 39, 'ml': 3127, 'hehhe': 2004, 'screen': 4286, 'ter': 4927, 'best': 660, 'saya': 4274, 'abuabu': 85, 'dua': 1433, 'purchase': 4017, 'barangkali': 495, 'prelov': 3947, 'hanya': 1952, 'bnyk': 774, 'only': 3584, '90k': 56, 'wa': 5279, 'me': 3010, '081515037312': 0, 'satu': 4268, 'formula': 1626, 'watery': 5326, 'based': 505, 'makanya': 2909, 'acneprone': 89, 'calming': 913, 'kenal': 2476, 'alcoholfree': 207, 'parabenfree': 3717, 'slsfree': 4569, 'fragrancefree': 1640, 'bumil': 867, 'utama': 5252, 'tube': 5159, 'sampai': 4246, 'bulan': 859, 'cuman': 1156, 'bagai': 388, 'its': 2225, 'own': 3617, 'lowkey': 2860, 'kecewa': 2429, 'timpa': 5050, 'biar': 701, 'begitu': 559, 'apakah': 295, 'turun': 5176, 'brush': 827, 'overall': 3614, 'concept': 1096, 'pakaaai': 3665, 'powdernya': 3922, 'jam': 2253, 'powdernyaaa': 3924, 'iniiiiii': 2167, 'perdana': 3785, 'texturenya': 4999, 'creamy': 1131, 'gumpal': 1902, 'mulus': 3199, 'biasa': 704, 'primer': 3959, 'sebenernya': 4304, 'saja': 4223, 'ketika': 2522, 'mulai': 3193, 'ekstra': 1484, 'sebum': 4309, 'agar': 129, 'hingga': 2040, 'tengah': 4917, 'andal': 264, 'base': 504, '50': 44, 'case': 945, 'kucel': 2630, 'thankyou': 5009, 'coba2': 1051, 'beauty': 534, 'influencer': 2142, 'udh': 5199, 'sempet': 4382, 'bau': 509, 'daily': 1181, 'use': 5247, 'definitely': 1227, 'buy': 893, 'packing': 3647, 'ny': 3479, 'elegantt': 1490, 'gpg': 1875, 'bw': 896, 'kmana2': 2565, 'ad': 99, 'gausa': 1751, 'tkut': 5073, 'kluar': 2561, 'papar': 3713, 'rekomend': 4111, 'crii': 1138, 'reaply': 4077, 'sunscreenpraktis': 4754, 'manadan': 2945, 'diaplikasiin': 1273, 'walaupun': 5311, 'aga': 122, 'ko': 2578, 'teksure': 4886, 'resap': 4136, 'indonesia': 2137, 'hampir': 1947, 'mirip': 3121, 'kaya': 2416, 'sunscreem': 4745, 'gemoy': 1775, 'jugabga': 2323, 'tap': 4842, 'taro': 4850, 'tasdompet': 4853, 'must': 3210, 'matter': 3001, 'what': 5341, 'gada': 1683, 'arti': 349, 'choose': 1011, 'pure': 4018, 'because': 539, 'auto': 372, 'dong': 1403, 'tentu': 4920, 'betul': 670, 'nyari': 3504, 'loose': 2844, 'segi': 4328, 'unik': 5217, 'repurchased': 4134, 'keren': 2498, 'staple': 4660, 'mobilitas': 3140, 'balik': 435, 'kyk': 2663, 'pandemi': 3705, 'ngerusak': 3360, 'pat': 3745, 'excess': 1541, 'oil': 3548, 'swipe': 4796, 'there': 5018, 'go': 1856, 'fresh': 1651, 'as': 350, 'new': 3277, 'favorite': 1572, 'glow': 1830, 'whitecast': 5356, 'luuvv': 2883, 'diskon': 1371, 'mungkin': 3205, 'huhu': 2079, 'sedih': 4320, 'inovatif': 2197, 'hemat': 2007, 'jalan': 2251, 'panjang': 3707, 'keringdulu': 2505, 'si': 4476, 'kies': 2533, 'mirip2': 3122, 'sama2': 4238, 'melembabkan': 3021, 'beda': 541, 'murce': 3207, 'banding': 439, 'dulu': 1437, 'kan': 2380, 'lanjur': 2707, 'makeupnya': 2925, 'beranta': 603, 'kamu': 2379, 'even': 1536, 'full': 1661, 'npureofficial': 3456, 'nama': 3224, '30': 32, 'pa': 3623, 'gais': 1691, 'beri': 618, 'protection': 3993, 'uvauvb': 5258, 'pun': 4010, 'bpom': 799, 'halal': 1931, 'dermatologically': 1253, 'tested': 4990, 'mineral': 3107, 'oilfree': 3549, 'eu': 1534, 'allergenfree': 224, 'minimal': 3111, 'ingredients': 2153, 'free': 1644, 'nonnano': 3431, 'beatthesun': 531, 'naturaldailyprotection': 3245, 'secondshield': 4315, 'tbh': 4859, 'lah': 2684, 'bilang': 717, 'cair': 905, 'kentel': 2485, 'rada': 4042, 'diratainnya': 1358, 'looknya': 2840, 'gt': 1893, 'hidung': 2021, 'bibir': 711, 'pipi': 3830, 'jidat': 2300, 'hubung': 2075, 'masalah': 2973, 'feelnya': 1580, 'sampe': 4247, 'habis': 1917, 'rata': 4063, 'sret': 4651, 'licin': 2796, 'bukan': 857, 'deskripsiinnya': 1260, 'ngesret': 3366, 'ikut': 2115, 'gasuka': 1741, 'aduhh': 114, 'tanya': 4841, 'kadang': 2348, 'gmn': 1850, 'emg': 1499, 'jgn': 2299, 'tiru': 5068, 'hal': 1930, 'normal': 3435, 'sreg': 4650, 'neko': 3260, 'napa': 3239, 'maybe': 3009, 'hhehehehe': 2015, 'temu': 4912, 'diblendnya': 1291, 'taptap': 4847, 'ngilngin': 3375, 'kit': 2544, 'sedang': 4318, 'bagusssss': 404, 'recomendeddd': 4092, 'dikulitkuuu': 1318, 'terjangkaau': 4956, 'noworrieskit': 3442, 'belanja': 567, 'sociolla': 4599, 'promooonyaaaaaaa': 3987, 'pergi': 3790, 'luar': 2863, 'ruang': 4199, 'ngelindungi': 3332, 'recommend': 4098, 'sering': 4427, 'dapet': 1195, 'gaakan': 1672, 'nah': 3219, 'kemarin': 2464, 'expect': 1544, 'awet': 378, 'alhamdulillah': 214, 'second': 4313, 'packaginya': 3641, 'kokoh': 2586, 'minggu': 3108, 'mengunakan': 3056, 'handy': 1949, 'bleberan': 739, 'tumpah': 5168, 'klo': 2559, 'ngeluarin': 3334, 'cari2': 939, 'gamau': 1705, 'alcoholnya': 209, 'orang2': 3589, 'antara': 276, 'fs': 1659, 'mikir2': 3100, 'pilih': 3820, 'iniii': 2164, 'nyerapnya': 3515, 'sehat': 4338, 'terusss': 4983, 'ribetkalo': 4154, 'fondationnya': 1623, 'aplikatornyakalo': 315, 'niat': 3399, 'ditaptap': 1375, 'keras': 2493, 'byk': 901, 'xixixi': 5417, 'membantuu': 3030, 'ngeset': 3362, 'jugaa': 2320, 'neng': 3270, 'nemuin': 3267, 'makeu': 2921, 'nolong': 3419, 'apply2': 330, 'much': 3175, 'boros': 793, 'beliin': 572, 'kado': 2351, 'temen': 4903, 'kata': 2410, 'bngt': 763, 'nyerep': 3516, 'cerah': 985, 'okay': 3557, 'sayang': 4275, 'atur': 370, 'pada': 3653, 'saat': 4216, 'iseng': 2214, 'hahaha': 1924, 'tapiiiii': 4846, 'dicobain': 1300, 'wah': 5283, 'gila': 1796, 'versi': 5269, 'manamana': 2946, 'rajin': 4049, 'cobain': 1058, 'oles': 3570, 'kuas': 2624, 'cling': 1044, 'tebel': 4867, 'moisturizer': 3152, 'ngga': 3369, 'aman2': 240, 'bersih': 647, 'bring': 819, 'amat': 243, 'usah': 5242, 'repot': 4129, 'lgi': 2783, 'touchup': 5101, 'for': 1624, 'upa': 5233, 'ginibuat': 1809, 'terluv': 4964, 'cintaa': 1021, 'tawar': 4858, 'kental': 2484, 'lalu': 2694, 'diamatin': 1272, 'keijoan': 2439, 'dibiarin': 1285, 'oilynya': 3553, 'dipakein': 1345, 'masker': 2977, 'engep': 1514, 'sumbat': 4708, 'poripori': 3902, 'knapa': 2575, 'tdak': 4860, 'bubuk': 849, 'cara': 935, 'benar': 578, 'efisien': 1467, 'hehehehehehheheheh': 2001, 'prone': 3988, 'instagram': 2199, 'tiktok': 5046, 'travle': 5121, 'ditambel': 1374, 'powderbedak': 3913, 'gagitu': 1689, 'gabikin': 1677, 'berminyakk': 640, 'favoritekuu': 1574, 'kemas': 2466, 'takuk': 4822, 'finishing': 1596, 'aplly': 317, 'highly': 2025, 'syukaa': 4798, 'kesan': 2517, 'diblend': 1289, 'kena': 2475, 'semenjak': 4379, 'khawatir': 2530, 'aktivitas': 171, 'jaga': 2245, 'dikiraiin': 1312, 'orang': 3588, 'bohong': 781, 'sunscreenn': 4750, 'baguuus': 409, 'help': 2005, 'butek': 887, 'ngertikan': 3358, 'instruksi': 2202, 'powdenya': 3911, 'pakenya': 3685, 'ubah': 5189, 'google': 1869, 'ngerti': 3357, 'lgsng': 2788, 'kepo': 2489, 'giniii': 1812, 'nge': 3294, 'cover': 1116, 'yah': 5435, 'nyaa': 3481, 'gemes': 1765, 'finally': 1587, 'launching': 2722, 'nanti': 3237, 'bayar': 519, 'canggih': 923, 'tersimple': 4977, 'dempul': 1239, 'gituh': 1816, 'tone': 5085, 'wajib': 5300, 'cepat': 974, 'tetap': 4994, 'bye': 900, 'berpackaging': 644, 'simpel': 4511, 'sam': 4236, 'uv': 5256, 'mikir': 3099, 'kondisi': 2596, 'polusi': 3894, 'dll': 1383, 'soft': 4603, 'plus': 3850, 'geeser': 1757, 'tuhh': 5162, 'aplikatornya': 314, 'mleber': 3128, 'look': 2838, 'moist': 3145, 'uda': 5194, 'denga': 1243, 'rule': 4204, 'of': 3542, 'thumb': 5034, 'sebentar': 4305, 'hiksss': 2036, 'tabur': 4805, 'supaya': 4770, 'adalah': 103, 'sulit': 4707, 'tempatnyaaa': 4909, 'bangget': 484, 'maksimal': 2930, 'berlebihmeminimalkan': 631, 'tampil': 4828, 'pori': 3900, 'rias': 4150, 'sekaligus': 4345, 'thankkyu': 5006, 'cantik': 927, 'prodct': 3966, 'bahkan': 418, 'masuk': 2980, 'kantong': 2389, 'muat': 3173, 'setting': 4454, 'kl': 2550, 'agak2': 126, 'basah': 503, 'glowy': 1844, 'tipis2': 5065, 'nahan': 3220, 'transfer': 5109, 'luv': 2884, 'makin': 2927, 'lebay': 2735, 'kesel': 2518, 'point': 3866, 'yap': 5449, 'bersiin': 649, 'sekitar': 4355, 'cuci': 1148, 'an': 258, 'cepetcepet': 980, 'hapus': 1956, 'rekomendasiin': 4113, 'sure': 4782, 'jadiin': 2241, 'main': 2903, 'khusus': 2531, 'ajjjja': 153, 'saking': 4224, 'suncren': 4731, 'repeat': 4127, 'sekian': 4354, 'glowingnya': 1839, 'harap': 1959, 'ngebantu': 3297, 'bangeet': 453, 'fix': 1611, 'efficient': 1464, 'thank': 5005, 'segitu': 4330, 'mantep': 2962, 'bangeett': 454, 'preloved': 3948, 'kakak': 2360, 'pd': 3750, 'kepake': 2488, 'mending': 3043, 'euuyy': 1535, '80k': 55, 'mahal2': 2899, 'chat': 1004, 'shopee': 4475, 'frieskawiyana': 1656, 'yaaaa': 5422, 'poko': 3869, 'se': 4294, 'barang': 494, 'datengggggg': 1206, 'akutu': 187, 'lupa': 2880, 'aplikasiin': 310, 'gemess': 1770, 'riviewnya': 4189, '10': 1, 'first': 1607, 'asli': 359, 'dpt': 1423, 'kece': 2428, 'enteng': 1523, 'sunblock': 4722, 'pdhl': 3751, 'loh': 2827, 'trs': 5138, 'semu': 4385, 'lewat': 2779, 'cute': 1164, 'has': 1970, 'looks': 2841, 'doesnt': 1397, 'spill': 4640, 'easily': 1446, 'or': 3587, 'be': 528, 'afraid': 119, 'fall': 1562, 'off': 3544, 'carry': 943, 'anywhere': 287, 'that': 5014, 'pureee': 4020, 'loveeee': 2854, 'you': 5474, 'have': 1983, 'puree': 4019, 'ilangin': 2117, 'multifungsi': 3196, 'final': 1586, 'blush': 753, 'effortless': 1466, 'beneran': 584, 'holy': 2053, 'grail': 1880, 'aplgi': 305, 'powfer': 3935, 'nyoba': 3529, 'sukaaa': 4684, 'dr': 1424, 'bngtttt': 767, 'brand': 805, 'out': 3607, 'put': 4022, 'pipe': 3828, 'type': 5185, 'kontrol': 2601, 'dikeluarin': 1311, 'hijau': 2035, 'tua': 5154, 'khas': 2528, 'slim': 4562, 'serta': 4435, 'tutup': 5179, 'ulir': 5208, 'safety': 4220, 'sendiri': 4393, 'teksture': 4875, 'blendable': 742, 'ngasih': 3289, 'lembap': 2749, 'gendut': 1776, 'nyaman2': 3492, 'apa2': 289, 'meski': 3082, 'applying': 332, 'sesuatu': 4445, 'powdery': 3932, 'double': 1418, 'oh': 3547, 'lho': 2790, 'bonus': 787, 'healthy': 1986, 'nonya': 3433, 'busui': 883, 'murah': 3206, 'pula': 4006, 'karenatipe': 2402, 'pakek': 3681, 'samar': 4240, 'chemical': 1008, 'kusem': 2657, 'ngefilter': 3317, '9798': 58, 'elegant': 1489, 'mewah': 3091, 'siiih': 4498, 'npureee': 3450, 'in': 2129, '35ml': 40, 'gtu': 1897, 'nanggung': 3233, 'alcohol': 206, 'jika': 2301, 'maka': 2907, 'ridak': 4160, 'paksa': 3690, 'tuangin': 5156, 'bedaknyan': 549, 'telapak': 4895, 'tangan': 4834, 'baur': 511, 'gel': 1759, 'berulang2': 653, 'feelsnya': 1582, 'nampol': 3229, 'emng': 1500, 'moisturizing': 3156, 'finishingnya': 1597, 'falling': 1564, 'eye': 1554, 'catching': 952, 'design': 1259, 'clean': 1040, 'ramping': 4053, 'finishnya': 1599, 'hours': 2061, 'ngeblendnya': 3302, 'duh': 1434, 'butuh': 889, 'moisturaizer': 3146, 'setia': 4450, 'sedia': 4319, 'luvv': 2885, 'sll': 4565, 'rangkai': 4056, 'air': 142, 'nyerepnya': 3517, 'sangat2': 4255, 'ngelembapinn': 3329, 'akuu': 189, 'next': 3278, 'bgtttt': 694, 'lotion': 2847, 'too': 5091, 'speechless': 4630, 'peeling': 3755, 'essential': 1530, 'pori2': 3901, 'nimbulin': 3411, 'seharihari': 4337, 'pantai': 3708, 'bukti': 858, 'bakar': 430, 'gosong': 1872, 'wkwkwk': 5379, 'dah': 1178, 'kirim': 2543, 'bubble': 848, 'wrap': 5412, 'nunggu': 3471, 'online': 3583, 'lubang': 2866, 'nanya': 3238, 'admin': 112, 'spray': 4645, 'bersihin': 648, 'hmm': 2046, 'bucin': 850, 'ss': 4655, 'ni': 3397, 'rekomendasi': 4112, 'poles': 3889, 'cash': 947, 'crack': 1126, 'tunggu': 5172, 'pricey': 3956, 'gpp': 1876, 'modal': 3141, 'zaman': 5491, 'yekaan': 5465, 'yaitu': 5438, 'plant': 3840, 'extract': 1553, 'breathable': 813, 'worry': 5398, 'bulu': 864, 'hindar': 2039, 'favorit': 1571, 'amaze': 245, 'juara': 2316, 'diaplikasiinnya': 1274, 'garekomen': 1733, 'dijadiin': 1309, 'protect': 3991, 'glowinggggggg': 1838, 'cuy': 1167, 'gemesh': 1766, 'bgttt': 693, 'dosis': 1417, 'lenget': 2757, 'seger': 4327, 'daya': 1210, 'ratain': 4065, 'rekomended': 4114, 'sunscreenpowder': 4753, 'nyariselain': 3506, 'packagingny': 3635, 'kemana2finishing': 2458, 'geser': 1789, '2021': 23, 'calm': 911, 'proteksi': 3997, 'sore': 4622, 'drama': 1425, 'perih': 3794, 'area': 343, 'mata': 2983, 'sodaranya': 4601, 'mucchh': 3174, 'betul2': 671, 'likey': 2806, 'manfaatnyajujur': 2949, 'adem': 109, 'nyesel': 3522, 'gede': 1754, 'yakin': 5442, 'wahhh': 5285, 'amazing': 247, 'bnget': 759, 'makinn': 2928, 'jga': 2296, 'nyamain': 3490, 'sma': 4573, 'weell': 5332, 'terimakasih': 4952, 'pernh': 3803, 'step': 4665, 'skincarean': 4545, 'mesti': 3084, 'ditingkatin': 1376, 'ringkih': 4183, 'buka': 856, 'wort': 5399, 'garagara': 1732, 'sekarang': 4353, 'sukaa': 4683, 'yipii': 5471, 'mika': 3098, 'dengam': 1245, 'non': 3421, 'alkohol': 219, 'bebas': 537, 'plisssss': 3849, 'duper': 1442, 'mukakuu': 3188, 'bawabawa': 514, 'suuuperrr': 4795, 'hrs': 2065, 'goyang': 1873, 'kenceng': 2482, 'tebar': 4866, 'dikit': 1313, 'great': 1888, 'innovation': 2194, 'tebel2': 4868, 'works': 5394, 'well': 5336, 'smoga': 4582, 'azarine': 381, 'alih': 218, 'god': 1857, 'negative': 3255, 'hihi': 2029, 'inovasi': 2195, 'ngurangin': 3395, 'sebucin': 4308, 'sihhhhh': 4493, 'guys': 1912, 'huhuhu': 2080, 'gapernah': 1728, 'toktok': 5083, 'sale': 4230, 'boomm': 790, 'candu': 922, 'move': 3167, 'loreal': 2845, 'aroma': 346, 'menggangguu': 3053, 'dibutuhin': 1294, 'para': 3715, 'wanita': 5314, 'weightless': 5335, 'itself': 2226, 'seneeeng': 4396, 'kyknya': 2664, 'minus': 3115, 'gabisa': 1679, 'rumahingredients': 4208, 'orderkarna': 3594, 'repurches': 4135, 'surprisingly': 4783, 'tib': 5039, 'xxxxx': 5418, 'dipakenya': 1348, 'yaaa': 5421, 'promo': 3986, 'heheheeh': 1999, 'recomend': 4090, 'mnurut': 3139, 'skli': 4550, 'alcholol': 205, 'cobainn': 1062, 'ragu': 4046, 'klau': 2553, 'buruw': 882, 'praktisss': 3942, 'gampil': 1713, 'tuw': 5182, 'nyebelin': 3510, 'dekil': 1235, 'just': 2339, 'memang': 3028, 'rata2': 4064, 'savior': 4271, 'item': 2223, 'menolonggg': 3061, 'makeupan': 2923, 'jatohnyaa': 2267, 'cobaa': 1052, 'smart': 4576, 'sunscree': 4743, 'dri': 1426, 'nivea': 3414, 'biru': 724, 'maki': 2926, 'ngatasi': 3290, 'tpi': 5105, 'daerah': 1176, 'hdung': 1985, 'kemodoku': 2472, 'nonjol': 3429, 'idont': 2101, 'uwow': 5263, 'jak': 2250, 'smpe': 4585, 'melembab': 3020, 'appreciate': 333, '60mlnya': 53, 'pliket': 3844, 'gausah': 1752, 'general': 1778, 'giat': 1795, 'efektifitasnya': 1458, '23jam': 25, 'sesuai': 4444, 'dioutdor': 1337, '58': 49, 'jawab': 2272, 'akukalian': 177, 'ngerubah': 3359, 'justru': 2340, 'karea': 2397, 'teksturenya': 4878, 'foundie': 1635, 'cakep': 908, 'sumpah': 4713, 'kenyel': 2487, 'diwjhku': 1380, 'puas': 4003, 'beginianbisa': 558, 'usap': 5243, 'beres': 614, 'biasarepurchase': 709, 'doonng': 1413, 'diratain': 1356, 'kombi': 2589, 'glowynya': 1845, 'standar': 4659, 'ccok': 956, 'klian': 2554, 'wrna': 5413, 'msih': 3169, 'rekom': 4105, 'terthebestttt': 4980, 'whitecase': 5351, 'abu': 82, 'gituu': 1821, 'enggaa': 1516, 'sumpaahhh': 4712, 'whitecasenyaaa': 5354, 'sekaliiii': 4347, 'terfavorite': 4946, 'luuuvvv': 2882, 'glossy': 1828, 'rekomenin': 4116, 'launch': 2721, 'gamales': 1703, 'pakein': 3680, 'beuh': 672, 'pkonya': 3838, 'bermakeup': 634, 'berminyakjadi': 639, 'harirecommended': 1967, 'direapply': 1361, 'btw': 838, 'kaget': 2355, 'fixx': 1612, 'stay': 4663, 'flawless': 1616, 'mulifungsi': 3194, 'bagusssuka': 405, 'jugaaa': 2321, 'tebal': 4864, 'nyampee': 3497, 'benerpowder': 591, 'kliatan': 2556, 'xixi': 5416, 'ngeblend': 3301, 'putihputih': 4030, 'tonenya': 5086, 'bagussss': 401, 'pernahh': 3802, 'sil': 4504, 'guyss': 1913, 'superrr': 4777, 'poll': 3891, 'bestttttttt': 664, 'aw': 374, 'mageran': 2895, 'ngeapply': 3296, 'thnk': 5027, 'kyak': 2662, 'umum': 5213, 'abu2': 83, 'rontok': 4192, 'lengkett': 2771, 'truss': 5141, 'lovee': 2852, 'was': 5320, 'level': 2778, 'include': 2131, 'bangeeeet': 449, 'ngeblur': 3304, 'mini': 3109, 'slingbag': 4564, 'akuuu': 191, 'berminyaak': 638, 'smaa': 4574, 'okee': 3560, 'harganyaa': 1963, 'jgg': 2297, 'superr': 4776, 'ke5': 2423, 'komedo': 2591, 'pribadi': 3953, 'merah2': 3071, 'bekas': 562, 'sekalipun': 4349, 'sini': 4524, 'ksih': 2620, 'solusinyaa': 4608, 'sticky': 4669, 'skali': 4539, 'game': 1708, 'changer': 1001, 'keringetan': 2507, 'keringet': 2506, 'berebih': 612, 'gatel': 1748, 'entah': 1522, 'jarang': 2259, 'blen': 740, 'sekalisudah': 4350, 'bu': 839, 'sui': 4680, 'berbahayaudah': 610, 'lohh': 2828, 'ceamy': 957, 'cenderung': 967, 'frangrance': 1642, 'complexion': 1094, 'bnrbnr': 772, 'gapapa': 1725, 'demen': 1236, 'wkwkw': 5378, 'girls': 1813, 'cuaca': 1145, 'indo': 2136, 'beruntus': 654, 'fungal': 1664, 'sengaja': 4401, 'ngucek': 3393, 'mungil': 3204, 'meretouch': 3079, 'choice': 1010, 'jangan': 2256, 'digunain': 1308, 'nenangin': 3269, 'residu': 4138, 'pokonyaaa': 3886, 'ngresap': 3388, 'ngedempul': 3313, 'rusak': 4213, '2jam': 27, 'gaperlu': 1726, 'repot2': 4130, 'kebel': 2425, 'dryabis': 1429, 'ngebaur': 3298, 'tumpu': 5170, 'krem': 2612, 'lain': 2687, 'ngerata': 3344, 'sat': 4265, 'aj': 143, 'krna': 2619, 'cegah': 959, 'dini': 1333, 'pagi': 3661, 'kerut': 2514, 'jerawatann': 2292, 'wonder': 5389, 'how': 2062, 'apaapa': 291, 'beforeafternya': 556, 'combo': 1081, 'paduin': 3660, 'impressed': 2121, 'makasih': 2911, 'puol': 4015, 'ciptain': 1031, 'worried': 5396, 'kenapanapa': 2481, 'ingat': 2146, 'korea': 2602, 'same': 4245, 'different': 1306, 'one': 3580, 'enthusiast': 1524, 'dimana2': 1322, 'bin': 719, 'bkn': 733, 'gerah': 1784, 'aaa': 59, 'dasar': 1203, 'luvvvv': 2887, 'baguus': 407, 'kawatir': 2415, 'gemesin': 1768, 'astaga': 365, 'bget': 678, 'uji': 5202, 'dermatolog': 1252, 'sls': 4568, 'paraben': 3716, 'alergen': 210, 'ue': 5200, '30nya': 35, 'powderny': 3921, 'terik': 4948, 'merah': 3070, 'meng': 3046, 'ajabisa': 148, 'butir': 888, 'alus': 232, 'ky': 2660, 'nyatu': 3509, 'kurangsoalnya': 2648, 'jdnky': 2279, 'hambur': 1945, 'hrsnya': 2066, 'bagi': 390, 'keluar2': 2449, 'soalnyahehehe': 4598, 'ih': 2106, 'wkwk': 5377, 'teskturnya': 4988, 'fav': 1570, 'siapa': 4481, 'serius': 4433, 'ganyangka': 1721, 'huaaa': 2070, 'hihiii': 2032, 'paham': 3662, 'filter': 1585, 'agent': 130, 'memprotect': 3038, '100': 2, 'centella': 972, 'asiatica': 355, 'leaf': 2731, 'water': 5321, 'dapat': 1194, 'tenang': 4916, 'chrysanthemum': 1013, 'chamomilla': 999, 'camellia': 916, 'sinensis': 4520, 'antioksidan': 282, 'antiinflammatory': 281, 'hidrasi': 2020, 'from': 1657, 'silicone': 4509, 'allergen': 223, 'laa': 2666, 'goodd': 1868, 'kita2': 2546, 'terbaikkk': 4937, 'kualitas': 2622, 'tekturnyaaa': 4891, 'jerawatanbruntusan': 2291, 'iritasi': 2211, 'bund': 872, 'produkny': 3978, 'ig': 2104, 'emamg': 1493, 'ngelindungin': 3333, 'bolong': 785, 'efect': 1454, 'sunscream': 4741, 'transparant': 5114, 'bade': 387, 'ngeresapnya': 3352, 'namun': 3231, 'tips': 5066, 'padu': 3659, '14': 12, 'kliataan': 2555, 'stelah': 4664, 'kaaann': 2344, 'fyp': 1667, 'eh': 1468, 'aaaa': 60, 'lovers': 2857, 'oya': 3622, 'kemarin2': 2465, 'ngadain': 3281, 'gratis': 1883, 'milih': 3102, '15x': 18, 'wadah': 5282, 'ujung': 5203, 'runcing': 4210, 'nuang': 3464, 'samar2': 4241, 'diakalin': 1271, 'berspf': 651, 'ospi': 3604, 'zuzur': 5492, 'nerima': 3273, 'nyamantekstur': 3495, 'plastik': 3841, 'kaca': 2347, 'bening': 594, 'sukakk': 4699, 'pelembab': 3761, 'yes': 5466, 'ngomongin': 3383, 'home': 2055, 'looksnya': 2842, 'mas': 2971, 'ukuranny': 5205, 'cakey': 910, 'prefer': 3946, 'activities': 97, 'would': 5404, 'tho': 5028, 'daripada': 1201, 'pakeknya': 3682, 'imut': 2128, 'doang': 1393, 'sukamakasih': 4702, 'pikir': 3818, 'nyiptain': 3526, '12an': 11, 'yeayyy': 5460, 'ilang': 2116, 'reaplynya': 4078, 'wudhu': 5414, 'wow': 5405, 'abiez': 72, 'bun': 871, 'terkahir': 4959, 'sunscreendan': 4748, 'sunacreen': 4720, 'hrganya': 2064, 'lamaaaawet': 2697, 'mah': 2897, 'sukakkkkkk': 4701, 'ngeresap': 3351, 'drpd': 1427, 'shadenya': 4461, 'nilai': 3409, 'plushya': 3851, 'jarihasil': 2261, 'hits': 2044, 'minyakminyak': 3120, 'ngrusak': 3390, 'inikarna': 2174, 'trmasuk': 5133, 'sunscreentapi': 4756, 'megarab': 3017, 'lgidan': 2784, 'bngtfinishnya': 764, 'trllu': 5131, 'nutupin': 3477, 'kemasanannya': 2468, 'alias': 217, 'rekomenbgt': 4110, 'skg': 4542, 'siih': 4495, 'dunia': 1440, 'perskincarean': 3805, 'lhooo': 2792, 'cuss': 1161, 'dicobaa': 1299, 'terringaannn': 4974, 'rekomen': 4108, '3x': 41, 'seriously': 4431, 'traveling': 5117, 'aplikator': 313, 'menurutkuu': 3065, 'im': 2120, 'bcs': 526, 'result': 4141, 'gakeliatan': 1694, 'samsek': 4251, 'pricy': 3957, 'ittt': 2228, 'kog': 2581, 'medium': 3013, 'gores': 1871, 'klw': 2563, 'single': 4523, 'dlu': 1385, 'maksimalin': 2931, 'lebh': 2737, 'budget': 852, 'absen': 79, 'berkat': 628, 'dama': 1186, 'paraktis': 3722, 'kilau': 2537, 'pacakgingnya': 3628, 'kuat': 2627, 'jatoh': 2265, 'ngegeser': 3319, 'debest': 1216, 'jugaaaa': 2322, 'ud': 5193, 'kmn2': 2569, 'lepek': 2776, 'terdebest': 4943, 'sd': 4289, 'teruuussssss': 4985, 'nyatidak': 3508, 'tabung': 4804, 'emerald': 1498, 'sehingga': 4339, 'sambung': 4244, 'diri': 1364, 'titanium': 5071, 'dioxide': 1338, 'ethylhexyl': 1532, 'salicylate': 4232, 'methoxycinnamate': 3086, 'rice': 4159, 'bran': 804, 'vitamin': 5275, 'agam': 128, 'manfaaf': 2947, 'hadap': 1919, 'buruk': 881, 'tangkal': 4837, 'uva': 5257, 'maupun': 3004, 'uvb': 5260, 'potensi': 3907, 'rusa': 4212, 'sunburn': 4725, 'mataharini': 2987, 'nutrisi': 3474, 'sifat': 4485, 'noncomedogenic': 3425, 'mengset': 3055, 'hidup': 2022, 'heheh': 1996, 'ituu': 2232, 'powdernyaa': 3923, 'pokonyaa': 3885, 'formulasi': 1628, 'sika': 4501, 'sentel': 4414, 'asia': 354, 'tika': 5045, 'matahri': 2989, 'lipstik': 2816, 'genggam': 1779, 'paka': 3664, 'muas': 3172, 'bahaya': 417, 'pawder': 3748, 'lengkap': 2758, 'matahridari': 2990, 'milky': 3104, 'trnyata': 5134, '50pa': 46, 'repotrepot': 4131, 'samasekali': 4242, 'cipta': 1030, 'magic': 2896, 'luvvv': 2886, 'sii': 4494, 'sesak': 4440, 'cpt': 1125, 'diapply': 1277, 'panaspanasan': 3702, 'sunscrene': 4760, 'thanks': 5007, 'imprestion': 2125, 'effort': 1465, 'ekspektasi': 1480, 'ganyesel': 1722, 'nyangka': 3499, 'retoch': 4145, 'gara': 1730, 'larang': 2714, 'bahagia': 411, 'selainnitu': 4361, 'nwhitecast': 3478, 'takar': 4818, 'heboh': 1991, 'another': 275, 'by': 898, 'sakuin': 4227, 'silau': 4506, 'supple': 4779, 'eksplorasi': 1483, 'biasaaa': 705, 'npuree': 3449, 'tempel': 4910, 'kmn': 2568, 'mna': 3134, 'komedoan': 2592, 'luntur': 2878, 'praktiss': 3941, 'shade': 4460, 'gituuu': 1823, 'why': 5364, 'kenyal': 2486, 'deeeh': 1222, 'instant': 2201, 'almost': 226, '2months': 29, 'disoco': 1373, 'stock': 4673, 'poweder': 3933, 'ever': 1538, 'apalg': 298, 'normaloily': 3438, 'brg': 814, 'cepattt': 976, 'minyakkk': 3119, 'makasihhh': 2913, 'luvvvvv': 2888, 'karene': 2403, 'kocok': 2579, 'wudlu': 5415, 'lengketga': 2767, 'cas': 944, 'travell': 5119, 'besar': 658, 'buang': 843, 'ngereapply': 3349, 'alternatif': 231, 'biasaaaa': 706, 'andai': 263, 'sizenya': 4536, 'dech': 1220, 'walapun': 5309, 'ijo': 2111, 'qta': 4034, 'bbrapa': 522, 'recomendnin': 4094, 'atica': 369, 'kasar': 2407, 'selamat': 4363, 'dehh': 1230, 'teeurama': 4870, 'klaim': 2551, 'sekaluan': 4352, 'nonton': 3432, 'terapply': 4932, 'kirakira': 2542, 'ngerasa': 3342, 'wahh': 5284, 'bangeeet': 450, 'holygrail': 2054, 'radikal': 4045, 'dimataa': 1325, 'berkali2': 626, 'merek': 3073, 'teruss': 4982, 'bangen': 456, 'cakepp': 909, 'stok': 4674, 'kalah': 2361, 'dariii': 1199, 'louching': 2848, 'perihpokonya': 3796, 'ketemu': 2521, 'kitatampak': 2549, 'cerahapa': 986, 'panya': 3710, 'spfnyateksturnya': 4639, 'lengketselama': 2770, 'brani': 807, 'beraktifitas': 600, 'rmh': 4190, 'rubah': 4201, 'ampuh': 255, 'mampu': 2940, 'alam': 199, 'sukaaaa': 4685, 'inti': 2205, 'satusatunya': 4269, 'berporipori': 646, 'bareng': 497, 'cocokkkkk': 1075, 'aaaaaaaaaaaaaaaaaaaaaaaaaaammmmmmmmmmmmmmmiiiiiiiiiiiiiiinnnnnnnnnnnnnnnnnnnnnnnnnnnnnnnnnnnnnnnnnnnnnnnnnnnnnnnnnnnnnnnnnn': 63, 'shades': 4462, 'cucok': 1149, 'smooth': 4583, '100k': 6, 'bagus2': 396, 'bom': 786, 'botol': 796, 'think': 5024, 'cb': 954, 'laen': 2670, 'dl': 1381, 'replay': 4128, 'dar': 1197, 'bland': 734, 'asliii': 360, 'crease': 1133, 'exited': 1543, 'sunsreen': 4768, 'versiii': 5270, 'simpleee': 4514, 'sukanyaa': 4703, 'lgii': 2785, 'brushnyaaa': 831, 'yuhu': 5483, 'kemanapunnn': 2462, 'mantap': 2957, 'anti': 278, 'pingin': 3826, 'partikel': 3731, 'kuning': 2645, 'langsat': 2702, 'kara': 2395, 'discount': 1368, 'ketok2': 2524, 'screennya': 4287, 'sunscreenya': 4757, 'bakalım': 429, 'kokk': 2584, 'selamjutnya': 4364, 'sunscreeennn': 4744, 'pertamaa': 3807, 'tenyataa': 4921, 'enakk': 1507, 'gaa': 1669, 'kusamm': 2653, 'samaaa': 4239, 'sekaliiiiii': 4348, 'baruuuu': 502, 'nyobaa': 3531, 'kusammm': 2655, 'ehh': 1472, 'powderrrr': 3928, 'ternyataa': 4969, 'karenaa': 2400, 'masa': 2972, 'tzone': 5188, 'kmren': 2573, 'dn': 1389, 'co': 1049, 'foundi': 1634, 'garibet': 1734, 'ah': 133, 'loveee': 2853, 'eeeeh': 1452, 'cassst': 948, 'dikulitkuenak': 1317, 'anak': 259, 'kola': 2587, 'pacaging': 3627, 'langsng': 2703, 'colok': 1077, 'parfume': 3725, 'percaya': 3782, 'toh': 5080, 'say': 4273, 'big': 712, 'cumaa': 1155, 'kpan': 2607, 'aktifitas': 167, 'ingredientsnya': 2156, 'kes': 2515, 'elegan': 1487, 'concern': 1097, 'putus': 4031, 'less': 2777, 'better': 669, 'than': 5004, 'none': 3426, 'yeayyyyy': 5461, 'mwskipun': 3213, 'minim': 3110, 'sesukak': 4446, 'sukak': 4698, 'diolesin': 1335, 'ruas': 4200, 'jelas': 2282, 'before': 555, 'tervaforit': 4986, 'impression': 2122, 'uvauvbpackgingnya': 5259, 'tekturnya': 4890, 'viral': 5273, 'riview': 4188, 'seleb': 4368, 'pemakaiannnya': 3764, 'cocok2': 1070, 'mukaa': 3184, 'needed': 3252, 'most': 3163, '5gr': 50, 'tekstrunya': 4873, 'pakee': 3677, 'ngecrack': 3312, 'kuu': 2658, 'pastinyaa': 3743, 'bnr': 769, 'keringg': 2508, 'suncreennya': 4729, 'upnya': 5236, 'orng': 3600, 'ngrubah': 3389, 'kitacintaaaa': 2548, 'suscreen': 4789, 'glosy': 1829, 'olahraga': 3566, 'cm': 1046, 'gmpg': 1853, 'which': 5344, 'sabar': 4217, 'stick': 4668, 'depan': 1251, 'tumben': 5166, 'berjewarat': 623, 'main2': 2904, 'bersin': 650, 'tumpahtumpah': 5169, 'steril': 4666, 'brushbrush': 829, 'hitam': 2043, 'berlamalama': 629, 'krena': 2613, 'naik': 3222, 'gunung': 1909, 'ama': 237, 'tumbuh': 5167, 'official': 3546, 'passss': 3738, 'donggg': 1405, 'dermatology': 1254, 'lot': 2846, 'woiii': 5387, 'aplagi': 304, 'mereka': 3074, 'tanding': 4832, 'keluarin': 2452, 'turunin': 5177, 'hatihati': 1979, 'hati2': 1978, 'iniaku': 2160, 'hilang': 2037, 'semuadan': 4390, 'inibakal': 2161, 'bangettttttttttttt': 482, 'slalu': 4560, 'cowo': 1120, 'holidaayyy': 2050, 'unique': 5221, 'applicator': 325, 'when': 5343, 'applied': 327, 'facial': 1557, 'disappears': 1365, 'brighter': 815, 'fresher': 1652, 'can': 921, 'used': 5248, 'gituuh': 1822, 'ringaan': 4168, 'doong': 1412, 'tan': 4829, 'break': 811, 'bb': 520, 'endul': 1512, 'manjalita': 2953, 'de': 1214, 'ntar': 3463, 'bagusss': 400, 'ngecewaiin': 3308, 'higi': 2026, 'dipouch': 1352, 'puter': 4024, 'kerennn': 2500, 'bisa2nya': 726, 'ootb': 3585, 'mikirin': 3101, 'powderrr': 3926, 'ribet2': 4152, 'reaplly': 4076, 'powderr': 3925, 'ekstrak': 1485, 'wajar': 5299, 'sosmed': 4626, 'gasih': 1738, 'besok2nya': 659, 'banget2': 458, 'brasa': 808, 'semi': 4380, 'selera': 4371, 'masing2': 2976, 'touchup2': 5102, 'bilas2': 718, 'makasihh': 2912, 'ngantuk': 3284, 'sngt': 4593, 'pegang': 3757, 'sisa': 4527, 'betah': 667, 'lu': 2862, 'thick': 5022, 'mnrtku': 3138, '45': 42, 'yaampun': 5431, 'sapu': 4260, 'lsg': 2861, 'gasihh': 1739, 'fluffy': 1621, 'smua': 4586, 'gas': 1737, 'alhasil': 215, 'sikat': 4502, 'mengcover': 3052, 'seriouslyyy': 4432, 'nemuinn': 3268, 'penasarn': 3769, 'dehhh': 1231, 'ngerataain': 3345, 'gilaa': 1797, 'apaasampai': 292, 'bestie': 661, 'gengs': 1780, 'keluyur': 2456, 'sungguh': 4734, 'kejam': 2440, 'benerannpure': 586, 'gagal': 1687, 'gengsbagussuka': 1781, 'bts': 837, 'soonrok': 4618, 'akting': 170, 'hwarang': 2086, 'henti': 2008, 'situ': 4533, 'doangkalau': 1394, 'sensasi': 4403, 'comfy': 1086, 'gapake': 1724, 'ide': 2098, 'apus': 337, 'mattifying': 3002, 'recommeded': 4096, 'lembutsuka': 2752, 'banget3': 459, 'desain': 1257, 'premium': 3949, 'lapis': 2713, 'bleber': 738, 'parfum': 3724, 'spf50': 4636, 'beige': 561, 'wewangian': 5340, 'nentuin': 3271, 'berapa': 605, 'menerkanerka': 3045, 'disclaimer': 1367, 'arah': 341, 'nutup': 3476, 'noda': 3418, 'finefine': 1592, 'keluh': 2454, 'honest': 2056, 'jadinyaman': 2243, 'makeknya': 2918, 'prkatis': 3960, 'gapaham': 1723, 'woiiii': 5388, 'nyamaaan': 3489, 'sehariann': 4336, 'leave': 2733, 'hati': 1977, 'ngecewain': 3309, 'ringanmudah': 4176, 'dibland': 1286, 'semur': 4391, 'kmnamana': 2572, 'makeupbedakan': 2924, 'temen2': 4904, 'gara2': 1731, 'kelar': 2443, 'bahanbahan': 414, 'kus': 2650, 'nonalcohol': 3423, 'dipakek': 1346, 'impressions': 2123, 'jujurr': 2335, 'cocokk': 1074, 'meet': 3016, 'suns': 4738, 'paola': 3711, 'helua': 2006, 'suhay': 4679, 'spons2': 4643, 'dibrush': 1292, 'otomatis': 3605, 'sangatsangat': 4256, 'simpleeee': 4515, 'susncreen': 4791, 'debestttt': 1218, 'sihhh': 4490, 'texturnya': 5000, 'npureso': 3459, 'dimakeup': 1321, 'jamin': 2254, 'enakringan': 1509, 'ngeratainnya': 3347, 'cepetga': 981, 'yanv': 5448, 'normalkering': 3437, 'kecil2': 2431, 'cabe': 903, 'rawit': 4069, 'pling': 3845, 'tu': 5153, 'perfect': 3787, 'bangt': 485, 'honestly': 2057, 'prodak': 3964, 'bangetringan': 470, 'oxsidize': 3620, 'travelfriendly': 5116, 'price': 3954, 'bgs': 681, 'mine': 3106, 'banged': 446, 'dikulitdaya': 1315, 'cepatteksturnya': 975, 'whitecasegak': 5352, 'nyesell': 3523, 'teracunii': 4929, 'gilak': 1800, 'hebat': 1990, 'soothing': 4619, 'camelia': 915, 'oxidant': 3618, 'inflamasi': 2140, 'retak': 4144, 'sakit': 4225, 'hobby': 2048, 'manta': 2955, 'bakeup': 431, '910': 57, 'amanaman': 241, 'benarbenar': 580, 'tampak': 4827, 'pede': 3753, 'bad': 384, 'oliy': 3573, 'kira': 2540, 'iini': 2109, 'palinh': 3695, 'ngincer': 3376, 'transparan': 5113, 'kasi': 2408, 'hydrating': 2092, 'disaranin': 1366, 'concealer': 1095, 'pengap': 3771, 'keapply': 2424, 'transflucentnya': 5111, 'kudu': 2631, 'pokoknyaa': 3876, 'daaan': 1170, 'ngelembabin': 3327, 'nurutku': 3473, 'kreatif': 2610, 'jjur': 2302, 'bru': 822, 'gaptek': 1729, 'telaah': 4893, 'tok': 5081, 'gmw': 1855, 'pkoknya': 3837, 'sukaaaak': 4690, 'aaaaproduknya': 65, 'kecuali': 2434, 'awat': 377, 'menuhin': 3063, 'hangout': 1951, 'tdk': 4861, 'top': 5093, 'siang2': 4478, 'bgus': 700, 'combination': 1079, 'ngasi': 3288, 'mukagk': 3187, 'kulitpokoknya': 2640, 'npures': 3458, 'boasts': 777, 'impressive': 2124, '55': 48, 'add': 106, 'your': 5475, 'routine': 4194, 'yearround': 5456, 'rubs': 4202, 'clear': 1043, 'tones': 5089, 'doesn': 1396, 'behind': 560, 'any': 285, 'feeling': 1579, 'points': 3867, 'kemna': 2471, 'ngeaplikasiin': 3295, 'teksturnyaaa': 4882, 'biasaanya': 707, 'bintang': 722, 'sebelmnya': 4303, 'reviewnya': 4148, 'yess': 5467, 'nget': 3367, 'casenya': 946, 'uu': 5255, 'tim': 5047, 'saver': 4270, 'wajahkuuu': 5295, 'blendnya': 744, 'bangettttt': 477, 'saranin': 4264, 'pertamatama': 3809, 'ucapin': 5191, 'shiny': 4472, 'then': 5017, 'bgttttttttluv': 697, 'packagingnyano': 3638, 'overal': 3613, 'sumpahh': 4714, 'ngluarin': 3381, 'sbagus': 4278, 'yeay': 5458, 'akhirnyaa': 159, 'pluss': 3852, 'mantapp': 2958, 'gmjadi': 1849, 'mmbuat': 3132, 'terhidar': 4947, 'stiap': 4667, 'tidk': 5043, 'care': 937, 'suncare': 4726, 'mette': 3088, 'sfp': 4457, 'ingredientsna': 2155, 'slm': 4567, 'gua': 1900, 'ngebuat': 3305, 'iritsasijerawatan': 2212, '2x': 31, 'upside': 5238, 'down': 1419, 'roll': 4191, 'usap2': 5244, 'ssh': 4656, 'tmpt': 5076, 'org2': 3597, 'tipe2': 5062, 'wnita': 5381, 'siap2': 4480, 'apkai': 303, 'toplahfav': 5095, 'kaliann': 2369, 'laku': 2691, 'gegara': 1758, 'diaplly': 1275, 'direaplly': 1360, 'hadir': 1921, 'tani': 4838, 'ceria': 991, 'juaraa': 2317, 'untukk': 5227, 'whitecastfinishingnya': 5357, 'siii': 4497, 'extra': 1551, 'shield': 4468, 'gunain': 1906, 'fully': 1662, 'cusss': 1162, 'sh': 4459, 'ringa': 4165, 'ngejaga': 3323, 'pusing': 4021, 'transcluent': 5107, 'cemong': 965, 'bangetsih': 471, 'kdang': 2420, 'kmanapun': 2566, 'pgn': 3812, 'cute3': 1165, 'olesoles': 3572, 'cushion': 1160, 'creamygel': 1132, 'iniga': 2162, 'packingnya': 3650, 'tancap': 4830, 'effectiveness': 1462, 'tanda': 4831, 'manjiw': 2954, 'samping': 4250, 'kerenn': 2499, 'sica': 4483, 'kah': 2358, 'shake': 4463, 'kaliii': 2371, 'serbuk': 4423, 'cmiiw': 1047, 'ngabisin': 3280, 'trouble': 5137, 'produk2': 3973, 'bangeeett': 451, 'tementemen': 4906, 'finsih': 1604, 'activity': 98, 'org': 3596, 'gunainnya': 1907, 'biasadan': 708, 'ahhh': 136, 'ekspektasiku': 1481, 'penuh': 3780, 'rewel': 4149, 'urus': 5241, '30ml': 34, 'aneh': 267, 'produknyaa': 3979, 'teman': 4900, 'lohhhh': 2830, 'hv': 2085, 'nice': 3401, 'dayy': 1212, 'giur': 1825, 'bocor': 778, 'bagussssbagusssssssbagusssssssbagussssbagusssssssbagusssssssbagussssbagusssssssbagusssssss': 402, 'picu': 3817, 'lbh': 2729, 'cinderung': 1019, 'wajjb': 5306, 'powderso': 3931, 'pergi2': 3791, 'oles2': 3571, 'kotor': 2606, 'creamnya': 1129, 'gantung': 1720, 'buildnya': 855, 'pastiin': 3741, 'timpain': 5051, 'da': 1169, 'pokoke': 3871, 'bulat': 861, 'kedikit': 2435, 'soale': 4596, 'ngerasain': 3343, 'mrk': 3168, 'heavyoily': 1989, 'jdnya': 2280, 'dobel2': 1395, 'last': 2717, 'morning': 3162, 'pretty': 3952, 'solid': 4606, 'barun': 500, 'unboxing': 5214, 'experiencenya': 1549, 'seru': 4437, 'ajaa': 145, 'applicatornya': 326, 'fingers': 1593, 'crossed': 1139, 'will': 5368, 'update': 5234, 'once': 3579, 've': 5266, 'emak2': 1492, 'serba': 4422, 'cussss': 1163, 'again': 123, 'lekat': 2742, 'puter2': 4025, 'nyobainnya': 3534, 'buru2': 879, 'baca': 383, 'iiniiiii': 2110, 'pacar': 3629, 'saling': 4234, 'powdered': 3918, 'packaginyaa': 3642, 'teksturnyaa': 4881, 'sehariaaan': 4335, 'appkybgatakut': 320, 'bestt': 662, 'pokoknyaaaaaaa': 3880, 'mahalmahal': 2900, 'though': 5029, 'idea': 2099, 'about': 78, 'sisi': 4529, 'siangsiang': 4479, 'cemilan': 964, 'pindah': 3824, 'lokasi': 2832, 'numah': 3468, 'sibuk': 4482, 'siihh': 4496, 'lembabin': 2746, 'gtuu': 1899, 'yahh': 5437, 'pecah': 3752, 'reduce': 4102, 'memanh': 3029, 'susuadakah': 4794, 'kadang2': 2349, 'dy': 1445, 'pasang': 3734, 'secondprotection': 4314, 'sering2': 4428, 'aplynya': 318, 'bagusbagus': 397, 'nahhh': 3221, 'pangling': 3706, 'pakainnya': 3670, 'creme': 1137, 'sembaraang': 4377, 'scroll': 4288, 'rekomendeddd': 4115, 'ekspetasi': 1482, 'terimakasihhhhh': 4953, 'liat2': 2794, 'ytb': 5481, 'content': 1104, 'also': 230, 'results': 4143, 'quite': 4037, 'fast': 1569, 'weeks': 5331, 'dont': 1411, 'hesitate': 2013, 'terima': 4951, 'enggk': 1518, 'foundatin': 1632, 'sembarang': 4378, 'produkproduk': 3982, 'ngeliat': 3331, 'ke2': 2422, 'mnmbulkan': 3136, 'bopeng': 792, 'lighweight': 2803, 'gampah': 1711, 'terter': 4978, 'baiqqqq': 423, 'bundahhh': 874, 'cyinn': 1168, 'ciwikciwik': 1035, 'libur': 2795, 'bal': 434, 'nyangkut2': 3502, 'goop': 1870, 'iya': 2237, 'control': 1106, 'oiya': 3554, 'cleansing': 1042, 'jangka': 2257, 'prnh': 3963, 'jrwat': 2310, 'ii': 2108, 'lv': 2889, 'diratainmya': 1357, 'baguuuus': 410, 'inivatif': 2191, 'sunscrern': 4765, 'padet': 3658, 'terobos': 4971, 'namnya': 3227, 'bumpy': 870, 'eventho': 1537, 'whatsoever': 5342, 'makes': 2920, 'feels': 1581, 'softer': 4604, 'dinkulit': 1334, 'sensivite': 4413, 'doalnya': 1392, 'afternya': 121, 'tingkat': 5059, 'sesimple': 4442, 'pokoknha': 3874, 'match': 2991, 'outdor': 3610, 'bangeettt': 455, 'superrrr': 4778, 'ennaaakk': 1520, 'toch': 5078, 'alas': 204, 'macam': 2892, 'meat': 3011, 'baguuss': 408, 'indoor': 2138, 'pliss': 3847, 'malesan': 2937, 'dipakaig': 1339, 'bawag': 515, 'tempatkalau': 4908, 'creasy': 1134, 'pokoknyaaaaaa': 3879, 'tipis': 5064, 'suncream': 4727, 'gaperna': 1727, 'teh': 4871, 'berjamjam': 619, 'kamar': 2376, 'teksurnya': 4887, 'meres': 3075, 'segitu3': 4331, 'hallo': 1936, 'tricky': 5126, 'sengat': 4402, 'chamomile': 998, 'buru': 878, 'tunjang': 5174, 'totalitas': 5098, '2020': 22, 'walopun': 5312, 'banyak2': 492, 'menit': 3060, 'transclusent': 5108, 'hehegak': 1995, 'alesan': 212, 'buangeeet': 844, 'seller': 4373, 'powdercocok': 3915, 'sensitifn': 4408, 'lucuuu': 2873, 'paket': 3688, 'kunci': 2644, 'mauu': 3006, 'maximal': 3008, 'powdernga': 3920, 'hehehhe': 2002, 'indah': 2132, 'cleanse': 1041, 'sebab': 4296, 'jatuhh': 2269, 'experience': 1548, 'bermakaeup': 633, 'seruu': 4439, 'berturutturut': 652, 'moisturized': 3151, 'higienies': 2027, 'seri': 4424, 'hinyai': 2041, 'kelindungin': 2447, 'sawo': 4272, 'mateng': 2993, 'ngerawat': 3348, 'radang': 4043, 'rilex': 4162, 'berjeraway': 621, '2minggu': 28, 'rawat': 4068, 'tep': 4922, 'ngbland': 3293, 'aciatica': 87, 'butuhin': 890, 'series': 4425, 'taruh': 4851, 'boleh': 784, 'unggul': 5216, 'yuk': 5486, 'gilir': 1804, 'mu': 3170, 'overprice': 3616, 'thrilled': 5031, 'find': 1590, 'form': 1625, 'way': 5328, 'cheaper': 1005, 'compared': 1091, 'western': 5338, 'quality': 4036, 'cost': 1113, 'cant': 925, 'flow': 1620, 'amount': 252, 'rather': 4066, 'stiff': 4670, 'risk': 4186, 'shifting': 4469, 'scraped': 4285, 'indeed': 2133, 'number': 3469, 'low': 2859, 'something': 4613, 'country': 1114, 'constantly': 1101, 'bathed': 507, 'sunlight': 4736, 'cannot': 924, 'ones': 3581, 'unless': 5222, 'were': 5337, 'going': 1859, 'cake': 906, 'therefore': 5019, 'need': 3251, 'higher': 2024, 'some': 4610, 'they': 5020, 'ive': 2236, 'seen': 4324, 'togo': 5079, 'hope': 2058, 'theyre': 5021, 'improving': 2127, 'seem': 4323, 'lightpale': 2801, 'blurs': 752, 'into': 2206, 'deep': 1225, 'skintone': 4547, 'fine': 1591, 'particles': 3730, 'dusting': 1444, 'wet': 5339, 'ngerusakngapusngulang': 3361, 'room': 4193, 'improve': 2126, 'nyuci': 3539, 'jorok': 2307, 'kilat': 2536, 'perhati': 3793, 'kadsng': 2352, 'kocok2': 2580, 'aampun': 70, 'poder': 3864, 'sunscrwen': 4767, 'setwlah': 4455, 'coxok': 1123, 'please': 3843, 'baner': 441, 'hehehe': 1997, 'dg': 1264, 'glowingg': 1834, 'packanging': 3644, 'tacap': 4806, 'benget': 593, 'ngilangin': 3374, 'anda': 262, 'voila': 5277, 'akunjatih': 179, 'cintacocok': 1027, '30pa': 36, 'testur': 4992, 'terbaeeeeek': 4934, 'anterjemput': 277, 'skolah': 4552, 'dingin': 1332, '48': 43, 'sebading': 4297, 'carii2': 941, 'ginii': 1811, 'udang': 5198, 'akuuuuuu': 195, 'ngedempulll': 3314, 'wajibb': 5301, 'cobainnnnnn': 1064, 'bedakk': 547, 'yanh': 5447, 'tap2': 4843, 'merk': 3080, 'bo': 776, 'nyumbat': 3540, 'lafff': 2672, 'kalengkaleng': 2366, 'kantongable': 2390, 'performa': 3788, 'ecommerce': 1450, 'olshop': 3574, 'lainnyajgn': 2689, 'original': 3599, 'yu': 5482, 'gaes': 1684, 'bua': 840, 'kusamminyakan': 2654, 'diapus': 1278, 'micellar': 3094, 'slu': 4571, 'deng': 1242, 'smoothing': 4584, 'bawak': 517, 'boong': 791, 'pavvvvv': 3747, 'ahhhhh': 137, 'pavvv': 3746, 'sunscrine': 4766, 'muda': 3177, 'halau': 1935, 'picky': 3815, 'nggk': 3372, 'ngebland': 3299, 'media': 3012, 'sosial': 4625, 'bedakpowder': 550, 'eits': 1475, 'kaprah': 2394, 'pasar': 3735, 'twoway': 5183, 'diselipin': 1369, 'bedainnya': 544, 'protector': 3995, 'cowok': 1121, 'kabar': 2346, 'ngeluh': 3336, 'mainly': 2905, 'fokus': 1622, 'broad': 821, 'spectrum': 4629, 'donat': 1402, 'kampung': 2378, 'cowokcowok': 1122, 'yakali': 5440, 'yuyur': 5490, 'physical': 3813, 'ngosngosan': 3385, 'rupa': 4211, 'bunda': 873, 'gembira': 1763, 'oilykombinasi': 3552, 'jempol': 2284, 'teknologi': 4872, 'every': 1539, 'penny': 3775, 'bngettttttttt': 762, 'lembutttt': 2753, 'wajibbb': 5302, 'orderrr': 3595, 'kepoinn': 2490, 'olshoppppnya': 3575, 'soco': 4600, 'nyaaaaa': 3484, 'bought': 797, 'intrigued': 2207, 'bringing': 820, 'lil': 2808, 'bit': 728, 'uncomfortable': 5215, 'naturall': 3246, 'mantepp': 2963, 'formulated': 1629, 'contains': 1103, 'types': 5187, 'protects': 3996, 'against': 124, 'rays': 4070, 'while': 5346, 'tabir': 4803, 'surya': 4787, 'daun': 1208, 'varian': 5265, 'gabung': 1682, 'menurutt': 3066, 'contoh': 1105, 'pakcagingnya': 3673, 'multi': 3195, 'nude': 3466, 'daftar': 1177, 'moisturize': 3150, 'layering': 2728, 'trevel': 5123, 'lawan': 2726, 'sunscrennn': 4762, 'sunscren': 4759, 'utus': 5254, 'ngatur': 3292, 'kalok': 2374, 'cecer': 958, 'gaberasa': 1675, 'ingredients2nya': 2154, 'ngliat': 3380, 'cintaapalagi': 1025, 'bgtgampang': 686, 'nyamudah': 3498, 'kuasnyadan': 2625, 'cantella': 926, 'mataharidan': 2985, 'syuka': 4797, 'inikarena': 2173, 'pemakaiandengan': 3763, 'gercep': 1787, 'sunpowder': 4737, 'copot': 1111, 'eitsss': 1476, 'ajaaa': 146, 'ill': 2118, 'pilihpilih': 3822, 'kuasnyatp': 2626, 'efekti': 1456, 'ps': 4001, 'blmnyauntuk': 749, 'dipakekuasnya': 1347, 'lightweight': 2802, 'bery': 657, 'becek': 540, 'desa': 1255, 'muluspackaging': 3200, 'konsisten': 2598, 'nyapokoknya': 3503, 'ituumudah': 2233, 'lari': 2715, 'riding': 4161, 'cendrung': 968, 'korean': 2603, 'ringat': 4180, 'kagum': 2357, 'tahu2': 4814, 'nimbul': 3410, 'initu': 2189, 'skintoneku': 4548, 'mon': 3160, 'maap': 2891, 'tercompactt': 4941, 'buyy': 894, 'itt': 2227, 'muchh': 3176, 'bruntusankandungannya': 825, 'alamicocok': 201, 'gabakal': 1673, 'ngedumpel': 3315, 'sehar': 4333, 'tuang': 5155, 'hargnya': 1964, 'golong': 1864, 'syukur': 4801, 'sring': 4652, 'sbg': 4279, 'coveragenya': 1118, 'netral': 3274, 'mnrt': 3137, 'akujadi': 176, 'fit': 1609, 'colours': 1078, 'igs': 2105, 'rachelvennya': 4039, 'yaaku': 5428, 'prouk': 3999, 'jln': 2303, 'uma': 5211, 'found': 1631, 'everyday': 1540, 'somuch': 4615, 'briliant': 818, 'create': 1135, 'thisss': 5026, 'we': 5329, 'erase': 1526, 'aplicator': 306, 'coklat': 1076, 'sekaliterus': 4351, 'pesona': 3811, 'pandang': 3704, 'box': 798, 'usapin': 5245, 'sempurna': 4383, 'leher': 2741, 'belakang': 563, 'gatakut': 1743, 'abu2an': 84, 'rasain': 4061, 'nada': 3218, 'norak': 3434, 'dsuruh': 1431, 'kelupas': 2455, 'ngunci': 3394, 'finisihing': 1601, 'dhe': 1266, 'kadi': 2350, 'usapusap': 5246, 'kulita': 2637, 'terikteriknya': 4950, 'bgr': 680, 'gat': 1742, 'srtelah': 4654, 'inimalah': 2178, 'alergi': 211, 'package': 3633, 'mahh': 2902, 'natte': 3241, 'pekat': 3758, 'susu': 4793, 'lewatin': 2780, 'issa': 2219, 'buddy': 851, 'dibawagampang': 1284, 'garuk': 1736, 'aestetic': 116, 'pakao': 3672, 'wishlistnya': 5370, 'supergoop': 4775, 'cekout': 961, 'feel': 1578, 'shinny': 4471, 'gitulohh': 1818, 'repuchase': 4132, 'berativitas': 607, 'car': 934, 'products': 3970, 'ibu': 2096, 'hamil': 1946, 'diraguin': 1354, 'kuliah': 2635, 'huuuu': 2084, 'cobasampe': 1066, 'skrng': 4557, 'jugapas': 2330, 'mukatrus': 3191, 'hehesejauh': 2003, 'whitecasabuabu': 5350, 'jugaoverall': 2329, 'gressy': 1891, 'polll': 3892, 'ngelembapin': 3328, 'sneng': 4592, 'nyobanyoba': 3536, 'pnsran': 3861, 'gaharus': 1690, 'orgnya': 3598, 'bakaln': 428, 'bangetfinishnya': 465, 'nyerepnyaand': 3518, 'alamipackagingnya': 202, 'dibwa': 1296, 'sentosa': 4415, 'tetapi': 4995, 'berlian': 632, 'intensitas': 2203, 'kulitkuuuuuu': 2639, 'powderbrush': 3914, 'bangetini': 467, 'wajahkuohhiyaa': 5294, 'nglembapin': 3379, 'dipakeuntuk': 1349, 'sitp': 4532, 'reaplay': 4074, 'worksss': 5395, 'ngegumpal': 3320, 'terkadang': 4958, 'bagikuuu': 391, 'bangetproduk': 469, 'terfav': 4945, 'tahun': 4815, 'meminimalisir': 3032, 'kaga': 2354, 'sich': 4484, 'dibalikin': 1279, 'ketukketuk': 2526, '5gram': 51, 'enakeun': 1505, 'mantulity': 2965, 'lebar': 2734, 'ajar': 151, 'nampak': 3228, 'cruelty': 1141, 'expectation': 1545, 'tepuk': 4925, 'gampng': 1714, 'okey': 3564, '1x': 21, 'nyari2': 3505, 'bagustrus': 406, 'dipke': 1350, 'spread': 4646, 'proses': 3989, 'haluus': 1944, 'upreapply': 5237, 'vlogger': 5276, 'almiranti': 225, 'fira': 1605, 'heeyyy': 1992, 'berlayer2': 630, 'tak': 4817, 'nyampe': 3496, 'ketuk': 2525, 'creamsunscreen': 1130, 'fail': 1560, 'sorry': 4624, 'huftt': 2077, 'mattenya': 3000, 'aplllay': 316, 'bya': 899, 'bangedd': 447, 'pedih': 3754, 'gatelgatel': 1749, 'huhuhuu': 2081, 'mudah2an': 3179, 'aamiinnnn': 69, 'ngrasa': 3386, 'pooknyaaa': 3897, 'hasill': 1973, 'anjur': 272, 'aduh': 113, 'panas2': 3697, 'oxidation': 3619, 'badan': 386, 'pom': 3896, 'kesampesan': 2516, 'kokkk': 2585, 'tryyy': 5146, 'ngubah': 3392, 'gemens': 1764, 'wkwkwkw': 5380, 'camical': 917, 'lite': 2819, 'direplynyapersis': 1363, 'spfnyadapat': 4638, 'teb': 4863, 'kibas': 2532, 'topp': 5096, 'markotop': 2970, 'ringkas': 4181, 'memudshkan': 3040, 'sdan': 4291, 'keliar': 2446, 'whitecash': 5355, 'detelah': 1261, 'tauu': 4857, 'tachap': 4808, 'agakk': 127, 'salah2': 4229, 'muter': 3212, 'glowink': 1841, 'lucuu': 2872, 'lainnyaa': 2688, 'ngeri': 3355, 'surprizing': 4784, 'terik2': 4949, 'gtfinishnya': 1894, 'falloutnya': 1565, 'diratakandan': 1359, 'dilayering': 1319, 'berminyaktapi': 643, 'overallbagus': 3615, 'syukaaaa': 4799, 'pokoknyai': 3882, 'yabg': 5433, 'reaplikasikn': 4075, 'dlam': 1382, 'pngen': 3860, 'ambil': 249, 'tagih': 4811, 'akupokok': 182, 'ganti2': 1719, 'truz': 5144, 'per': 3781, 'molita': 3158, 'lin': 2811, 'ngalahin': 3283, 'work': 5392, 'thankyouuu': 5011, 'akhirnyaaa': 160, 'woyy': 5410, 'lngsung': 2822, 'bold': 783, 'shg': 4467, 'mkn': 3126, 'bnykk': 775, 'dark': 1202, 'lov': 2849, 'rekomedasi': 4106, 'bamgt': 437, 'kuar': 2623, 'ruamh': 4198, 'panas2an': 3698, 'kuga': 2632, 'packajing': 3643, 'cuality': 1147, 'coming': 1088, 'thankyouuuuu': 5012, 'gladddddd': 1826, 'youuuuu': 5479, 'tryyyyy': 5147, 'dindonesia': 1331, 'chemicalphysical': 1009, 'lembuuut': 2755, 'waaah': 5281, 'kagetsih': 2356, 'ultimate': 5209, 'ringaaann': 4167, 'yahg': 5436, 'sensitifff': 4407, 'worthit': 5401, 'potong': 3908, 'pointt': 3868, 'bange': 445, 'pad': 3652, 'freshh': 1653, 'demplok': 1238, 'fixxx': 1613, 'protectionnya': 3994, 'lalang': 2693, 'buana': 842, 'parahhhhh': 3721, 'barengin': 498, 'pastinyaaa': 3744, 'pakebedak': 3676, 'usih': 5250, 'juta': 2341, 'umat': 5212, 'fisikal': 1608, 'jahat': 2247, 'rp': 4195, '119000': 9, 'gr': 1878, 'sejuk': 4343, 'sebernya': 4306, '149000': 13, 'nomor': 3420, 'kepooo': 2491, 'berekspektasi': 613, 'weight': 5334, 'test': 4989, 'sunblok': 4723, 'kalp': 2375, 'lago': 2683, 'oleh': 3569, 'sampee': 4249, 'ngak': 3282, 'lengketbahannya': 2764, 'bpomnya': 802, 'ginidan': 1810, 'bangetdimuka': 464, 'hasilnyaa': 1976, 'finishsukaaaa': 1600, 'laginihh': 2680, 'inisangat': 2182, 'akucocok': 174, 'keringdan': 2504, 'liquid': 2817, 'wajahcuma': 5288, 'yajadi': 5439, 'akutapi': 184, 'sunacren': 4721, 'plisss': 3848, 'claim': 1037, 'toneup': 5090, 'witch': 5371, 'bagoss': 392, 'srius': 4653, 'mana2': 2942, 'pngaplikasinya': 3859, 'brash': 809, 'klit': 2558, 'krek': 2611, 'ukuranya': 5206, 'diaajak': 1270, 'kantor': 2391, 'ydah': 5454, '1530': 15, 'tissue': 5069, 'lgsg': 2787, 'combine': 1080, 'vit': 5274, 'avoskin': 373, 'kumpal': 2642, 'finising': 1603, 'gemas': 1761, 'segar': 4326, 'cahaya': 904, 'arghhhhh': 344, 'wortit': 5402, 'angkat': 270, 'story': 4676, 'tmn2': 5075, 'yaaaaaaaaaaaaaaaaaaaaaaaaaaaaaaaaaaaaaaa': 5424, 'padatini': 3657, 'akutekstur': 185, 'sunbrush': 4724, 'nyabsuper': 3486, 'lucubikin': 2869, 'matteaku': 2997, 'mengwcil': 3057, 'bangetaman': 460, 'luarkalian': 2864, 'bodo': 779, 'ehhhhh': 1473, 'skrang': 4555, 'flek': 1618, 'ternuata': 4968, 'belepotan': 568, 'amanbuat': 242, 'melindungin': 3027, 'pny': 3863, 'tingat': 5054, 'cewek': 994, 'duhh': 1435, 'cantikdan': 929, 'mengapply': 3050, 'powderkarena': 3919, 'kemaren': 2463, 'macem': 2893, 'abisss': 76, 'primadona': 3958, 'industri': 2139, 'sebut': 4310, 'prtama': 4000, 'do': 1391, 'lgsung': 2789, 'trnyta': 5135, 'ituuu': 2234, 'course': 1115, 'nuat': 3465, 'coverin': 1119, 'dngan': 1390, 'langsunh': 2706, 'sentuh': 4416, 'unik2': 5218, 'sangking': 4258, 'influence': 2141, 'ngereview': 3354, 'jugakk': 2328, 'inj': 2193, 'goda': 1858, 'nyaehh': 3487, 'pemakain': 3766, 'seblm': 4307, 'gone': 1865, 'salut': 4235, 'yakan': 5441, 'bulang': 860, 'midah': 3096, 'terlindungin': 4962, '23': 24, 'makee': 2916, 'npurebiasanyaa': 3445, 'kann': 2387, 'yaahh': 5426, 'upskrrang': 5239, 'lagikarena': 2679, 'gitutinggal': 1820, 'onga': 3582, 'makas': 2910, 'amazed': 246, 'outdooraku': 3609, 'sndr': 4590, 'inikrena': 2175, 'pokokkknyaaaaaaaaaa': 3873, 'teerrrrrrrrrrdaaaabestttttt': 4869, 'tacappp': 4807, 'sanskrennn': 4259, 'fallin': 1563, 'sight': 4486, 'sukaaaaaaa': 4688, 'sunscreennnnn': 4751, 'cumeewew': 1157, 'cucokkk': 1150, 'meongggg': 3069, 'mantappppp': 2959, 'pokoknyaaaa': 3878, 'hatiii': 1980, 'meresappp': 3078, 'dannn': 1191, 'mukaaaaaa': 3185, 'foto': 1630, 'gemashh': 1762, 'nrmu': 3462, 'sumpa': 4710, 'ramah': 4052, 'bmgt': 754, 'skul': 4558, 'osis': 3603, 'bt': 836, '2in1': 26, 'protecting': 3992, 'pakaibrushnya': 3668, '100100': 4, 'vaforite': 5264, 'pelan': 3760, 'temenku': 4905, 'ggr': 1794, 'kmna2': 2571, 'gaush': 1753, 'ngelupas': 3337, 'masukkin': 2981, 'npurecocok': 3446, 'ideal': 2100, 'activites': 96, 'spot': 4644, 'paripurna': 3726, 'amburadul': 250, 'berkalikali': 627, 'ikan': 2113, 'embossnya': 1497, 'pipa': 3827, 'luberluberformulanya': 2867, 'apek': 302, 'cium': 1033, 'jarna': 2263, 'yakinnn': 5443, 'berjutajuta': 625, 'bolakbalik': 782, 'asliiii': 361, 'mudahin': 3181, 'rivew': 4187, 'menggangu': 3054, 'looh': 2837, 'yng': 5472, 'bnr2': 770, 'bedak2': 546, 'transferproof': 5110, 'minimalin': 3112, 'tenaga': 4915, 'cck': 955, 'sk': 4538, 'dioutdoor': 1336, 'praktik': 3938, 'digabungin': 1307, 'beehhhh': 552, 'haiii': 1929, 'jual': 2315, 'storenya': 4675, 'dishopee': 1370, 'minat': 3105, 'dm': 1387, 'devikaangelita': 1262, 'rachel': 4038, 'daannnnn': 1172, 'castt': 951, 'segala': 4325, 'buildable': 854, 'pektay': 3759, 'terbaikkkk': 4938, 'dlm': 1384, 'sejak': 4341, 'ribetkayak': 4155, 'mevvvaahh': 3090, 'kmasannyapowdernya': 2567, 'halusini': 1941, 'orderbakalan': 3593, 'spertinyabotolnya': 4633, 'minimudah2an': 3114, 'awetsampai': 379, 'selanjutnyahehheheehe': 4366, 'wowww': 5407, 'ucap': 5190, 'lagiini': 2678, 'lovvvee': 2858, 'kyooott': 2665, 'solutif': 4609, 'ciwi2': 1034, 'kpn': 2608, 'dmn': 1388, 'terlau': 4961, 'badai': 385, 'unikk': 5219, 'desaign': 1256, 'dengab': 1244, 'weew': 5333, 'hygine': 2094, 'pengaplikasan': 3772, 'wajahmempermudah': 5297, 'wihihihihi': 5366, 'kereennn': 2497, 'siiii': 4499, 'produkk': 3976, 'giniaann': 1808, 'dipakainyaa': 1340, 'gambar': 1707, 'bahwa': 419, 'wowwww': 5408, 'kereeennn': 2495, 'punyaa': 4013, 'dimukaaa': 1329, 'aseli': 353, 'nyetock': 3524, 'pict': 3816, 'post': 3905, 'aahh': 68, 'misal': 3124, 'spons': 4642, 'nekatin': 3259, 'tektursnya': 4892, 'lohhh': 2829, 'stabil': 4658, 'thumbs': 5035, 'fixxxx': 1614, 'woyyy': 5411, 'jafj': 2244, 'yaudah': 5453, 'pass': 3737, 'duluu': 1438, 'packingya': 3651, 'gemoin': 1774, 'parktis': 3727, 'bnht': 768, 'tggal': 5001, 'brush2': 828, 'rekomn': 4119, 'bbgt': 521, 'tunggu2': 5173, 'gunaiin': 1904, 'lupaa': 2881, 'dimudahin': 1327, 'comel': 1083, 'brat': 810, 'debesttt': 1217, 'refill': 4103, 'gaksuka': 1697, 'ajaib': 150, 'cobak': 1065, 'dimilikiii': 1326, 'nemenin': 3261, 'rutinitas': 4215, 'bagsu': 393, 'kang': 2385, 'smuaa': 4587, 'halo': 1937, 'hasilny': 1975, 'blum': 750, 'nmu': 3415, 'info': 2143, 'apoly': 319, 'late': 2719, 'nemui': 3266, 'praktisdan': 3940, 'recommemdpengaplikasian': 4097, '30jadi': 33, 'oengaruh': 3541, 'ketimbang': 2523, 'tinggak': 5055, 'cracky': 1127, 'cobatekstur': 1067, 'ringanlembutcreamygampang': 4174, 'lhoo': 2791, 'kontaminasi': 2600, 'freindly': 1650, 'dompet': 1401, 'paas': 3625, 'makup': 2932, 'mangats': 2951, 'bermanfaay': 635, 'halusdan': 1940, 'benar2': 579, 'diaa': 1269, 'diwajahkuudah': 1379, 'didalemnyajujur': 1303, 'uve': 5262, 'nyobian': 3538, 'applay': 321, 'profuct': 3985, 'kannn': 2388, 'kerjaliburan': 2510, 'lebi': 2738, 'kaaaannn': 2343, 'happyyyy': 1955, 'tering': 4955, 'adaaaa': 102, 'finishinhnya': 1598, 'lub': 2865, 'powdee': 3910, 'elegand': 1488, 'bner2': 757, 'boom': 788, 'jawat': 2273, 'cobaaa': 1053, 'temuin': 4914, 'kmna': 2570, 'palai': 3692, 'holly': 2052, 'gokil': 1860, 'karnaa': 2405, 'ordee': 3591, 'sekaliii': 4346, 'halusss': 1943, 'alusss': 234, 'amaaan': 238, 'pokokya': 3884, 'inimemudahkan': 2179, 'baget': 389, 'pengaplikasiaannya': 3773, 'kmu': 2574, 'assalamualaikum': 364, 'hai': 1928, 'beauties': 533, 'burn': 877, 'dibawadan': 1283, 'spt': 4648, 'balut': 436, 'tranparan': 5106, 'infromasi': 2145, 'netto': 3275, 'produsen': 3984, 'tera': 4928, 'lap': 2711, 'key': 2527, 'heran': 2009, 'tiga': 5044, 'diethylamino': 1305, 'hydroxybenzoyl': 2093, 'hexyl': 2014, 'benzoate': 598, 'bisethylhexyloxyphenol': 727, 'methoxyphenyl': 3087, 'triazine': 5124, 'aging': 132, 'kanker': 2386, 'sgt': 4458, 'optimal': 3586, 'konsistensi': 2599, 'penggunaanya': 3774, 'vpop': 5278, 'dorong': 1416, 'flick': 1619, 'jentik': 2289, 'telinga': 4896, 'gera': 1783, 'lingkar': 2815, 'kembali': 2470, 'rapat': 4057, 'npureofficialid': 3457, 'marketplace': 2969, 'rp119000': 4196, 'informasi': 2144, 'beatthesunpowder': 532, 'cicabeatthesunpowder': 1016, 'perlindunganharianalami': 3799, 'ngikat': 3373, 'outlook': 3611, 'packingingnya': 3649, 'rekommend': 4118, 'sanget': 4257, 'musti': 3211, 'cobaaaaaaaa': 1055, 'posisi': 3903, 'ribetw': 4157, 'juag': 2314, 'lucudiwajah': 2870, 'begini': 557, 'pergipergi': 3792, 'silah': 4505, 'brusnya': 833, 'note': 3440, 'gamimbulin': 1709, 'finisihingnya': 1602, 'cicanya': 1017, 'pki': 3835, 'kuatir': 2628, 'sdh': 4292, 'terpangpang': 4972, 'effek': 1463, 'sunsceen': 4740, 'qu': 4035, 'bedakpowderrecomended': 551, 'mirror': 3123, 'blepot': 747, 'youtube': 5477, 'aqu': 339, 'jayanti': 2274, 'channel': 1003, 'berani': 602, 'comedogenic': 1082, 'semangat': 4376, 'asiaticanya': 356, 'rilis': 4163, 'produk2nya': 3974, 'sayy': 4277, 'skaligus': 4540, 'brus': 826, 'easysimple': 1448, 'gambah': 1706, 'fragranceno': 1641, 'tepat': 4923, 'postingan': 3906, 'ngerilis': 3356, 'ihhh': 2107, 'glowimg': 1831, 'gaaboong': 1670, 'keset': 2520, 'gitulo': 1817, 'doooong': 1414, 'daaannn': 1171, 'glowingdan': 1833, 'akusuka': 183, 'bgttdan': 692, 'apple': 323, 'nyaacinta': 3485, 'inikrna': 2176, 'emngg': 1501, 'terbagu': 4935, 'terlupp': 4963, 'termantuliti': 4966, 'dumbel': 1439, 'sekolah': 4356, 'gamasalah': 1704, 'teksturny': 4880, 'registrasi': 4104, 'gokill': 1861, 'inovasinyanpure': 2196, 'hapus2': 1957, 'takaranan': 4819, 'depakw': 1250, 'aripada': 345, 'datang': 1204, 'arsitek': 348, 'methoxcinnamate': 3085, 'bumilbusui': 868, 'club': 1045, 'maskerberaktivitas': 2978, 'waterproof': 5324, 'bercak': 611, 'ajaberaktivitas': 147, 'ajah': 149, 'pakenyaa': 3686, 'doff': 1398, 'hehehee': 1998, 'cepept': 977, 'demi': 1237, 'kesemuanyaintinya': 2519, 'pastiny': 3742, 'pokokk': 3872, 'cantika': 928, 'worh': 5391, 'ngrasain': 3387, 'nyerepp': 3519, 'huhuu': 2082, 'thankyouu': 5010, 'pack': 3630, 'proskin': 3990, 'lagibulunya': 2675, 'beminyak': 576, 'apart': 300, 'beware': 675, 'beb': 535, 'unikkk': 5220, 'gamain2': 1702, 'packagingnyaa': 3637, 'semnjak': 4381, 'kayagini': 2418, 'reapplyy': 4082, 'powderryyy': 3930, 'okeeee': 3562, 'sukaaaakk': 4691, 'bahan2': 413, 'proud': 3998, 'mush': 3208, 'siy': 4534, 'mastiin': 2979, 'pulas': 4009, 'ahahaha': 134, 'bluring': 751, 'sets': 4453, 'salfok': 4231, 'pisah': 3832, 'akupasti': 181, 'belilagi': 573, 'kadung': 2353, 'spf30': 4635, 'busuii': 885, 'raguragu': 4047, 'laaa': 2667, 'idam': 2097, 'menutupkaan': 3067, 'huaaaaaaaaaaaaaaaa': 2072, 'gilakk': 1801, 'bulky': 863, 'gaiss': 1692, 'serasa': 4421, 'ara': 340, 'aktif': 166, 'ingin': 2149, 'jni': 2304, 'pale': 3693, 'orsng': 3601, 'ringsn': 4184, 'dsn': 1430, 'besttt': 663, 'likuid': 2807, 'okes': 3563, 'ckaging': 1036, 'nekad': 3258, 'sebagua': 4298, 'rawan': 4067, 'dengann': 1247, 'puus': 4032, 'npurr': 3461, 'produkproduknya': 3983, 'apalgi': 299, 'fyi': 1666, 'akibat': 164, 'uras': 5240, 'mama': 2939, 'pop': 3898, 'reda': 4101, 'waternya': 5323, 'diclear': 1298, 'yampun': 5444, 'pilihhh': 3821, 'prakyis': 3943, 'kerontang': 2511, 'ngontrol': 3384, 'hybird': 2088, 'packagingnyq': 3639, 'kaum': 2413, 'takutdeh': 4824, 'ptoduknya': 4002, 'bemtuk': 577, 'oiyaa': 3555, 'haragmya': 1958, 'huga': 2078, 'kekyi': 2442, 'loook': 2843, 'mattedan': 2999, 'dabest': 1174, 'bedakkk': 548, 'cucoook': 1151, 'laah': 2668, 'launchingaku': 2723, 'buruburu': 880, 'cobaineh': 1060, 'sihhhbutirbutirnya': 4491, 'halusjadi': 1942, 'bgtjdi': 687, 'nyamanringan': 3494, 'terrecommended': 4973, 'akubener': 173, 'meresapaku': 3076, 'klik': 2557, 'gatumpang': 1750, 'diapplay': 1276, 'kelembaban': 2444, 'green': 1889, 'tea': 4862, 'mixed': 3125, 'fruit': 1658, 'niacinamide': 3398, 'dikalim': 1310, 'dluar': 1386, 'mang': 2950, 'daripad': 1200, 'padat': 3656, 'powderrrini': 3927, 'hwwaaaa': 2087, 'thx': 5036, 'youuuu': 5478, 'pertma': 3810, 'ribut': 4158, 'selesai': 4372, 'ges': 1788, 'cobaaaa': 1054, 'jggg': 2298, 'hibrida': 2019, 'gabuat': 1681, 'bangeeettt': 452, 'kawah': 2414, 'kinclongannya': 2538, 'sapusapu': 4262, 'kitaaa': 2547, 'salim': 4233, 'negara': 3253, 'iklim': 2114, 'tropis': 5136, 'saing': 4222, 'negeri': 3256, 'inspiratif': 2198, 'warnya': 5318, 'kmana': 2564, 'ngecilin': 3310, 'selasela': 4367, 'benefitnya': 581, 'satisfying': 4266, 'secure': 4317, 'yanga': 5446, 'cus': 1159, 'hatisunscreen': 1982, 'wajahgampang': 5290, 'initercovered': 2188, 'tepuk2': 4926, 'beresdan': 615, 'dbawa2': 1213, 'gede2banget': 1755, 'jadinyaa': 2242, 'greassy': 1886, 'bak': 425, 'spv': 4649, 'gemmoy': 1772, 'reapplay': 4079, 'loch': 2826, 'menproteksi': 3062, 'dahh': 1179, 'npuredari': 3448, 'star': 4661, 'tutupin': 5180, 'lengkep': 2761, 'sukasunscreen': 4704, 'uvbuvakarena': 5261, 'wajahhasil': 5292, 'nun': 3470, 'telusur': 4899, 'tindak': 5052, 'langka': 2701, 'aqq': 338, 'cariiiiiiiiiiii': 942, 'besyukur': 665, 'bangetttttt': 479, 'sumper': 4716, 'slimfit': 4563, 'maklum': 2929, 'geser2': 1790, 'guysss': 1914, 'betapa': 668, 'fun': 1663, 'fact': 1558, 'ngatasin': 3291, 'doyan': 1420, 'edisi': 1451, 'share': 4464, 'cobacoba': 1057, 'sendirisendiri': 4394, 'renang': 4126, 'hawa': 1984, 'tools': 5092, 'hadil': 1920, 'befaknya': 554, 'fsr': 1660, 'nyidain': 3525, 'hi': 2018, 'tanp': 4839, 'nempelnya': 3264, 'kebrush': 2426, 'kendali': 2483, 'ayo': 380, 'tingal': 5053, 'senditif': 4395, 'whitecadt': 5348, 'calmingnya': 914, 'unyuk': 5231, 'trimakasih': 5129, 'diblandnya': 1287, 'coca': 1068, 'denger': 1248, 'siiini': 4500, 'wowgampang': 5406, 'apu': 336, 'buluk': 865, 'alot': 227, 'bet': 666, 'dukung': 1436, 'komplit': 2594, 'gama': 1701, 'ribetttt': 4156, 'gaberminyakk': 1676, 'sneeng': 4591, 'cobainnn': 1063, 'telrindungi': 4898, 'kya': 2661, 'sukabagusnya': 4696, 'untuntuk': 5230, 'oryza': 3602, 'sativa': 4267, 'happynya': 1954, 'nggaknpure': 3371, 'menganggu': 3049, 'longsor': 2834, 'remaja': 4123, 'sana': 4252, 'apagi': 294, 'play': 3842, 'dicombine': 1302, 'nongkrong': 3427, 'terjun': 4957, 'effective': 1461, 'alcoholl': 208, 'lauching': 2720, 'productnya': 3969, 'penasara': 3767, 'loved': 2851, 'bearlt': 529, 'mya': 3215, 'lifa': 2798, 'bare': 496, 'bklan': 732, 'yeeeey': 5462, 'cobaini': 1061, 'sblm': 4281, 'dempull': 1240, 'packaginnya': 3640, 'uhh': 5201, 'hihiww': 2033, 'lapang': 2712, 'akuuuu': 193, 'sumpahhh': 4715, 'mlongo': 3130, 'aie': 141, 'chamical': 996, 'na18210400929': 3216, 'start': 4662, 'years': 5457, 'old': 3567, 'sunscreenyangpowder': 4758, 'memperpudah': 3037, 'cewe': 993, 'yeh': 5464, 'dongpaling': 1408, 'efec': 1453, 'bgd': 677, 'nd': 3248, 'gresy': 1892, 'pkk': 3836, 'nyman': 3528, 'sehrihri': 4340, 'powderdilengkapi': 3917, 'sblum': 4283, 'pkai': 3833, 'dahulu': 1180, 'inisimpel': 2186, 'lup': 2879, 'deeeeh': 1221, 'tanganpake': 4835, 'tisu': 5070, '100an': 5, 'verry': 5268, 'verrry': 5267, 'pertamakali': 3808, 'menenagkan': 3044, 'manaa': 2943, 'long': 2833, 'lasting': 2718, 'gmna': 1851, 'rumahh': 4206, 'doi': 1399, 'susncren': 4792, 'bemer2': 575, 'juarak': 2318, 'plis': 3846, 'bangetdan': 463, 'sunscrenkarna': 4761, '1010': 7, 'failed': 1561, 'bgtkrna': 688, 'tipikal': 5063, 'mls': 3131, 'smnjk': 4581, 'sleek': 4561, 'tumpuk': 5171, 'perempuan': 3786, 'teksturnyabikin': 4883, 'ngesetini': 3363, 'pulang': 4007, 'sekolat': 4357, 'dapetin': 1196, 'recomen': 4089, 'simungil': 4517, 'kaapn': 2345, 'teksur': 4885, 'sensitiv': 4410, 'aaahhhhh': 67, 'gilasihhhh': 1803, 'kecintaankuu': 2433, 'bangettttttaku': 480, 'ercaya': 1527, 'dapakai': 1193, 'takjub': 4820, 'medok': 3014, 'guyssssss': 1915, 'senengnyaaa': 4400, 'sunsceeen': 4739, 'ahhhhhhemang': 138, 'buatt': 846, 'whitecasenya': 5353, 'bumi': 866, 'gatauuuu': 1747, 'kemasanny': 2469, 'ellegant': 1491, 'gmptng': 1854, 'jrwtaan': 2311, 'le': 2730, 'dati': 1207, 'baut': 512, 'ngecase': 3307, 'kulitt': 2641, 'cintaaaaaa': 1024, 'bgtaaaaaa': 683, 'benerann': 585, 'ta': 4802, 'nyangkaaa': 3500, 'prduk': 3945, 'sethebest': 4449, 'bermi': 636, 'hisa': 2042, 'adaptasi': 105, 'instan': 2200, 'nihapalagi': 3403, 'batural': 508, 'rapi': 4058, 'adh': 110, 'ngeresep': 3353, 'wanitatexture': 5315, 'diwajahkemasan': 1377, 'dibawa2suka': 1281, 'reapplynya': 4081, 'kenalin': 2477, 'pap': 3712, 'cocokdimuka': 1073, 'akhirnyaaaaa': 162, 'dimukaa': 1328, 'duo': 1441, 'maut': 3005, 'diwajahkuu': 1378, 'memgatur': 3031, 'upmudah': 5235, 'checkout': 1007, 'sumscreen': 4717, 'bentu': 596, 'powderry': 3929, 'mui': 3182, 'slsnon': 4570, 'debu': 1219, 'sambil': 4243, 'shine': 4470, 'wii': 5367, 'gilaaaaa': 1798, 'temuii': 4913, 'bgtuu': 699, 'dtg': 1432, 'tuhan': 5161, 'beliii': 570, 'ring': 4164, 'brightly': 816, 'small': 4575, 'brightness': 817, 'jugs': 2332, 'dalem': 1185, 'produc': 3967, 'applaynya': 322, 'aaaaaaaaa': 62, 'yaammpun': 5429, 'bngettt': 761, 'bleandable': 737, 'pakentas': 3684, 'berbagiii': 609, 'biarr': 703, 'tepattt': 4924, 'gtt': 1896, 'woee': 5383, 'ahh': 135, 'senengg': 4397, 'inimah': 2177, 'senenggg': 4398, 'maless': 2938, 'beet': 553, 'gemeshh': 1767, 'klu': 2560, 'senengggg': 4399, 'nyamannn': 3493, 'loveeeee': 2855, 'jugaemang': 2325, 'gitutexturnya': 1819, 'sunsreennya': 4769, 'kamdunganya': 2377, 'iniselain': 2183, 'efektivitas': 1459, 'cemerlang': 963, 'gus': 1910, 'gusss': 1911, 'sebel': 4302, 'lengketlengket': 2769, '2nd': 30, 'aneh2': 268, 'seprti': 4419, 'bnyak': 773, 'kandungn': 2384, 'trdpt': 5122, 'istilah': 2220, 'twtep': 5184, 'naturalbanget': 3244, 'aluss': 233, 'radiasi': 4044, 'ambyarrr': 251, 'ninggalih': 3412, 'bau2': 510, 'packejing': 3645, 'gemoi': 1773, 'bngtt': 765, 'jugak': 2327, 'dibrushbrush': 1293, 'hasilnnya': 1974, 'ancur': 260, 'nihkemasannya': 3407, 'th': 5002, 'bgtpakainya': 689, 'ribetinovasinya': 4153, 'dehterbaik': 1234, 'bgtbegitu': 684, 'ngelembab': 3326, 'gunaiinnya': 1905, 'secondshieldnpure': 4316, 'asing': 358, 'donk': 1410, 'inisoalnya': 2187, 'cicanyajd': 1018, 'jugabtw': 2324, 'travelinggampang': 5118, 'powderdan': 3916, 'inigampang': 2163, 'manabisa': 2944, 'kalitrus': 2372, 'matteaplikatornya': 2998, 'brushnyapokoknya': 832, 'bedah': 543, 'dikombinasiin': 1314, 'okeee': 3561, 'mereesap': 3072, 'kecilin': 2432, 'ngematte': 3338, 'ye': 5455, 'syukkaaa': 4800, 'masyaallah': 2982, 'blentong': 746, 'freagance': 1643, 'cepetttt': 982, 'selebgram': 4369, 'ngerecommend': 3350, 'iniiiii': 2166, 'soon': 4617, 'bwt': 897, 'epic': 1525, 'benerrr': 592, 'lengkettttt': 2773, 'productttt': 3971, 'ituuuuu': 2235, 'aware': 376, '149k': 14, 'biore': 723, 'abiiisss': 73, 'larilari': 2716, 'nyaaaa': 3483, 'bangetttttgt': 478, 'compare': 1090, 'cek': 960, 'untjk': 5224, 'hollllllllyyyyyyyyyyyyyyyyyyyyy': 2051, 'graillllllllllllllllllll': 1881, 'bangeeeeeetttt': 448, 'moooo': 3161, 'nangissss': 3235, 'iniiiiiii': 2168, 'sebagusnituu': 4299, 'aghhhj': 131, 'ngira': 3377, 'gataunya': 1746, 'beliiiii': 571, 'encerterlalu': 1511, 'buyyy': 895, 'gonna': 1866, 'lie': 2797, 'ala2': 198, 'lo': 2823, 'berjuta2': 624, 'daki': 1183, 'tacky': 4809, 'sel': 4358, 'mati': 2994, 'tiba': 5040, 'br': 803, 'expensive': 1547, 'smga': 4578, 'ttg': 5151, 'suncsreen': 4733, 'iniproduk': 2181, 'wajahga': 5289, 'ehehe': 1469, 'tell': 4897, 'trurt': 5139, 'bbrpa': 524, 'bgtu': 698, '34jam': 38, 'temanteman': 4901, 'natutal': 3247, 'contained': 1102, 'triazone': 5125, 'isoamyl': 2216, 'pmethoxycinnamate': 3856, 'polysilicone15': 3895, 'our': 3606, 'am': 236, 'survivor': 4786, 'here': 2012, 'ram': 4051, 'sehappy': 4332, 'alpply': 228, 'kereeen': 2494, 'youre': 5476, 'soo': 4616, 'amazinggg': 248, 'pentinga': 3777, 'ternyta': 4970, 'akutuh': 188, 'oilyacne': 3551, 'literally': 2820, 'sold': 4605, 'percicaan': 3784, 'alwaysss': 235, 'physicalfinish': 3814, 'bangetcocok': 462, 'harta': 1968, 'karun': 2406, 'kurleb': 2649, 'ngaruuh': 3287, 'hahha': 1927, 'nprue': 3443, 'ingrediantsnya': 2150, 'sps': 4647, 'baikbaik': 422, 'adaa': 101, 'diskonn': 1372, 'lumayann': 2877, 'thankss': 5008, 'tekstureenya': 4877, 'kusampackagingnya': 2656, 'kotak': 2605, 'bagussssbgt': 403, 'sumfehhh': 4709, 'ofcourse': 3543, 'bunddddd': 875, 'lembuttttt': 2754, 'tanggung': 4836, 'degdegan': 1228, 'blendtapi': 745, 'botanical': 795, 'if': 2103, 'might': 3097, 'want': 5316, 'already': 229, 'enough': 1521, 'glides': 1827, 'reminds': 4124, 'neogens': 3272, 'totally': 5099, 'lansung': 2710, 'mlembabkan': 3129, 'castnya': 950, 'bakteri': 433, 'mukaemg': 3186, 'kerucut': 2512, 'jarijari': 2262, 'pemakaiaannya': 3762, 'recently': 4086, 'sukaakk': 4694, 'kereeennnn': 2496, 'akhirnyaaaa': 161, 'hargaa': 1961, 'mantab': 2956, 'npurenya': 3455, 'kaleng': 2365, 'mosturizer': 3165, 'lucy': 2874, 'pms': 3858, 'jerwatan': 2294, 'packging': 3646, 'langgan': 2700, 'ucul': 5192, 'nemenuin': 3262, 'pakaidan': 3669, 'memliki': 3033, 'glowingggggg': 1837, 'ssnya': 4657, 'barusan': 501, 'pinggir': 3825, 'siksa': 4503, 'dampak': 1187, 'dpet': 1421, 'tuk': 5164, 'pnting': 3862, 'sdah': 4290, 'halalaman': 1932, 'jnis': 2305, 'nyengat': 3513, 'bajalan': 424, 'classy': 1039, 'internasional': 2204, 'label': 2669, 'apabila': 293, 'bijak': 714, 'ininpure': 2180, 'gunakanproduk': 1908, 'selainn': 4360, 'inituuu': 2190, 'banua': 490, 'mencaricari': 3041, 'applycatormya': 331, 'tkt': 5072, 'fa': 1555, 'ingredient': 2152, 'melembabkannya': 3023, 'gmpang': 1852, 'termoisture': 4967, 'gils': 1805, 'itusih': 2230, 'sunscrean': 4742, 'ahkirnya': 140, 'prnah': 3962, 'akhir2': 158, '50spf': 47, 'biat': 710, 'kemasaanya': 2467, 'ampir': 254, 'toko': 5082, '34': 37, 'mengcalming': 3051, 'akalin': 154, 'mahasiswa': 2901, 'terimaksih': 4954, 'gangerti': 1716, 'yuks': 5488, 'lengketdan': 2765, 'muncul2': 3203, 'dehlove': 1233, 'diracunin': 1353, 'ngeracunin': 3341, 'nga': 3279, 'moisturisingnya': 3149, 'npuredah': 3447, 'doooongggkrn': 1415, 'lainnyapokoknya': 2690, 'deeehhhhlove': 1223, 'suncreennyaa': 4730, 'akuutekstur': 190, 'medsos': 3015, 'ultraviolet': 5210, 'gag': 1686, 'kalem': 2364, 'finis': 1594, '5hari': 52, 'sunscreenkarena': 4749, 'kun': 2643, 'nyesal': 3521, 'cobainaku': 1059, 'laff': 2671, 'ngeh': 3321, 'antiaging': 279, 'pantes': 3709, 'mulukmuluk': 3198, 'klaimnyatapi': 2552, 'tiputipugilasih': 5067, 'huee': 2076, 'poin': 3865, 'nyobainn': 3533, 'rena': 4125, 'baangetttttttttttttttttttt': 382, 'akhirnyaringan': 163, 'bkl': 731, 'sina': 4518, 'lengket2': 2763, 'workit': 5393, 'bgni': 679, 'depa': 1249, 'searching': 4295, 'restok': 4140, 'dominan': 1400, 'garis': 1735, 'wih': 5365, 'blande': 735, 'bngett': 760, 'adekku': 108, 'grease': 1885, 'meyerapnya': 3092, 'lindungin': 2814, 'binggung': 720, 'fregrance': 1649, 'power': 3934, 'marigold': 2968, 'pudarin': 4005, 'dipakaipackagingnya': 1341, 'higenis': 2023, 'baguspakai': 398, 'anmakeup': 273, 'flawlessharganya': 1617, 'woy': 5409, 'sumpaaaaah': 4711, 'buagus': 841, 'heh': 1993, 'ply': 3854, 'sehari2': 4334, 'daycream': 1211, 'deehhh': 1224, '50nya': 45, 'menurutkuapalagi': 3064, 'berjerawatini': 620, 'krisan': 2616, 'npuresunscreen': 3460, 'ppkm': 3936, 'aromanyaa': 347, 'menhganding': 3058, 'fragnance': 1638, 'moizturizer': 3157, 'yaaiiiyy': 5427, 'yuhuuu': 5485, 'beban': 536, 'wkkww': 5375, 'manteb': 2960, 'padan': 3655, 'dehhhh': 1232, 'cera': 983, 'sunkarna': 4735, 'ala': 197, 'makek': 2917, 'jsdi': 2312, 'gasken': 1740, 'tapiiii': 4845, 'hasih': 1971, 'alamisari': 203, 'krisanekstrak': 2617, 'chamomila': 997, 'sis': 4526, 'ingridients': 2158, 'testedparaben': 4991, 'freesls': 1648, 'freemineral': 1646, 'freealcohol': 1645, 'freeminimal': 1647, 'ingridientfragrance': 2157, 'finallyyy': 1589, 'never': 3276, 'thought': 5030, 'fan': 1566, 'didnt': 1304, 'gentle': 1782, 'perfume': 3789, 'etc': 1531, 'nutritious': 3475, 'bc': 525, 'camomile': 919, 'skinlike': 4546, 'complement': 1092, 'tried': 5127, 'comes': 1084, 'body': 780, 'bigger': 713, 'friend': 1654, 'who': 5362, 'keep': 2437, 'merupaka': 3081, 'pikoknya': 3819, 'celacela': 962, 'jendela': 2287, 'npurejenis': 3454, 'blandengga': 736, 'whitecastnyapas': 5360, 'moisturizermeskipun': 3154, 'goks': 1862, 'kardus': 2396, 'warp': 5319, 'congrast': 1098, 'shipping': 4473, 'meresapkulitku': 3077, 'nyobatin': 3537, 'berminyakkemasannya': 641, 'reccomend': 4084, 'modern': 3143, 'list': 2818, 'pokoknyaudah': 3883, 'taku': 4821, 'gaboleh': 1680, 'npureini': 3453, 'debat': 1215, 'yaps': 5450, 'recom': 4087, 'ingredienst': 2151, 'malem': 2935, 'gokss': 1863, 'berjerwat': 622, 'gerahh': 1785, 'ahirnya': 139, 'donggteksturnya': 1407, 'bangettttttt': 481, 'desfan': 1258, 'pipet': 3829, 'adang': 104, 'current': 1158, 'sblmnya': 4282, 'benernyaman': 590, 'typecal': 5186, 'bakalam': 427, 'ngendap': 3340, 'jatuhin': 2270, 'tuntut': 5175, 'ceper': 978, 'mantulll': 2967, 'lngket': 2821, 'adek': 107, 'idup': 2102, 'abubikin': 86, 'andddd': 265, 'bcz': 527, 'worries': 5397, 'kerennndan': 2501, 'wajahhh': 5293, 'ngk': 3378, 'bedaa': 542, 'jemur': 2285, 'emosi': 1502, 'says': 4276, 'crysanthemum': 1142, 'terang': 4930, 'tulis': 5165, 'bahasa': 416, 'inggris': 2148, 'embossed': 1496, 'lancip': 2699, 'glycerin': 1846, 'dibutyl': 1295, 'adipate': 111, 'butyloctyl': 892, 'butylene': 891, 'glycol': 1848, 'pentylene': 3779, 'pmethoxycinnamatepolysilicone15': 3857, 'inulin': 2208, 'lauryl': 2725, 'carbamate': 936, 'chrysantemum': 1012, 'parthenium': 3729, 'feverfew': 1583, 'recutita': 4100, 'matricaria': 2995, 'sodium': 4602, 'acrylate': 91, 'acrylodimethyl': 94, 'taurate': 4856, 'copolymer': 1110, 'acrylates': 92, 'c1030alkyl': 902, 'crosspolymer': 1140, 'thrometamine': 5032, 'isodexadecane': 2217, 'glyceryl': 1847, 'caprylate': 932, 'caprylil': 933, 'polisorbate': 3890, '80': 54, 'sinenss': 4521, 'sorbitan': 4621, 'oleate': 3568, 'consistency': 1100, 'rebus': 4083, 'ngebut': 3306, 'had': 1918, 'ngeblandnya': 3300, 'dipakeapalagi': 1343, 'pollnggak': 3893, 'bangttttt': 486, 'favoritttttt': 1576, 'semuaaaa': 4389, 'resultnya': 4142, 'tembus': 4902, 'dailyku': 1182, 'sndiri': 4589, 'bgtt2': 691, 'ringancepet': 4171, 'lengkettrus': 2772, 'perihhlovee': 3795, 'superb': 4774, 'cool': 1108, 'blendeble': 743, 'amaz': 244, 'prep': 3950, 'secintaaa': 4312, 'teruuss': 4984, 'pakanya': 3671, 'whort': 5363, 'gaess': 1685, 'saku': 4226, 'ets': 1533, 'ampunnn': 256, 'toxic': 5103, 'supwrluvv': 4781, 'approved': 334, 'aaaaa': 61, 'ali': 216, 'suncscreennya': 4732, 'bner': 756, 'soalnyaa': 4597, 'pkonyaa': 3839, 'ngehapus': 3322, 'sponge': 4641, 'bergumpal2': 617, 'absorb': 81, 'takuttapi': 4825, 'selove': 4374, 'punyaaa': 4014, 'lahh': 2685, 'nyekekk': 3512, 'waterr': 5325, 'nan': 3232, 'kemanapunn': 2461, 'recomed': 4088, 'kayaa': 2417, 'lagiii': 2676, 'apaaa': 290, 'bgttttkrim': 695, 'paraven': 3723, 'akuuuusuka': 194, 'akupaling': 180, 'bangus': 487, 'applikasiin': 328, 'tekturenya': 4889, 'dada': 1175, 'sihdari': 4488, 'ringannon': 4179, 'calmga': 912, 'singkat': 4522, 'lagj': 2682, 'yok': 5473, 'chakep': 995, 'berantak': 604, 'huu': 2083, 'grailnya': 1882, 'hihihi': 2031, 'crysanthium': 1144, 'esktrak': 1528, 'ma': 2890, 'indera': 2134, 'inikalian': 2171, 'gendutgendut': 1777, 'cocokdan': 1072, 'memuaskanmudah': 3039, 'paklo': 3689, 'pabisa': 3626, 'denfan': 1241, 'preparation': 3951, 'keq': 2492, 'trust': 5142, 'ngomong': 3382, 'cintya': 1029, 'thaknyou': 5003, 'cicaa': 1015, 'kemanaa': 2459, 'absolutely': 80, 'biarpun': 702, 'cantul': 931, 'secintaa': 4311, 'favvv': 1577, 'irit': 2210, 'wak': 5307, 'ijo2': 2112, 'waa': 5280, 'ngemoist': 3339, 'bbrp': 523, 'yuhuu': 5484, 'sensation': 4404, 'berpapsan': 645, 'finallynemuin': 1588, 'pmbelian': 3855, 'woaaaaw': 5382, 'andelan': 266, 'gtuh': 1898, 'tuapenuaan': 5157, 'berwhite': 656, 'inisih': 2184, 'jagain': 2246, 'pegagan': 3756, 'nongol': 3428, 'kinyis2': 2539, 'hhihi': 2017, 'sesnsitif': 4443, 'ragutapi': 4048, 'bangetgampang': 466, 'kulitapalagi': 2638, 'berminyaklepas': 642, 'putihglowing': 4028, 'dongtolongg': 1409, 'produkini': 3975, 'terbilanh': 4940, 'hr': 2063, 'suruh': 4785, 'angsung': 271, 'ka': 2342, 'enakin': 1506, 'mauy': 3007, 'belang2': 565, 'muma': 3201, 'su': 4677, 'creen': 1136, 'hang': 1950, 'iniwalaupunspf': 2192, 'tinggalin': 5057, 'nihh': 3404, 'glowly': 1842, 'tuhhh': 5163, 'complete': 1093, 'ringaaan': 4166, 'minimalisir': 3113, 'produknyamuka': 3981, 'alhamdulilah': 213, 'aduhhh': 115, 'fans': 1567, 'booming': 789, '10000100': 3, 'akun': 178, 'shoope': 4474, 'video': 5272, 'hoby': 2049, 'jalan2': 2252, 'waterbased': 5322, 'terdabest': 4942, 'rua': 4197, 'rasanyar': 4062, 'memosturize': 3036, 'normalbto': 3436, 'bgttttt': 696, 'iniiiiiiiiiiiiiiii': 2169, 'recomendedddd': 4093, 'nihhhh': 3406, 'trutamaaaaaaa': 5143, 'buatttt': 847, 'kaliannnnnnnnnn': 2370, 'seringgggg': 4429, 'ngelakuin': 3324, 'aktifitasssss': 169, 'rumahhhhh': 4207, 'kuranglebih': 2647, 'pentingokee': 3778, 'wajahh': 5291, 'mantull': 2966, 'pakagingnya': 3666, 'sejuat': 4342, 'tengkyuu': 4918, 'dabesst': 1173, 'slain': 4559, 'untk': 5225, 'wjah': 5373, 'terringan': 4975, 'favoritkuu': 1575, 'kucariii': 2629, 'gamudah': 1715, 'rajinrajinnya': 4050, 'isoman': 2218, 'mudahann': 3180, 'getting': 1792, 'risih': 4185, 'reksturnyaaa': 4120, 'bikinn': 716, 'bakl': 432, 'inisihhh': 2185, 'pastiii': 3740, 'produkkk': 3977, 'enk': 1519, 'nyobak': 3535, 'sensitifudah': 4409, 'ceraah': 984, 'ringangak': 4173, 'gemesss': 1771, 'bueat': 853, 'beut': 674, 'ndak': 3249, 'papparan': 3714, 'packingannya': 3648, 'kegiatannku': 2438, 'bang': 442, 'rugi': 4203, 'lebig': 2739, 'heavy': 1988, 'sampean': 4248, 'muai': 3171, 'yaay': 5432, 'lembabnya': 2747, 'range': 4055, 'rekomenasi': 4109, 'galau': 1698, 'prawatan': 3944, 'panasansetelah': 3701, 'ttep': 5150, 'mulu': 3197, 'dirasain': 1355, 'karenabenerbener': 2401, 'mengandumg': 3048, 'kukut': 2633, 'iniini': 2170, 'teksturnnya': 4879, 'glowingggg': 1836, 'aaahh': 66, 'semsitif': 4384, 'jelekk': 2283, 'bnaget': 755, 'huat': 2074, 'jan': 2255, 'sukain': 4697, 'whitecastnyaa': 5359, 'udaa': 5195, 'loo': 2836, 'pakw': 3691, 'lengkeg': 2760, 'semuaa': 4387, 'gagall': 1688, 'semuaaa': 4388, 'melindungicepat': 3026, 'teballlsuka': 4865, 'alkoholparabensls': 220, 'busuihalal': 884, 'pulapokoknya': 4008, 'seginii': 4329, 'thankyouuuuuuuuuuuuuuuuuuuuuuuuuuuuuuuuuuuuuuuuuuuuuuuuuuuuuuuuuu': 5013, 'glowingpokonya': 1840, 'pragrance': 3937, 'bahanbahannya': 415, 'rapih': 4059, 'bagu': 394, 'ampunnnn': 257, 'musim': 3209, 'seringsering': 4430, 'jemurjemur': 2286, 'yeeey': 5463, 'hahahaha': 1925, 'support': 4780, 'cocokcocok': 1071, 'anyway': 286, 'spertinya': 4632, 'sensitivekombinasi': 4412, 'sdikit': 4293, 'baik2': 421, 'keefektifitasan': 2436, 'scr': 4284, 'kluar2': 2562, 'smg': 4577, 'pricely': 3955, 'seworthit': 4456, 'hydrated': 2091, 'aaaah': 64, 'lagiiiii': 2677, 'gitcuuuu': 1814, 'lancar': 2698, 'campur': 920, 'gilakkk': 1802, 'abel': 71, 'pakenyaterus': 3687, 'aplikasiian': 309, 'mukasuka': 3190, 'yeyyyy': 5469, 'dpetin': 1422, 'ajib': 152, 'gabanyak': 1674, 'ngesetnya': 3364, 'leleh': 2743, 'gelap': 1760, 'terapapar': 4931, 'antiinflamasi': 280, 'asiknya': 357, 'punggung': 4011, 'krasa': 2609, '1mingguan': 19, 'bsa': 835, 'leber': 2736, 'sukaaakk': 4692, 'sepadet': 4417, 'berfragrance': 616, 'cintaas': 1026, 'cpet': 1124, 'jdiin': 2278, 'hahahha': 1926, 'bangetsuka': 472, 'dikulitkubuat': 1316, 'pore': 3899, 'ngeluarinnya': 3335, 'selektif': 4370, 'lima': 2810, 'siliconefree': 4510, 'endulita': 1513, 'manjaaa': 2952, 'sbgai': 4280, 'cuakep': 1146, 'puollll': 4016, 'beuhhhh': 673, 'nampolll': 3230, 'tsay': 5148, 'halang': 1934, 'cerita': 992, 'itdari': 2222, 'teksture2': 4876, 'sunscrennya': 4763, 'huaaaah': 2073, 'ehehehe': 1471, 'qt': 4033, 'aky': 196, 'cintaaaa': 1023, 'whitwcast': 5361, 'oksida': 3565, 'acohol': 90, 'packacing': 3631, 'aesteticc': 117, 'gemesinn': 1769, 'yass': 5451, 'meninggalkn': 3059, 'plusss': 3853, 'wohooo': 5384, 'dandan': 1189, 'yukk': 5487, 'motor': 3166, 'enakny': 1508, 'hargany': 1962, 'pokokny': 3875, 'lemgket': 2756, 'galengket': 1699, 'dongg': 1404, 'rumahngga': 4209, 'pakeegampang': 3679, 'lggg': 2782, 'dilindungin': 1320, 'bneran': 758, 'asliiikkkk': 362, 'pis': 3831, 'bangetbdi': 461, 'berminyaaak': 637, 'supeeer': 4771, 'seriusss': 4434, 'ciri': 1032, 'kuli': 2634, 'tuu': 5181, 'galfok': 1700, 'pa50': 3624, 'npureid': 3452, 'sukaaaaaaaaa': 4689, 'bngttt': 766, 'cukuppp': 1153, 'kategori': 2411, 'akohhhh': 165, 'sukaaaaa': 4686, 'lobe': 2824, 'favoriteku': 1573, 'jas': 2264, 'yqng': 5480, 'izin': 2239, 'sertifikat': 4436, 'skop': 4553, 'ngeskip': 3365, 'koleksi': 2588, 'cos': 1112, 'jrawat': 2309, 'centela': 971, 'chamomille': 1000, 'lengketwangi': 2775, 'cerahkesannya': 989, 'thebest': 5016, 'pakelembut': 3683, 'lahhh': 2686, 'setiapkeluar': 4451, 'hahah': 1923, 'smngattt': 4580, 'selanjutnyaaa': 4365, 'suksess': 4706, 'sllu': 4566, 'ngeganggu': 3318, 'minyakannn': 3118, 'nonkomedogenic': 3430, 'trlu': 5132, 'yeayy': 5459, 'sebaguss': 4300, 'wajih': 5304, 'toppp': 5097, 'nangisss': 3234, 'panasanabikin': 3699, 'cerahglowing': 988, 'ngeblok': 3303, 'haloo': 1938, 'whitecas': 5349, 'jugaspfnya': 2331, 'percayain': 3783, 'npureemang': 3451, 'itusihwajah': 2231, 'beruntusansetelh': 655, 'hilangaku': 2038, 'positif': 3904, 'cengang': 969, 'jungkal': 2338, 'jth': 2313, 'cnta': 1048, 'kndungan': 2576, 'bpomhalal': 800, 'lagipas': 2681, 'aplikasikn': 312, 'nnti': 3416, 'krg': 2614, 'offeral': 3545, 'meghidrasi': 3018, 'greese': 1890, 'silicon': 4507, 'nebel': 3250, 'simpelcute': 4512, 'firendly': 1606, 'faforiteeeee': 1559, 'dibleand': 1288, 'siska': 4530, 'kohl': 2582, 'woii': 5386, 'cantikk': 930, 'jumpa': 2336, 'basis': 506, 'jdaman': 2276, 'trlalu': 5130, 'bruntus': 823, 'nyoba2': 3530, 'kosong': 2604, 'na18211700661': 3217, 'melidungi': 3025, 'jahatt': 2248, 'specialnya': 4628, 'banjir': 488, 'foundition': 1636, 'luff': 2875, 'antioxidant': 283, 'bayang': 518, 'tip': 5060, 'acrylic': 93, 'niattt': 3400, 'tub': 5158, 'empuk': 1503, 'recommed': 4095, 'nyereppp': 3520, 'dicobainnn': 1301, 'emas': 1495, 'cooling': 1109, 'messy': 3083, 'eksklusif': 1478, 'ngeleber': 3325, 'longtime': 2835, 'wajahnyaa': 5298, 'apas': 301, 'yey': 5468, 'hihih': 2030, 'gakk': 1695, 'mantemannn': 2961, 'yup': 5489, 'kandunganya': 2383, 'dimukaspfnya50pa': 1330, 'rekomemded': 4107, 'panassan': 3703, 'bos': 794, 'anw': 284, 'memoliki': 3035, 'coock': 1107, 'jerawta': 2293, 'sj': 4537, 'ilove': 2119, 'eheheh': 1470, 'gg': 1793, 'sist': 4531, 'annoying': 274, 'caricari': 940, 'bnran': 771, 'prodaknya': 3965, 'lengketdi': 2766, 'cerahpokonya': 990, 'resep': 4137, 'lgs': 2786, 'putihhh': 4029, 'bangettaman': 474, 'matahariproduk': 2988, 'akuuukarena': 192, 'pemakaianya': 3765, 'wajin': 5305, 'halalnyaa': 1933, 'kalangannn': 2362, 'sn': 4588, 'jumpain': 2337, 'bandel': 438, 'sush': 4790, 'silicondll': 4508, 'ringanmelembabkan': 4175, 'untul': 5228, 'tempelin': 4911, 'tmbah': 5074, 'direkomendasiin': 1362, 'inikandungan': 2172, 'lengkapsekarang': 2759, 'lagiaman': 2674, 'lembak': 2748, 'sangaat': 4253, 'pakebebas': 3675, 'ringancepat': 4170, 'terbaikwaktu': 4939, 'launchinglangsung': 2724, 'aktifitasnya': 168, 'belangkusum': 566, 'trik': 5128, 'healty': 1987, 'glowinggg': 1835, 'kandungann': 2382, 'perskincare': 3804, 'woi': 5385, 'benrrr': 595, 'bgtbgtbgtttbgt': 685, 'fragerance': 1637, 'spa': 4627, 'keluarga': 2451, 'banyakkk': 493, 'bulet': 862, 'sharing': 4465, 'ngtt': 3391, 'tektur': 4888, 'bumill': 869, 'omong': 3577, 'jejak': 2281, 'ekslusif': 1479, 'wajahbener2': 5287, 'kwalitas': 2659, 'unt': 5223, 'kau': 2412, 'gituuuu': 1824, 'terbaikk': 4936, 'pakeee': 3678, 'pokonyaaaa': 3887, 'makasiiikkkk': 2914, 'cammomile': 918, 'cerahgak': 987, 'wajahmakasih': 5296, 'incer': 2130, 'tonernya': 5088, 'mngenadung': 3135, 'huaaaa': 2071, 'wajibbbb': 5303, 'appy': 335, 'pahamm': 3663, 'sukaak': 4693, 'hsrus': 2069, 'putih2': 4027, 'nonalchohol': 3422, 'explore': 1550, 'setinggi': 4452, 'nihhh': 3405, 'ingedientsnya': 2147, 'pokoknyaaaku': 3881, 'racunin': 4041, 'five': 1610, 'centellanya': 973, 'ngg': 3368, 'nii': 3408, 'nangkap': 3236, 'lembu': 2750, 'nyegat': 3511, 'tang': 4833, 'masing': 2975, 'centeaaciatika': 970, 'terasaa': 4933, 'sklii': 4551, 'akh': 156, 'naman': 3225, 'skarang': 4541, 'berangkat': 601, 'panasankarna': 3700, 'iteminijuga': 2224, 'mukany': 3189, 'gabikinin': 1678, 'nulis': 3467, 'kemudian': 2473, 'ringanga': 4172, 'hijab': 2034, 'nha': 3396, 'woowww': 5390, 'sedmpat': 4322, 'sunscreen2': 4747, 'keliahatn': 2445, 'gilaaadan': 1799, 'serig': 4426, 'menganduk': 3047, 'sadar': 4218, 'smggu': 4579, 'hsilnya': 2068, 'extraas': 1552, 'usual': 5251, 'thincenderung': 5023, 'lengketgreasy': 2768, 'either': 1474, 'ekonomis': 1477, 'perlh': 3798, 'part': 3728, 'supeer': 4772, 'nungguin': 3472, 'dibwh': 1297, 'nyangkaini': 3501, 'lannya': 2709, 'woubikin': 5403, 'lembabdan': 2745, 'lindu': 2812, 'bjatuh': 729, 'cakeep': 907, 'looking': 2839, 'relatif': 4121, 'jatohnya': 2266, 'lengketttttt': 2774, 'termantul': 4965, 'benerlembut': 589, 'gamoang': 1710, 'kantung': 2392, 'elastisitas': 1486, 'formulanyaya': 1627, 'crysantheum': 1143, 'kenapaa': 2480, 'ngeratain': 3346, 'paskibra': 3736, 'bangetlahh': 468, 'glownya': 1843, 'oy': 3621, 'gray': 1884, 'mmg': 3133, 'aslik': 363, 'nakar': 3223, 'minyakann': 3117, 'apalagiii': 297, 'mataharijujur': 2986, 'cencer': 966, 'herbal': 2011, 'neglindungin': 3257, 'rana': 4054, 'khawarir': 2529, 'ebst': 1449, 'noure': 3441, 'aunscreen': 371, 'memoisturizing': 3034, 'terrr': 4976, 'naturalalami': 3243, 'sukkaaaa': 4705, 'mainmain': 2906, 'keluarberaktivitas': 2450, 'textur': 4997, 'setetlah': 4448, 'beratt': 608, 'ngelembkan': 3330, 'gerahlengket': 1786, 'cobaaainnnnn': 1056, 'iyaaa': 2238, 'indikator': 2135, 'mevvah': 3089, 'encer': 1510, 'wktu': 5376, 'sukaakkkk': 4695, 'active': 95, 'terthe': 4979, 'melembabpin': 3024, 'teksturr': 4884, 'perlahan': 3797, 'lovely': 2856, 'hatisoalnya': 1981, 'gthu': 1895, 'sunscrenya': 4764, 'nonalkohol': 3424, 'mencet': 3042, 'gakkk': 1696, 'dongggg': 1406, 'abiss': 75, 'pbom': 3749, 'gprlu': 1877, 'testurnya': 4993, 'sisain': 4528, '107': 8, '1540': 16, 'lillymaliah': 2809, 'tibe': 5041, '1541': 17, 'tajem': 4816, 'keluarpunya': 2453, 'tara': 4848, 'tiapjalan': 5038, 'packadgingnya': 3632, 'handle': 1948, 'parahakhirnya': 3719, 'mostly': 3164, 'moisturizernya': 3155, 'gw': 1916, 'teskturnta': 4987, 'bangat': 444, 'hhi': 2016, 'bangak': 443, 'meindungi': 3019, 'udahh': 5197, 'sebagusss': 4301, 'herann': 2010, 'produknyaaa': 3980, 'mh': 3093, 'aplicatornya': 307, 'nyisahin': 3527, 'gedong': 1756, 'shayy': 4466, 'yaampoonn': 5430, 'mommy': 3159, 'dipakeenon': 1344, 'alkoholpastinya': 221, 'bpomjd': 801, 'pol': 3888, 'hydrate': 2090, 'through': 5033, 'check': 1006, 'tt': 5149, 'banegt': 440, 'keburu2': 2427, 'kenall': 2478, 'akutesturnya': 186, 'hariburuan': 1966, 'yaah': 5425}\n"
          ]
        }
      ]
    },
    {
      "cell_type": "markdown",
      "source": [
        "#### Model"
      ],
      "metadata": {
        "id": "MpWHGpa1wwPS"
      }
    },
    {
      "cell_type": "code",
      "source": [
        "sociolla_model = SVC(kernel='linear')\n",
        "sociolla_model.fit(sociolla_train_tfidf, sociolla_Y_train)"
      ],
      "metadata": {
        "colab": {
          "base_uri": "https://localhost:8080/"
        },
        "id": "pCqa1PJOhwc3",
        "outputId": "b6f652f3-cea8-4e0f-dfc9-80a327719536"
      },
      "execution_count": null,
      "outputs": [
        {
          "output_type": "execute_result",
          "data": {
            "text/plain": [
              "SVC(kernel='linear')"
            ]
          },
          "metadata": {},
          "execution_count": 51
        }
      ]
    },
    {
      "cell_type": "markdown",
      "source": [
        "#### Accuracy"
      ],
      "metadata": {
        "id": "yy7KHNznw0Fk"
      }
    },
    {
      "cell_type": "code",
      "source": [
        "sociolla_predictions_SVM = sociolla_model.predict(sociolla_test_tfidf)\n",
        "sociolla_test_prediction = pd.DataFrame()\n",
        "sociolla_test_prediction['text'] = sociolla_X_test\n",
        "sociolla_test_prediction['sentiment'] = sociolla_predictions_SVM\n",
        "sociolla_SVM_accuracy = accuracy_score(sociolla_predictions_SVM, sociolla_Y_test) * 100\n",
        "sociolla_SVM_accuracy = round(sociolla_SVM_accuracy, 1)"
      ],
      "metadata": {
        "id": "8AKpEg2ihyzn"
      },
      "execution_count": null,
      "outputs": []
    },
    {
      "cell_type": "code",
      "source": [
        "sociolla_SVM_accuracy"
      ],
      "metadata": {
        "colab": {
          "base_uri": "https://localhost:8080/"
        },
        "id": "X7qKVvTOh92O",
        "outputId": "dccaab42-0fde-4851-d248-49a572f2f91d"
      },
      "execution_count": null,
      "outputs": [
        {
          "output_type": "execute_result",
          "data": {
            "text/plain": [
              "99.0"
            ]
          },
          "metadata": {},
          "execution_count": 53
        }
      ]
    },
    {
      "cell_type": "code",
      "source": [
        "print(\"\\nHere is the classification report:\") \n",
        "print(classification_report(sociolla_Y_test, sociolla_predictions_SVM))"
      ],
      "metadata": {
        "colab": {
          "base_uri": "https://localhost:8080/"
        },
        "id": "niKsZOfxiDzO",
        "outputId": "85db8887-3bba-4930-b51c-70f49dec56b3"
      },
      "execution_count": null,
      "outputs": [
        {
          "output_type": "stream",
          "name": "stdout",
          "text": [
            "\n",
            "Here is the classification report:\n",
            "              precision    recall  f1-score   support\n",
            "\n",
            "    negative       0.00      0.00      0.00         3\n",
            "     neutral       0.00      0.00      0.00         2\n",
            "    positive       0.99      1.00      1.00       511\n",
            "\n",
            "    accuracy                           0.99       516\n",
            "   macro avg       0.33      0.33      0.33       516\n",
            "weighted avg       0.98      0.99      0.99       516\n",
            "\n"
          ]
        },
        {
          "output_type": "stream",
          "name": "stderr",
          "text": [
            "/usr/local/lib/python3.7/dist-packages/sklearn/metrics/_classification.py:1308: UndefinedMetricWarning: Precision and F-score are ill-defined and being set to 0.0 in labels with no predicted samples. Use `zero_division` parameter to control this behavior.\n",
            "  _warn_prf(average, modifier, msg_start, len(result))\n",
            "/usr/local/lib/python3.7/dist-packages/sklearn/metrics/_classification.py:1308: UndefinedMetricWarning: Precision and F-score are ill-defined and being set to 0.0 in labels with no predicted samples. Use `zero_division` parameter to control this behavior.\n",
            "  _warn_prf(average, modifier, msg_start, len(result))\n",
            "/usr/local/lib/python3.7/dist-packages/sklearn/metrics/_classification.py:1308: UndefinedMetricWarning: Precision and F-score are ill-defined and being set to 0.0 in labels with no predicted samples. Use `zero_division` parameter to control this behavior.\n",
            "  _warn_prf(average, modifier, msg_start, len(result))\n"
          ]
        }
      ]
    },
    {
      "cell_type": "markdown",
      "source": [
        "### Female daily"
      ],
      "metadata": {
        "id": "hQ5C0rBA4dW3"
      }
    },
    {
      "cell_type": "markdown",
      "source": [
        "#### TFIDF"
      ],
      "metadata": {
        "id": "bvjRQovI4dW4"
      }
    },
    {
      "cell_type": "code",
      "source": [
        "femaleDaily_TFIDF = TfidfVectorizer()"
      ],
      "metadata": {
        "id": "YH5lv1rx9vBd"
      },
      "execution_count": null,
      "outputs": []
    },
    {
      "cell_type": "code",
      "source": [
        "femaleDaily_TFIDF.fit(data_femaleDaily['text'])\n",
        "femaleDaily_train_tfidf = femaleDaily_TFIDF.transform(femaleDaily_train['text'])\n",
        "femaleDaily_test_tfidf = femaleDaily_TFIDF.transform(femaleDaily_test['text'])"
      ],
      "metadata": {
        "id": "0-UO_EHZ4dW4"
      },
      "execution_count": null,
      "outputs": []
    },
    {
      "cell_type": "code",
      "source": [
        "print(femaleDaily_TFIDF.vocabulary_)"
      ],
      "metadata": {
        "colab": {
          "base_uri": "https://localhost:8080/"
        },
        "outputId": "52129f4a-5358-4eb3-be44-9e2dad9281e4",
        "id": "RC0XDzUM4dW4"
      },
      "execution_count": null,
      "outputs": [
        {
          "output_type": "stream",
          "name": "stdout",
          "text": [
            "{'jelek': 343, 'banget': 68, 'akhir': 24, 'beli': 92, 'produk': 619, 'ini': 317, 'pas': 587, 'lagi': 414, 'sale': 671, 'juga': 353, 'di': 199, 'ecommerce': 225, 'niat': 529, 'emang': 232, 'buat': 138, 'reapply': 642, 'sunscreen': 761, 'through': 807, 'out': 564, 'the': 804, 'day': 190, 'temen': 785, 'yang': 884, 'mau': 476, 'pake': 581, 'pastiin': 589, 'jangan': 329, 'sendiri': 701, 'jadi': 326, 'tetep': 800, 'harus': 300, 'dan': 187, 'bisa': 123, 'set': 711, 'untuk': 844, 'mudah': 496, 'sihhh': 718, 'sun': 755, 'powder': 612, 'dari': 189, 'npure': 537, 'bagus': 60, 'bangett': 71, 'gaboong': 256, 'deh': 192, 'tekstur': 781, 'lembut': 425, 'bgt': 115, 'benerbener': 96, 'lindung': 435, 'kulit': 411, 'papar': 585, 'sinar': 722, 'matahari': 472, 'kalo': 362, 'males': 463, 'biasa': 120, 'langsung': 418, 'yg': 886, 'super': 765, 'praktisss': 616, 'sukak': 752, 'pwoll': 630, 'poko': 603, 'waw': 869, 'sumpah': 754, 'si': 713, 'bener': 94, 'pertama': 597, 'kali': 360, 'nyoba': 550, 'cocok': 172, 'muka': 497, 'akuselain': 28, 'itu': 325, 'nya': 541, 'ringan': 658, 'cepat': 158, 'resap': 651, 'sekali': 687, 'aku': 27, 'glowing': 280, 'beuh': 113, 'cinta': 164, 'sama': 673, 'cica': 163, 'beat': 84, 'jawab': 333, 'bingung': 122, 'kalau': 359, 'dengan': 195, 'kondisi': 401, 'wajah': 861, 'bermakeup': 106, 'powdernya': 613, 'halus': 293, 'nggak': 524, 'sumbat': 753, 'pori': 609, 'atau': 55, 'timbul': 811, 'jerawat': 345, 'tanpa': 776, 'whitecast': 871, 'serap': 705, 'minyak': 490, 'suka': 749, 'aplikatornya': 48, 'brush': 135, 'ada': 11, 'spf': 740, '30nya': 5, 'bantu': 75, 'uvauvb': 855, 'recomendded': 643, 'wajib': 862, 'direapply': 211, 'tiap': 808, 'dua': 221, 'jam': 328, 'ken': 380, 'dah': 184, 'habis': 290, 'hehe': 303, 'love': 443, 'it': 323, 'agak': 17, 'pilih': 599, 'urus': 848, 'soal': 737, 'lengket': 427, 'bikin': 121, 'ga': 254, 'nyaman': 543, 'tapi': 778, 'beda': 88, 'toner': 822, 'terlalu': 794, 'cepet': 159, 'ngeresap': 521, 'asa': 51, 'pakai': 580, 'dempul': 194, 'paling': 583, 'penting': 591, 'nyumbat': 552, 'tinggi': 814, 'tube': 831, 'lucu': 445, 'karena': 367, 'kandung': 365, 'utama': 851, 'terus': 796, 'dia': 200, 'geser': 271, 'makeup': 457, 'aman': 38, 'timpa': 812, 'atas': 54, 'selain': 693, 'bentuk': 98, 'matte': 475, 'in': 316, 'dewy': 198, 'oily': 555, 'inovasi': 321, 'keren': 384, 'gak': 260, 'perlu': 593, 'really': 639, 'sekaligus': 688, 'touchup': 824, 'make': 454, 'up': 846, '30': 4, 'neng': 511, 'stay': 744, 'flawless': 247, 'masih': 470, 'cantik': 152, 'mulifungsi': 498, 'bagi': 59, 'unique': 843, 'because': 87, 'bayangin': 82, 'aja': 20, 'sunscrren': 764, 'bedak': 89, 'satudan': 679, 'lebih': 423, 'gabikin': 255, 'kit': 391, 'bruntusan': 134, 'apply': 50, 'kita': 392, 'kliatan': 395, 'kayak': 372, 'gitu': 275, 'ooo': 562, 'ya': 878, 'saranin': 677, 'nih': 530, 'kalian': 361, 'touch': 823, 'unik': 842, 'sunscreenya': 763, 'gituu': 276, 'kuasnyaa': 409, 'apalagi': 45, 'persenn': 596, 'mantul': 468, 'apkenya': 46, 'gk': 277, 'ribet': 656, 'berulangkali': 109, 'hehehhe': 305, 'semua': 699, 'punya': 625, 'praktis': 615, 'kaya': 371, 'rekomen': 646, 'harga': 296, 'jangkau': 330, 'prahhhh': 614, 'nyobain': 551, 'nyata': 544, 'kusam': 413, 'padahal': 575, 'warna': 867, 'sedikit': 684, 'gelap': 269, 'hasil': 302, 'bangetttt': 73, 'trus': 828, 'kemas': 379, 'cuman': 182, 'biar': 119, 'hehehe': 304, 'pernahh': 595, 'cobainn': 171, 'sii': 719, 'guyss': 289, 'superrr': 767, 'ringann': 659, 'poll': 607, 'susah': 768, 'pokok': 604, 'blend': 126, 'nyaa': 542, 'sudah': 747, 'bpom': 132, 'no': 533, 'alcohol': 32, 'fragrancee': 249, 'bestttttttt': 112, 'sukaaa': 751, 'sih': 716, 'gampang': 262, 'bawa': 80, 'mana': 465, 'apa': 44, 'udah': 837, 'turut': 833, 'ku': 406, 'bneran': 129, 'bagusss': 63, 'ngontrol': 525, 'jugaaa': 355, 'cara': 153, 'lumayan': 446, 'tahan': 771, 'lama': 417, 'kuas': 408, 'rontok': 661, 're': 637, 'baru': 77, 'minimal': 489, 'tampil': 774, 'poriporisekaligus': 610, 'kurang': 412, 'kilau': 390, 'minyakjadi': 491, 'hapus': 295, 'jika': 350, 'sensitive': 703, 'ge': 267, 'seriuss': 707, 'bakal': 66, 'repeat': 648, 'order': 563, 'karna': 368, 'te': 780, 'bangethdjdhdjjdjdjjsjdjdhhdhshshshshshshshshshsheheehhehehehdb': 70, 'jsjsjdjejej': 351, 'jejejejejjeje': 341, 'jejejejejejdjjd': 337, 'jejejejejejejejejjejeje': 339, 'jejejejejjeiee': 340, 'jejejejejeje': 338, 'jejejekekekkjejeejjeej': 342, 'nsjejejejejej': 538, 'jejejejejej': 336, 'suncreen': 757, 'cobaa': 168, 'coba': 167, 'tagih': 770, 'wkwk': 872, 'finish': 244, 'looknya': 439, 'natural': 506, 'luv': 447, 'xx': 877, 'nemuin': 510, 'simple': 721, 'garibet': 265, 'ngeapply': 515, 'seworth': 712, 'sunscreean': 759, 'andalang': 41, 'thnk': 806, 'pure': 627, 'ngeluarin': 519, 'mager': 448, 'demi': 193, 'sihh': 717, 'dr': 218, 'satu': 678, 'baguss': 62, 'ngatasin': 513, 'sembuh': 696, 'cintaaa': 165, 'sma': 734, 'recommended': 645, 'nihhhhh': 531, 'kering': 385, 'dalam': 186, 'waktu': 863, 'sukaa': 750, 'nyerep': 548, 'berminyaak': 107, 'smaa': 735, 'jg': 347, 'okee': 558, 'harganyaa': 297, 'murah': 501, 'jgg': 349, 'superr': 766, 'recomended': 644, 'cari': 154, 'white': 870, 'cast': 156, 'merah2': 482, 'sini': 725, 'lah': 415, 'cobain': 170, 'bau': 79, 'skali': 726, 'cukup': 180, 'risih': 660, 'finishnya': 245, 'usah': 849, 'takut': 772, 'makeuo': 456, 'rusak': 666, 'mo': 494, 'reaplly': 640, 'krena': 404, 'bngt': 130, 'bgtt': 117, 'jugaa': 354, 'sekalisudah': 691, 'bu': 137, 'sui': 748, 'serta': 708, 'bebas': 85, 'bahan': 64, 'berbahayaaa': 101, '50': 6, 'lohh': 437, 'honest': 310, 'review': 654, 'masuk': 471, 'retouch': 652, 'packagingnya': 573, 'packaging': 571, 'kemanamana': 378, 'tekturnya': 782, 'cream': 177, 'jdi': 335, 'ngedempul': 516, 'ngresap': 526, 'jenis': 344, 'affordable': 15, 'produknyaa': 621, 'pliss': 601, 'sesuai': 710, 'klaim': 393, 'walaupun': 865, 'bgtakhirnya': 116, 'kebel': 374, 'ngerasa': 520, 'beruntus': 110, 'ilang': 314, 'inituh': 320, 'bukan': 141, 'normal': 536, 'to': 819, 'dry': 220, 'kaget': 358, 'beres': 102, 'trs': 827, 'lanjut': 419, 'tone': 821, 'upnya': 847, 'diblend': 203, 'numpuk': 539, 'putih': 629, 'skrg': 730, 'blendnya': 127, 'rata': 636, 'berkat': 105, 'bgttttt': 118, 'krna': 405, 'lihat': 434, 'kerut': 387, 'bekurang': 91, 'tambah': 773, 'cerah': 160, 'telah': 784, 'rutin': 667, 'rangkai': 635, 'skincare': 728, 'lain': 416, 'belum': 93, 'dulu': 222, 'berat': 100, 'ninggalin': 532, 'best': 111, 'combo': 174, 'paduin': 578, 'gede': 268, 'worry': 874, 'tinggal': 813, 'asli': 53, 'ter': 789, 'impressed': 315, 'makasih': 453, 'puol': 626, 'ciptain': 166, 'saat': 668, 'worried': 873, 'kenapanapa': 382, 'kan': 364, 'adalah': 12, 'gua': 287, 'product': 618, 'termyata': 795, 'ekspetasi': 230, 'emng': 234, 'kawatir': 370, 'klu': 397, 'pergi': 592, 'bget': 114, 'manfaat': 467, 'jga': 348, 'halal': 292, 'uji': 840, 'dermatolog': 196, 'sls': 733, 'paraben': 586, 'mineral': 485, 'alkohol': 35, 'alergen': 33, 'ue': 839, 'wangi': 866, 'yaaa': 879, 'kmna': 399, 'mna': 493, 'terik': 792, 'siang': 714, 'panas': 584, 'merah': 481, 'jaga': 327, 'meng': 480, 'tuh': 832, 'kombinasi': 400, 'cuma': 181, 'glowimg': 279, 'gabuat': 257, 'nyerepnya': 549, 'mah': 449, 'padhaal': 576, 'gamahal': 261, 'kualitas': 407, 'oke': 557, 'pigmen': 598, 'repotrepot': 649, 'lgs': 431, '2in1': 3, 'hihi': 308, 'loh': 436, 'nggaa': 523, 'dikulitt': 205, 'ramah': 634, 'kantong': 366, 'pokoknyaaaa': 605, 'rekomend': 647, 'bangettttt': 74, 'skrng': 731, 'jugaaaaa': 356, 'yaaaa': 880, 'over': 566, 'bener2': 95, 'makin': 459, 'dong': 216, 'omg': 560, 'addict': 13, 'repurchase': 650, 'iniii': 318, 'texturenya': 801, 'light': 433, 'dipake': 207, 'hari': 298, 'greasy': 284, 'pa': 568, 'bagai': 58, 'uv': 853, 'filter': 243, 'agent': 19, 'memprotect': 479, '100': 0, 'centella': 157, 'asiatica': 52, 'leaf': 421, 'water': 868, 'dapat': 188, 'tenang': 787, 'chrysanthemum': 162, 'extract': 238, 'chamomilla': 161, 'and': 40, 'camellia': 151, 'sinensis': 723, 'akan': 23, 'antioksidan': 43, 'antiinflammatory': 42, 'hidrasi': 306, 'dermatologically': 197, 'tested': 798, 'bumil': 143, 'busui': 146, 'friendly': 251, 'free': 250, 'from': 252, 'oil': 554, 'silicone': 720, 'eu': 237, 'allergen': 36, 'fragrance': 248, 'dabest': 183, 'sunscreennya': 762, 'luar': 444, 'rumah': 664, 'gausah': 266, 'ragu': 633, 'worth': 875, 'buy': 149, 'semenjak': 697, 'thankyou': 803, 'non': 534, 'sensitif': 702, 'terbaikkk': 790, 'bangeeeet': 67, 'tekturnyaaa': 783, 'sering': 706, 'jerawatanbruntusan': 346, 'iritasi': 322, 'efek': 227, 'bund': 144, 'nge': 514, 'enak': 235, 'walau': 864, 'selalu': 694, 'senang': 700, 'bangettt': 72, 'berkalikali': 104, 'duluuu': 223, 'sawo': 680, 'matang': 474, 'akuuu': 29, 'thank': 802, 'uuu': 852, 'awal': 57, 'racun': 631, 'liat': 432, 'ig': 312, 'pada': 574, 'emamg': 231, 'ngelindungin': 518, 'bolong': 131, 'spfnya': 741, 'efect': 226, 'mahal': 450, 'banyak': 76, 'sunscream': 758, 'base': 78, 'next': 512, 'bulan': 142, 'tidak': 809, 'kental': 383, 'namun': 505, 'tips': 816, 'padu': 577, 'yah': 882, 'pasti': 588, 'auto': 56, 'glass': 278, 'skin': 727, 'ala2': 30, 'korea': 403, 'lembab': 424, 'proteksi': 623, 'udh': 838, 'lengkap': 426, 'nempel': 508, 'mulus': 500, 'tolong': 820, 'pula': 624, 'reaply': 641, 'looks': 440, 'good': 282, 'on': 561, 'my': 503, 'combi': 173, 'ss': 742, 'glowwy': 281, 'gerah': 270, 'sekaliii': 689, 'minim': 488, 'oksidasi': 559, 'controlnya': 175, 'aaaaaa': 7, 'sangat': 676, 'amat': 39, 'kerja': 386, 'ttp': 830, 'doi': 215, 'uva': 854, 'uvb': 856, 'must': 502, 'try': 829, 'overall': 567, 'tetap': 799, 'package': 570, 'ujung': 841, 'buka': 140, 'tutup': 835, 'plastik': 600, 'bening': 97, 'jd': 334, 'tau': 779, 'wah': 860, 'highly': 307, 'daily': 185, 'dipakenya': 209, '12an': 1, 'gt': 285, 'dipakein': 208, 'ngeset': 522, 'jujur': 357, 'tipe': 815, 'sakit': 669, 'kena': 381, 'bertexture': 108, 'creamy': 179, 'bkin': 124, 'creamnya': 178, 'stop': 746, 'khawatir': 389, 'lbh': 420, 'cpt': 176, 'gilakkk': 273, 'dri': 219, 'kemana2': 377, 'kesan': 388, 'beri': 103, 'fix': 246, 'bagus2': 61, 'cobaaaa': 169, 'terima': 793, 'kasih': 369, 'pakenya': 582, 'digunain': 204, 'adem': 14, 'klian': 394, 'aktifitas': 25, 'ruang': 662, 'haruuus': 301, 'yaaaaaaaaaaaaa': 881, 'versi': 857, 'skincarean': 729, 'minggu': 486, 'reaksi': 638, 'negatif': 507, 'alias': 34, 'yayyy': 885, 'aaplikasikan': 8, 'seperti': 704, 'sekitar': 692, 'aga': 16, 'cair': 150, 'bangetdan': 69, 'tentu': 788, 'makanya': 452, 'iiiii': 313, 'mampuy': 464, 'sehat': 685, 'rada': 632, 'applikasiin': 49, 'ak': 21, 'tp': 825, 'abu2': 10, 'produk2': 620, 'lokal': 438, 'mas': 469, 'akal': 22, 'baik': 65, 'diapply': 201, 'pokoknyaaaharganya': 606, 'juara': 352, 'pernah': 594, 'giat': 272, 'beraktifitas': 99, 'abis': 9, 'alam': 31, 'sunscreem': 760, 'traveling': 826, 'uda': 836, 'step': 745, 'ke': 373, 'retractable': 653, 'aplikator': 47, 'brushnya': 136, 'beige': 90, 'rubah': 663, 'malah': 462, 'tap': 777, 'puter2': 628, 'blussh': 128, 'wow': 876, 'so': 736, 'far': 239, 'this': 805, 'much': 495, 'soft': 738, 'but': 147, 'its': 324, 'okay': 556, 'bcs': 83, 'feelsnya': 242, 'loose': 441, 'medium': 478, 'jatuh': 332, 'nyatu': 546, 'butir': 148, 'gores': 283, 'mini': 487, 'sayang': 681, 'efektif': 228, 'klw': 398, 'single': 724, 'lotion': 442, 'dlu': 213, 'rias': 655, 'bawah': 81, 'ama': 37, 'maksimalin': 461, 'lebh': 422, 'makeupnya': 458, 'of': 553, 'budget': 139, 'prefer': 617, 'promo': 622, 'nemu': 509, 'slama': 732, 'cari2': 155, 'doomss': 217, 'duper': 224, 'huhhh': 311, 'popok': 608, 'deehhh': 191, 'kontrol': 402, 'nyerap': 547, 'pacakgingnya': 569, 'kuat': 410, 'beberapa': 86, 'jatoh': 331, 'untung': 845, 'ngegeser': 517, 'efisien': 229, 'lewat': 429, 'fyp': 253, 'tktk': 818, 'screen': 682, 'keluarin': 376, 'gin': 274, 'bkn': 125, 'lepek': 428, 'dn': 214, 'lgi': 430, 'klo': 396, 'packagingnnya': 572, 'makan': 451, 'tempat': 786, 'terdebest': 791, 'ngurangin': 528, 'pagi': 579, 'sd': 683, 'sore': 739, 'aktivitas': 26, 'teruuussssss': 797, 'fav': 240, 'outdoor': 565, 'usap': 850, 'sekalipun': 690, 'nyatidak': 545, 'tabung': 769, 'hijau': 309, 'emerald': 233, 'sehingga': 686, 'sambung': 674, 'guna': 288, 'seluruh': 695, 'diri': 212, 'titanium': 817, 'dioxide': 206, 'ethylhexyl': 236, 'salicylate': 672, 'methoxycinnamate': 483, 'rice': 657, 'bran': 133, 'vitamin': 859, 'milik': 484, 'agam': 18, 'manfaaf': 466, 'yaitu': 883, 'maksimal': 460, 'hadap': 291, 'buruk': 145, 'tangkal': 775, 'maupun': 477, 'potensi': 611, 'rusa': 665, 'salah': 670, 'sunburn': 756, 'mataharini': 473, 'nutrisi': 540, 'sifat': 715, 'noncomedogenic': 535, 'kamu': 363, 'favorite': 241, 'inimah': 319, 'gtuh': 286, 'sesimple': 709, 'gapernah': 264, 'gagal': 259, 'mulu': 499, 'tiktok': 810, 'nah': 504, 'penasaran': 590, 'gaperlu': 263, 'ngunci': 527, 'minyakkk': 492, 'pointtt': 602, 'makenya': 455, 'sempet': 698, 'video': 858, 'tutorial': 834, 'hariii': 299, 'standar': 743, 'hampir': 294, 'gada': 258, 'diratain': 210, 'dibiarin': 202, 'sampe': 675, '14': 2, 'kecewa': 375}\n"
          ]
        }
      ]
    },
    {
      "cell_type": "markdown",
      "source": [
        "#### Model"
      ],
      "metadata": {
        "id": "D8dAZY3s4dW5"
      }
    },
    {
      "cell_type": "code",
      "source": [
        "femaleDaily_model = SVC(kernel='linear')\n",
        "femaleDaily_model.fit(femaleDaily_train_tfidf, femaleDaily_Y_train)"
      ],
      "metadata": {
        "colab": {
          "base_uri": "https://localhost:8080/"
        },
        "outputId": "bac8751e-16cd-4317-dc40-1ef3f92f1f83",
        "id": "sZp92S7s4dW5"
      },
      "execution_count": null,
      "outputs": [
        {
          "output_type": "execute_result",
          "data": {
            "text/plain": [
              "SVC(kernel='linear')"
            ]
          },
          "metadata": {},
          "execution_count": 58
        }
      ]
    },
    {
      "cell_type": "markdown",
      "source": [
        "#### Accuracy"
      ],
      "metadata": {
        "id": "tBAn7Rye4dW5"
      }
    },
    {
      "cell_type": "code",
      "source": [
        "femaleDaily_predictions_SVM = femaleDaily_model.predict(femaleDaily_test_tfidf)\n",
        "femaleDaily_test_prediction = pd.DataFrame()\n",
        "femaleDaily_test_prediction['text'] = femaleDaily_X_test\n",
        "femaleDaily_test_prediction['sentiment'] = femaleDaily_predictions_SVM\n",
        "femaleDaily_SVM_accuracy = accuracy_score(femaleDaily_predictions_SVM, femaleDaily_Y_test) * 100\n",
        "femaleDaily_SVM_accuracy = round(femaleDaily_SVM_accuracy, 1)"
      ],
      "metadata": {
        "id": "oQAOtoz94dW5"
      },
      "execution_count": null,
      "outputs": []
    },
    {
      "cell_type": "code",
      "source": [
        "sociolla_SVM_accuracy"
      ],
      "metadata": {
        "colab": {
          "base_uri": "https://localhost:8080/"
        },
        "outputId": "634dec86-dd9f-49e0-b1ef-33f7d847b0a4",
        "id": "2m5xYYpA4dW5"
      },
      "execution_count": null,
      "outputs": [
        {
          "output_type": "execute_result",
          "data": {
            "text/plain": [
              "99.0"
            ]
          },
          "metadata": {},
          "execution_count": 61
        }
      ]
    },
    {
      "cell_type": "code",
      "source": [
        "print(\"\\nHere is the classification report:\") \n",
        "print(classification_report(femaleDaily_Y_test, femaleDaily_predictions_SVM))"
      ],
      "metadata": {
        "colab": {
          "base_uri": "https://localhost:8080/"
        },
        "outputId": "8d56452a-e1c0-4c91-bac5-f7963b384922",
        "id": "-vfnTZaK4dW5"
      },
      "execution_count": null,
      "outputs": [
        {
          "output_type": "stream",
          "name": "stdout",
          "text": [
            "\n",
            "Here is the classification report:\n",
            "              precision    recall  f1-score   support\n",
            "\n",
            "    positive       1.00      1.00      1.00        33\n",
            "\n",
            "    accuracy                           1.00        33\n",
            "   macro avg       1.00      1.00      1.00        33\n",
            "weighted avg       1.00      1.00      1.00        33\n",
            "\n"
          ]
        }
      ]
    }
  ]
}