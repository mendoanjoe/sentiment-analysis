{
  "nbformat": 4,
  "nbformat_minor": 0,
  "metadata": {
    "colab": {
      "name": "Sentiment.ipynb",
      "provenance": [],
      "collapsed_sections": [
        "OVeOwI-jKI0Q",
        "yqc17yy6_neX",
        "6YQJpsy8JLW5",
        "RG_rTRKGJaTH",
        "u1PsnTraKXMf",
        "SVtm04JbLeR_",
        "SQNCsZ_aOM9_",
        "2xOjhP4bWI6h",
        "EhbeggLfaS_v",
        "_-jBa5bxk5UM",
        "crYrjQiqlUEM",
        "1cyzBNdaes_o",
        "teEF3ST-uQre",
        "2Cetd8mt4dkx",
        "D4Fep3_YUQWw",
        "iS8zL07wn92L"
      ],
      "include_colab_link": true
    },
    "kernelspec": {
      "name": "python3",
      "display_name": "Python 3"
    },
    "language_info": {
      "name": "python"
    },
    "accelerator": "TPU",
    "widgets": {
      "application/vnd.jupyter.widget-state+json": {
        "82847067e7bf4e169d0e8d8668e4160b": {
          "model_module": "@jupyter-widgets/controls",
          "model_name": "HBoxModel",
          "model_module_version": "1.5.0",
          "state": {
            "_view_name": "HBoxView",
            "_dom_classes": [],
            "_model_name": "HBoxModel",
            "_view_module": "@jupyter-widgets/controls",
            "_model_module_version": "1.5.0",
            "_view_count": null,
            "_view_module_version": "1.5.0",
            "box_style": "",
            "layout": "IPY_MODEL_863ba598876f4038bf666b6bfcfec832",
            "_model_module": "@jupyter-widgets/controls",
            "children": [
              "IPY_MODEL_e01d567d7f244e4194590dd658fe14d9",
              "IPY_MODEL_86026ef252114a5e8e491b638a4ef15e",
              "IPY_MODEL_60ba4619fd3c4045bb80687267400c83"
            ]
          }
        },
        "863ba598876f4038bf666b6bfcfec832": {
          "model_module": "@jupyter-widgets/base",
          "model_name": "LayoutModel",
          "model_module_version": "1.2.0",
          "state": {
            "_view_name": "LayoutView",
            "grid_template_rows": null,
            "right": null,
            "justify_content": null,
            "_view_module": "@jupyter-widgets/base",
            "overflow": null,
            "_model_module_version": "1.2.0",
            "_view_count": null,
            "flex_flow": null,
            "width": null,
            "min_width": null,
            "border": null,
            "align_items": null,
            "bottom": null,
            "_model_module": "@jupyter-widgets/base",
            "top": null,
            "grid_column": null,
            "overflow_y": null,
            "overflow_x": null,
            "grid_auto_flow": null,
            "grid_area": null,
            "grid_template_columns": null,
            "flex": null,
            "_model_name": "LayoutModel",
            "justify_items": null,
            "grid_row": null,
            "max_height": null,
            "align_content": null,
            "visibility": null,
            "align_self": null,
            "height": null,
            "min_height": null,
            "padding": null,
            "grid_auto_rows": null,
            "grid_gap": null,
            "max_width": null,
            "order": null,
            "_view_module_version": "1.2.0",
            "grid_template_areas": null,
            "object_position": null,
            "object_fit": null,
            "grid_auto_columns": null,
            "margin": null,
            "display": null,
            "left": null
          }
        },
        "e01d567d7f244e4194590dd658fe14d9": {
          "model_module": "@jupyter-widgets/controls",
          "model_name": "HTMLModel",
          "model_module_version": "1.5.0",
          "state": {
            "_view_name": "HTMLView",
            "style": "IPY_MODEL_11178fcd30114f51a571155add1485d7",
            "_dom_classes": [],
            "description": "",
            "_model_name": "HTMLModel",
            "placeholder": "​",
            "_view_module": "@jupyter-widgets/controls",
            "_model_module_version": "1.5.0",
            "value": "Downloading: 100%",
            "_view_count": null,
            "_view_module_version": "1.5.0",
            "description_tooltip": null,
            "_model_module": "@jupyter-widgets/controls",
            "layout": "IPY_MODEL_cefec67ee15f4c1ea5e8ec23c94d4b60"
          }
        },
        "86026ef252114a5e8e491b638a4ef15e": {
          "model_module": "@jupyter-widgets/controls",
          "model_name": "FloatProgressModel",
          "model_module_version": "1.5.0",
          "state": {
            "_view_name": "ProgressView",
            "style": "IPY_MODEL_70103b48e17b495fb52bce34f1034cd7",
            "_dom_classes": [],
            "description": "",
            "_model_name": "FloatProgressModel",
            "bar_style": "success",
            "max": 1173,
            "_view_module": "@jupyter-widgets/controls",
            "_model_module_version": "1.5.0",
            "value": 1173,
            "_view_count": null,
            "_view_module_version": "1.5.0",
            "orientation": "horizontal",
            "min": 0,
            "description_tooltip": null,
            "_model_module": "@jupyter-widgets/controls",
            "layout": "IPY_MODEL_5a62303ffecd4f5191a15dcdb0fba880"
          }
        },
        "60ba4619fd3c4045bb80687267400c83": {
          "model_module": "@jupyter-widgets/controls",
          "model_name": "HTMLModel",
          "model_module_version": "1.5.0",
          "state": {
            "_view_name": "HTMLView",
            "style": "IPY_MODEL_5f9bc30f8cef40aba2b1c8813ee89a95",
            "_dom_classes": [],
            "description": "",
            "_model_name": "HTMLModel",
            "placeholder": "​",
            "_view_module": "@jupyter-widgets/controls",
            "_model_module_version": "1.5.0",
            "value": " 1.15k/1.15k [00:00&lt;00:00, 18.0kB/s]",
            "_view_count": null,
            "_view_module_version": "1.5.0",
            "description_tooltip": null,
            "_model_module": "@jupyter-widgets/controls",
            "layout": "IPY_MODEL_8d71fb16f89e4facb5c25c086a2460e5"
          }
        },
        "11178fcd30114f51a571155add1485d7": {
          "model_module": "@jupyter-widgets/controls",
          "model_name": "DescriptionStyleModel",
          "model_module_version": "1.5.0",
          "state": {
            "_view_name": "StyleView",
            "_model_name": "DescriptionStyleModel",
            "description_width": "",
            "_view_module": "@jupyter-widgets/base",
            "_model_module_version": "1.5.0",
            "_view_count": null,
            "_view_module_version": "1.2.0",
            "_model_module": "@jupyter-widgets/controls"
          }
        },
        "cefec67ee15f4c1ea5e8ec23c94d4b60": {
          "model_module": "@jupyter-widgets/base",
          "model_name": "LayoutModel",
          "model_module_version": "1.2.0",
          "state": {
            "_view_name": "LayoutView",
            "grid_template_rows": null,
            "right": null,
            "justify_content": null,
            "_view_module": "@jupyter-widgets/base",
            "overflow": null,
            "_model_module_version": "1.2.0",
            "_view_count": null,
            "flex_flow": null,
            "width": null,
            "min_width": null,
            "border": null,
            "align_items": null,
            "bottom": null,
            "_model_module": "@jupyter-widgets/base",
            "top": null,
            "grid_column": null,
            "overflow_y": null,
            "overflow_x": null,
            "grid_auto_flow": null,
            "grid_area": null,
            "grid_template_columns": null,
            "flex": null,
            "_model_name": "LayoutModel",
            "justify_items": null,
            "grid_row": null,
            "max_height": null,
            "align_content": null,
            "visibility": null,
            "align_self": null,
            "height": null,
            "min_height": null,
            "padding": null,
            "grid_auto_rows": null,
            "grid_gap": null,
            "max_width": null,
            "order": null,
            "_view_module_version": "1.2.0",
            "grid_template_areas": null,
            "object_position": null,
            "object_fit": null,
            "grid_auto_columns": null,
            "margin": null,
            "display": null,
            "left": null
          }
        },
        "70103b48e17b495fb52bce34f1034cd7": {
          "model_module": "@jupyter-widgets/controls",
          "model_name": "ProgressStyleModel",
          "model_module_version": "1.5.0",
          "state": {
            "_view_name": "StyleView",
            "_model_name": "ProgressStyleModel",
            "description_width": "",
            "_view_module": "@jupyter-widgets/base",
            "_model_module_version": "1.5.0",
            "_view_count": null,
            "_view_module_version": "1.2.0",
            "bar_color": null,
            "_model_module": "@jupyter-widgets/controls"
          }
        },
        "5a62303ffecd4f5191a15dcdb0fba880": {
          "model_module": "@jupyter-widgets/base",
          "model_name": "LayoutModel",
          "model_module_version": "1.2.0",
          "state": {
            "_view_name": "LayoutView",
            "grid_template_rows": null,
            "right": null,
            "justify_content": null,
            "_view_module": "@jupyter-widgets/base",
            "overflow": null,
            "_model_module_version": "1.2.0",
            "_view_count": null,
            "flex_flow": null,
            "width": null,
            "min_width": null,
            "border": null,
            "align_items": null,
            "bottom": null,
            "_model_module": "@jupyter-widgets/base",
            "top": null,
            "grid_column": null,
            "overflow_y": null,
            "overflow_x": null,
            "grid_auto_flow": null,
            "grid_area": null,
            "grid_template_columns": null,
            "flex": null,
            "_model_name": "LayoutModel",
            "justify_items": null,
            "grid_row": null,
            "max_height": null,
            "align_content": null,
            "visibility": null,
            "align_self": null,
            "height": null,
            "min_height": null,
            "padding": null,
            "grid_auto_rows": null,
            "grid_gap": null,
            "max_width": null,
            "order": null,
            "_view_module_version": "1.2.0",
            "grid_template_areas": null,
            "object_position": null,
            "object_fit": null,
            "grid_auto_columns": null,
            "margin": null,
            "display": null,
            "left": null
          }
        },
        "5f9bc30f8cef40aba2b1c8813ee89a95": {
          "model_module": "@jupyter-widgets/controls",
          "model_name": "DescriptionStyleModel",
          "model_module_version": "1.5.0",
          "state": {
            "_view_name": "StyleView",
            "_model_name": "DescriptionStyleModel",
            "description_width": "",
            "_view_module": "@jupyter-widgets/base",
            "_model_module_version": "1.5.0",
            "_view_count": null,
            "_view_module_version": "1.2.0",
            "_model_module": "@jupyter-widgets/controls"
          }
        },
        "8d71fb16f89e4facb5c25c086a2460e5": {
          "model_module": "@jupyter-widgets/base",
          "model_name": "LayoutModel",
          "model_module_version": "1.2.0",
          "state": {
            "_view_name": "LayoutView",
            "grid_template_rows": null,
            "right": null,
            "justify_content": null,
            "_view_module": "@jupyter-widgets/base",
            "overflow": null,
            "_model_module_version": "1.2.0",
            "_view_count": null,
            "flex_flow": null,
            "width": null,
            "min_width": null,
            "border": null,
            "align_items": null,
            "bottom": null,
            "_model_module": "@jupyter-widgets/base",
            "top": null,
            "grid_column": null,
            "overflow_y": null,
            "overflow_x": null,
            "grid_auto_flow": null,
            "grid_area": null,
            "grid_template_columns": null,
            "flex": null,
            "_model_name": "LayoutModel",
            "justify_items": null,
            "grid_row": null,
            "max_height": null,
            "align_content": null,
            "visibility": null,
            "align_self": null,
            "height": null,
            "min_height": null,
            "padding": null,
            "grid_auto_rows": null,
            "grid_gap": null,
            "max_width": null,
            "order": null,
            "_view_module_version": "1.2.0",
            "grid_template_areas": null,
            "object_position": null,
            "object_fit": null,
            "grid_auto_columns": null,
            "margin": null,
            "display": null,
            "left": null
          }
        },
        "8312af18b4874298a82f6a234f1be7b6": {
          "model_module": "@jupyter-widgets/controls",
          "model_name": "HBoxModel",
          "model_module_version": "1.5.0",
          "state": {
            "_view_name": "HBoxView",
            "_dom_classes": [],
            "_model_name": "HBoxModel",
            "_view_module": "@jupyter-widgets/controls",
            "_model_module_version": "1.5.0",
            "_view_count": null,
            "_view_module_version": "1.5.0",
            "box_style": "",
            "layout": "IPY_MODEL_7f570e73147f42bca88c233489a3b715",
            "_model_module": "@jupyter-widgets/controls",
            "children": [
              "IPY_MODEL_da9c379d3f5c4a7f98493aba3852cd4c",
              "IPY_MODEL_c1d804b655b2492681e9c078b88de85f",
              "IPY_MODEL_4a18d75924834c318cb4db1cdb85b739"
            ]
          }
        },
        "7f570e73147f42bca88c233489a3b715": {
          "model_module": "@jupyter-widgets/base",
          "model_name": "LayoutModel",
          "model_module_version": "1.2.0",
          "state": {
            "_view_name": "LayoutView",
            "grid_template_rows": null,
            "right": null,
            "justify_content": null,
            "_view_module": "@jupyter-widgets/base",
            "overflow": null,
            "_model_module_version": "1.2.0",
            "_view_count": null,
            "flex_flow": null,
            "width": null,
            "min_width": null,
            "border": null,
            "align_items": null,
            "bottom": null,
            "_model_module": "@jupyter-widgets/base",
            "top": null,
            "grid_column": null,
            "overflow_y": null,
            "overflow_x": null,
            "grid_auto_flow": null,
            "grid_area": null,
            "grid_template_columns": null,
            "flex": null,
            "_model_name": "LayoutModel",
            "justify_items": null,
            "grid_row": null,
            "max_height": null,
            "align_content": null,
            "visibility": null,
            "align_self": null,
            "height": null,
            "min_height": null,
            "padding": null,
            "grid_auto_rows": null,
            "grid_gap": null,
            "max_width": null,
            "order": null,
            "_view_module_version": "1.2.0",
            "grid_template_areas": null,
            "object_position": null,
            "object_fit": null,
            "grid_auto_columns": null,
            "margin": null,
            "display": null,
            "left": null
          }
        },
        "da9c379d3f5c4a7f98493aba3852cd4c": {
          "model_module": "@jupyter-widgets/controls",
          "model_name": "HTMLModel",
          "model_module_version": "1.5.0",
          "state": {
            "_view_name": "HTMLView",
            "style": "IPY_MODEL_6a691db496e8479c993b11156cdb1581",
            "_dom_classes": [],
            "description": "",
            "_model_name": "HTMLModel",
            "placeholder": "​",
            "_view_module": "@jupyter-widgets/controls",
            "_model_module_version": "1.5.0",
            "value": "Downloading: 100%",
            "_view_count": null,
            "_view_module_version": "1.5.0",
            "description_tooltip": null,
            "_model_module": "@jupyter-widgets/controls",
            "layout": "IPY_MODEL_9ef036eed7754bd08b58515ac354996c"
          }
        },
        "c1d804b655b2492681e9c078b88de85f": {
          "model_module": "@jupyter-widgets/controls",
          "model_name": "FloatProgressModel",
          "model_module_version": "1.5.0",
          "state": {
            "_view_name": "ProgressView",
            "style": "IPY_MODEL_89da948a17ab46f3bf6b31d912d438b1",
            "_dom_classes": [],
            "description": "",
            "_model_name": "FloatProgressModel",
            "bar_style": "success",
            "max": 497863551,
            "_view_module": "@jupyter-widgets/controls",
            "_model_module_version": "1.5.0",
            "value": 497863551,
            "_view_count": null,
            "_view_module_version": "1.5.0",
            "orientation": "horizontal",
            "min": 0,
            "description_tooltip": null,
            "_model_module": "@jupyter-widgets/controls",
            "layout": "IPY_MODEL_23facdcd89414d07a752269615c4f9f1"
          }
        },
        "4a18d75924834c318cb4db1cdb85b739": {
          "model_module": "@jupyter-widgets/controls",
          "model_name": "HTMLModel",
          "model_module_version": "1.5.0",
          "state": {
            "_view_name": "HTMLView",
            "style": "IPY_MODEL_68d7dc15356948d784576901214d0ec3",
            "_dom_classes": [],
            "description": "",
            "_model_name": "HTMLModel",
            "placeholder": "​",
            "_view_module": "@jupyter-widgets/controls",
            "_model_module_version": "1.5.0",
            "value": " 475M/475M [00:14&lt;00:00, 36.2MB/s]",
            "_view_count": null,
            "_view_module_version": "1.5.0",
            "description_tooltip": null,
            "_model_module": "@jupyter-widgets/controls",
            "layout": "IPY_MODEL_aa68cdd93d244922a1c8f14d35805d6b"
          }
        },
        "6a691db496e8479c993b11156cdb1581": {
          "model_module": "@jupyter-widgets/controls",
          "model_name": "DescriptionStyleModel",
          "model_module_version": "1.5.0",
          "state": {
            "_view_name": "StyleView",
            "_model_name": "DescriptionStyleModel",
            "description_width": "",
            "_view_module": "@jupyter-widgets/base",
            "_model_module_version": "1.5.0",
            "_view_count": null,
            "_view_module_version": "1.2.0",
            "_model_module": "@jupyter-widgets/controls"
          }
        },
        "9ef036eed7754bd08b58515ac354996c": {
          "model_module": "@jupyter-widgets/base",
          "model_name": "LayoutModel",
          "model_module_version": "1.2.0",
          "state": {
            "_view_name": "LayoutView",
            "grid_template_rows": null,
            "right": null,
            "justify_content": null,
            "_view_module": "@jupyter-widgets/base",
            "overflow": null,
            "_model_module_version": "1.2.0",
            "_view_count": null,
            "flex_flow": null,
            "width": null,
            "min_width": null,
            "border": null,
            "align_items": null,
            "bottom": null,
            "_model_module": "@jupyter-widgets/base",
            "top": null,
            "grid_column": null,
            "overflow_y": null,
            "overflow_x": null,
            "grid_auto_flow": null,
            "grid_area": null,
            "grid_template_columns": null,
            "flex": null,
            "_model_name": "LayoutModel",
            "justify_items": null,
            "grid_row": null,
            "max_height": null,
            "align_content": null,
            "visibility": null,
            "align_self": null,
            "height": null,
            "min_height": null,
            "padding": null,
            "grid_auto_rows": null,
            "grid_gap": null,
            "max_width": null,
            "order": null,
            "_view_module_version": "1.2.0",
            "grid_template_areas": null,
            "object_position": null,
            "object_fit": null,
            "grid_auto_columns": null,
            "margin": null,
            "display": null,
            "left": null
          }
        },
        "89da948a17ab46f3bf6b31d912d438b1": {
          "model_module": "@jupyter-widgets/controls",
          "model_name": "ProgressStyleModel",
          "model_module_version": "1.5.0",
          "state": {
            "_view_name": "StyleView",
            "_model_name": "ProgressStyleModel",
            "description_width": "",
            "_view_module": "@jupyter-widgets/base",
            "_model_module_version": "1.5.0",
            "_view_count": null,
            "_view_module_version": "1.2.0",
            "bar_color": null,
            "_model_module": "@jupyter-widgets/controls"
          }
        },
        "23facdcd89414d07a752269615c4f9f1": {
          "model_module": "@jupyter-widgets/base",
          "model_name": "LayoutModel",
          "model_module_version": "1.2.0",
          "state": {
            "_view_name": "LayoutView",
            "grid_template_rows": null,
            "right": null,
            "justify_content": null,
            "_view_module": "@jupyter-widgets/base",
            "overflow": null,
            "_model_module_version": "1.2.0",
            "_view_count": null,
            "flex_flow": null,
            "width": null,
            "min_width": null,
            "border": null,
            "align_items": null,
            "bottom": null,
            "_model_module": "@jupyter-widgets/base",
            "top": null,
            "grid_column": null,
            "overflow_y": null,
            "overflow_x": null,
            "grid_auto_flow": null,
            "grid_area": null,
            "grid_template_columns": null,
            "flex": null,
            "_model_name": "LayoutModel",
            "justify_items": null,
            "grid_row": null,
            "max_height": null,
            "align_content": null,
            "visibility": null,
            "align_self": null,
            "height": null,
            "min_height": null,
            "padding": null,
            "grid_auto_rows": null,
            "grid_gap": null,
            "max_width": null,
            "order": null,
            "_view_module_version": "1.2.0",
            "grid_template_areas": null,
            "object_position": null,
            "object_fit": null,
            "grid_auto_columns": null,
            "margin": null,
            "display": null,
            "left": null
          }
        },
        "68d7dc15356948d784576901214d0ec3": {
          "model_module": "@jupyter-widgets/controls",
          "model_name": "DescriptionStyleModel",
          "model_module_version": "1.5.0",
          "state": {
            "_view_name": "StyleView",
            "_model_name": "DescriptionStyleModel",
            "description_width": "",
            "_view_module": "@jupyter-widgets/base",
            "_model_module_version": "1.5.0",
            "_view_count": null,
            "_view_module_version": "1.2.0",
            "_model_module": "@jupyter-widgets/controls"
          }
        },
        "aa68cdd93d244922a1c8f14d35805d6b": {
          "model_module": "@jupyter-widgets/base",
          "model_name": "LayoutModel",
          "model_module_version": "1.2.0",
          "state": {
            "_view_name": "LayoutView",
            "grid_template_rows": null,
            "right": null,
            "justify_content": null,
            "_view_module": "@jupyter-widgets/base",
            "overflow": null,
            "_model_module_version": "1.2.0",
            "_view_count": null,
            "flex_flow": null,
            "width": null,
            "min_width": null,
            "border": null,
            "align_items": null,
            "bottom": null,
            "_model_module": "@jupyter-widgets/base",
            "top": null,
            "grid_column": null,
            "overflow_y": null,
            "overflow_x": null,
            "grid_auto_flow": null,
            "grid_area": null,
            "grid_template_columns": null,
            "flex": null,
            "_model_name": "LayoutModel",
            "justify_items": null,
            "grid_row": null,
            "max_height": null,
            "align_content": null,
            "visibility": null,
            "align_self": null,
            "height": null,
            "min_height": null,
            "padding": null,
            "grid_auto_rows": null,
            "grid_gap": null,
            "max_width": null,
            "order": null,
            "_view_module_version": "1.2.0",
            "grid_template_areas": null,
            "object_position": null,
            "object_fit": null,
            "grid_auto_columns": null,
            "margin": null,
            "display": null,
            "left": null
          }
        },
        "3b7c40af5c5845f3812c26ace3bbdfdf": {
          "model_module": "@jupyter-widgets/controls",
          "model_name": "HBoxModel",
          "model_module_version": "1.5.0",
          "state": {
            "_view_name": "HBoxView",
            "_dom_classes": [],
            "_model_name": "HBoxModel",
            "_view_module": "@jupyter-widgets/controls",
            "_model_module_version": "1.5.0",
            "_view_count": null,
            "_view_module_version": "1.5.0",
            "box_style": "",
            "layout": "IPY_MODEL_5d08fca5145c4b6abafbaad7f65fbf9c",
            "_model_module": "@jupyter-widgets/controls",
            "children": [
              "IPY_MODEL_450c6b1e527747848b3cb4979a52a15f",
              "IPY_MODEL_bc5c9c6d4b504a538ffcdc1ffa25affe",
              "IPY_MODEL_bbb26a51a5044a9fb321ac3b980e39d4"
            ]
          }
        },
        "5d08fca5145c4b6abafbaad7f65fbf9c": {
          "model_module": "@jupyter-widgets/base",
          "model_name": "LayoutModel",
          "model_module_version": "1.2.0",
          "state": {
            "_view_name": "LayoutView",
            "grid_template_rows": null,
            "right": null,
            "justify_content": null,
            "_view_module": "@jupyter-widgets/base",
            "overflow": null,
            "_model_module_version": "1.2.0",
            "_view_count": null,
            "flex_flow": null,
            "width": null,
            "min_width": null,
            "border": null,
            "align_items": null,
            "bottom": null,
            "_model_module": "@jupyter-widgets/base",
            "top": null,
            "grid_column": null,
            "overflow_y": null,
            "overflow_x": null,
            "grid_auto_flow": null,
            "grid_area": null,
            "grid_template_columns": null,
            "flex": null,
            "_model_name": "LayoutModel",
            "justify_items": null,
            "grid_row": null,
            "max_height": null,
            "align_content": null,
            "visibility": null,
            "align_self": null,
            "height": null,
            "min_height": null,
            "padding": null,
            "grid_auto_rows": null,
            "grid_gap": null,
            "max_width": null,
            "order": null,
            "_view_module_version": "1.2.0",
            "grid_template_areas": null,
            "object_position": null,
            "object_fit": null,
            "grid_auto_columns": null,
            "margin": null,
            "display": null,
            "left": null
          }
        },
        "450c6b1e527747848b3cb4979a52a15f": {
          "model_module": "@jupyter-widgets/controls",
          "model_name": "HTMLModel",
          "model_module_version": "1.5.0",
          "state": {
            "_view_name": "HTMLView",
            "style": "IPY_MODEL_c7f01d3519ff4df79e4620e72533f707",
            "_dom_classes": [],
            "description": "",
            "_model_name": "HTMLModel",
            "placeholder": "​",
            "_view_module": "@jupyter-widgets/controls",
            "_model_module_version": "1.5.0",
            "value": "Downloading: 100%",
            "_view_count": null,
            "_view_module_version": "1.5.0",
            "description_tooltip": null,
            "_model_module": "@jupyter-widgets/controls",
            "layout": "IPY_MODEL_c7bacd4e79b048669e5bfc054dba98a7"
          }
        },
        "bc5c9c6d4b504a538ffcdc1ffa25affe": {
          "model_module": "@jupyter-widgets/controls",
          "model_name": "FloatProgressModel",
          "model_module_version": "1.5.0",
          "state": {
            "_view_name": "ProgressView",
            "style": "IPY_MODEL_efd2cbb62de74a868808180f8a37e6c9",
            "_dom_classes": [],
            "description": "",
            "_model_name": "FloatProgressModel",
            "bar_style": "success",
            "max": 2,
            "_view_module": "@jupyter-widgets/controls",
            "_model_module_version": "1.5.0",
            "value": 2,
            "_view_count": null,
            "_view_module_version": "1.5.0",
            "orientation": "horizontal",
            "min": 0,
            "description_tooltip": null,
            "_model_module": "@jupyter-widgets/controls",
            "layout": "IPY_MODEL_feb81968533d43dc8e6d59effde05bb7"
          }
        },
        "bbb26a51a5044a9fb321ac3b980e39d4": {
          "model_module": "@jupyter-widgets/controls",
          "model_name": "HTMLModel",
          "model_module_version": "1.5.0",
          "state": {
            "_view_name": "HTMLView",
            "style": "IPY_MODEL_a76d91e5173141aab45207553576a4e4",
            "_dom_classes": [],
            "description": "",
            "_model_name": "HTMLModel",
            "placeholder": "​",
            "_view_module": "@jupyter-widgets/controls",
            "_model_module_version": "1.5.0",
            "value": " 2.00/2.00 [00:00&lt;00:00, 51.3B/s]",
            "_view_count": null,
            "_view_module_version": "1.5.0",
            "description_tooltip": null,
            "_model_module": "@jupyter-widgets/controls",
            "layout": "IPY_MODEL_bcfc8f327b3247929935352217cbec15"
          }
        },
        "c7f01d3519ff4df79e4620e72533f707": {
          "model_module": "@jupyter-widgets/controls",
          "model_name": "DescriptionStyleModel",
          "model_module_version": "1.5.0",
          "state": {
            "_view_name": "StyleView",
            "_model_name": "DescriptionStyleModel",
            "description_width": "",
            "_view_module": "@jupyter-widgets/base",
            "_model_module_version": "1.5.0",
            "_view_count": null,
            "_view_module_version": "1.2.0",
            "_model_module": "@jupyter-widgets/controls"
          }
        },
        "c7bacd4e79b048669e5bfc054dba98a7": {
          "model_module": "@jupyter-widgets/base",
          "model_name": "LayoutModel",
          "model_module_version": "1.2.0",
          "state": {
            "_view_name": "LayoutView",
            "grid_template_rows": null,
            "right": null,
            "justify_content": null,
            "_view_module": "@jupyter-widgets/base",
            "overflow": null,
            "_model_module_version": "1.2.0",
            "_view_count": null,
            "flex_flow": null,
            "width": null,
            "min_width": null,
            "border": null,
            "align_items": null,
            "bottom": null,
            "_model_module": "@jupyter-widgets/base",
            "top": null,
            "grid_column": null,
            "overflow_y": null,
            "overflow_x": null,
            "grid_auto_flow": null,
            "grid_area": null,
            "grid_template_columns": null,
            "flex": null,
            "_model_name": "LayoutModel",
            "justify_items": null,
            "grid_row": null,
            "max_height": null,
            "align_content": null,
            "visibility": null,
            "align_self": null,
            "height": null,
            "min_height": null,
            "padding": null,
            "grid_auto_rows": null,
            "grid_gap": null,
            "max_width": null,
            "order": null,
            "_view_module_version": "1.2.0",
            "grid_template_areas": null,
            "object_position": null,
            "object_fit": null,
            "grid_auto_columns": null,
            "margin": null,
            "display": null,
            "left": null
          }
        },
        "efd2cbb62de74a868808180f8a37e6c9": {
          "model_module": "@jupyter-widgets/controls",
          "model_name": "ProgressStyleModel",
          "model_module_version": "1.5.0",
          "state": {
            "_view_name": "StyleView",
            "_model_name": "ProgressStyleModel",
            "description_width": "",
            "_view_module": "@jupyter-widgets/base",
            "_model_module_version": "1.5.0",
            "_view_count": null,
            "_view_module_version": "1.2.0",
            "bar_color": null,
            "_model_module": "@jupyter-widgets/controls"
          }
        },
        "feb81968533d43dc8e6d59effde05bb7": {
          "model_module": "@jupyter-widgets/base",
          "model_name": "LayoutModel",
          "model_module_version": "1.2.0",
          "state": {
            "_view_name": "LayoutView",
            "grid_template_rows": null,
            "right": null,
            "justify_content": null,
            "_view_module": "@jupyter-widgets/base",
            "overflow": null,
            "_model_module_version": "1.2.0",
            "_view_count": null,
            "flex_flow": null,
            "width": null,
            "min_width": null,
            "border": null,
            "align_items": null,
            "bottom": null,
            "_model_module": "@jupyter-widgets/base",
            "top": null,
            "grid_column": null,
            "overflow_y": null,
            "overflow_x": null,
            "grid_auto_flow": null,
            "grid_area": null,
            "grid_template_columns": null,
            "flex": null,
            "_model_name": "LayoutModel",
            "justify_items": null,
            "grid_row": null,
            "max_height": null,
            "align_content": null,
            "visibility": null,
            "align_self": null,
            "height": null,
            "min_height": null,
            "padding": null,
            "grid_auto_rows": null,
            "grid_gap": null,
            "max_width": null,
            "order": null,
            "_view_module_version": "1.2.0",
            "grid_template_areas": null,
            "object_position": null,
            "object_fit": null,
            "grid_auto_columns": null,
            "margin": null,
            "display": null,
            "left": null
          }
        },
        "a76d91e5173141aab45207553576a4e4": {
          "model_module": "@jupyter-widgets/controls",
          "model_name": "DescriptionStyleModel",
          "model_module_version": "1.5.0",
          "state": {
            "_view_name": "StyleView",
            "_model_name": "DescriptionStyleModel",
            "description_width": "",
            "_view_module": "@jupyter-widgets/base",
            "_model_module_version": "1.5.0",
            "_view_count": null,
            "_view_module_version": "1.2.0",
            "_model_module": "@jupyter-widgets/controls"
          }
        },
        "bcfc8f327b3247929935352217cbec15": {
          "model_module": "@jupyter-widgets/base",
          "model_name": "LayoutModel",
          "model_module_version": "1.2.0",
          "state": {
            "_view_name": "LayoutView",
            "grid_template_rows": null,
            "right": null,
            "justify_content": null,
            "_view_module": "@jupyter-widgets/base",
            "overflow": null,
            "_model_module_version": "1.2.0",
            "_view_count": null,
            "flex_flow": null,
            "width": null,
            "min_width": null,
            "border": null,
            "align_items": null,
            "bottom": null,
            "_model_module": "@jupyter-widgets/base",
            "top": null,
            "grid_column": null,
            "overflow_y": null,
            "overflow_x": null,
            "grid_auto_flow": null,
            "grid_area": null,
            "grid_template_columns": null,
            "flex": null,
            "_model_name": "LayoutModel",
            "justify_items": null,
            "grid_row": null,
            "max_height": null,
            "align_content": null,
            "visibility": null,
            "align_self": null,
            "height": null,
            "min_height": null,
            "padding": null,
            "grid_auto_rows": null,
            "grid_gap": null,
            "max_width": null,
            "order": null,
            "_view_module_version": "1.2.0",
            "grid_template_areas": null,
            "object_position": null,
            "object_fit": null,
            "grid_auto_columns": null,
            "margin": null,
            "display": null,
            "left": null
          }
        },
        "bab751624a64411fa1347a0e9e9a724a": {
          "model_module": "@jupyter-widgets/controls",
          "model_name": "HBoxModel",
          "model_module_version": "1.5.0",
          "state": {
            "_view_name": "HBoxView",
            "_dom_classes": [],
            "_model_name": "HBoxModel",
            "_view_module": "@jupyter-widgets/controls",
            "_model_module_version": "1.5.0",
            "_view_count": null,
            "_view_module_version": "1.5.0",
            "box_style": "",
            "layout": "IPY_MODEL_2a1bb00667ab4de980d922df486bba2f",
            "_model_module": "@jupyter-widgets/controls",
            "children": [
              "IPY_MODEL_69d3a6309da34ffea37b6f8ef21d8457",
              "IPY_MODEL_c5c1c930a7364298898a32ae94b5bc37",
              "IPY_MODEL_0bef395acfaf441d9c974d0a92051d31"
            ]
          }
        },
        "2a1bb00667ab4de980d922df486bba2f": {
          "model_module": "@jupyter-widgets/base",
          "model_name": "LayoutModel",
          "model_module_version": "1.2.0",
          "state": {
            "_view_name": "LayoutView",
            "grid_template_rows": null,
            "right": null,
            "justify_content": null,
            "_view_module": "@jupyter-widgets/base",
            "overflow": null,
            "_model_module_version": "1.2.0",
            "_view_count": null,
            "flex_flow": null,
            "width": null,
            "min_width": null,
            "border": null,
            "align_items": null,
            "bottom": null,
            "_model_module": "@jupyter-widgets/base",
            "top": null,
            "grid_column": null,
            "overflow_y": null,
            "overflow_x": null,
            "grid_auto_flow": null,
            "grid_area": null,
            "grid_template_columns": null,
            "flex": null,
            "_model_name": "LayoutModel",
            "justify_items": null,
            "grid_row": null,
            "max_height": null,
            "align_content": null,
            "visibility": null,
            "align_self": null,
            "height": null,
            "min_height": null,
            "padding": null,
            "grid_auto_rows": null,
            "grid_gap": null,
            "max_width": null,
            "order": null,
            "_view_module_version": "1.2.0",
            "grid_template_areas": null,
            "object_position": null,
            "object_fit": null,
            "grid_auto_columns": null,
            "margin": null,
            "display": null,
            "left": null
          }
        },
        "69d3a6309da34ffea37b6f8ef21d8457": {
          "model_module": "@jupyter-widgets/controls",
          "model_name": "HTMLModel",
          "model_module_version": "1.5.0",
          "state": {
            "_view_name": "HTMLView",
            "style": "IPY_MODEL_959e2c7ea160438691475cea581e3123",
            "_dom_classes": [],
            "description": "",
            "_model_name": "HTMLModel",
            "placeholder": "​",
            "_view_module": "@jupyter-widgets/controls",
            "_model_module_version": "1.5.0",
            "value": "Downloading: 100%",
            "_view_count": null,
            "_view_module_version": "1.5.0",
            "description_tooltip": null,
            "_model_module": "@jupyter-widgets/controls",
            "layout": "IPY_MODEL_464f3c95c3514408903057a5bbf011b0"
          }
        },
        "c5c1c930a7364298898a32ae94b5bc37": {
          "model_module": "@jupyter-widgets/controls",
          "model_name": "FloatProgressModel",
          "model_module_version": "1.5.0",
          "state": {
            "_view_name": "ProgressView",
            "style": "IPY_MODEL_dae813b36b754b4c910dac732de55ca3",
            "_dom_classes": [],
            "description": "",
            "_model_name": "FloatProgressModel",
            "bar_style": "success",
            "max": 229167,
            "_view_module": "@jupyter-widgets/controls",
            "_model_module_version": "1.5.0",
            "value": 229167,
            "_view_count": null,
            "_view_module_version": "1.5.0",
            "orientation": "horizontal",
            "min": 0,
            "description_tooltip": null,
            "_model_module": "@jupyter-widgets/controls",
            "layout": "IPY_MODEL_bb491d59f77a49f0a9aa67ff353ef6af"
          }
        },
        "0bef395acfaf441d9c974d0a92051d31": {
          "model_module": "@jupyter-widgets/controls",
          "model_name": "HTMLModel",
          "model_module_version": "1.5.0",
          "state": {
            "_view_name": "HTMLView",
            "style": "IPY_MODEL_16d1555e482a44fa8db897329c2668bf",
            "_dom_classes": [],
            "description": "",
            "_model_name": "HTMLModel",
            "placeholder": "​",
            "_view_module": "@jupyter-widgets/controls",
            "_model_module_version": "1.5.0",
            "value": " 224k/224k [00:00&lt;00:00, 1.11MB/s]",
            "_view_count": null,
            "_view_module_version": "1.5.0",
            "description_tooltip": null,
            "_model_module": "@jupyter-widgets/controls",
            "layout": "IPY_MODEL_b60edd2ac4a0439a964cb35479ddf254"
          }
        },
        "959e2c7ea160438691475cea581e3123": {
          "model_module": "@jupyter-widgets/controls",
          "model_name": "DescriptionStyleModel",
          "model_module_version": "1.5.0",
          "state": {
            "_view_name": "StyleView",
            "_model_name": "DescriptionStyleModel",
            "description_width": "",
            "_view_module": "@jupyter-widgets/base",
            "_model_module_version": "1.5.0",
            "_view_count": null,
            "_view_module_version": "1.2.0",
            "_model_module": "@jupyter-widgets/controls"
          }
        },
        "464f3c95c3514408903057a5bbf011b0": {
          "model_module": "@jupyter-widgets/base",
          "model_name": "LayoutModel",
          "model_module_version": "1.2.0",
          "state": {
            "_view_name": "LayoutView",
            "grid_template_rows": null,
            "right": null,
            "justify_content": null,
            "_view_module": "@jupyter-widgets/base",
            "overflow": null,
            "_model_module_version": "1.2.0",
            "_view_count": null,
            "flex_flow": null,
            "width": null,
            "min_width": null,
            "border": null,
            "align_items": null,
            "bottom": null,
            "_model_module": "@jupyter-widgets/base",
            "top": null,
            "grid_column": null,
            "overflow_y": null,
            "overflow_x": null,
            "grid_auto_flow": null,
            "grid_area": null,
            "grid_template_columns": null,
            "flex": null,
            "_model_name": "LayoutModel",
            "justify_items": null,
            "grid_row": null,
            "max_height": null,
            "align_content": null,
            "visibility": null,
            "align_self": null,
            "height": null,
            "min_height": null,
            "padding": null,
            "grid_auto_rows": null,
            "grid_gap": null,
            "max_width": null,
            "order": null,
            "_view_module_version": "1.2.0",
            "grid_template_areas": null,
            "object_position": null,
            "object_fit": null,
            "grid_auto_columns": null,
            "margin": null,
            "display": null,
            "left": null
          }
        },
        "dae813b36b754b4c910dac732de55ca3": {
          "model_module": "@jupyter-widgets/controls",
          "model_name": "ProgressStyleModel",
          "model_module_version": "1.5.0",
          "state": {
            "_view_name": "StyleView",
            "_model_name": "ProgressStyleModel",
            "description_width": "",
            "_view_module": "@jupyter-widgets/base",
            "_model_module_version": "1.5.0",
            "_view_count": null,
            "_view_module_version": "1.2.0",
            "bar_color": null,
            "_model_module": "@jupyter-widgets/controls"
          }
        },
        "bb491d59f77a49f0a9aa67ff353ef6af": {
          "model_module": "@jupyter-widgets/base",
          "model_name": "LayoutModel",
          "model_module_version": "1.2.0",
          "state": {
            "_view_name": "LayoutView",
            "grid_template_rows": null,
            "right": null,
            "justify_content": null,
            "_view_module": "@jupyter-widgets/base",
            "overflow": null,
            "_model_module_version": "1.2.0",
            "_view_count": null,
            "flex_flow": null,
            "width": null,
            "min_width": null,
            "border": null,
            "align_items": null,
            "bottom": null,
            "_model_module": "@jupyter-widgets/base",
            "top": null,
            "grid_column": null,
            "overflow_y": null,
            "overflow_x": null,
            "grid_auto_flow": null,
            "grid_area": null,
            "grid_template_columns": null,
            "flex": null,
            "_model_name": "LayoutModel",
            "justify_items": null,
            "grid_row": null,
            "max_height": null,
            "align_content": null,
            "visibility": null,
            "align_self": null,
            "height": null,
            "min_height": null,
            "padding": null,
            "grid_auto_rows": null,
            "grid_gap": null,
            "max_width": null,
            "order": null,
            "_view_module_version": "1.2.0",
            "grid_template_areas": null,
            "object_position": null,
            "object_fit": null,
            "grid_auto_columns": null,
            "margin": null,
            "display": null,
            "left": null
          }
        },
        "16d1555e482a44fa8db897329c2668bf": {
          "model_module": "@jupyter-widgets/controls",
          "model_name": "DescriptionStyleModel",
          "model_module_version": "1.5.0",
          "state": {
            "_view_name": "StyleView",
            "_model_name": "DescriptionStyleModel",
            "description_width": "",
            "_view_module": "@jupyter-widgets/base",
            "_model_module_version": "1.5.0",
            "_view_count": null,
            "_view_module_version": "1.2.0",
            "_model_module": "@jupyter-widgets/controls"
          }
        },
        "b60edd2ac4a0439a964cb35479ddf254": {
          "model_module": "@jupyter-widgets/base",
          "model_name": "LayoutModel",
          "model_module_version": "1.2.0",
          "state": {
            "_view_name": "LayoutView",
            "grid_template_rows": null,
            "right": null,
            "justify_content": null,
            "_view_module": "@jupyter-widgets/base",
            "overflow": null,
            "_model_module_version": "1.2.0",
            "_view_count": null,
            "flex_flow": null,
            "width": null,
            "min_width": null,
            "border": null,
            "align_items": null,
            "bottom": null,
            "_model_module": "@jupyter-widgets/base",
            "top": null,
            "grid_column": null,
            "overflow_y": null,
            "overflow_x": null,
            "grid_auto_flow": null,
            "grid_area": null,
            "grid_template_columns": null,
            "flex": null,
            "_model_name": "LayoutModel",
            "justify_items": null,
            "grid_row": null,
            "max_height": null,
            "align_content": null,
            "visibility": null,
            "align_self": null,
            "height": null,
            "min_height": null,
            "padding": null,
            "grid_auto_rows": null,
            "grid_gap": null,
            "max_width": null,
            "order": null,
            "_view_module_version": "1.2.0",
            "grid_template_areas": null,
            "object_position": null,
            "object_fit": null,
            "grid_auto_columns": null,
            "margin": null,
            "display": null,
            "left": null
          }
        },
        "f9dbd84980e945b09955daea971cab6c": {
          "model_module": "@jupyter-widgets/controls",
          "model_name": "HBoxModel",
          "model_module_version": "1.5.0",
          "state": {
            "_view_name": "HBoxView",
            "_dom_classes": [],
            "_model_name": "HBoxModel",
            "_view_module": "@jupyter-widgets/controls",
            "_model_module_version": "1.5.0",
            "_view_count": null,
            "_view_module_version": "1.5.0",
            "box_style": "",
            "layout": "IPY_MODEL_e2e684130f3e4ac6a990ba340dd334fe",
            "_model_module": "@jupyter-widgets/controls",
            "children": [
              "IPY_MODEL_68c56a17ba7a4c46b3ae30ba231d9d25",
              "IPY_MODEL_bf13f3560dad4702898e928cf92ceba4",
              "IPY_MODEL_6effb5cf848f4e78adee83f6599ec6a8"
            ]
          }
        },
        "e2e684130f3e4ac6a990ba340dd334fe": {
          "model_module": "@jupyter-widgets/base",
          "model_name": "LayoutModel",
          "model_module_version": "1.2.0",
          "state": {
            "_view_name": "LayoutView",
            "grid_template_rows": null,
            "right": null,
            "justify_content": null,
            "_view_module": "@jupyter-widgets/base",
            "overflow": null,
            "_model_module_version": "1.2.0",
            "_view_count": null,
            "flex_flow": null,
            "width": null,
            "min_width": null,
            "border": null,
            "align_items": null,
            "bottom": null,
            "_model_module": "@jupyter-widgets/base",
            "top": null,
            "grid_column": null,
            "overflow_y": null,
            "overflow_x": null,
            "grid_auto_flow": null,
            "grid_area": null,
            "grid_template_columns": null,
            "flex": null,
            "_model_name": "LayoutModel",
            "justify_items": null,
            "grid_row": null,
            "max_height": null,
            "align_content": null,
            "visibility": null,
            "align_self": null,
            "height": null,
            "min_height": null,
            "padding": null,
            "grid_auto_rows": null,
            "grid_gap": null,
            "max_width": null,
            "order": null,
            "_view_module_version": "1.2.0",
            "grid_template_areas": null,
            "object_position": null,
            "object_fit": null,
            "grid_auto_columns": null,
            "margin": null,
            "display": null,
            "left": null
          }
        },
        "68c56a17ba7a4c46b3ae30ba231d9d25": {
          "model_module": "@jupyter-widgets/controls",
          "model_name": "HTMLModel",
          "model_module_version": "1.5.0",
          "state": {
            "_view_name": "HTMLView",
            "style": "IPY_MODEL_9b12b20df5ce40b5932d6933148abde7",
            "_dom_classes": [],
            "description": "",
            "_model_name": "HTMLModel",
            "placeholder": "​",
            "_view_module": "@jupyter-widgets/controls",
            "_model_module_version": "1.5.0",
            "value": "Downloading: 100%",
            "_view_count": null,
            "_view_module_version": "1.5.0",
            "description_tooltip": null,
            "_model_module": "@jupyter-widgets/controls",
            "layout": "IPY_MODEL_5919e5eda2a6463d9cd84b136f613fed"
          }
        },
        "bf13f3560dad4702898e928cf92ceba4": {
          "model_module": "@jupyter-widgets/controls",
          "model_name": "FloatProgressModel",
          "model_module_version": "1.5.0",
          "state": {
            "_view_name": "ProgressView",
            "style": "IPY_MODEL_4c80979d1bb2486ba40b6a62fe04233d",
            "_dom_classes": [],
            "description": "",
            "_model_name": "FloatProgressModel",
            "bar_style": "success",
            "max": 112,
            "_view_module": "@jupyter-widgets/controls",
            "_model_module_version": "1.5.0",
            "value": 112,
            "_view_count": null,
            "_view_module_version": "1.5.0",
            "orientation": "horizontal",
            "min": 0,
            "description_tooltip": null,
            "_model_module": "@jupyter-widgets/controls",
            "layout": "IPY_MODEL_dd1ca6be64e941a4876092ac6bb061a8"
          }
        },
        "6effb5cf848f4e78adee83f6599ec6a8": {
          "model_module": "@jupyter-widgets/controls",
          "model_name": "HTMLModel",
          "model_module_version": "1.5.0",
          "state": {
            "_view_name": "HTMLView",
            "style": "IPY_MODEL_bb0c0a9e9a104b8aa389d7a004af4256",
            "_dom_classes": [],
            "description": "",
            "_model_name": "HTMLModel",
            "placeholder": "​",
            "_view_module": "@jupyter-widgets/controls",
            "_model_module_version": "1.5.0",
            "value": " 112/112 [00:00&lt;00:00, 1.78kB/s]",
            "_view_count": null,
            "_view_module_version": "1.5.0",
            "description_tooltip": null,
            "_model_module": "@jupyter-widgets/controls",
            "layout": "IPY_MODEL_ca55c8e238b54ee7878af76a09673a46"
          }
        },
        "9b12b20df5ce40b5932d6933148abde7": {
          "model_module": "@jupyter-widgets/controls",
          "model_name": "DescriptionStyleModel",
          "model_module_version": "1.5.0",
          "state": {
            "_view_name": "StyleView",
            "_model_name": "DescriptionStyleModel",
            "description_width": "",
            "_view_module": "@jupyter-widgets/base",
            "_model_module_version": "1.5.0",
            "_view_count": null,
            "_view_module_version": "1.2.0",
            "_model_module": "@jupyter-widgets/controls"
          }
        },
        "5919e5eda2a6463d9cd84b136f613fed": {
          "model_module": "@jupyter-widgets/base",
          "model_name": "LayoutModel",
          "model_module_version": "1.2.0",
          "state": {
            "_view_name": "LayoutView",
            "grid_template_rows": null,
            "right": null,
            "justify_content": null,
            "_view_module": "@jupyter-widgets/base",
            "overflow": null,
            "_model_module_version": "1.2.0",
            "_view_count": null,
            "flex_flow": null,
            "width": null,
            "min_width": null,
            "border": null,
            "align_items": null,
            "bottom": null,
            "_model_module": "@jupyter-widgets/base",
            "top": null,
            "grid_column": null,
            "overflow_y": null,
            "overflow_x": null,
            "grid_auto_flow": null,
            "grid_area": null,
            "grid_template_columns": null,
            "flex": null,
            "_model_name": "LayoutModel",
            "justify_items": null,
            "grid_row": null,
            "max_height": null,
            "align_content": null,
            "visibility": null,
            "align_self": null,
            "height": null,
            "min_height": null,
            "padding": null,
            "grid_auto_rows": null,
            "grid_gap": null,
            "max_width": null,
            "order": null,
            "_view_module_version": "1.2.0",
            "grid_template_areas": null,
            "object_position": null,
            "object_fit": null,
            "grid_auto_columns": null,
            "margin": null,
            "display": null,
            "left": null
          }
        },
        "4c80979d1bb2486ba40b6a62fe04233d": {
          "model_module": "@jupyter-widgets/controls",
          "model_name": "ProgressStyleModel",
          "model_module_version": "1.5.0",
          "state": {
            "_view_name": "StyleView",
            "_model_name": "ProgressStyleModel",
            "description_width": "",
            "_view_module": "@jupyter-widgets/base",
            "_model_module_version": "1.5.0",
            "_view_count": null,
            "_view_module_version": "1.2.0",
            "bar_color": null,
            "_model_module": "@jupyter-widgets/controls"
          }
        },
        "dd1ca6be64e941a4876092ac6bb061a8": {
          "model_module": "@jupyter-widgets/base",
          "model_name": "LayoutModel",
          "model_module_version": "1.2.0",
          "state": {
            "_view_name": "LayoutView",
            "grid_template_rows": null,
            "right": null,
            "justify_content": null,
            "_view_module": "@jupyter-widgets/base",
            "overflow": null,
            "_model_module_version": "1.2.0",
            "_view_count": null,
            "flex_flow": null,
            "width": null,
            "min_width": null,
            "border": null,
            "align_items": null,
            "bottom": null,
            "_model_module": "@jupyter-widgets/base",
            "top": null,
            "grid_column": null,
            "overflow_y": null,
            "overflow_x": null,
            "grid_auto_flow": null,
            "grid_area": null,
            "grid_template_columns": null,
            "flex": null,
            "_model_name": "LayoutModel",
            "justify_items": null,
            "grid_row": null,
            "max_height": null,
            "align_content": null,
            "visibility": null,
            "align_self": null,
            "height": null,
            "min_height": null,
            "padding": null,
            "grid_auto_rows": null,
            "grid_gap": null,
            "max_width": null,
            "order": null,
            "_view_module_version": "1.2.0",
            "grid_template_areas": null,
            "object_position": null,
            "object_fit": null,
            "grid_auto_columns": null,
            "margin": null,
            "display": null,
            "left": null
          }
        },
        "bb0c0a9e9a104b8aa389d7a004af4256": {
          "model_module": "@jupyter-widgets/controls",
          "model_name": "DescriptionStyleModel",
          "model_module_version": "1.5.0",
          "state": {
            "_view_name": "StyleView",
            "_model_name": "DescriptionStyleModel",
            "description_width": "",
            "_view_module": "@jupyter-widgets/base",
            "_model_module_version": "1.5.0",
            "_view_count": null,
            "_view_module_version": "1.2.0",
            "_model_module": "@jupyter-widgets/controls"
          }
        },
        "ca55c8e238b54ee7878af76a09673a46": {
          "model_module": "@jupyter-widgets/base",
          "model_name": "LayoutModel",
          "model_module_version": "1.2.0",
          "state": {
            "_view_name": "LayoutView",
            "grid_template_rows": null,
            "right": null,
            "justify_content": null,
            "_view_module": "@jupyter-widgets/base",
            "overflow": null,
            "_model_module_version": "1.2.0",
            "_view_count": null,
            "flex_flow": null,
            "width": null,
            "min_width": null,
            "border": null,
            "align_items": null,
            "bottom": null,
            "_model_module": "@jupyter-widgets/base",
            "top": null,
            "grid_column": null,
            "overflow_y": null,
            "overflow_x": null,
            "grid_auto_flow": null,
            "grid_area": null,
            "grid_template_columns": null,
            "flex": null,
            "_model_name": "LayoutModel",
            "justify_items": null,
            "grid_row": null,
            "max_height": null,
            "align_content": null,
            "visibility": null,
            "align_self": null,
            "height": null,
            "min_height": null,
            "padding": null,
            "grid_auto_rows": null,
            "grid_gap": null,
            "max_width": null,
            "order": null,
            "_view_module_version": "1.2.0",
            "grid_template_areas": null,
            "object_position": null,
            "object_fit": null,
            "grid_auto_columns": null,
            "margin": null,
            "display": null,
            "left": null
          }
        }
      }
    }
  },
  "cells": [
    {
      "cell_type": "markdown",
      "metadata": {
        "id": "view-in-github",
        "colab_type": "text"
      },
      "source": [
        "<a href=\"https://colab.research.google.com/github/mendoanjoe/sentiment-analysis/blob/main/Sentiment.ipynb\" target=\"_parent\"><img src=\"https://colab.research.google.com/assets/colab-badge.svg\" alt=\"Open In Colab\"/></a>"
      ]
    },
    {
      "cell_type": "markdown",
      "source": [
        "# Library"
      ],
      "metadata": {
        "id": "OVeOwI-jKI0Q"
      }
    },
    {
      "cell_type": "code",
      "execution_count": 3,
      "metadata": {
        "colab": {
          "base_uri": "https://localhost:8080/"
        },
        "id": "EGUagNyw_YTd",
        "outputId": "fc781715-e9b9-4dfe-b3c6-ffb6f2207fac"
      },
      "outputs": [
        {
          "output_type": "stream",
          "name": "stdout",
          "text": [
            "Requirement already satisfied: Sastrawi in /usr/local/lib/python3.7/dist-packages (1.0.1)\n",
            "Requirement already satisfied: textblob in /usr/local/lib/python3.7/dist-packages (0.15.3)\n",
            "Requirement already satisfied: nltk>=3.1 in /usr/local/lib/python3.7/dist-packages (from textblob) (3.2.5)\n",
            "Requirement already satisfied: six in /usr/local/lib/python3.7/dist-packages (from nltk>=3.1->textblob) (1.15.0)\n",
            "Requirement already satisfied: transformers in /usr/local/lib/python3.7/dist-packages (4.15.0)\n",
            "Requirement already satisfied: huggingface-hub<1.0,>=0.1.0 in /usr/local/lib/python3.7/dist-packages (from transformers) (0.2.1)\n",
            "Requirement already satisfied: importlib-metadata in /usr/local/lib/python3.7/dist-packages (from transformers) (4.8.2)\n",
            "Requirement already satisfied: regex!=2019.12.17 in /usr/local/lib/python3.7/dist-packages (from transformers) (2019.12.20)\n",
            "Requirement already satisfied: sacremoses in /usr/local/lib/python3.7/dist-packages (from transformers) (0.0.46)\n",
            "Requirement already satisfied: requests in /usr/local/lib/python3.7/dist-packages (from transformers) (2.23.0)\n",
            "Requirement already satisfied: tokenizers<0.11,>=0.10.1 in /usr/local/lib/python3.7/dist-packages (from transformers) (0.10.3)\n",
            "Requirement already satisfied: tqdm>=4.27 in /usr/local/lib/python3.7/dist-packages (from transformers) (4.62.3)\n",
            "Requirement already satisfied: filelock in /usr/local/lib/python3.7/dist-packages (from transformers) (3.4.0)\n",
            "Requirement already satisfied: packaging>=20.0 in /usr/local/lib/python3.7/dist-packages (from transformers) (21.3)\n",
            "Requirement already satisfied: numpy>=1.17 in /usr/local/lib/python3.7/dist-packages (from transformers) (1.19.5)\n",
            "Requirement already satisfied: pyyaml>=5.1 in /usr/local/lib/python3.7/dist-packages (from transformers) (6.0)\n",
            "Requirement already satisfied: typing-extensions>=3.7.4.3 in /usr/local/lib/python3.7/dist-packages (from huggingface-hub<1.0,>=0.1.0->transformers) (3.10.0.2)\n",
            "Requirement already satisfied: pyparsing!=3.0.5,>=2.0.2 in /usr/local/lib/python3.7/dist-packages (from packaging>=20.0->transformers) (3.0.6)\n",
            "Requirement already satisfied: zipp>=0.5 in /usr/local/lib/python3.7/dist-packages (from importlib-metadata->transformers) (3.6.0)\n",
            "Requirement already satisfied: certifi>=2017.4.17 in /usr/local/lib/python3.7/dist-packages (from requests->transformers) (2021.10.8)\n",
            "Requirement already satisfied: urllib3!=1.25.0,!=1.25.1,<1.26,>=1.21.1 in /usr/local/lib/python3.7/dist-packages (from requests->transformers) (1.24.3)\n",
            "Requirement already satisfied: idna<3,>=2.5 in /usr/local/lib/python3.7/dist-packages (from requests->transformers) (2.10)\n",
            "Requirement already satisfied: chardet<4,>=3.0.2 in /usr/local/lib/python3.7/dist-packages (from requests->transformers) (3.0.4)\n",
            "Requirement already satisfied: joblib in /usr/local/lib/python3.7/dist-packages (from sacremoses->transformers) (1.1.0)\n",
            "Requirement already satisfied: six in /usr/local/lib/python3.7/dist-packages (from sacremoses->transformers) (1.15.0)\n",
            "Requirement already satisfied: click in /usr/local/lib/python3.7/dist-packages (from sacremoses->transformers) (7.1.2)\n"
          ]
        }
      ],
      "source": [
        "!pip install Sastrawi\n",
        "!pip install textblob\n",
        "!pip install transformers"
      ]
    },
    {
      "cell_type": "code",
      "source": [
        "import io\n",
        "import pandas as pd\n",
        "import matplotlib.pyplot as plt\n",
        "import json\n",
        "import string\n",
        "import re\n",
        "import nltk\n",
        "import pickle\n",
        "import numpy as np\n",
        "\n",
        "nltk.download('punkt')\n",
        "nltk.download('averaged_perceptron_tagger')\n",
        "nltk.download('wordnet')\n",
        "\n",
        "from nltk.stem import WordNetLemmatizer\n",
        "from nltk.corpus import wordnet\n",
        "from Sastrawi.Stemmer.StemmerFactory import StemmerFactory\n",
        "from google.colab import drive\n",
        "from google.colab import files\n",
        "from wordcloud import WordCloud\n",
        "from textblob import TextBlob\n",
        "from transformers import pipeline\n",
        "from transformers import AutoTokenizer, AutoModelForSequenceClassification\n",
        "from sklearn.feature_extraction.text import CountVectorizer, TfidfTransformer\n",
        "from sklearn.linear_model import LogisticRegression\n",
        "from sklearn.svm import SVC\n",
        "from sklearn.model_selection import train_test_split, StratifiedKFold, cross_val_score\n",
        "from sklearn.pipeline import make_pipeline, Pipeline\n",
        "from sklearn.model_selection import GridSearchCV\n",
        "from sklearn.metrics import make_scorer, accuracy_score, f1_score\n",
        "from sklearn.metrics import roc_curve, auc, classification_report\n",
        "from sklearn.metrics import confusion_matrix, roc_auc_score, recall_score, precision_score\n",
        "from sklearn.feature_extraction.text import TfidfVectorizer\n",
        "from sklearn.naive_bayes import ComplementNB\n",
        "from sklearn.naive_bayes import BernoulliNB\n",
        "from sklearn.naive_bayes import MultinomialNB\n",
        "from collections import Counter"
      ],
      "metadata": {
        "colab": {
          "base_uri": "https://localhost:8080/"
        },
        "id": "95CRbCfq_bMY",
        "outputId": "22aa4f11-a3c8-45d0-df4c-4bd9d165fffb"
      },
      "execution_count": 4,
      "outputs": [
        {
          "output_type": "stream",
          "name": "stdout",
          "text": [
            "[nltk_data] Downloading package punkt to /root/nltk_data...\n",
            "[nltk_data]   Package punkt is already up-to-date!\n",
            "[nltk_data] Downloading package averaged_perceptron_tagger to\n",
            "[nltk_data]     /root/nltk_data...\n",
            "[nltk_data]   Package averaged_perceptron_tagger is already up-to-\n",
            "[nltk_data]       date!\n",
            "[nltk_data] Downloading package wordnet to /root/nltk_data...\n",
            "[nltk_data]   Package wordnet is already up-to-date!\n"
          ]
        }
      ]
    },
    {
      "cell_type": "markdown",
      "source": [
        "# Data sociolla & female daily"
      ],
      "metadata": {
        "id": "yqc17yy6_neX"
      }
    },
    {
      "cell_type": "markdown",
      "source": [
        "## Upload raw data\n",
        "* data must sociolla.json and femaledaily.json"
      ],
      "metadata": {
        "id": "HL3o6osdJDFx"
      }
    },
    {
      "cell_type": "code",
      "source": [
        "data_files = files.upload()"
      ],
      "metadata": {
        "colab": {
          "resources": {
            "http://localhost:8080/nbextensions/google.colab/files.js": {
              "data": "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",
              "ok": true,
              "headers": [
                [
                  "content-type",
                  "application/javascript"
                ]
              ],
              "status": 200,
              "status_text": ""
            }
          },
          "base_uri": "https://localhost:8080/",
          "height": 73
        },
        "id": "xYgvz4I5_3If",
        "outputId": "b14264a8-5184-4dc6-cb71-a8ef9874bdbd"
      },
      "execution_count": 5,
      "outputs": [
        {
          "output_type": "display_data",
          "data": {
            "text/html": [
              "\n",
              "     <input type=\"file\" id=\"files-fdc4ad72-45f6-4fc0-88d9-af506c0d3ba3\" name=\"files[]\" multiple disabled\n",
              "        style=\"border:none\" />\n",
              "     <output id=\"result-fdc4ad72-45f6-4fc0-88d9-af506c0d3ba3\">\n",
              "      Upload widget is only available when the cell has been executed in the\n",
              "      current browser session. Please rerun this cell to enable.\n",
              "      </output>\n",
              "      <script src=\"/nbextensions/google.colab/files.js\"></script> "
            ],
            "text/plain": [
              "<IPython.core.display.HTML object>"
            ]
          },
          "metadata": {}
        },
        {
          "output_type": "stream",
          "name": "stdout",
          "text": [
            "Saving femaledaily.json to femaledaily.json\n",
            "Saving sociolla.json to sociolla.json\n"
          ]
        }
      ]
    },
    {
      "cell_type": "markdown",
      "source": [
        "reading data from json file"
      ],
      "metadata": {
        "id": "Sd0lOpcDNa0C"
      }
    },
    {
      "cell_type": "code",
      "source": [
        "json_sociolla = json.loads(data_files['sociolla.json'])\n",
        "json_femaleDaily = json.loads(data_files['femaledaily.json'])"
      ],
      "metadata": {
        "id": "mLWMtoMOGutj"
      },
      "execution_count": 7,
      "outputs": []
    },
    {
      "cell_type": "markdown",
      "source": [
        "## Normalize json to data frame\n",
        "\n",
        "Following instruction from https://towardsdatascience.com/how-to-convert-json-into-a-pandas-dataframe-100b2ae1e0d8"
      ],
      "metadata": {
        "id": "6YQJpsy8JLW5"
      }
    },
    {
      "cell_type": "code",
      "source": [
        "df_sociolla = pd.json_normalize(json_sociolla, meta=[['user', 'name'], ['product', 'name']])\n",
        "df_femaleDaily = pd.json_normalize(json_femaleDaily, meta=[['product', 'packaging_avg'], ['product', 'rating_avg'], ['product', 'total_review'], ['user', 'age_range']])"
      ],
      "metadata": {
        "id": "UOaZnPVCBtqv"
      },
      "execution_count": 8,
      "outputs": []
    },
    {
      "cell_type": "markdown",
      "source": [
        "## Preview raw data frame"
      ],
      "metadata": {
        "id": "eVToHabXJQ05"
      }
    },
    {
      "cell_type": "markdown",
      "source": [
        "Sociolla raw data:"
      ],
      "metadata": {
        "id": "-1gKyKhdY1Bv"
      }
    },
    {
      "cell_type": "code",
      "source": [
        "df_sociolla.head()"
      ],
      "metadata": {
        "colab": {
          "base_uri": "https://localhost:8080/",
          "height": 722
        },
        "id": "rvbeDHVyIz2q",
        "outputId": "f6f3e235-ab4f-4535-b126-62bd97f9c7e1"
      },
      "execution_count": 9,
      "outputs": [
        {
          "output_type": "execute_result",
          "data": {
            "text/html": [
              "\n",
              "  <div id=\"df-968aefba-5821-4c0e-9313-7d7322d2dc1d\">\n",
              "    <div class=\"colab-df-container\">\n",
              "      <div>\n",
              "<style scoped>\n",
              "    .dataframe tbody tr th:only-of-type {\n",
              "        vertical-align: middle;\n",
              "    }\n",
              "\n",
              "    .dataframe tbody tr th {\n",
              "        vertical-align: top;\n",
              "    }\n",
              "\n",
              "    .dataframe thead th {\n",
              "        text-align: right;\n",
              "    }\n",
              "</style>\n",
              "<table border=\"1\" class=\"dataframe\">\n",
              "  <thead>\n",
              "    <tr style=\"text-align: right;\">\n",
              "      <th></th>\n",
              "      <th>_id</th>\n",
              "      <th>details</th>\n",
              "      <th>star_texture</th>\n",
              "      <th>star_effectiveness</th>\n",
              "      <th>star_packaging</th>\n",
              "      <th>star_value_for_money</th>\n",
              "      <th>average_rating</th>\n",
              "      <th>created_at</th>\n",
              "      <th>detail</th>\n",
              "      <th>user.name</th>\n",
              "      <th>product.name</th>\n",
              "    </tr>\n",
              "  </thead>\n",
              "  <tbody>\n",
              "    <tr>\n",
              "      <th>0</th>\n",
              "      <td>61b8df2fc6f4e3442ee516fa</td>\n",
              "      <td>suka banget sama produk ini, gampang dibawa ke...</td>\n",
              "      <td>5</td>\n",
              "      <td>5</td>\n",
              "      <td>5</td>\n",
              "      <td>5</td>\n",
              "      <td>5.0</td>\n",
              "      <td>2021-12-14T18:15:11.866Z</td>\n",
              "      <td>suka banget sama produk ini, gampang dibawa ke...</td>\n",
              "      <td>Zahra Asyifa</td>\n",
              "      <td>Cica Beat The Sun Powder</td>\n",
              "    </tr>\n",
              "    <tr>\n",
              "      <th>1</th>\n",
              "      <td>61b8a6cd8b24ecb6db2e6736</td>\n",
              "      <td>ini aku pertama kali beli produk ini dan aku e...</td>\n",
              "      <td>5</td>\n",
              "      <td>5</td>\n",
              "      <td>5</td>\n",
              "      <td>5</td>\n",
              "      <td>5.0</td>\n",
              "      <td>2021-12-14T14:14:37.221Z</td>\n",
              "      <td>ini aku pertama kali beli produk ini dan aku e...</td>\n",
              "      <td>Nurlela Achmad</td>\n",
              "      <td>Cica Beat The Sun SPF 50 PA ++++</td>\n",
              "    </tr>\n",
              "    <tr>\n",
              "      <th>2</th>\n",
              "      <td>61b89df3b7db5e79311918c7</td>\n",
              "      <td>I love the packaging, the texture, tapi kurang...</td>\n",
              "      <td>4</td>\n",
              "      <td>4</td>\n",
              "      <td>5</td>\n",
              "      <td>5</td>\n",
              "      <td>4.5</td>\n",
              "      <td>2021-12-14T13:36:51.246Z</td>\n",
              "      <td>I love the packaging, the texture, tapi kurang...</td>\n",
              "      <td>adinda subagio</td>\n",
              "      <td>Cica Beat The Sun SPF 50 PA ++++</td>\n",
              "    </tr>\n",
              "    <tr>\n",
              "      <th>3</th>\n",
              "      <td>61b86abe0ba0d9449dae81f1</td>\n",
              "      <td>menyesal kenapa baru tahu ada sunscreen yang b...</td>\n",
              "      <td>5</td>\n",
              "      <td>5</td>\n",
              "      <td>5</td>\n",
              "      <td>5</td>\n",
              "      <td>5.0</td>\n",
              "      <td>2021-12-14T09:58:22.157Z</td>\n",
              "      <td>menyesal kenapa baru tahu ada sunscreen yang b...</td>\n",
              "      <td>Amalia Anggraini</td>\n",
              "      <td>Cica Beat The Sun Powder</td>\n",
              "    </tr>\n",
              "    <tr>\n",
              "      <th>4</th>\n",
              "      <td>61b8692ca4eb722150610da8</td>\n",
              "      <td>suka!! bagus bgt buat touch up ditambah lg ini...</td>\n",
              "      <td>5</td>\n",
              "      <td>5</td>\n",
              "      <td>5</td>\n",
              "      <td>4</td>\n",
              "      <td>4.8</td>\n",
              "      <td>2021-12-14T09:51:40.672Z</td>\n",
              "      <td>suka!! bagus bgt buat touch up ditambah lg ini...</td>\n",
              "      <td>Winda Teresia</td>\n",
              "      <td>Cica Beat The Sun Powder</td>\n",
              "    </tr>\n",
              "  </tbody>\n",
              "</table>\n",
              "</div>\n",
              "      <button class=\"colab-df-convert\" onclick=\"convertToInteractive('df-968aefba-5821-4c0e-9313-7d7322d2dc1d')\"\n",
              "              title=\"Convert this dataframe to an interactive table.\"\n",
              "              style=\"display:none;\">\n",
              "        \n",
              "  <svg xmlns=\"http://www.w3.org/2000/svg\" height=\"24px\"viewBox=\"0 0 24 24\"\n",
              "       width=\"24px\">\n",
              "    <path d=\"M0 0h24v24H0V0z\" fill=\"none\"/>\n",
              "    <path d=\"M18.56 5.44l.94 2.06.94-2.06 2.06-.94-2.06-.94-.94-2.06-.94 2.06-2.06.94zm-11 1L8.5 8.5l.94-2.06 2.06-.94-2.06-.94L8.5 2.5l-.94 2.06-2.06.94zm10 10l.94 2.06.94-2.06 2.06-.94-2.06-.94-.94-2.06-.94 2.06-2.06.94z\"/><path d=\"M17.41 7.96l-1.37-1.37c-.4-.4-.92-.59-1.43-.59-.52 0-1.04.2-1.43.59L10.3 9.45l-7.72 7.72c-.78.78-.78 2.05 0 2.83L4 21.41c.39.39.9.59 1.41.59.51 0 1.02-.2 1.41-.59l7.78-7.78 2.81-2.81c.8-.78.8-2.07 0-2.86zM5.41 20L4 18.59l7.72-7.72 1.47 1.35L5.41 20z\"/>\n",
              "  </svg>\n",
              "      </button>\n",
              "      \n",
              "  <style>\n",
              "    .colab-df-container {\n",
              "      display:flex;\n",
              "      flex-wrap:wrap;\n",
              "      gap: 12px;\n",
              "    }\n",
              "\n",
              "    .colab-df-convert {\n",
              "      background-color: #E8F0FE;\n",
              "      border: none;\n",
              "      border-radius: 50%;\n",
              "      cursor: pointer;\n",
              "      display: none;\n",
              "      fill: #1967D2;\n",
              "      height: 32px;\n",
              "      padding: 0 0 0 0;\n",
              "      width: 32px;\n",
              "    }\n",
              "\n",
              "    .colab-df-convert:hover {\n",
              "      background-color: #E2EBFA;\n",
              "      box-shadow: 0px 1px 2px rgba(60, 64, 67, 0.3), 0px 1px 3px 1px rgba(60, 64, 67, 0.15);\n",
              "      fill: #174EA6;\n",
              "    }\n",
              "\n",
              "    [theme=dark] .colab-df-convert {\n",
              "      background-color: #3B4455;\n",
              "      fill: #D2E3FC;\n",
              "    }\n",
              "\n",
              "    [theme=dark] .colab-df-convert:hover {\n",
              "      background-color: #434B5C;\n",
              "      box-shadow: 0px 1px 3px 1px rgba(0, 0, 0, 0.15);\n",
              "      filter: drop-shadow(0px 1px 2px rgba(0, 0, 0, 0.3));\n",
              "      fill: #FFFFFF;\n",
              "    }\n",
              "  </style>\n",
              "\n",
              "      <script>\n",
              "        const buttonEl =\n",
              "          document.querySelector('#df-968aefba-5821-4c0e-9313-7d7322d2dc1d button.colab-df-convert');\n",
              "        buttonEl.style.display =\n",
              "          google.colab.kernel.accessAllowed ? 'block' : 'none';\n",
              "\n",
              "        async function convertToInteractive(key) {\n",
              "          const element = document.querySelector('#df-968aefba-5821-4c0e-9313-7d7322d2dc1d');\n",
              "          const dataTable =\n",
              "            await google.colab.kernel.invokeFunction('convertToInteractive',\n",
              "                                                     [key], {});\n",
              "          if (!dataTable) return;\n",
              "\n",
              "          const docLinkHtml = 'Like what you see? Visit the ' +\n",
              "            '<a target=\"_blank\" href=https://colab.research.google.com/notebooks/data_table.ipynb>data table notebook</a>'\n",
              "            + ' to learn more about interactive tables.';\n",
              "          element.innerHTML = '';\n",
              "          dataTable['output_type'] = 'display_data';\n",
              "          await google.colab.output.renderOutput(dataTable, element);\n",
              "          const docLink = document.createElement('div');\n",
              "          docLink.innerHTML = docLinkHtml;\n",
              "          element.appendChild(docLink);\n",
              "        }\n",
              "      </script>\n",
              "    </div>\n",
              "  </div>\n",
              "  "
            ],
            "text/plain": [
              "                        _id  ...                      product.name\n",
              "0  61b8df2fc6f4e3442ee516fa  ...          Cica Beat The Sun Powder\n",
              "1  61b8a6cd8b24ecb6db2e6736  ...  Cica Beat The Sun SPF 50 PA ++++\n",
              "2  61b89df3b7db5e79311918c7  ...  Cica Beat The Sun SPF 50 PA ++++\n",
              "3  61b86abe0ba0d9449dae81f1  ...          Cica Beat The Sun Powder\n",
              "4  61b8692ca4eb722150610da8  ...          Cica Beat The Sun Powder\n",
              "\n",
              "[5 rows x 11 columns]"
            ]
          },
          "metadata": {},
          "execution_count": 9
        }
      ]
    },
    {
      "cell_type": "markdown",
      "source": [
        "Female daily raw data:"
      ],
      "metadata": {
        "id": "gufW7HOmY9am"
      }
    },
    {
      "cell_type": "code",
      "source": [
        "df_femaleDaily.head()"
      ],
      "metadata": {
        "colab": {
          "base_uri": "https://localhost:8080/",
          "height": 461
        },
        "id": "26fdTNzbZBHP",
        "outputId": "be53c9c7-62b9-4131-ee98-34a67ffd924b"
      },
      "execution_count": 10,
      "outputs": [
        {
          "output_type": "execute_result",
          "data": {
            "text/html": [
              "\n",
              "  <div id=\"df-30d1db03-1c6b-46cd-84f3-282c6e7b69fe\">\n",
              "    <div class=\"colab-df-container\">\n",
              "      <div>\n",
              "<style scoped>\n",
              "    .dataframe tbody tr th:only-of-type {\n",
              "        vertical-align: middle;\n",
              "    }\n",
              "\n",
              "    .dataframe tbody tr th {\n",
              "        vertical-align: top;\n",
              "    }\n",
              "\n",
              "    .dataframe thead th {\n",
              "        text-align: right;\n",
              "    }\n",
              "</style>\n",
              "<table border=\"1\" class=\"dataframe\">\n",
              "  <thead>\n",
              "    <tr style=\"text-align: right;\">\n",
              "      <th></th>\n",
              "      <th>rvwr_review_rating</th>\n",
              "      <th>rvwr_review_txt</th>\n",
              "      <th>fullname</th>\n",
              "      <th>review_cur_ori</th>\n",
              "      <th>review_cur_update</th>\n",
              "      <th>prod_item</th>\n",
              "      <th>brand_name</th>\n",
              "      <th>_id.$oid</th>\n",
              "      <th>product.total_review</th>\n",
              "      <th>product.packaging_avg</th>\n",
              "      <th>product.rating_avg</th>\n",
              "      <th>user.age_range</th>\n",
              "    </tr>\n",
              "  </thead>\n",
              "  <tbody>\n",
              "    <tr>\n",
              "      <th>0</th>\n",
              "      <td>5</td>\n",
              "      <td>akhirnya beli produk ini pas banget lagi sale ...</td>\n",
              "      <td>Nadira Ananda Thamrin</td>\n",
              "      <td>IDR</td>\n",
              "      <td>IDR</td>\n",
              "      <td>Cica Beat The Sun Powder</td>\n",
              "      <td>N'pure</td>\n",
              "      <td>619a26b06f6dfb81c79927e2</td>\n",
              "      <td>1452</td>\n",
              "      <td>1</td>\n",
              "      <td>4.9</td>\n",
              "      <td>19 - 24</td>\n",
              "    </tr>\n",
              "    <tr>\n",
              "      <th>1</th>\n",
              "      <td>5</td>\n",
              "      <td>Sun powder dari N'pure ini bagus bangett, gabo...</td>\n",
              "      <td>Oktavia Zuhrotul Hafshah</td>\n",
              "      <td>IDR</td>\n",
              "      <td>IDR</td>\n",
              "      <td>Cica Beat The Sun Powder</td>\n",
              "      <td>N'pure</td>\n",
              "      <td>619a26b06f6dfb81c7992804</td>\n",
              "      <td>1452</td>\n",
              "      <td>1</td>\n",
              "      <td>4.9</td>\n",
              "      <td>18 and Under</td>\n",
              "    </tr>\n",
              "    <tr>\n",
              "      <th>2</th>\n",
              "      <td>5</td>\n",
              "      <td>waw sumpah si ini sunscreen yang bener bener b...</td>\n",
              "      <td>wawa</td>\n",
              "      <td>IDR</td>\n",
              "      <td>IDR</td>\n",
              "      <td>Cica Beat The Sun</td>\n",
              "      <td>N'pure</td>\n",
              "      <td>619a26b06f6dfb81c7992833</td>\n",
              "      <td>2952</td>\n",
              "      <td>1</td>\n",
              "      <td>4.9</td>\n",
              "      <td>18 and Under</td>\n",
              "    </tr>\n",
              "    <tr>\n",
              "      <th>3</th>\n",
              "      <td>5</td>\n",
              "      <td>N'PURE Cica Beat The Sun Powder ini bener-bene...</td>\n",
              "      <td>Shinta Dwi Asmarani</td>\n",
              "      <td>IDR</td>\n",
              "      <td>IDR</td>\n",
              "      <td>Cica Beat The Sun Powder</td>\n",
              "      <td>N'pure</td>\n",
              "      <td>619a26b06f6dfb81c7992844</td>\n",
              "      <td>1452</td>\n",
              "      <td>1</td>\n",
              "      <td>4.9</td>\n",
              "      <td>25 - 29</td>\n",
              "    </tr>\n",
              "    <tr>\n",
              "      <th>4</th>\n",
              "      <td>5</td>\n",
              "      <td>Suka sama teksturnya powder dan aplikatornya b...</td>\n",
              "      <td>Selizar Effendy</td>\n",
              "      <td>IDR</td>\n",
              "      <td>IDR</td>\n",
              "      <td>Cica Beat The Sun Powder</td>\n",
              "      <td>N'pure</td>\n",
              "      <td>619a26b06f6dfb81c79928a8</td>\n",
              "      <td>1452</td>\n",
              "      <td>1</td>\n",
              "      <td>4.9</td>\n",
              "      <td>25 - 29</td>\n",
              "    </tr>\n",
              "  </tbody>\n",
              "</table>\n",
              "</div>\n",
              "      <button class=\"colab-df-convert\" onclick=\"convertToInteractive('df-30d1db03-1c6b-46cd-84f3-282c6e7b69fe')\"\n",
              "              title=\"Convert this dataframe to an interactive table.\"\n",
              "              style=\"display:none;\">\n",
              "        \n",
              "  <svg xmlns=\"http://www.w3.org/2000/svg\" height=\"24px\"viewBox=\"0 0 24 24\"\n",
              "       width=\"24px\">\n",
              "    <path d=\"M0 0h24v24H0V0z\" fill=\"none\"/>\n",
              "    <path d=\"M18.56 5.44l.94 2.06.94-2.06 2.06-.94-2.06-.94-.94-2.06-.94 2.06-2.06.94zm-11 1L8.5 8.5l.94-2.06 2.06-.94-2.06-.94L8.5 2.5l-.94 2.06-2.06.94zm10 10l.94 2.06.94-2.06 2.06-.94-2.06-.94-.94-2.06-.94 2.06-2.06.94z\"/><path d=\"M17.41 7.96l-1.37-1.37c-.4-.4-.92-.59-1.43-.59-.52 0-1.04.2-1.43.59L10.3 9.45l-7.72 7.72c-.78.78-.78 2.05 0 2.83L4 21.41c.39.39.9.59 1.41.59.51 0 1.02-.2 1.41-.59l7.78-7.78 2.81-2.81c.8-.78.8-2.07 0-2.86zM5.41 20L4 18.59l7.72-7.72 1.47 1.35L5.41 20z\"/>\n",
              "  </svg>\n",
              "      </button>\n",
              "      \n",
              "  <style>\n",
              "    .colab-df-container {\n",
              "      display:flex;\n",
              "      flex-wrap:wrap;\n",
              "      gap: 12px;\n",
              "    }\n",
              "\n",
              "    .colab-df-convert {\n",
              "      background-color: #E8F0FE;\n",
              "      border: none;\n",
              "      border-radius: 50%;\n",
              "      cursor: pointer;\n",
              "      display: none;\n",
              "      fill: #1967D2;\n",
              "      height: 32px;\n",
              "      padding: 0 0 0 0;\n",
              "      width: 32px;\n",
              "    }\n",
              "\n",
              "    .colab-df-convert:hover {\n",
              "      background-color: #E2EBFA;\n",
              "      box-shadow: 0px 1px 2px rgba(60, 64, 67, 0.3), 0px 1px 3px 1px rgba(60, 64, 67, 0.15);\n",
              "      fill: #174EA6;\n",
              "    }\n",
              "\n",
              "    [theme=dark] .colab-df-convert {\n",
              "      background-color: #3B4455;\n",
              "      fill: #D2E3FC;\n",
              "    }\n",
              "\n",
              "    [theme=dark] .colab-df-convert:hover {\n",
              "      background-color: #434B5C;\n",
              "      box-shadow: 0px 1px 3px 1px rgba(0, 0, 0, 0.15);\n",
              "      filter: drop-shadow(0px 1px 2px rgba(0, 0, 0, 0.3));\n",
              "      fill: #FFFFFF;\n",
              "    }\n",
              "  </style>\n",
              "\n",
              "      <script>\n",
              "        const buttonEl =\n",
              "          document.querySelector('#df-30d1db03-1c6b-46cd-84f3-282c6e7b69fe button.colab-df-convert');\n",
              "        buttonEl.style.display =\n",
              "          google.colab.kernel.accessAllowed ? 'block' : 'none';\n",
              "\n",
              "        async function convertToInteractive(key) {\n",
              "          const element = document.querySelector('#df-30d1db03-1c6b-46cd-84f3-282c6e7b69fe');\n",
              "          const dataTable =\n",
              "            await google.colab.kernel.invokeFunction('convertToInteractive',\n",
              "                                                     [key], {});\n",
              "          if (!dataTable) return;\n",
              "\n",
              "          const docLinkHtml = 'Like what you see? Visit the ' +\n",
              "            '<a target=\"_blank\" href=https://colab.research.google.com/notebooks/data_table.ipynb>data table notebook</a>'\n",
              "            + ' to learn more about interactive tables.';\n",
              "          element.innerHTML = '';\n",
              "          dataTable['output_type'] = 'display_data';\n",
              "          await google.colab.output.renderOutput(dataTable, element);\n",
              "          const docLink = document.createElement('div');\n",
              "          docLink.innerHTML = docLinkHtml;\n",
              "          element.appendChild(docLink);\n",
              "        }\n",
              "      </script>\n",
              "    </div>\n",
              "  </div>\n",
              "  "
            ],
            "text/plain": [
              "   rvwr_review_rating  ... user.age_range\n",
              "0                   5  ...        19 - 24\n",
              "1                   5  ...   18 and Under\n",
              "2                   5  ...   18 and Under\n",
              "3                   5  ...        25 - 29\n",
              "4                   5  ...        25 - 29\n",
              "\n",
              "[5 rows x 12 columns]"
            ]
          },
          "metadata": {},
          "execution_count": 10
        }
      ]
    },
    {
      "cell_type": "markdown",
      "source": [
        "## Picking data source and rename column"
      ],
      "metadata": {
        "id": "RG_rTRKGJaTH"
      }
    },
    {
      "cell_type": "code",
      "source": [
        "data_sociolla = df_sociolla[['details']]\n",
        "data_femaleDaily = df_femaleDaily[['rvwr_review_txt']]\n",
        "\n",
        "# rename to details\n",
        "data_femaleDaily.rename(columns = {'rvwr_review_txt':'details'}, inplace = True)"
      ],
      "metadata": {
        "colab": {
          "base_uri": "https://localhost:8080/"
        },
        "id": "Ek9zaz_YJi74",
        "outputId": "77249fc1-ae0b-4819-e905-400c651cd6c0"
      },
      "execution_count": 11,
      "outputs": [
        {
          "output_type": "stream",
          "name": "stderr",
          "text": [
            "/usr/local/lib/python3.7/dist-packages/pandas/core/frame.py:4308: SettingWithCopyWarning: \n",
            "A value is trying to be set on a copy of a slice from a DataFrame\n",
            "\n",
            "See the caveats in the documentation: https://pandas.pydata.org/pandas-docs/stable/user_guide/indexing.html#returning-a-view-versus-a-copy\n",
            "  errors=errors,\n"
          ]
        }
      ]
    },
    {
      "cell_type": "markdown",
      "source": [
        "## Preview each data source"
      ],
      "metadata": {
        "id": "Lmchm_1QJ9np"
      }
    },
    {
      "cell_type": "markdown",
      "source": [
        "Sociolla data source:"
      ],
      "metadata": {
        "id": "YZvfIF2EZL2w"
      }
    },
    {
      "cell_type": "code",
      "source": [
        "data_sociolla.head()"
      ],
      "metadata": {
        "colab": {
          "base_uri": "https://localhost:8080/",
          "height": 206
        },
        "id": "OfjdwhxFZMUu",
        "outputId": "ba944d80-c2c5-4d26-d12f-96f0b841808f"
      },
      "execution_count": 12,
      "outputs": [
        {
          "output_type": "execute_result",
          "data": {
            "text/html": [
              "\n",
              "  <div id=\"df-7e801179-9693-4034-a535-aedbc8075fee\">\n",
              "    <div class=\"colab-df-container\">\n",
              "      <div>\n",
              "<style scoped>\n",
              "    .dataframe tbody tr th:only-of-type {\n",
              "        vertical-align: middle;\n",
              "    }\n",
              "\n",
              "    .dataframe tbody tr th {\n",
              "        vertical-align: top;\n",
              "    }\n",
              "\n",
              "    .dataframe thead th {\n",
              "        text-align: right;\n",
              "    }\n",
              "</style>\n",
              "<table border=\"1\" class=\"dataframe\">\n",
              "  <thead>\n",
              "    <tr style=\"text-align: right;\">\n",
              "      <th></th>\n",
              "      <th>details</th>\n",
              "    </tr>\n",
              "  </thead>\n",
              "  <tbody>\n",
              "    <tr>\n",
              "      <th>0</th>\n",
              "      <td>suka banget sama produk ini, gampang dibawa ke...</td>\n",
              "    </tr>\n",
              "    <tr>\n",
              "      <th>1</th>\n",
              "      <td>ini aku pertama kali beli produk ini dan aku e...</td>\n",
              "    </tr>\n",
              "    <tr>\n",
              "      <th>2</th>\n",
              "      <td>I love the packaging, the texture, tapi kurang...</td>\n",
              "    </tr>\n",
              "    <tr>\n",
              "      <th>3</th>\n",
              "      <td>menyesal kenapa baru tahu ada sunscreen yang b...</td>\n",
              "    </tr>\n",
              "    <tr>\n",
              "      <th>4</th>\n",
              "      <td>suka!! bagus bgt buat touch up ditambah lg ini...</td>\n",
              "    </tr>\n",
              "  </tbody>\n",
              "</table>\n",
              "</div>\n",
              "      <button class=\"colab-df-convert\" onclick=\"convertToInteractive('df-7e801179-9693-4034-a535-aedbc8075fee')\"\n",
              "              title=\"Convert this dataframe to an interactive table.\"\n",
              "              style=\"display:none;\">\n",
              "        \n",
              "  <svg xmlns=\"http://www.w3.org/2000/svg\" height=\"24px\"viewBox=\"0 0 24 24\"\n",
              "       width=\"24px\">\n",
              "    <path d=\"M0 0h24v24H0V0z\" fill=\"none\"/>\n",
              "    <path d=\"M18.56 5.44l.94 2.06.94-2.06 2.06-.94-2.06-.94-.94-2.06-.94 2.06-2.06.94zm-11 1L8.5 8.5l.94-2.06 2.06-.94-2.06-.94L8.5 2.5l-.94 2.06-2.06.94zm10 10l.94 2.06.94-2.06 2.06-.94-2.06-.94-.94-2.06-.94 2.06-2.06.94z\"/><path d=\"M17.41 7.96l-1.37-1.37c-.4-.4-.92-.59-1.43-.59-.52 0-1.04.2-1.43.59L10.3 9.45l-7.72 7.72c-.78.78-.78 2.05 0 2.83L4 21.41c.39.39.9.59 1.41.59.51 0 1.02-.2 1.41-.59l7.78-7.78 2.81-2.81c.8-.78.8-2.07 0-2.86zM5.41 20L4 18.59l7.72-7.72 1.47 1.35L5.41 20z\"/>\n",
              "  </svg>\n",
              "      </button>\n",
              "      \n",
              "  <style>\n",
              "    .colab-df-container {\n",
              "      display:flex;\n",
              "      flex-wrap:wrap;\n",
              "      gap: 12px;\n",
              "    }\n",
              "\n",
              "    .colab-df-convert {\n",
              "      background-color: #E8F0FE;\n",
              "      border: none;\n",
              "      border-radius: 50%;\n",
              "      cursor: pointer;\n",
              "      display: none;\n",
              "      fill: #1967D2;\n",
              "      height: 32px;\n",
              "      padding: 0 0 0 0;\n",
              "      width: 32px;\n",
              "    }\n",
              "\n",
              "    .colab-df-convert:hover {\n",
              "      background-color: #E2EBFA;\n",
              "      box-shadow: 0px 1px 2px rgba(60, 64, 67, 0.3), 0px 1px 3px 1px rgba(60, 64, 67, 0.15);\n",
              "      fill: #174EA6;\n",
              "    }\n",
              "\n",
              "    [theme=dark] .colab-df-convert {\n",
              "      background-color: #3B4455;\n",
              "      fill: #D2E3FC;\n",
              "    }\n",
              "\n",
              "    [theme=dark] .colab-df-convert:hover {\n",
              "      background-color: #434B5C;\n",
              "      box-shadow: 0px 1px 3px 1px rgba(0, 0, 0, 0.15);\n",
              "      filter: drop-shadow(0px 1px 2px rgba(0, 0, 0, 0.3));\n",
              "      fill: #FFFFFF;\n",
              "    }\n",
              "  </style>\n",
              "\n",
              "      <script>\n",
              "        const buttonEl =\n",
              "          document.querySelector('#df-7e801179-9693-4034-a535-aedbc8075fee button.colab-df-convert');\n",
              "        buttonEl.style.display =\n",
              "          google.colab.kernel.accessAllowed ? 'block' : 'none';\n",
              "\n",
              "        async function convertToInteractive(key) {\n",
              "          const element = document.querySelector('#df-7e801179-9693-4034-a535-aedbc8075fee');\n",
              "          const dataTable =\n",
              "            await google.colab.kernel.invokeFunction('convertToInteractive',\n",
              "                                                     [key], {});\n",
              "          if (!dataTable) return;\n",
              "\n",
              "          const docLinkHtml = 'Like what you see? Visit the ' +\n",
              "            '<a target=\"_blank\" href=https://colab.research.google.com/notebooks/data_table.ipynb>data table notebook</a>'\n",
              "            + ' to learn more about interactive tables.';\n",
              "          element.innerHTML = '';\n",
              "          dataTable['output_type'] = 'display_data';\n",
              "          await google.colab.output.renderOutput(dataTable, element);\n",
              "          const docLink = document.createElement('div');\n",
              "          docLink.innerHTML = docLinkHtml;\n",
              "          element.appendChild(docLink);\n",
              "        }\n",
              "      </script>\n",
              "    </div>\n",
              "  </div>\n",
              "  "
            ],
            "text/plain": [
              "                                             details\n",
              "0  suka banget sama produk ini, gampang dibawa ke...\n",
              "1  ini aku pertama kali beli produk ini dan aku e...\n",
              "2  I love the packaging, the texture, tapi kurang...\n",
              "3  menyesal kenapa baru tahu ada sunscreen yang b...\n",
              "4  suka!! bagus bgt buat touch up ditambah lg ini..."
            ]
          },
          "metadata": {},
          "execution_count": 12
        }
      ]
    },
    {
      "cell_type": "markdown",
      "source": [
        "Female daily data source:"
      ],
      "metadata": {
        "id": "L9MbwqQRZNdG"
      }
    },
    {
      "cell_type": "code",
      "source": [
        "data_femaleDaily.head()"
      ],
      "metadata": {
        "colab": {
          "base_uri": "https://localhost:8080/",
          "height": 206
        },
        "id": "wkYZPcEWKA3g",
        "outputId": "2845ef5f-2dcf-4442-c58e-1f903d252c65"
      },
      "execution_count": 13,
      "outputs": [
        {
          "output_type": "execute_result",
          "data": {
            "text/html": [
              "\n",
              "  <div id=\"df-50d0859e-f3e6-4faa-9ca5-c6373136a630\">\n",
              "    <div class=\"colab-df-container\">\n",
              "      <div>\n",
              "<style scoped>\n",
              "    .dataframe tbody tr th:only-of-type {\n",
              "        vertical-align: middle;\n",
              "    }\n",
              "\n",
              "    .dataframe tbody tr th {\n",
              "        vertical-align: top;\n",
              "    }\n",
              "\n",
              "    .dataframe thead th {\n",
              "        text-align: right;\n",
              "    }\n",
              "</style>\n",
              "<table border=\"1\" class=\"dataframe\">\n",
              "  <thead>\n",
              "    <tr style=\"text-align: right;\">\n",
              "      <th></th>\n",
              "      <th>details</th>\n",
              "    </tr>\n",
              "  </thead>\n",
              "  <tbody>\n",
              "    <tr>\n",
              "      <th>0</th>\n",
              "      <td>akhirnya beli produk ini pas banget lagi sale ...</td>\n",
              "    </tr>\n",
              "    <tr>\n",
              "      <th>1</th>\n",
              "      <td>Sun powder dari N'pure ini bagus bangett, gabo...</td>\n",
              "    </tr>\n",
              "    <tr>\n",
              "      <th>2</th>\n",
              "      <td>waw sumpah si ini sunscreen yang bener bener b...</td>\n",
              "    </tr>\n",
              "    <tr>\n",
              "      <th>3</th>\n",
              "      <td>N'PURE Cica Beat The Sun Powder ini bener-bene...</td>\n",
              "    </tr>\n",
              "    <tr>\n",
              "      <th>4</th>\n",
              "      <td>Suka sama teksturnya powder dan aplikatornya b...</td>\n",
              "    </tr>\n",
              "  </tbody>\n",
              "</table>\n",
              "</div>\n",
              "      <button class=\"colab-df-convert\" onclick=\"convertToInteractive('df-50d0859e-f3e6-4faa-9ca5-c6373136a630')\"\n",
              "              title=\"Convert this dataframe to an interactive table.\"\n",
              "              style=\"display:none;\">\n",
              "        \n",
              "  <svg xmlns=\"http://www.w3.org/2000/svg\" height=\"24px\"viewBox=\"0 0 24 24\"\n",
              "       width=\"24px\">\n",
              "    <path d=\"M0 0h24v24H0V0z\" fill=\"none\"/>\n",
              "    <path d=\"M18.56 5.44l.94 2.06.94-2.06 2.06-.94-2.06-.94-.94-2.06-.94 2.06-2.06.94zm-11 1L8.5 8.5l.94-2.06 2.06-.94-2.06-.94L8.5 2.5l-.94 2.06-2.06.94zm10 10l.94 2.06.94-2.06 2.06-.94-2.06-.94-.94-2.06-.94 2.06-2.06.94z\"/><path d=\"M17.41 7.96l-1.37-1.37c-.4-.4-.92-.59-1.43-.59-.52 0-1.04.2-1.43.59L10.3 9.45l-7.72 7.72c-.78.78-.78 2.05 0 2.83L4 21.41c.39.39.9.59 1.41.59.51 0 1.02-.2 1.41-.59l7.78-7.78 2.81-2.81c.8-.78.8-2.07 0-2.86zM5.41 20L4 18.59l7.72-7.72 1.47 1.35L5.41 20z\"/>\n",
              "  </svg>\n",
              "      </button>\n",
              "      \n",
              "  <style>\n",
              "    .colab-df-container {\n",
              "      display:flex;\n",
              "      flex-wrap:wrap;\n",
              "      gap: 12px;\n",
              "    }\n",
              "\n",
              "    .colab-df-convert {\n",
              "      background-color: #E8F0FE;\n",
              "      border: none;\n",
              "      border-radius: 50%;\n",
              "      cursor: pointer;\n",
              "      display: none;\n",
              "      fill: #1967D2;\n",
              "      height: 32px;\n",
              "      padding: 0 0 0 0;\n",
              "      width: 32px;\n",
              "    }\n",
              "\n",
              "    .colab-df-convert:hover {\n",
              "      background-color: #E2EBFA;\n",
              "      box-shadow: 0px 1px 2px rgba(60, 64, 67, 0.3), 0px 1px 3px 1px rgba(60, 64, 67, 0.15);\n",
              "      fill: #174EA6;\n",
              "    }\n",
              "\n",
              "    [theme=dark] .colab-df-convert {\n",
              "      background-color: #3B4455;\n",
              "      fill: #D2E3FC;\n",
              "    }\n",
              "\n",
              "    [theme=dark] .colab-df-convert:hover {\n",
              "      background-color: #434B5C;\n",
              "      box-shadow: 0px 1px 3px 1px rgba(0, 0, 0, 0.15);\n",
              "      filter: drop-shadow(0px 1px 2px rgba(0, 0, 0, 0.3));\n",
              "      fill: #FFFFFF;\n",
              "    }\n",
              "  </style>\n",
              "\n",
              "      <script>\n",
              "        const buttonEl =\n",
              "          document.querySelector('#df-50d0859e-f3e6-4faa-9ca5-c6373136a630 button.colab-df-convert');\n",
              "        buttonEl.style.display =\n",
              "          google.colab.kernel.accessAllowed ? 'block' : 'none';\n",
              "\n",
              "        async function convertToInteractive(key) {\n",
              "          const element = document.querySelector('#df-50d0859e-f3e6-4faa-9ca5-c6373136a630');\n",
              "          const dataTable =\n",
              "            await google.colab.kernel.invokeFunction('convertToInteractive',\n",
              "                                                     [key], {});\n",
              "          if (!dataTable) return;\n",
              "\n",
              "          const docLinkHtml = 'Like what you see? Visit the ' +\n",
              "            '<a target=\"_blank\" href=https://colab.research.google.com/notebooks/data_table.ipynb>data table notebook</a>'\n",
              "            + ' to learn more about interactive tables.';\n",
              "          element.innerHTML = '';\n",
              "          dataTable['output_type'] = 'display_data';\n",
              "          await google.colab.output.renderOutput(dataTable, element);\n",
              "          const docLink = document.createElement('div');\n",
              "          docLink.innerHTML = docLinkHtml;\n",
              "          element.appendChild(docLink);\n",
              "        }\n",
              "      </script>\n",
              "    </div>\n",
              "  </div>\n",
              "  "
            ],
            "text/plain": [
              "                                             details\n",
              "0  akhirnya beli produk ini pas banget lagi sale ...\n",
              "1  Sun powder dari N'pure ini bagus bangett, gabo...\n",
              "2  waw sumpah si ini sunscreen yang bener bener b...\n",
              "3  N'PURE Cica Beat The Sun Powder ini bener-bene...\n",
              "4  Suka sama teksturnya powder dan aplikatornya b..."
            ]
          },
          "metadata": {},
          "execution_count": 13
        }
      ]
    },
    {
      "cell_type": "markdown",
      "source": [
        "## Join two data into one dataframe"
      ],
      "metadata": {
        "id": "CQv77w14DPfd"
      }
    },
    {
      "cell_type": "code",
      "source": [
        "data_sociolla['source'] = 'sociolla'\n",
        "data_femaleDaily['source'] = 'femaleDaily'"
      ],
      "metadata": {
        "colab": {
          "base_uri": "https://localhost:8080/"
        },
        "id": "r_MyON8fDdsG",
        "outputId": "c039147f-302c-4f2c-adeb-da4c4d13b4c8"
      },
      "execution_count": 14,
      "outputs": [
        {
          "output_type": "stream",
          "name": "stderr",
          "text": [
            "/usr/local/lib/python3.7/dist-packages/ipykernel_launcher.py:1: SettingWithCopyWarning: \n",
            "A value is trying to be set on a copy of a slice from a DataFrame.\n",
            "Try using .loc[row_indexer,col_indexer] = value instead\n",
            "\n",
            "See the caveats in the documentation: https://pandas.pydata.org/pandas-docs/stable/user_guide/indexing.html#returning-a-view-versus-a-copy\n",
            "  \"\"\"Entry point for launching an IPython kernel.\n",
            "/usr/local/lib/python3.7/dist-packages/ipykernel_launcher.py:2: SettingWithCopyWarning: \n",
            "A value is trying to be set on a copy of a slice from a DataFrame.\n",
            "Try using .loc[row_indexer,col_indexer] = value instead\n",
            "\n",
            "See the caveats in the documentation: https://pandas.pydata.org/pandas-docs/stable/user_guide/indexing.html#returning-a-view-versus-a-copy\n",
            "  \n"
          ]
        }
      ]
    },
    {
      "cell_type": "code",
      "source": [
        "data = data_sociolla.append(data_femaleDaily)\n",
        "data.reset_index(inplace=True)"
      ],
      "metadata": {
        "id": "W7ydrkpGFffP"
      },
      "execution_count": 15,
      "outputs": []
    },
    {
      "cell_type": "code",
      "source": [
        "data.head()"
      ],
      "metadata": {
        "colab": {
          "base_uri": "https://localhost:8080/",
          "height": 206
        },
        "id": "jHToWqF7r-0z",
        "outputId": "84c3dffd-c117-4221-fed4-979afe7d3ff4"
      },
      "execution_count": 16,
      "outputs": [
        {
          "output_type": "execute_result",
          "data": {
            "text/html": [
              "\n",
              "  <div id=\"df-ebc91bc2-a34b-4153-a30d-800f3f162bce\">\n",
              "    <div class=\"colab-df-container\">\n",
              "      <div>\n",
              "<style scoped>\n",
              "    .dataframe tbody tr th:only-of-type {\n",
              "        vertical-align: middle;\n",
              "    }\n",
              "\n",
              "    .dataframe tbody tr th {\n",
              "        vertical-align: top;\n",
              "    }\n",
              "\n",
              "    .dataframe thead th {\n",
              "        text-align: right;\n",
              "    }\n",
              "</style>\n",
              "<table border=\"1\" class=\"dataframe\">\n",
              "  <thead>\n",
              "    <tr style=\"text-align: right;\">\n",
              "      <th></th>\n",
              "      <th>index</th>\n",
              "      <th>details</th>\n",
              "      <th>source</th>\n",
              "    </tr>\n",
              "  </thead>\n",
              "  <tbody>\n",
              "    <tr>\n",
              "      <th>0</th>\n",
              "      <td>0</td>\n",
              "      <td>suka banget sama produk ini, gampang dibawa ke...</td>\n",
              "      <td>sociolla</td>\n",
              "    </tr>\n",
              "    <tr>\n",
              "      <th>1</th>\n",
              "      <td>1</td>\n",
              "      <td>ini aku pertama kali beli produk ini dan aku e...</td>\n",
              "      <td>sociolla</td>\n",
              "    </tr>\n",
              "    <tr>\n",
              "      <th>2</th>\n",
              "      <td>2</td>\n",
              "      <td>I love the packaging, the texture, tapi kurang...</td>\n",
              "      <td>sociolla</td>\n",
              "    </tr>\n",
              "    <tr>\n",
              "      <th>3</th>\n",
              "      <td>3</td>\n",
              "      <td>menyesal kenapa baru tahu ada sunscreen yang b...</td>\n",
              "      <td>sociolla</td>\n",
              "    </tr>\n",
              "    <tr>\n",
              "      <th>4</th>\n",
              "      <td>4</td>\n",
              "      <td>suka!! bagus bgt buat touch up ditambah lg ini...</td>\n",
              "      <td>sociolla</td>\n",
              "    </tr>\n",
              "  </tbody>\n",
              "</table>\n",
              "</div>\n",
              "      <button class=\"colab-df-convert\" onclick=\"convertToInteractive('df-ebc91bc2-a34b-4153-a30d-800f3f162bce')\"\n",
              "              title=\"Convert this dataframe to an interactive table.\"\n",
              "              style=\"display:none;\">\n",
              "        \n",
              "  <svg xmlns=\"http://www.w3.org/2000/svg\" height=\"24px\"viewBox=\"0 0 24 24\"\n",
              "       width=\"24px\">\n",
              "    <path d=\"M0 0h24v24H0V0z\" fill=\"none\"/>\n",
              "    <path d=\"M18.56 5.44l.94 2.06.94-2.06 2.06-.94-2.06-.94-.94-2.06-.94 2.06-2.06.94zm-11 1L8.5 8.5l.94-2.06 2.06-.94-2.06-.94L8.5 2.5l-.94 2.06-2.06.94zm10 10l.94 2.06.94-2.06 2.06-.94-2.06-.94-.94-2.06-.94 2.06-2.06.94z\"/><path d=\"M17.41 7.96l-1.37-1.37c-.4-.4-.92-.59-1.43-.59-.52 0-1.04.2-1.43.59L10.3 9.45l-7.72 7.72c-.78.78-.78 2.05 0 2.83L4 21.41c.39.39.9.59 1.41.59.51 0 1.02-.2 1.41-.59l7.78-7.78 2.81-2.81c.8-.78.8-2.07 0-2.86zM5.41 20L4 18.59l7.72-7.72 1.47 1.35L5.41 20z\"/>\n",
              "  </svg>\n",
              "      </button>\n",
              "      \n",
              "  <style>\n",
              "    .colab-df-container {\n",
              "      display:flex;\n",
              "      flex-wrap:wrap;\n",
              "      gap: 12px;\n",
              "    }\n",
              "\n",
              "    .colab-df-convert {\n",
              "      background-color: #E8F0FE;\n",
              "      border: none;\n",
              "      border-radius: 50%;\n",
              "      cursor: pointer;\n",
              "      display: none;\n",
              "      fill: #1967D2;\n",
              "      height: 32px;\n",
              "      padding: 0 0 0 0;\n",
              "      width: 32px;\n",
              "    }\n",
              "\n",
              "    .colab-df-convert:hover {\n",
              "      background-color: #E2EBFA;\n",
              "      box-shadow: 0px 1px 2px rgba(60, 64, 67, 0.3), 0px 1px 3px 1px rgba(60, 64, 67, 0.15);\n",
              "      fill: #174EA6;\n",
              "    }\n",
              "\n",
              "    [theme=dark] .colab-df-convert {\n",
              "      background-color: #3B4455;\n",
              "      fill: #D2E3FC;\n",
              "    }\n",
              "\n",
              "    [theme=dark] .colab-df-convert:hover {\n",
              "      background-color: #434B5C;\n",
              "      box-shadow: 0px 1px 3px 1px rgba(0, 0, 0, 0.15);\n",
              "      filter: drop-shadow(0px 1px 2px rgba(0, 0, 0, 0.3));\n",
              "      fill: #FFFFFF;\n",
              "    }\n",
              "  </style>\n",
              "\n",
              "      <script>\n",
              "        const buttonEl =\n",
              "          document.querySelector('#df-ebc91bc2-a34b-4153-a30d-800f3f162bce button.colab-df-convert');\n",
              "        buttonEl.style.display =\n",
              "          google.colab.kernel.accessAllowed ? 'block' : 'none';\n",
              "\n",
              "        async function convertToInteractive(key) {\n",
              "          const element = document.querySelector('#df-ebc91bc2-a34b-4153-a30d-800f3f162bce');\n",
              "          const dataTable =\n",
              "            await google.colab.kernel.invokeFunction('convertToInteractive',\n",
              "                                                     [key], {});\n",
              "          if (!dataTable) return;\n",
              "\n",
              "          const docLinkHtml = 'Like what you see? Visit the ' +\n",
              "            '<a target=\"_blank\" href=https://colab.research.google.com/notebooks/data_table.ipynb>data table notebook</a>'\n",
              "            + ' to learn more about interactive tables.';\n",
              "          element.innerHTML = '';\n",
              "          dataTable['output_type'] = 'display_data';\n",
              "          await google.colab.output.renderOutput(dataTable, element);\n",
              "          const docLink = document.createElement('div');\n",
              "          docLink.innerHTML = docLinkHtml;\n",
              "          element.appendChild(docLink);\n",
              "        }\n",
              "      </script>\n",
              "    </div>\n",
              "  </div>\n",
              "  "
            ],
            "text/plain": [
              "   index                                            details    source\n",
              "0      0  suka banget sama produk ini, gampang dibawa ke...  sociolla\n",
              "1      1  ini aku pertama kali beli produk ini dan aku e...  sociolla\n",
              "2      2  I love the packaging, the texture, tapi kurang...  sociolla\n",
              "3      3  menyesal kenapa baru tahu ada sunscreen yang b...  sociolla\n",
              "4      4  suka!! bagus bgt buat touch up ditambah lg ini...  sociolla"
            ]
          },
          "metadata": {},
          "execution_count": 16
        }
      ]
    },
    {
      "cell_type": "markdown",
      "source": [
        "# Text Preprocessing"
      ],
      "metadata": {
        "id": "X2_ElwvtKQMP"
      }
    },
    {
      "cell_type": "markdown",
      "source": [
        "## Case folding / to lower case"
      ],
      "metadata": {
        "id": "u1PsnTraKXMf"
      }
    },
    {
      "cell_type": "code",
      "source": [
        "def preUsingCaseFolding(text):\n",
        "  return text.casefold()"
      ],
      "metadata": {
        "id": "h5YFX13bKrIn"
      },
      "execution_count": 17,
      "outputs": []
    },
    {
      "cell_type": "code",
      "source": [
        "data['Pre #1'] = data['details'].apply(preUsingCaseFolding)"
      ],
      "metadata": {
        "id": "i6NpGG47K9Dw"
      },
      "execution_count": 18,
      "outputs": []
    },
    {
      "cell_type": "markdown",
      "source": [
        "Pre #1 data:"
      ],
      "metadata": {
        "id": "icsNWuLnZU7_"
      }
    },
    {
      "cell_type": "code",
      "source": [
        "data.head()"
      ],
      "metadata": {
        "colab": {
          "base_uri": "https://localhost:8080/",
          "height": 0
        },
        "id": "aLfskVPHQFLM",
        "outputId": "10b051d5-f89b-472e-ede6-719eeed51e5a"
      },
      "execution_count": 19,
      "outputs": [
        {
          "output_type": "execute_result",
          "data": {
            "text/html": [
              "\n",
              "  <div id=\"df-31d57fea-6a0d-4a42-87a3-41a1cb86f221\">\n",
              "    <div class=\"colab-df-container\">\n",
              "      <div>\n",
              "<style scoped>\n",
              "    .dataframe tbody tr th:only-of-type {\n",
              "        vertical-align: middle;\n",
              "    }\n",
              "\n",
              "    .dataframe tbody tr th {\n",
              "        vertical-align: top;\n",
              "    }\n",
              "\n",
              "    .dataframe thead th {\n",
              "        text-align: right;\n",
              "    }\n",
              "</style>\n",
              "<table border=\"1\" class=\"dataframe\">\n",
              "  <thead>\n",
              "    <tr style=\"text-align: right;\">\n",
              "      <th></th>\n",
              "      <th>index</th>\n",
              "      <th>details</th>\n",
              "      <th>source</th>\n",
              "      <th>Pre #1</th>\n",
              "    </tr>\n",
              "  </thead>\n",
              "  <tbody>\n",
              "    <tr>\n",
              "      <th>0</th>\n",
              "      <td>0</td>\n",
              "      <td>suka banget sama produk ini, gampang dibawa ke...</td>\n",
              "      <td>sociolla</td>\n",
              "      <td>suka banget sama produk ini, gampang dibawa ke...</td>\n",
              "    </tr>\n",
              "    <tr>\n",
              "      <th>1</th>\n",
              "      <td>1</td>\n",
              "      <td>ini aku pertama kali beli produk ini dan aku e...</td>\n",
              "      <td>sociolla</td>\n",
              "      <td>ini aku pertama kali beli produk ini dan aku e...</td>\n",
              "    </tr>\n",
              "    <tr>\n",
              "      <th>2</th>\n",
              "      <td>2</td>\n",
              "      <td>I love the packaging, the texture, tapi kurang...</td>\n",
              "      <td>sociolla</td>\n",
              "      <td>i love the packaging, the texture, tapi kurang...</td>\n",
              "    </tr>\n",
              "    <tr>\n",
              "      <th>3</th>\n",
              "      <td>3</td>\n",
              "      <td>menyesal kenapa baru tahu ada sunscreen yang b...</td>\n",
              "      <td>sociolla</td>\n",
              "      <td>menyesal kenapa baru tahu ada sunscreen yang b...</td>\n",
              "    </tr>\n",
              "    <tr>\n",
              "      <th>4</th>\n",
              "      <td>4</td>\n",
              "      <td>suka!! bagus bgt buat touch up ditambah lg ini...</td>\n",
              "      <td>sociolla</td>\n",
              "      <td>suka!! bagus bgt buat touch up ditambah lg ini...</td>\n",
              "    </tr>\n",
              "  </tbody>\n",
              "</table>\n",
              "</div>\n",
              "      <button class=\"colab-df-convert\" onclick=\"convertToInteractive('df-31d57fea-6a0d-4a42-87a3-41a1cb86f221')\"\n",
              "              title=\"Convert this dataframe to an interactive table.\"\n",
              "              style=\"display:none;\">\n",
              "        \n",
              "  <svg xmlns=\"http://www.w3.org/2000/svg\" height=\"24px\"viewBox=\"0 0 24 24\"\n",
              "       width=\"24px\">\n",
              "    <path d=\"M0 0h24v24H0V0z\" fill=\"none\"/>\n",
              "    <path d=\"M18.56 5.44l.94 2.06.94-2.06 2.06-.94-2.06-.94-.94-2.06-.94 2.06-2.06.94zm-11 1L8.5 8.5l.94-2.06 2.06-.94-2.06-.94L8.5 2.5l-.94 2.06-2.06.94zm10 10l.94 2.06.94-2.06 2.06-.94-2.06-.94-.94-2.06-.94 2.06-2.06.94z\"/><path d=\"M17.41 7.96l-1.37-1.37c-.4-.4-.92-.59-1.43-.59-.52 0-1.04.2-1.43.59L10.3 9.45l-7.72 7.72c-.78.78-.78 2.05 0 2.83L4 21.41c.39.39.9.59 1.41.59.51 0 1.02-.2 1.41-.59l7.78-7.78 2.81-2.81c.8-.78.8-2.07 0-2.86zM5.41 20L4 18.59l7.72-7.72 1.47 1.35L5.41 20z\"/>\n",
              "  </svg>\n",
              "      </button>\n",
              "      \n",
              "  <style>\n",
              "    .colab-df-container {\n",
              "      display:flex;\n",
              "      flex-wrap:wrap;\n",
              "      gap: 12px;\n",
              "    }\n",
              "\n",
              "    .colab-df-convert {\n",
              "      background-color: #E8F0FE;\n",
              "      border: none;\n",
              "      border-radius: 50%;\n",
              "      cursor: pointer;\n",
              "      display: none;\n",
              "      fill: #1967D2;\n",
              "      height: 32px;\n",
              "      padding: 0 0 0 0;\n",
              "      width: 32px;\n",
              "    }\n",
              "\n",
              "    .colab-df-convert:hover {\n",
              "      background-color: #E2EBFA;\n",
              "      box-shadow: 0px 1px 2px rgba(60, 64, 67, 0.3), 0px 1px 3px 1px rgba(60, 64, 67, 0.15);\n",
              "      fill: #174EA6;\n",
              "    }\n",
              "\n",
              "    [theme=dark] .colab-df-convert {\n",
              "      background-color: #3B4455;\n",
              "      fill: #D2E3FC;\n",
              "    }\n",
              "\n",
              "    [theme=dark] .colab-df-convert:hover {\n",
              "      background-color: #434B5C;\n",
              "      box-shadow: 0px 1px 3px 1px rgba(0, 0, 0, 0.15);\n",
              "      filter: drop-shadow(0px 1px 2px rgba(0, 0, 0, 0.3));\n",
              "      fill: #FFFFFF;\n",
              "    }\n",
              "  </style>\n",
              "\n",
              "      <script>\n",
              "        const buttonEl =\n",
              "          document.querySelector('#df-31d57fea-6a0d-4a42-87a3-41a1cb86f221 button.colab-df-convert');\n",
              "        buttonEl.style.display =\n",
              "          google.colab.kernel.accessAllowed ? 'block' : 'none';\n",
              "\n",
              "        async function convertToInteractive(key) {\n",
              "          const element = document.querySelector('#df-31d57fea-6a0d-4a42-87a3-41a1cb86f221');\n",
              "          const dataTable =\n",
              "            await google.colab.kernel.invokeFunction('convertToInteractive',\n",
              "                                                     [key], {});\n",
              "          if (!dataTable) return;\n",
              "\n",
              "          const docLinkHtml = 'Like what you see? Visit the ' +\n",
              "            '<a target=\"_blank\" href=https://colab.research.google.com/notebooks/data_table.ipynb>data table notebook</a>'\n",
              "            + ' to learn more about interactive tables.';\n",
              "          element.innerHTML = '';\n",
              "          dataTable['output_type'] = 'display_data';\n",
              "          await google.colab.output.renderOutput(dataTable, element);\n",
              "          const docLink = document.createElement('div');\n",
              "          docLink.innerHTML = docLinkHtml;\n",
              "          element.appendChild(docLink);\n",
              "        }\n",
              "      </script>\n",
              "    </div>\n",
              "  </div>\n",
              "  "
            ],
            "text/plain": [
              "   index  ...                                             Pre #1\n",
              "0      0  ...  suka banget sama produk ini, gampang dibawa ke...\n",
              "1      1  ...  ini aku pertama kali beli produk ini dan aku e...\n",
              "2      2  ...  i love the packaging, the texture, tapi kurang...\n",
              "3      3  ...  menyesal kenapa baru tahu ada sunscreen yang b...\n",
              "4      4  ...  suka!! bagus bgt buat touch up ditambah lg ini...\n",
              "\n",
              "[5 rows x 4 columns]"
            ]
          },
          "metadata": {},
          "execution_count": 19
        }
      ]
    },
    {
      "cell_type": "markdown",
      "source": [
        "## Punctuation removal"
      ],
      "metadata": {
        "id": "SVtm04JbLeR_"
      }
    },
    {
      "cell_type": "code",
      "source": [
        "def preUsingPunctuationRemoval(text):\n",
        "  return text.translate(str.maketrans('', '', string.punctuation))"
      ],
      "metadata": {
        "id": "DrXh8dvGLlf_"
      },
      "execution_count": 20,
      "outputs": []
    },
    {
      "cell_type": "code",
      "source": [
        "data['Pre #2'] = data['Pre #1'].apply(preUsingPunctuationRemoval)"
      ],
      "metadata": {
        "id": "ybxu24N4MThI"
      },
      "execution_count": 21,
      "outputs": []
    },
    {
      "cell_type": "markdown",
      "source": [
        "Pre #2 data:"
      ],
      "metadata": {
        "id": "sbYm99jXZbbP"
      }
    },
    {
      "cell_type": "code",
      "source": [
        "data.head()"
      ],
      "metadata": {
        "colab": {
          "base_uri": "https://localhost:8080/",
          "height": 0
        },
        "id": "d6VO169tQGpr",
        "outputId": "2960ccca-2d3a-4e0b-dc71-4752f2d2c8ff"
      },
      "execution_count": 22,
      "outputs": [
        {
          "output_type": "execute_result",
          "data": {
            "text/html": [
              "\n",
              "  <div id=\"df-ee475bd5-559d-4f6d-ac2e-4b882b6c9a13\">\n",
              "    <div class=\"colab-df-container\">\n",
              "      <div>\n",
              "<style scoped>\n",
              "    .dataframe tbody tr th:only-of-type {\n",
              "        vertical-align: middle;\n",
              "    }\n",
              "\n",
              "    .dataframe tbody tr th {\n",
              "        vertical-align: top;\n",
              "    }\n",
              "\n",
              "    .dataframe thead th {\n",
              "        text-align: right;\n",
              "    }\n",
              "</style>\n",
              "<table border=\"1\" class=\"dataframe\">\n",
              "  <thead>\n",
              "    <tr style=\"text-align: right;\">\n",
              "      <th></th>\n",
              "      <th>index</th>\n",
              "      <th>details</th>\n",
              "      <th>source</th>\n",
              "      <th>Pre #1</th>\n",
              "      <th>Pre #2</th>\n",
              "    </tr>\n",
              "  </thead>\n",
              "  <tbody>\n",
              "    <tr>\n",
              "      <th>0</th>\n",
              "      <td>0</td>\n",
              "      <td>suka banget sama produk ini, gampang dibawa ke...</td>\n",
              "      <td>sociolla</td>\n",
              "      <td>suka banget sama produk ini, gampang dibawa ke...</td>\n",
              "      <td>suka banget sama produk ini gampang dibawa kem...</td>\n",
              "    </tr>\n",
              "    <tr>\n",
              "      <th>1</th>\n",
              "      <td>1</td>\n",
              "      <td>ini aku pertama kali beli produk ini dan aku e...</td>\n",
              "      <td>sociolla</td>\n",
              "      <td>ini aku pertama kali beli produk ini dan aku e...</td>\n",
              "      <td>ini aku pertama kali beli produk ini dan aku e...</td>\n",
              "    </tr>\n",
              "    <tr>\n",
              "      <th>2</th>\n",
              "      <td>2</td>\n",
              "      <td>I love the packaging, the texture, tapi kurang...</td>\n",
              "      <td>sociolla</td>\n",
              "      <td>i love the packaging, the texture, tapi kurang...</td>\n",
              "      <td>i love the packaging the texture tapi kurang s...</td>\n",
              "    </tr>\n",
              "    <tr>\n",
              "      <th>3</th>\n",
              "      <td>3</td>\n",
              "      <td>menyesal kenapa baru tahu ada sunscreen yang b...</td>\n",
              "      <td>sociolla</td>\n",
              "      <td>menyesal kenapa baru tahu ada sunscreen yang b...</td>\n",
              "      <td>menyesal kenapa baru tahu ada sunscreen yang b...</td>\n",
              "    </tr>\n",
              "    <tr>\n",
              "      <th>4</th>\n",
              "      <td>4</td>\n",
              "      <td>suka!! bagus bgt buat touch up ditambah lg ini...</td>\n",
              "      <td>sociolla</td>\n",
              "      <td>suka!! bagus bgt buat touch up ditambah lg ini...</td>\n",
              "      <td>suka bagus bgt buat touch up ditambah lg ini a...</td>\n",
              "    </tr>\n",
              "  </tbody>\n",
              "</table>\n",
              "</div>\n",
              "      <button class=\"colab-df-convert\" onclick=\"convertToInteractive('df-ee475bd5-559d-4f6d-ac2e-4b882b6c9a13')\"\n",
              "              title=\"Convert this dataframe to an interactive table.\"\n",
              "              style=\"display:none;\">\n",
              "        \n",
              "  <svg xmlns=\"http://www.w3.org/2000/svg\" height=\"24px\"viewBox=\"0 0 24 24\"\n",
              "       width=\"24px\">\n",
              "    <path d=\"M0 0h24v24H0V0z\" fill=\"none\"/>\n",
              "    <path d=\"M18.56 5.44l.94 2.06.94-2.06 2.06-.94-2.06-.94-.94-2.06-.94 2.06-2.06.94zm-11 1L8.5 8.5l.94-2.06 2.06-.94-2.06-.94L8.5 2.5l-.94 2.06-2.06.94zm10 10l.94 2.06.94-2.06 2.06-.94-2.06-.94-.94-2.06-.94 2.06-2.06.94z\"/><path d=\"M17.41 7.96l-1.37-1.37c-.4-.4-.92-.59-1.43-.59-.52 0-1.04.2-1.43.59L10.3 9.45l-7.72 7.72c-.78.78-.78 2.05 0 2.83L4 21.41c.39.39.9.59 1.41.59.51 0 1.02-.2 1.41-.59l7.78-7.78 2.81-2.81c.8-.78.8-2.07 0-2.86zM5.41 20L4 18.59l7.72-7.72 1.47 1.35L5.41 20z\"/>\n",
              "  </svg>\n",
              "      </button>\n",
              "      \n",
              "  <style>\n",
              "    .colab-df-container {\n",
              "      display:flex;\n",
              "      flex-wrap:wrap;\n",
              "      gap: 12px;\n",
              "    }\n",
              "\n",
              "    .colab-df-convert {\n",
              "      background-color: #E8F0FE;\n",
              "      border: none;\n",
              "      border-radius: 50%;\n",
              "      cursor: pointer;\n",
              "      display: none;\n",
              "      fill: #1967D2;\n",
              "      height: 32px;\n",
              "      padding: 0 0 0 0;\n",
              "      width: 32px;\n",
              "    }\n",
              "\n",
              "    .colab-df-convert:hover {\n",
              "      background-color: #E2EBFA;\n",
              "      box-shadow: 0px 1px 2px rgba(60, 64, 67, 0.3), 0px 1px 3px 1px rgba(60, 64, 67, 0.15);\n",
              "      fill: #174EA6;\n",
              "    }\n",
              "\n",
              "    [theme=dark] .colab-df-convert {\n",
              "      background-color: #3B4455;\n",
              "      fill: #D2E3FC;\n",
              "    }\n",
              "\n",
              "    [theme=dark] .colab-df-convert:hover {\n",
              "      background-color: #434B5C;\n",
              "      box-shadow: 0px 1px 3px 1px rgba(0, 0, 0, 0.15);\n",
              "      filter: drop-shadow(0px 1px 2px rgba(0, 0, 0, 0.3));\n",
              "      fill: #FFFFFF;\n",
              "    }\n",
              "  </style>\n",
              "\n",
              "      <script>\n",
              "        const buttonEl =\n",
              "          document.querySelector('#df-ee475bd5-559d-4f6d-ac2e-4b882b6c9a13 button.colab-df-convert');\n",
              "        buttonEl.style.display =\n",
              "          google.colab.kernel.accessAllowed ? 'block' : 'none';\n",
              "\n",
              "        async function convertToInteractive(key) {\n",
              "          const element = document.querySelector('#df-ee475bd5-559d-4f6d-ac2e-4b882b6c9a13');\n",
              "          const dataTable =\n",
              "            await google.colab.kernel.invokeFunction('convertToInteractive',\n",
              "                                                     [key], {});\n",
              "          if (!dataTable) return;\n",
              "\n",
              "          const docLinkHtml = 'Like what you see? Visit the ' +\n",
              "            '<a target=\"_blank\" href=https://colab.research.google.com/notebooks/data_table.ipynb>data table notebook</a>'\n",
              "            + ' to learn more about interactive tables.';\n",
              "          element.innerHTML = '';\n",
              "          dataTable['output_type'] = 'display_data';\n",
              "          await google.colab.output.renderOutput(dataTable, element);\n",
              "          const docLink = document.createElement('div');\n",
              "          docLink.innerHTML = docLinkHtml;\n",
              "          element.appendChild(docLink);\n",
              "        }\n",
              "      </script>\n",
              "    </div>\n",
              "  </div>\n",
              "  "
            ],
            "text/plain": [
              "   index  ...                                             Pre #2\n",
              "0      0  ...  suka banget sama produk ini gampang dibawa kem...\n",
              "1      1  ...  ini aku pertama kali beli produk ini dan aku e...\n",
              "2      2  ...  i love the packaging the texture tapi kurang s...\n",
              "3      3  ...  menyesal kenapa baru tahu ada sunscreen yang b...\n",
              "4      4  ...  suka bagus bgt buat touch up ditambah lg ini a...\n",
              "\n",
              "[5 rows x 5 columns]"
            ]
          },
          "metadata": {},
          "execution_count": 22
        }
      ]
    },
    {
      "cell_type": "markdown",
      "source": [
        "## Remove emoji & emoticon"
      ],
      "metadata": {
        "id": "SQNCsZ_aOM9_"
      }
    },
    {
      "cell_type": "code",
      "source": [
        "# Upload dictionary emoticon 'Emoticon_Dict.p'\n",
        "data_file_emoticon = files.upload()"
      ],
      "metadata": {
        "colab": {
          "resources": {
            "http://localhost:8080/nbextensions/google.colab/files.js": {
              "data": "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",
              "ok": true,
              "headers": [
                [
                  "content-type",
                  "application/javascript"
                ]
              ],
              "status": 200,
              "status_text": ""
            }
          },
          "base_uri": "https://localhost:8080/",
          "height": 0
        },
        "id": "ygxwjvxFRv87",
        "outputId": "eccac879-27ef-4c48-ffa7-883a3ea30144"
      },
      "execution_count": 23,
      "outputs": [
        {
          "output_type": "display_data",
          "data": {
            "text/html": [
              "\n",
              "     <input type=\"file\" id=\"files-41111e6f-93a5-4d2c-abdd-51ba0b813b0f\" name=\"files[]\" multiple disabled\n",
              "        style=\"border:none\" />\n",
              "     <output id=\"result-41111e6f-93a5-4d2c-abdd-51ba0b813b0f\">\n",
              "      Upload widget is only available when the cell has been executed in the\n",
              "      current browser session. Please rerun this cell to enable.\n",
              "      </output>\n",
              "      <script src=\"/nbextensions/google.colab/files.js\"></script> "
            ],
            "text/plain": [
              "<IPython.core.display.HTML object>"
            ]
          },
          "metadata": {}
        },
        {
          "output_type": "stream",
          "name": "stdout",
          "text": [
            "Saving Emoticon_Dict.p to Emoticon_Dict.p\n"
          ]
        }
      ]
    },
    {
      "cell_type": "code",
      "source": [
        "with open('/content/Emoticon_Dict.p', 'rb') as fp:\n",
        "  Emoticon_Dict = pickle.load(fp)"
      ],
      "metadata": {
        "id": "UEXL29hUSYPU"
      },
      "execution_count": 24,
      "outputs": []
    },
    {
      "cell_type": "code",
      "source": [
        "def preUsingRemoveEmoji(text):\n",
        "  em_pattern = re.compile(\"[\"\n",
        "  u\"\\U0001F600-\\U0001F64F\" # emoticons\n",
        "  u\"\\U0001F300-\\U0001F5FF\" # symbols & pictographs\n",
        "  u\"\\U0001F680-\\U0001F6FF\" # transport & map symbols\n",
        "  u\"\\U0001F1E0-\\U0001F1FF\" # flags (iOS)\n",
        "  u\"\\U00002702-\\U000027B0\"\n",
        "  u\"\\U000024C2-\\U0001F251\"\n",
        "  \"]+\", flags=re.UNICODE)\n",
        "  return em_pattern.sub(r'', text)\n",
        "\n",
        "def preUsingRemoveEmoticon(text):\n",
        "  emt_pattern = re.compile(u'(' + u'|'.join(k for k in Emoticon_Dict) + u')')\n",
        "  return emt_pattern.sub(r'', text)"
      ],
      "metadata": {
        "id": "K_A76GV7ORlF"
      },
      "execution_count": 25,
      "outputs": []
    },
    {
      "cell_type": "code",
      "source": [
        "data['Pre #3'] = data['Pre #2'].apply(preUsingRemoveEmoji)\n",
        "data['Pre #3'] = data['Pre #3'].apply(preUsingRemoveEmoticon)"
      ],
      "metadata": {
        "id": "3dOKucv8VrzJ"
      },
      "execution_count": 26,
      "outputs": []
    },
    {
      "cell_type": "markdown",
      "source": [
        "Pre #3 data:"
      ],
      "metadata": {
        "id": "gtEqgZaoZgKW"
      }
    },
    {
      "cell_type": "code",
      "source": [
        "data.head()"
      ],
      "metadata": {
        "colab": {
          "base_uri": "https://localhost:8080/",
          "height": 0
        },
        "id": "EBigebAhQO6T",
        "outputId": "97226003-a5d7-42a5-d7c2-b81bf4b386b9"
      },
      "execution_count": 27,
      "outputs": [
        {
          "output_type": "execute_result",
          "data": {
            "text/html": [
              "\n",
              "  <div id=\"df-3106c96b-85b3-4543-8369-e9e9144191f3\">\n",
              "    <div class=\"colab-df-container\">\n",
              "      <div>\n",
              "<style scoped>\n",
              "    .dataframe tbody tr th:only-of-type {\n",
              "        vertical-align: middle;\n",
              "    }\n",
              "\n",
              "    .dataframe tbody tr th {\n",
              "        vertical-align: top;\n",
              "    }\n",
              "\n",
              "    .dataframe thead th {\n",
              "        text-align: right;\n",
              "    }\n",
              "</style>\n",
              "<table border=\"1\" class=\"dataframe\">\n",
              "  <thead>\n",
              "    <tr style=\"text-align: right;\">\n",
              "      <th></th>\n",
              "      <th>index</th>\n",
              "      <th>details</th>\n",
              "      <th>source</th>\n",
              "      <th>Pre #1</th>\n",
              "      <th>Pre #2</th>\n",
              "      <th>Pre #3</th>\n",
              "    </tr>\n",
              "  </thead>\n",
              "  <tbody>\n",
              "    <tr>\n",
              "      <th>0</th>\n",
              "      <td>0</td>\n",
              "      <td>suka banget sama produk ini, gampang dibawa ke...</td>\n",
              "      <td>sociolla</td>\n",
              "      <td>suka banget sama produk ini, gampang dibawa ke...</td>\n",
              "      <td>suka banget sama produk ini gampang dibawa kem...</td>\n",
              "      <td>suka banget sama produk ini gampang dibawa kem...</td>\n",
              "    </tr>\n",
              "    <tr>\n",
              "      <th>1</th>\n",
              "      <td>1</td>\n",
              "      <td>ini aku pertama kali beli produk ini dan aku e...</td>\n",
              "      <td>sociolla</td>\n",
              "      <td>ini aku pertama kali beli produk ini dan aku e...</td>\n",
              "      <td>ini aku pertama kali beli produk ini dan aku e...</td>\n",
              "      <td>ini aku pertama kali beli produk ini dan aku e...</td>\n",
              "    </tr>\n",
              "    <tr>\n",
              "      <th>2</th>\n",
              "      <td>2</td>\n",
              "      <td>I love the packaging, the texture, tapi kurang...</td>\n",
              "      <td>sociolla</td>\n",
              "      <td>i love the packaging, the texture, tapi kurang...</td>\n",
              "      <td>i love the packaging the texture tapi kurang s...</td>\n",
              "      <td>i love the packaging the texture tapi kurang s...</td>\n",
              "    </tr>\n",
              "    <tr>\n",
              "      <th>3</th>\n",
              "      <td>3</td>\n",
              "      <td>menyesal kenapa baru tahu ada sunscreen yang b...</td>\n",
              "      <td>sociolla</td>\n",
              "      <td>menyesal kenapa baru tahu ada sunscreen yang b...</td>\n",
              "      <td>menyesal kenapa baru tahu ada sunscreen yang b...</td>\n",
              "      <td>menyesal kenapa baru tahu ada sunscreen yang b...</td>\n",
              "    </tr>\n",
              "    <tr>\n",
              "      <th>4</th>\n",
              "      <td>4</td>\n",
              "      <td>suka!! bagus bgt buat touch up ditambah lg ini...</td>\n",
              "      <td>sociolla</td>\n",
              "      <td>suka!! bagus bgt buat touch up ditambah lg ini...</td>\n",
              "      <td>suka bagus bgt buat touch up ditambah lg ini a...</td>\n",
              "      <td>suka bagus bgt buat touch up ditambah lg ini a...</td>\n",
              "    </tr>\n",
              "  </tbody>\n",
              "</table>\n",
              "</div>\n",
              "      <button class=\"colab-df-convert\" onclick=\"convertToInteractive('df-3106c96b-85b3-4543-8369-e9e9144191f3')\"\n",
              "              title=\"Convert this dataframe to an interactive table.\"\n",
              "              style=\"display:none;\">\n",
              "        \n",
              "  <svg xmlns=\"http://www.w3.org/2000/svg\" height=\"24px\"viewBox=\"0 0 24 24\"\n",
              "       width=\"24px\">\n",
              "    <path d=\"M0 0h24v24H0V0z\" fill=\"none\"/>\n",
              "    <path d=\"M18.56 5.44l.94 2.06.94-2.06 2.06-.94-2.06-.94-.94-2.06-.94 2.06-2.06.94zm-11 1L8.5 8.5l.94-2.06 2.06-.94-2.06-.94L8.5 2.5l-.94 2.06-2.06.94zm10 10l.94 2.06.94-2.06 2.06-.94-2.06-.94-.94-2.06-.94 2.06-2.06.94z\"/><path d=\"M17.41 7.96l-1.37-1.37c-.4-.4-.92-.59-1.43-.59-.52 0-1.04.2-1.43.59L10.3 9.45l-7.72 7.72c-.78.78-.78 2.05 0 2.83L4 21.41c.39.39.9.59 1.41.59.51 0 1.02-.2 1.41-.59l7.78-7.78 2.81-2.81c.8-.78.8-2.07 0-2.86zM5.41 20L4 18.59l7.72-7.72 1.47 1.35L5.41 20z\"/>\n",
              "  </svg>\n",
              "      </button>\n",
              "      \n",
              "  <style>\n",
              "    .colab-df-container {\n",
              "      display:flex;\n",
              "      flex-wrap:wrap;\n",
              "      gap: 12px;\n",
              "    }\n",
              "\n",
              "    .colab-df-convert {\n",
              "      background-color: #E8F0FE;\n",
              "      border: none;\n",
              "      border-radius: 50%;\n",
              "      cursor: pointer;\n",
              "      display: none;\n",
              "      fill: #1967D2;\n",
              "      height: 32px;\n",
              "      padding: 0 0 0 0;\n",
              "      width: 32px;\n",
              "    }\n",
              "\n",
              "    .colab-df-convert:hover {\n",
              "      background-color: #E2EBFA;\n",
              "      box-shadow: 0px 1px 2px rgba(60, 64, 67, 0.3), 0px 1px 3px 1px rgba(60, 64, 67, 0.15);\n",
              "      fill: #174EA6;\n",
              "    }\n",
              "\n",
              "    [theme=dark] .colab-df-convert {\n",
              "      background-color: #3B4455;\n",
              "      fill: #D2E3FC;\n",
              "    }\n",
              "\n",
              "    [theme=dark] .colab-df-convert:hover {\n",
              "      background-color: #434B5C;\n",
              "      box-shadow: 0px 1px 3px 1px rgba(0, 0, 0, 0.15);\n",
              "      filter: drop-shadow(0px 1px 2px rgba(0, 0, 0, 0.3));\n",
              "      fill: #FFFFFF;\n",
              "    }\n",
              "  </style>\n",
              "\n",
              "      <script>\n",
              "        const buttonEl =\n",
              "          document.querySelector('#df-3106c96b-85b3-4543-8369-e9e9144191f3 button.colab-df-convert');\n",
              "        buttonEl.style.display =\n",
              "          google.colab.kernel.accessAllowed ? 'block' : 'none';\n",
              "\n",
              "        async function convertToInteractive(key) {\n",
              "          const element = document.querySelector('#df-3106c96b-85b3-4543-8369-e9e9144191f3');\n",
              "          const dataTable =\n",
              "            await google.colab.kernel.invokeFunction('convertToInteractive',\n",
              "                                                     [key], {});\n",
              "          if (!dataTable) return;\n",
              "\n",
              "          const docLinkHtml = 'Like what you see? Visit the ' +\n",
              "            '<a target=\"_blank\" href=https://colab.research.google.com/notebooks/data_table.ipynb>data table notebook</a>'\n",
              "            + ' to learn more about interactive tables.';\n",
              "          element.innerHTML = '';\n",
              "          dataTable['output_type'] = 'display_data';\n",
              "          await google.colab.output.renderOutput(dataTable, element);\n",
              "          const docLink = document.createElement('div');\n",
              "          docLink.innerHTML = docLinkHtml;\n",
              "          element.appendChild(docLink);\n",
              "        }\n",
              "      </script>\n",
              "    </div>\n",
              "  </div>\n",
              "  "
            ],
            "text/plain": [
              "   index  ...                                             Pre #3\n",
              "0      0  ...  suka banget sama produk ini gampang dibawa kem...\n",
              "1      1  ...  ini aku pertama kali beli produk ini dan aku e...\n",
              "2      2  ...  i love the packaging the texture tapi kurang s...\n",
              "3      3  ...  menyesal kenapa baru tahu ada sunscreen yang b...\n",
              "4      4  ...  suka bagus bgt buat touch up ditambah lg ini a...\n",
              "\n",
              "[5 rows x 6 columns]"
            ]
          },
          "metadata": {},
          "execution_count": 27
        }
      ]
    },
    {
      "cell_type": "markdown",
      "source": [
        "## Regex cleaning"
      ],
      "metadata": {
        "id": "2xOjhP4bWI6h"
      }
    },
    {
      "cell_type": "code",
      "source": [
        "def cleanUsingRegex(text):\n",
        "  text = re.sub(r'@[A-Za-z0-9]+', '', text) # remove mentions\n",
        "  text = re.sub(r'#[A-Za-z0-9]+', '', text) # remove hashtag\n",
        "  text = re.sub(r\"http\\S+\", '', text) # remove link\n",
        "  text = text.replace('\\n', ' ') # replace new line into space\n",
        "  text = text.strip(' ') # remove characters space from both left and right text\n",
        "  \n",
        "  return text"
      ],
      "metadata": {
        "id": "UqFxKYsuWOHR"
      },
      "execution_count": 28,
      "outputs": []
    },
    {
      "cell_type": "code",
      "source": [
        "data['Pre #4'] = data['Pre #3'].apply(cleanUsingRegex)"
      ],
      "metadata": {
        "id": "DKTowZszWUSv"
      },
      "execution_count": 29,
      "outputs": []
    },
    {
      "cell_type": "markdown",
      "source": [
        "Pre #4 data:"
      ],
      "metadata": {
        "id": "U2MzFy1WZjtv"
      }
    },
    {
      "cell_type": "code",
      "source": [
        "data.head()"
      ],
      "metadata": {
        "colab": {
          "base_uri": "https://localhost:8080/",
          "height": 0
        },
        "id": "HYf8GGJnQRDL",
        "outputId": "97c99f49-d0d0-4f6a-c757-bf615cb5e1ea"
      },
      "execution_count": 30,
      "outputs": [
        {
          "output_type": "execute_result",
          "data": {
            "text/html": [
              "\n",
              "  <div id=\"df-ef5b52e9-8f8b-4c4a-96c8-df50426c9e2f\">\n",
              "    <div class=\"colab-df-container\">\n",
              "      <div>\n",
              "<style scoped>\n",
              "    .dataframe tbody tr th:only-of-type {\n",
              "        vertical-align: middle;\n",
              "    }\n",
              "\n",
              "    .dataframe tbody tr th {\n",
              "        vertical-align: top;\n",
              "    }\n",
              "\n",
              "    .dataframe thead th {\n",
              "        text-align: right;\n",
              "    }\n",
              "</style>\n",
              "<table border=\"1\" class=\"dataframe\">\n",
              "  <thead>\n",
              "    <tr style=\"text-align: right;\">\n",
              "      <th></th>\n",
              "      <th>index</th>\n",
              "      <th>details</th>\n",
              "      <th>source</th>\n",
              "      <th>Pre #1</th>\n",
              "      <th>Pre #2</th>\n",
              "      <th>Pre #3</th>\n",
              "      <th>Pre #4</th>\n",
              "    </tr>\n",
              "  </thead>\n",
              "  <tbody>\n",
              "    <tr>\n",
              "      <th>0</th>\n",
              "      <td>0</td>\n",
              "      <td>suka banget sama produk ini, gampang dibawa ke...</td>\n",
              "      <td>sociolla</td>\n",
              "      <td>suka banget sama produk ini, gampang dibawa ke...</td>\n",
              "      <td>suka banget sama produk ini gampang dibawa kem...</td>\n",
              "      <td>suka banget sama produk ini gampang dibawa kem...</td>\n",
              "      <td>suka banget sama produk ini gampang dibawa kem...</td>\n",
              "    </tr>\n",
              "    <tr>\n",
              "      <th>1</th>\n",
              "      <td>1</td>\n",
              "      <td>ini aku pertama kali beli produk ini dan aku e...</td>\n",
              "      <td>sociolla</td>\n",
              "      <td>ini aku pertama kali beli produk ini dan aku e...</td>\n",
              "      <td>ini aku pertama kali beli produk ini dan aku e...</td>\n",
              "      <td>ini aku pertama kali beli produk ini dan aku e...</td>\n",
              "      <td>ini aku pertama kali beli produk ini dan aku e...</td>\n",
              "    </tr>\n",
              "    <tr>\n",
              "      <th>2</th>\n",
              "      <td>2</td>\n",
              "      <td>I love the packaging, the texture, tapi kurang...</td>\n",
              "      <td>sociolla</td>\n",
              "      <td>i love the packaging, the texture, tapi kurang...</td>\n",
              "      <td>i love the packaging the texture tapi kurang s...</td>\n",
              "      <td>i love the packaging the texture tapi kurang s...</td>\n",
              "      <td>i love the packaging the texture tapi kurang s...</td>\n",
              "    </tr>\n",
              "    <tr>\n",
              "      <th>3</th>\n",
              "      <td>3</td>\n",
              "      <td>menyesal kenapa baru tahu ada sunscreen yang b...</td>\n",
              "      <td>sociolla</td>\n",
              "      <td>menyesal kenapa baru tahu ada sunscreen yang b...</td>\n",
              "      <td>menyesal kenapa baru tahu ada sunscreen yang b...</td>\n",
              "      <td>menyesal kenapa baru tahu ada sunscreen yang b...</td>\n",
              "      <td>menyesal kenapa baru tahu ada sunscreen yang b...</td>\n",
              "    </tr>\n",
              "    <tr>\n",
              "      <th>4</th>\n",
              "      <td>4</td>\n",
              "      <td>suka!! bagus bgt buat touch up ditambah lg ini...</td>\n",
              "      <td>sociolla</td>\n",
              "      <td>suka!! bagus bgt buat touch up ditambah lg ini...</td>\n",
              "      <td>suka bagus bgt buat touch up ditambah lg ini a...</td>\n",
              "      <td>suka bagus bgt buat touch up ditambah lg ini a...</td>\n",
              "      <td>suka bagus bgt buat touch up ditambah lg ini a...</td>\n",
              "    </tr>\n",
              "  </tbody>\n",
              "</table>\n",
              "</div>\n",
              "      <button class=\"colab-df-convert\" onclick=\"convertToInteractive('df-ef5b52e9-8f8b-4c4a-96c8-df50426c9e2f')\"\n",
              "              title=\"Convert this dataframe to an interactive table.\"\n",
              "              style=\"display:none;\">\n",
              "        \n",
              "  <svg xmlns=\"http://www.w3.org/2000/svg\" height=\"24px\"viewBox=\"0 0 24 24\"\n",
              "       width=\"24px\">\n",
              "    <path d=\"M0 0h24v24H0V0z\" fill=\"none\"/>\n",
              "    <path d=\"M18.56 5.44l.94 2.06.94-2.06 2.06-.94-2.06-.94-.94-2.06-.94 2.06-2.06.94zm-11 1L8.5 8.5l.94-2.06 2.06-.94-2.06-.94L8.5 2.5l-.94 2.06-2.06.94zm10 10l.94 2.06.94-2.06 2.06-.94-2.06-.94-.94-2.06-.94 2.06-2.06.94z\"/><path d=\"M17.41 7.96l-1.37-1.37c-.4-.4-.92-.59-1.43-.59-.52 0-1.04.2-1.43.59L10.3 9.45l-7.72 7.72c-.78.78-.78 2.05 0 2.83L4 21.41c.39.39.9.59 1.41.59.51 0 1.02-.2 1.41-.59l7.78-7.78 2.81-2.81c.8-.78.8-2.07 0-2.86zM5.41 20L4 18.59l7.72-7.72 1.47 1.35L5.41 20z\"/>\n",
              "  </svg>\n",
              "      </button>\n",
              "      \n",
              "  <style>\n",
              "    .colab-df-container {\n",
              "      display:flex;\n",
              "      flex-wrap:wrap;\n",
              "      gap: 12px;\n",
              "    }\n",
              "\n",
              "    .colab-df-convert {\n",
              "      background-color: #E8F0FE;\n",
              "      border: none;\n",
              "      border-radius: 50%;\n",
              "      cursor: pointer;\n",
              "      display: none;\n",
              "      fill: #1967D2;\n",
              "      height: 32px;\n",
              "      padding: 0 0 0 0;\n",
              "      width: 32px;\n",
              "    }\n",
              "\n",
              "    .colab-df-convert:hover {\n",
              "      background-color: #E2EBFA;\n",
              "      box-shadow: 0px 1px 2px rgba(60, 64, 67, 0.3), 0px 1px 3px 1px rgba(60, 64, 67, 0.15);\n",
              "      fill: #174EA6;\n",
              "    }\n",
              "\n",
              "    [theme=dark] .colab-df-convert {\n",
              "      background-color: #3B4455;\n",
              "      fill: #D2E3FC;\n",
              "    }\n",
              "\n",
              "    [theme=dark] .colab-df-convert:hover {\n",
              "      background-color: #434B5C;\n",
              "      box-shadow: 0px 1px 3px 1px rgba(0, 0, 0, 0.15);\n",
              "      filter: drop-shadow(0px 1px 2px rgba(0, 0, 0, 0.3));\n",
              "      fill: #FFFFFF;\n",
              "    }\n",
              "  </style>\n",
              "\n",
              "      <script>\n",
              "        const buttonEl =\n",
              "          document.querySelector('#df-ef5b52e9-8f8b-4c4a-96c8-df50426c9e2f button.colab-df-convert');\n",
              "        buttonEl.style.display =\n",
              "          google.colab.kernel.accessAllowed ? 'block' : 'none';\n",
              "\n",
              "        async function convertToInteractive(key) {\n",
              "          const element = document.querySelector('#df-ef5b52e9-8f8b-4c4a-96c8-df50426c9e2f');\n",
              "          const dataTable =\n",
              "            await google.colab.kernel.invokeFunction('convertToInteractive',\n",
              "                                                     [key], {});\n",
              "          if (!dataTable) return;\n",
              "\n",
              "          const docLinkHtml = 'Like what you see? Visit the ' +\n",
              "            '<a target=\"_blank\" href=https://colab.research.google.com/notebooks/data_table.ipynb>data table notebook</a>'\n",
              "            + ' to learn more about interactive tables.';\n",
              "          element.innerHTML = '';\n",
              "          dataTable['output_type'] = 'display_data';\n",
              "          await google.colab.output.renderOutput(dataTable, element);\n",
              "          const docLink = document.createElement('div');\n",
              "          docLink.innerHTML = docLinkHtml;\n",
              "          element.appendChild(docLink);\n",
              "        }\n",
              "      </script>\n",
              "    </div>\n",
              "  </div>\n",
              "  "
            ],
            "text/plain": [
              "   index  ...                                             Pre #4\n",
              "0      0  ...  suka banget sama produk ini gampang dibawa kem...\n",
              "1      1  ...  ini aku pertama kali beli produk ini dan aku e...\n",
              "2      2  ...  i love the packaging the texture tapi kurang s...\n",
              "3      3  ...  menyesal kenapa baru tahu ada sunscreen yang b...\n",
              "4      4  ...  suka bagus bgt buat touch up ditambah lg ini a...\n",
              "\n",
              "[5 rows x 7 columns]"
            ]
          },
          "metadata": {},
          "execution_count": 30
        }
      ]
    },
    {
      "cell_type": "markdown",
      "source": [
        "## Using Sastrawi to reduce inflected words in Indonesian Language"
      ],
      "metadata": {
        "id": "rqFUTNmHX1Xw"
      }
    },
    {
      "cell_type": "code",
      "source": [
        "factory = StemmerFactory()\n",
        "stemmer = factory.create_stemmer()"
      ],
      "metadata": {
        "id": "ExxzNd6vX39P"
      },
      "execution_count": 31,
      "outputs": []
    },
    {
      "cell_type": "code",
      "source": [
        "def cleanUsingSastrawi(text):\n",
        "  return stemmer.stem(text)"
      ],
      "metadata": {
        "id": "yS_BdVLtX59e"
      },
      "execution_count": 32,
      "outputs": []
    },
    {
      "cell_type": "code",
      "source": [
        "data['Pre #5'] = data['Pre #4'].apply(cleanUsingSastrawi)"
      ],
      "metadata": {
        "id": "X3Xa-VFfX71W"
      },
      "execution_count": 33,
      "outputs": []
    },
    {
      "cell_type": "markdown",
      "source": [
        "Pre #5 data:"
      ],
      "metadata": {
        "id": "2vSeFG4_ZmV-"
      }
    },
    {
      "cell_type": "code",
      "source": [
        "data.head()"
      ],
      "metadata": {
        "colab": {
          "base_uri": "https://localhost:8080/",
          "height": 389
        },
        "id": "51HAideXQSgs",
        "outputId": "61e5f396-5e52-4ecd-c1a1-5dd39381a1de"
      },
      "execution_count": 34,
      "outputs": [
        {
          "output_type": "execute_result",
          "data": {
            "text/html": [
              "\n",
              "  <div id=\"df-d5d1f47c-7e33-48b5-a663-0e64a54b68b9\">\n",
              "    <div class=\"colab-df-container\">\n",
              "      <div>\n",
              "<style scoped>\n",
              "    .dataframe tbody tr th:only-of-type {\n",
              "        vertical-align: middle;\n",
              "    }\n",
              "\n",
              "    .dataframe tbody tr th {\n",
              "        vertical-align: top;\n",
              "    }\n",
              "\n",
              "    .dataframe thead th {\n",
              "        text-align: right;\n",
              "    }\n",
              "</style>\n",
              "<table border=\"1\" class=\"dataframe\">\n",
              "  <thead>\n",
              "    <tr style=\"text-align: right;\">\n",
              "      <th></th>\n",
              "      <th>index</th>\n",
              "      <th>details</th>\n",
              "      <th>source</th>\n",
              "      <th>Pre #1</th>\n",
              "      <th>Pre #2</th>\n",
              "      <th>Pre #3</th>\n",
              "      <th>Pre #4</th>\n",
              "      <th>Pre #5</th>\n",
              "    </tr>\n",
              "  </thead>\n",
              "  <tbody>\n",
              "    <tr>\n",
              "      <th>0</th>\n",
              "      <td>0</td>\n",
              "      <td>suka banget sama produk ini, gampang dibawa ke...</td>\n",
              "      <td>sociolla</td>\n",
              "      <td>suka banget sama produk ini, gampang dibawa ke...</td>\n",
              "      <td>suka banget sama produk ini gampang dibawa kem...</td>\n",
              "      <td>suka banget sama produk ini gampang dibawa kem...</td>\n",
              "      <td>suka banget sama produk ini gampang dibawa kem...</td>\n",
              "      <td>suka banget sama produk ini gampang bawa mana ...</td>\n",
              "    </tr>\n",
              "    <tr>\n",
              "      <th>1</th>\n",
              "      <td>1</td>\n",
              "      <td>ini aku pertama kali beli produk ini dan aku e...</td>\n",
              "      <td>sociolla</td>\n",
              "      <td>ini aku pertama kali beli produk ini dan aku e...</td>\n",
              "      <td>ini aku pertama kali beli produk ini dan aku e...</td>\n",
              "      <td>ini aku pertama kali beli produk ini dan aku e...</td>\n",
              "      <td>ini aku pertama kali beli produk ini dan aku e...</td>\n",
              "      <td>ini aku pertama kali beli produk ini dan aku e...</td>\n",
              "    </tr>\n",
              "    <tr>\n",
              "      <th>2</th>\n",
              "      <td>2</td>\n",
              "      <td>I love the packaging, the texture, tapi kurang...</td>\n",
              "      <td>sociolla</td>\n",
              "      <td>i love the packaging, the texture, tapi kurang...</td>\n",
              "      <td>i love the packaging the texture tapi kurang s...</td>\n",
              "      <td>i love the packaging the texture tapi kurang s...</td>\n",
              "      <td>i love the packaging the texture tapi kurang s...</td>\n",
              "      <td>i love the packaging the texture tapi kurang s...</td>\n",
              "    </tr>\n",
              "    <tr>\n",
              "      <th>3</th>\n",
              "      <td>3</td>\n",
              "      <td>menyesal kenapa baru tahu ada sunscreen yang b...</td>\n",
              "      <td>sociolla</td>\n",
              "      <td>menyesal kenapa baru tahu ada sunscreen yang b...</td>\n",
              "      <td>menyesal kenapa baru tahu ada sunscreen yang b...</td>\n",
              "      <td>menyesal kenapa baru tahu ada sunscreen yang b...</td>\n",
              "      <td>menyesal kenapa baru tahu ada sunscreen yang b...</td>\n",
              "      <td>sesal kenapa baru tahu ada sunscreen yang bent...</td>\n",
              "    </tr>\n",
              "    <tr>\n",
              "      <th>4</th>\n",
              "      <td>4</td>\n",
              "      <td>suka!! bagus bgt buat touch up ditambah lg ini...</td>\n",
              "      <td>sociolla</td>\n",
              "      <td>suka!! bagus bgt buat touch up ditambah lg ini...</td>\n",
              "      <td>suka bagus bgt buat touch up ditambah lg ini a...</td>\n",
              "      <td>suka bagus bgt buat touch up ditambah lg ini a...</td>\n",
              "      <td>suka bagus bgt buat touch up ditambah lg ini a...</td>\n",
              "      <td>suka bagus bgt buat touch up tambah lg ini ada...</td>\n",
              "    </tr>\n",
              "  </tbody>\n",
              "</table>\n",
              "</div>\n",
              "      <button class=\"colab-df-convert\" onclick=\"convertToInteractive('df-d5d1f47c-7e33-48b5-a663-0e64a54b68b9')\"\n",
              "              title=\"Convert this dataframe to an interactive table.\"\n",
              "              style=\"display:none;\">\n",
              "        \n",
              "  <svg xmlns=\"http://www.w3.org/2000/svg\" height=\"24px\"viewBox=\"0 0 24 24\"\n",
              "       width=\"24px\">\n",
              "    <path d=\"M0 0h24v24H0V0z\" fill=\"none\"/>\n",
              "    <path d=\"M18.56 5.44l.94 2.06.94-2.06 2.06-.94-2.06-.94-.94-2.06-.94 2.06-2.06.94zm-11 1L8.5 8.5l.94-2.06 2.06-.94-2.06-.94L8.5 2.5l-.94 2.06-2.06.94zm10 10l.94 2.06.94-2.06 2.06-.94-2.06-.94-.94-2.06-.94 2.06-2.06.94z\"/><path d=\"M17.41 7.96l-1.37-1.37c-.4-.4-.92-.59-1.43-.59-.52 0-1.04.2-1.43.59L10.3 9.45l-7.72 7.72c-.78.78-.78 2.05 0 2.83L4 21.41c.39.39.9.59 1.41.59.51 0 1.02-.2 1.41-.59l7.78-7.78 2.81-2.81c.8-.78.8-2.07 0-2.86zM5.41 20L4 18.59l7.72-7.72 1.47 1.35L5.41 20z\"/>\n",
              "  </svg>\n",
              "      </button>\n",
              "      \n",
              "  <style>\n",
              "    .colab-df-container {\n",
              "      display:flex;\n",
              "      flex-wrap:wrap;\n",
              "      gap: 12px;\n",
              "    }\n",
              "\n",
              "    .colab-df-convert {\n",
              "      background-color: #E8F0FE;\n",
              "      border: none;\n",
              "      border-radius: 50%;\n",
              "      cursor: pointer;\n",
              "      display: none;\n",
              "      fill: #1967D2;\n",
              "      height: 32px;\n",
              "      padding: 0 0 0 0;\n",
              "      width: 32px;\n",
              "    }\n",
              "\n",
              "    .colab-df-convert:hover {\n",
              "      background-color: #E2EBFA;\n",
              "      box-shadow: 0px 1px 2px rgba(60, 64, 67, 0.3), 0px 1px 3px 1px rgba(60, 64, 67, 0.15);\n",
              "      fill: #174EA6;\n",
              "    }\n",
              "\n",
              "    [theme=dark] .colab-df-convert {\n",
              "      background-color: #3B4455;\n",
              "      fill: #D2E3FC;\n",
              "    }\n",
              "\n",
              "    [theme=dark] .colab-df-convert:hover {\n",
              "      background-color: #434B5C;\n",
              "      box-shadow: 0px 1px 3px 1px rgba(0, 0, 0, 0.15);\n",
              "      filter: drop-shadow(0px 1px 2px rgba(0, 0, 0, 0.3));\n",
              "      fill: #FFFFFF;\n",
              "    }\n",
              "  </style>\n",
              "\n",
              "      <script>\n",
              "        const buttonEl =\n",
              "          document.querySelector('#df-d5d1f47c-7e33-48b5-a663-0e64a54b68b9 button.colab-df-convert');\n",
              "        buttonEl.style.display =\n",
              "          google.colab.kernel.accessAllowed ? 'block' : 'none';\n",
              "\n",
              "        async function convertToInteractive(key) {\n",
              "          const element = document.querySelector('#df-d5d1f47c-7e33-48b5-a663-0e64a54b68b9');\n",
              "          const dataTable =\n",
              "            await google.colab.kernel.invokeFunction('convertToInteractive',\n",
              "                                                     [key], {});\n",
              "          if (!dataTable) return;\n",
              "\n",
              "          const docLinkHtml = 'Like what you see? Visit the ' +\n",
              "            '<a target=\"_blank\" href=https://colab.research.google.com/notebooks/data_table.ipynb>data table notebook</a>'\n",
              "            + ' to learn more about interactive tables.';\n",
              "          element.innerHTML = '';\n",
              "          dataTable['output_type'] = 'display_data';\n",
              "          await google.colab.output.renderOutput(dataTable, element);\n",
              "          const docLink = document.createElement('div');\n",
              "          docLink.innerHTML = docLinkHtml;\n",
              "          element.appendChild(docLink);\n",
              "        }\n",
              "      </script>\n",
              "    </div>\n",
              "  </div>\n",
              "  "
            ],
            "text/plain": [
              "   index  ...                                             Pre #5\n",
              "0      0  ...  suka banget sama produk ini gampang bawa mana ...\n",
              "1      1  ...  ini aku pertama kali beli produk ini dan aku e...\n",
              "2      2  ...  i love the packaging the texture tapi kurang s...\n",
              "3      3  ...  sesal kenapa baru tahu ada sunscreen yang bent...\n",
              "4      4  ...  suka bagus bgt buat touch up tambah lg ini ada...\n",
              "\n",
              "[5 rows x 8 columns]"
            ]
          },
          "metadata": {},
          "execution_count": 34
        }
      ]
    },
    {
      "cell_type": "markdown",
      "source": [
        "## Checkpoint save data sastrawi"
      ],
      "metadata": {
        "id": "VDuF-ef5u8EZ"
      }
    },
    {
      "cell_type": "code",
      "source": [
        "data.to_json(r'/content/data-sastrawi.json')"
      ],
      "metadata": {
        "id": "-Qeo5hy1uD-q"
      },
      "execution_count": 35,
      "outputs": []
    },
    {
      "cell_type": "markdown",
      "source": [
        "# Labelling"
      ],
      "metadata": {
        "id": "s_vwE6lYvUKY"
      }
    },
    {
      "cell_type": "markdown",
      "source": [
        "## Load data sastrawi"
      ],
      "metadata": {
        "id": "Ax4dTFycvftJ"
      }
    },
    {
      "cell_type": "code",
      "source": [
        "data_files = files.upload()"
      ],
      "metadata": {
        "id": "joioS7QbvqTw",
        "colab": {
          "resources": {
            "http://localhost:8080/nbextensions/google.colab/files.js": {
              "data": "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",
              "ok": true,
              "headers": [
                [
                  "content-type",
                  "application/javascript"
                ]
              ],
              "status": 200,
              "status_text": ""
            }
          },
          "base_uri": "https://localhost:8080/",
          "height": 55
        },
        "outputId": "46d9ef81-2d17-4070-ff66-2e2d1da70d76"
      },
      "execution_count": 36,
      "outputs": [
        {
          "output_type": "display_data",
          "data": {
            "text/html": [
              "\n",
              "     <input type=\"file\" id=\"files-5fcfd4c1-2c1e-4cd3-9b54-b7c6d6f4ee26\" name=\"files[]\" multiple disabled\n",
              "        style=\"border:none\" />\n",
              "     <output id=\"result-5fcfd4c1-2c1e-4cd3-9b54-b7c6d6f4ee26\">\n",
              "      Upload widget is only available when the cell has been executed in the\n",
              "      current browser session. Please rerun this cell to enable.\n",
              "      </output>\n",
              "      <script src=\"/nbextensions/google.colab/files.js\"></script> "
            ],
            "text/plain": [
              "<IPython.core.display.HTML object>"
            ]
          },
          "metadata": {}
        },
        {
          "output_type": "stream",
          "name": "stdout",
          "text": [
            "Saving data-sastrawi.json to data-sastrawi (1).json\n"
          ]
        }
      ]
    },
    {
      "cell_type": "code",
      "source": [
        "data_sastrawi = pd.read_json(data_files['data-sastrawi.json'])"
      ],
      "metadata": {
        "id": "lLdq-LKGxLW2"
      },
      "execution_count": 37,
      "outputs": []
    },
    {
      "cell_type": "markdown",
      "source": [
        "## Pretained model using bert indonesia by mdhugol"
      ],
      "metadata": {
        "id": "0sIzIVGfv1UI"
      }
    },
    {
      "cell_type": "code",
      "source": [
        "pretrained= \"mdhugol/indonesia-bert-sentiment-classification\"\n",
        "model = AutoModelForSequenceClassification.from_pretrained(pretrained)\n",
        "tokenizer = AutoTokenizer.from_pretrained(pretrained)\n",
        "sentiment_analysis = pipeline(\"sentiment-analysis\", model=model, tokenizer=tokenizer)"
      ],
      "metadata": {
        "id": "Xpbec7H_dn8L",
        "colab": {
          "base_uri": "https://localhost:8080/",
          "referenced_widgets": [
            "82847067e7bf4e169d0e8d8668e4160b",
            "863ba598876f4038bf666b6bfcfec832",
            "e01d567d7f244e4194590dd658fe14d9",
            "86026ef252114a5e8e491b638a4ef15e",
            "60ba4619fd3c4045bb80687267400c83",
            "11178fcd30114f51a571155add1485d7",
            "cefec67ee15f4c1ea5e8ec23c94d4b60",
            "70103b48e17b495fb52bce34f1034cd7",
            "5a62303ffecd4f5191a15dcdb0fba880",
            "5f9bc30f8cef40aba2b1c8813ee89a95",
            "8d71fb16f89e4facb5c25c086a2460e5",
            "8312af18b4874298a82f6a234f1be7b6",
            "7f570e73147f42bca88c233489a3b715",
            "da9c379d3f5c4a7f98493aba3852cd4c",
            "c1d804b655b2492681e9c078b88de85f",
            "4a18d75924834c318cb4db1cdb85b739",
            "6a691db496e8479c993b11156cdb1581",
            "9ef036eed7754bd08b58515ac354996c",
            "89da948a17ab46f3bf6b31d912d438b1",
            "23facdcd89414d07a752269615c4f9f1",
            "68d7dc15356948d784576901214d0ec3",
            "aa68cdd93d244922a1c8f14d35805d6b",
            "3b7c40af5c5845f3812c26ace3bbdfdf",
            "5d08fca5145c4b6abafbaad7f65fbf9c",
            "450c6b1e527747848b3cb4979a52a15f",
            "bc5c9c6d4b504a538ffcdc1ffa25affe",
            "bbb26a51a5044a9fb321ac3b980e39d4",
            "c7f01d3519ff4df79e4620e72533f707",
            "c7bacd4e79b048669e5bfc054dba98a7",
            "efd2cbb62de74a868808180f8a37e6c9",
            "feb81968533d43dc8e6d59effde05bb7",
            "a76d91e5173141aab45207553576a4e4",
            "bcfc8f327b3247929935352217cbec15",
            "bab751624a64411fa1347a0e9e9a724a",
            "2a1bb00667ab4de980d922df486bba2f",
            "69d3a6309da34ffea37b6f8ef21d8457",
            "c5c1c930a7364298898a32ae94b5bc37",
            "0bef395acfaf441d9c974d0a92051d31",
            "959e2c7ea160438691475cea581e3123",
            "464f3c95c3514408903057a5bbf011b0",
            "dae813b36b754b4c910dac732de55ca3",
            "bb491d59f77a49f0a9aa67ff353ef6af",
            "16d1555e482a44fa8db897329c2668bf",
            "b60edd2ac4a0439a964cb35479ddf254",
            "f9dbd84980e945b09955daea971cab6c",
            "e2e684130f3e4ac6a990ba340dd334fe",
            "68c56a17ba7a4c46b3ae30ba231d9d25",
            "bf13f3560dad4702898e928cf92ceba4",
            "6effb5cf848f4e78adee83f6599ec6a8",
            "9b12b20df5ce40b5932d6933148abde7",
            "5919e5eda2a6463d9cd84b136f613fed",
            "4c80979d1bb2486ba40b6a62fe04233d",
            "dd1ca6be64e941a4876092ac6bb061a8",
            "bb0c0a9e9a104b8aa389d7a004af4256",
            "ca55c8e238b54ee7878af76a09673a46"
          ],
          "height": 177
        },
        "outputId": "1dc3ae25-ed4f-488c-cce2-e444ea5af19c"
      },
      "execution_count": 38,
      "outputs": [
        {
          "output_type": "display_data",
          "data": {
            "application/vnd.jupyter.widget-view+json": {
              "model_id": "82847067e7bf4e169d0e8d8668e4160b",
              "version_minor": 0,
              "version_major": 2
            },
            "text/plain": [
              "Downloading:   0%|          | 0.00/1.15k [00:00<?, ?B/s]"
            ]
          },
          "metadata": {}
        },
        {
          "output_type": "display_data",
          "data": {
            "application/vnd.jupyter.widget-view+json": {
              "model_id": "8312af18b4874298a82f6a234f1be7b6",
              "version_minor": 0,
              "version_major": 2
            },
            "text/plain": [
              "Downloading:   0%|          | 0.00/475M [00:00<?, ?B/s]"
            ]
          },
          "metadata": {}
        },
        {
          "output_type": "display_data",
          "data": {
            "application/vnd.jupyter.widget-view+json": {
              "model_id": "3b7c40af5c5845f3812c26ace3bbdfdf",
              "version_minor": 0,
              "version_major": 2
            },
            "text/plain": [
              "Downloading:   0%|          | 0.00/2.00 [00:00<?, ?B/s]"
            ]
          },
          "metadata": {}
        },
        {
          "output_type": "display_data",
          "data": {
            "application/vnd.jupyter.widget-view+json": {
              "model_id": "bab751624a64411fa1347a0e9e9a724a",
              "version_minor": 0,
              "version_major": 2
            },
            "text/plain": [
              "Downloading:   0%|          | 0.00/224k [00:00<?, ?B/s]"
            ]
          },
          "metadata": {}
        },
        {
          "output_type": "display_data",
          "data": {
            "application/vnd.jupyter.widget-view+json": {
              "model_id": "f9dbd84980e945b09955daea971cab6c",
              "version_minor": 0,
              "version_major": 2
            },
            "text/plain": [
              "Downloading:   0%|          | 0.00/112 [00:00<?, ?B/s]"
            ]
          },
          "metadata": {}
        }
      ]
    },
    {
      "cell_type": "markdown",
      "source": [
        "## Labelling and Scoreing"
      ],
      "metadata": {
        "id": "MCV6rzZ6T-6X"
      }
    },
    {
      "cell_type": "code",
      "source": [
        "label_index = {'LABEL_0': 'positive', 'LABEL_1': 'neutral', 'LABEL_2': 'negative'}\n",
        "def preLabelingUsingBertLabel(text):\n",
        "  if len(text.split()) > 512:\n",
        "    return 'TOMUCH'\n",
        "  \n",
        "  labeling_result = sentiment_analysis(text)\n",
        "  labelnya = label_index[labeling_result[0]['label']]\n",
        "  return labelnya\n",
        "\n",
        "def preLabelingUsingBertStatus(text):\n",
        "  if len(text.split()) > 512:\n",
        "    return 'TOMUCH'\n",
        "\n",
        "  labeling_result = sentiment_analysis(text)\n",
        "  scorenya = labeling_result[0]['score']\n",
        "  return scorenya"
      ],
      "metadata": {
        "id": "FvWmfPq1fq1T"
      },
      "execution_count": 39,
      "outputs": []
    },
    {
      "cell_type": "code",
      "source": [
        "data_sastrawi['Pre Label #6'] = data_sastrawi['Pre #5'].apply(preLabelingUsingBertLabel)\n",
        "data_sastrawi['Pre Score #7'] = data_sastrawi['Pre #5'].apply(preLabelingUsingBertStatus)"
      ],
      "metadata": {
        "id": "Q7lbBEx0mak_"
      },
      "execution_count": 40,
      "outputs": []
    },
    {
      "cell_type": "markdown",
      "source": [
        "Sastrawi data:"
      ],
      "metadata": {
        "id": "Ry8fWYxiZqq3"
      }
    },
    {
      "cell_type": "code",
      "source": [
        "data_sastrawi.head()"
      ],
      "metadata": {
        "colab": {
          "base_uri": "https://localhost:8080/",
          "height": 458
        },
        "id": "A_wUQ7nMTyq0",
        "outputId": "d4acbfda-b9fe-436d-8b65-1047abfff8b7"
      },
      "execution_count": 41,
      "outputs": [
        {
          "output_type": "execute_result",
          "data": {
            "text/html": [
              "\n",
              "  <div id=\"df-fb654ede-c936-4ae6-b3f1-9dee00f50a94\">\n",
              "    <div class=\"colab-df-container\">\n",
              "      <div>\n",
              "<style scoped>\n",
              "    .dataframe tbody tr th:only-of-type {\n",
              "        vertical-align: middle;\n",
              "    }\n",
              "\n",
              "    .dataframe tbody tr th {\n",
              "        vertical-align: top;\n",
              "    }\n",
              "\n",
              "    .dataframe thead th {\n",
              "        text-align: right;\n",
              "    }\n",
              "</style>\n",
              "<table border=\"1\" class=\"dataframe\">\n",
              "  <thead>\n",
              "    <tr style=\"text-align: right;\">\n",
              "      <th></th>\n",
              "      <th>index</th>\n",
              "      <th>details</th>\n",
              "      <th>source</th>\n",
              "      <th>Pre #1</th>\n",
              "      <th>Pre #2</th>\n",
              "      <th>Pre #3</th>\n",
              "      <th>Pre #4</th>\n",
              "      <th>Pre #5</th>\n",
              "      <th>Pre Label #6</th>\n",
              "      <th>Pre Score #7</th>\n",
              "    </tr>\n",
              "  </thead>\n",
              "  <tbody>\n",
              "    <tr>\n",
              "      <th>0</th>\n",
              "      <td>0</td>\n",
              "      <td>suka banget sama produk ini, gampang dibawa ke...</td>\n",
              "      <td>sociolla</td>\n",
              "      <td>suka banget sama produk ini, gampang dibawa ke...</td>\n",
              "      <td>suka banget sama produk ini gampang dibawa kem...</td>\n",
              "      <td>suka banget sama produk ini gampang dibawa kem...</td>\n",
              "      <td>suka banget sama produk ini gampang dibawa kem...</td>\n",
              "      <td>suka banget sama produk ini gampang bawa mana ...</td>\n",
              "      <td>positive</td>\n",
              "      <td>0.997601</td>\n",
              "    </tr>\n",
              "    <tr>\n",
              "      <th>1</th>\n",
              "      <td>1</td>\n",
              "      <td>ini aku pertama kali beli produk ini dan aku e...</td>\n",
              "      <td>sociolla</td>\n",
              "      <td>ini aku pertama kali beli produk ini dan aku e...</td>\n",
              "      <td>ini aku pertama kali beli produk ini dan aku e...</td>\n",
              "      <td>ini aku pertama kali beli produk ini dan aku e...</td>\n",
              "      <td>ini aku pertama kali beli produk ini dan aku e...</td>\n",
              "      <td>ini aku pertama kali beli produk ini dan aku e...</td>\n",
              "      <td>positive</td>\n",
              "      <td>0.99484</td>\n",
              "    </tr>\n",
              "    <tr>\n",
              "      <th>2</th>\n",
              "      <td>2</td>\n",
              "      <td>I love the packaging, the texture, tapi kurang...</td>\n",
              "      <td>sociolla</td>\n",
              "      <td>i love the packaging, the texture, tapi kurang...</td>\n",
              "      <td>i love the packaging the texture tapi kurang s...</td>\n",
              "      <td>i love the packaging the texture tapi kurang s...</td>\n",
              "      <td>i love the packaging the texture tapi kurang s...</td>\n",
              "      <td>i love the packaging the texture tapi kurang s...</td>\n",
              "      <td>positive</td>\n",
              "      <td>0.984812</td>\n",
              "    </tr>\n",
              "    <tr>\n",
              "      <th>3</th>\n",
              "      <td>3</td>\n",
              "      <td>menyesal kenapa baru tahu ada sunscreen yang b...</td>\n",
              "      <td>sociolla</td>\n",
              "      <td>menyesal kenapa baru tahu ada sunscreen yang b...</td>\n",
              "      <td>menyesal kenapa baru tahu ada sunscreen yang b...</td>\n",
              "      <td>menyesal kenapa baru tahu ada sunscreen yang b...</td>\n",
              "      <td>menyesal kenapa baru tahu ada sunscreen yang b...</td>\n",
              "      <td>sesal kenapa baru tahu ada sunscreen yang bent...</td>\n",
              "      <td>positive</td>\n",
              "      <td>0.603314</td>\n",
              "    </tr>\n",
              "    <tr>\n",
              "      <th>4</th>\n",
              "      <td>4</td>\n",
              "      <td>suka!! bagus bgt buat touch up ditambah lg ini...</td>\n",
              "      <td>sociolla</td>\n",
              "      <td>suka!! bagus bgt buat touch up ditambah lg ini...</td>\n",
              "      <td>suka bagus bgt buat touch up ditambah lg ini a...</td>\n",
              "      <td>suka bagus bgt buat touch up ditambah lg ini a...</td>\n",
              "      <td>suka bagus bgt buat touch up ditambah lg ini a...</td>\n",
              "      <td>suka bagus bgt buat touch up tambah lg ini ada...</td>\n",
              "      <td>positive</td>\n",
              "      <td>0.996414</td>\n",
              "    </tr>\n",
              "  </tbody>\n",
              "</table>\n",
              "</div>\n",
              "      <button class=\"colab-df-convert\" onclick=\"convertToInteractive('df-fb654ede-c936-4ae6-b3f1-9dee00f50a94')\"\n",
              "              title=\"Convert this dataframe to an interactive table.\"\n",
              "              style=\"display:none;\">\n",
              "        \n",
              "  <svg xmlns=\"http://www.w3.org/2000/svg\" height=\"24px\"viewBox=\"0 0 24 24\"\n",
              "       width=\"24px\">\n",
              "    <path d=\"M0 0h24v24H0V0z\" fill=\"none\"/>\n",
              "    <path d=\"M18.56 5.44l.94 2.06.94-2.06 2.06-.94-2.06-.94-.94-2.06-.94 2.06-2.06.94zm-11 1L8.5 8.5l.94-2.06 2.06-.94-2.06-.94L8.5 2.5l-.94 2.06-2.06.94zm10 10l.94 2.06.94-2.06 2.06-.94-2.06-.94-.94-2.06-.94 2.06-2.06.94z\"/><path d=\"M17.41 7.96l-1.37-1.37c-.4-.4-.92-.59-1.43-.59-.52 0-1.04.2-1.43.59L10.3 9.45l-7.72 7.72c-.78.78-.78 2.05 0 2.83L4 21.41c.39.39.9.59 1.41.59.51 0 1.02-.2 1.41-.59l7.78-7.78 2.81-2.81c.8-.78.8-2.07 0-2.86zM5.41 20L4 18.59l7.72-7.72 1.47 1.35L5.41 20z\"/>\n",
              "  </svg>\n",
              "      </button>\n",
              "      \n",
              "  <style>\n",
              "    .colab-df-container {\n",
              "      display:flex;\n",
              "      flex-wrap:wrap;\n",
              "      gap: 12px;\n",
              "    }\n",
              "\n",
              "    .colab-df-convert {\n",
              "      background-color: #E8F0FE;\n",
              "      border: none;\n",
              "      border-radius: 50%;\n",
              "      cursor: pointer;\n",
              "      display: none;\n",
              "      fill: #1967D2;\n",
              "      height: 32px;\n",
              "      padding: 0 0 0 0;\n",
              "      width: 32px;\n",
              "    }\n",
              "\n",
              "    .colab-df-convert:hover {\n",
              "      background-color: #E2EBFA;\n",
              "      box-shadow: 0px 1px 2px rgba(60, 64, 67, 0.3), 0px 1px 3px 1px rgba(60, 64, 67, 0.15);\n",
              "      fill: #174EA6;\n",
              "    }\n",
              "\n",
              "    [theme=dark] .colab-df-convert {\n",
              "      background-color: #3B4455;\n",
              "      fill: #D2E3FC;\n",
              "    }\n",
              "\n",
              "    [theme=dark] .colab-df-convert:hover {\n",
              "      background-color: #434B5C;\n",
              "      box-shadow: 0px 1px 3px 1px rgba(0, 0, 0, 0.15);\n",
              "      filter: drop-shadow(0px 1px 2px rgba(0, 0, 0, 0.3));\n",
              "      fill: #FFFFFF;\n",
              "    }\n",
              "  </style>\n",
              "\n",
              "      <script>\n",
              "        const buttonEl =\n",
              "          document.querySelector('#df-fb654ede-c936-4ae6-b3f1-9dee00f50a94 button.colab-df-convert');\n",
              "        buttonEl.style.display =\n",
              "          google.colab.kernel.accessAllowed ? 'block' : 'none';\n",
              "\n",
              "        async function convertToInteractive(key) {\n",
              "          const element = document.querySelector('#df-fb654ede-c936-4ae6-b3f1-9dee00f50a94');\n",
              "          const dataTable =\n",
              "            await google.colab.kernel.invokeFunction('convertToInteractive',\n",
              "                                                     [key], {});\n",
              "          if (!dataTable) return;\n",
              "\n",
              "          const docLinkHtml = 'Like what you see? Visit the ' +\n",
              "            '<a target=\"_blank\" href=https://colab.research.google.com/notebooks/data_table.ipynb>data table notebook</a>'\n",
              "            + ' to learn more about interactive tables.';\n",
              "          element.innerHTML = '';\n",
              "          dataTable['output_type'] = 'display_data';\n",
              "          await google.colab.output.renderOutput(dataTable, element);\n",
              "          const docLink = document.createElement('div');\n",
              "          docLink.innerHTML = docLinkHtml;\n",
              "          element.appendChild(docLink);\n",
              "        }\n",
              "      </script>\n",
              "    </div>\n",
              "  </div>\n",
              "  "
            ],
            "text/plain": [
              "   index  ... Pre Score #7\n",
              "0      0  ...     0.997601\n",
              "1      1  ...      0.99484\n",
              "2      2  ...     0.984812\n",
              "3      3  ...     0.603314\n",
              "4      4  ...     0.996414\n",
              "\n",
              "[5 rows x 10 columns]"
            ]
          },
          "metadata": {},
          "execution_count": 41
        }
      ]
    },
    {
      "cell_type": "markdown",
      "source": [
        "## Checkpoin save data labelling"
      ],
      "metadata": {
        "id": "-9j67o2GUD9v"
      }
    },
    {
      "cell_type": "code",
      "source": [
        "data_sastrawi.to_json(r'/content/data-labelling.json')"
      ],
      "metadata": {
        "id": "0WL96dTPTS0R"
      },
      "execution_count": 42,
      "outputs": []
    },
    {
      "cell_type": "markdown",
      "source": [
        "# Analysis sentiment"
      ],
      "metadata": {
        "id": "uH7jxIYDUMH3"
      }
    },
    {
      "cell_type": "markdown",
      "source": [
        "## Load data labelling"
      ],
      "metadata": {
        "id": "i0TufBB-UgN-"
      }
    },
    {
      "cell_type": "code",
      "source": [
        "data_files = files.upload()"
      ],
      "metadata": {
        "colab": {
          "resources": {
            "http://localhost:8080/nbextensions/google.colab/files.js": {
              "data": "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",
              "ok": true,
              "headers": [
                [
                  "content-type",
                  "application/javascript"
                ]
              ],
              "status": 200,
              "status_text": ""
            }
          },
          "base_uri": "https://localhost:8080/",
          "height": 73
        },
        "id": "PRzTFczVUkgO",
        "outputId": "de8df629-aefb-4e0d-d6e7-a22b1aac9480"
      },
      "execution_count": 96,
      "outputs": [
        {
          "output_type": "display_data",
          "data": {
            "text/html": [
              "\n",
              "     <input type=\"file\" id=\"files-f60dd57d-7783-455c-adcb-5e17c4ebe8e5\" name=\"files[]\" multiple disabled\n",
              "        style=\"border:none\" />\n",
              "     <output id=\"result-f60dd57d-7783-455c-adcb-5e17c4ebe8e5\">\n",
              "      Upload widget is only available when the cell has been executed in the\n",
              "      current browser session. Please rerun this cell to enable.\n",
              "      </output>\n",
              "      <script src=\"/nbextensions/google.colab/files.js\"></script> "
            ],
            "text/plain": [
              "<IPython.core.display.HTML object>"
            ]
          },
          "metadata": {}
        },
        {
          "output_type": "stream",
          "name": "stdout",
          "text": [
            "Saving data-labelling.json to data-labelling (2).json\n"
          ]
        }
      ]
    },
    {
      "cell_type": "code",
      "source": [
        "data_labelling = pd.read_json(data_files['data-labelling.json'])"
      ],
      "metadata": {
        "id": "R7VT9qcmUlNu"
      },
      "execution_count": 97,
      "outputs": []
    },
    {
      "cell_type": "markdown",
      "source": [
        "## Picking data source and rename column"
      ],
      "metadata": {
        "id": "EhbeggLfaS_v"
      }
    },
    {
      "cell_type": "code",
      "source": [
        "data_labelling = data_labelling[['source', 'Pre #5', 'Pre Label #6', 'Pre Score #7']]"
      ],
      "metadata": {
        "id": "zrbhm91UUyZP"
      },
      "execution_count": 98,
      "outputs": []
    },
    {
      "cell_type": "code",
      "source": [
        "# rename column\n",
        "data_labelling.rename(columns = {'Pre #5':'text', 'Pre Label #6':'sentiment', 'Pre Score #7':'score'}, inplace = True)"
      ],
      "metadata": {
        "id": "80CY9f1oVKhR"
      },
      "execution_count": 99,
      "outputs": []
    },
    {
      "cell_type": "markdown",
      "source": [
        "Labelling data:"
      ],
      "metadata": {
        "id": "-BjKuFNAZu-I"
      }
    },
    {
      "cell_type": "code",
      "source": [
        "data_labelling.head()"
      ],
      "metadata": {
        "colab": {
          "base_uri": "https://localhost:8080/",
          "height": 0
        },
        "id": "Rlg_InKfSrSk",
        "outputId": "2704e9dd-a123-4aba-889e-ea53aee5d5d8"
      },
      "execution_count": 100,
      "outputs": [
        {
          "output_type": "execute_result",
          "data": {
            "text/html": [
              "\n",
              "  <div id=\"df-3a4e04c5-2e6a-410b-9239-a2327deca689\">\n",
              "    <div class=\"colab-df-container\">\n",
              "      <div>\n",
              "<style scoped>\n",
              "    .dataframe tbody tr th:only-of-type {\n",
              "        vertical-align: middle;\n",
              "    }\n",
              "\n",
              "    .dataframe tbody tr th {\n",
              "        vertical-align: top;\n",
              "    }\n",
              "\n",
              "    .dataframe thead th {\n",
              "        text-align: right;\n",
              "    }\n",
              "</style>\n",
              "<table border=\"1\" class=\"dataframe\">\n",
              "  <thead>\n",
              "    <tr style=\"text-align: right;\">\n",
              "      <th></th>\n",
              "      <th>source</th>\n",
              "      <th>text</th>\n",
              "      <th>sentiment</th>\n",
              "      <th>score</th>\n",
              "    </tr>\n",
              "  </thead>\n",
              "  <tbody>\n",
              "    <tr>\n",
              "      <th>0</th>\n",
              "      <td>sociolla</td>\n",
              "      <td>suka banget sama produk ini gampang bawa mana ...</td>\n",
              "      <td>positive</td>\n",
              "      <td>0.997601</td>\n",
              "    </tr>\n",
              "    <tr>\n",
              "      <th>1</th>\n",
              "      <td>sociolla</td>\n",
              "      <td>ini aku pertama kali beli produk ini dan aku e...</td>\n",
              "      <td>positive</td>\n",
              "      <td>0.99484</td>\n",
              "    </tr>\n",
              "    <tr>\n",
              "      <th>2</th>\n",
              "      <td>sociolla</td>\n",
              "      <td>i love the packaging the texture tapi kurang s...</td>\n",
              "      <td>positive</td>\n",
              "      <td>0.984812</td>\n",
              "    </tr>\n",
              "    <tr>\n",
              "      <th>3</th>\n",
              "      <td>sociolla</td>\n",
              "      <td>sesal kenapa baru tahu ada sunscreen yang bent...</td>\n",
              "      <td>positive</td>\n",
              "      <td>0.603314</td>\n",
              "    </tr>\n",
              "    <tr>\n",
              "      <th>4</th>\n",
              "      <td>sociolla</td>\n",
              "      <td>suka bagus bgt buat touch up tambah lg ini ada...</td>\n",
              "      <td>positive</td>\n",
              "      <td>0.996414</td>\n",
              "    </tr>\n",
              "  </tbody>\n",
              "</table>\n",
              "</div>\n",
              "      <button class=\"colab-df-convert\" onclick=\"convertToInteractive('df-3a4e04c5-2e6a-410b-9239-a2327deca689')\"\n",
              "              title=\"Convert this dataframe to an interactive table.\"\n",
              "              style=\"display:none;\">\n",
              "        \n",
              "  <svg xmlns=\"http://www.w3.org/2000/svg\" height=\"24px\"viewBox=\"0 0 24 24\"\n",
              "       width=\"24px\">\n",
              "    <path d=\"M0 0h24v24H0V0z\" fill=\"none\"/>\n",
              "    <path d=\"M18.56 5.44l.94 2.06.94-2.06 2.06-.94-2.06-.94-.94-2.06-.94 2.06-2.06.94zm-11 1L8.5 8.5l.94-2.06 2.06-.94-2.06-.94L8.5 2.5l-.94 2.06-2.06.94zm10 10l.94 2.06.94-2.06 2.06-.94-2.06-.94-.94-2.06-.94 2.06-2.06.94z\"/><path d=\"M17.41 7.96l-1.37-1.37c-.4-.4-.92-.59-1.43-.59-.52 0-1.04.2-1.43.59L10.3 9.45l-7.72 7.72c-.78.78-.78 2.05 0 2.83L4 21.41c.39.39.9.59 1.41.59.51 0 1.02-.2 1.41-.59l7.78-7.78 2.81-2.81c.8-.78.8-2.07 0-2.86zM5.41 20L4 18.59l7.72-7.72 1.47 1.35L5.41 20z\"/>\n",
              "  </svg>\n",
              "      </button>\n",
              "      \n",
              "  <style>\n",
              "    .colab-df-container {\n",
              "      display:flex;\n",
              "      flex-wrap:wrap;\n",
              "      gap: 12px;\n",
              "    }\n",
              "\n",
              "    .colab-df-convert {\n",
              "      background-color: #E8F0FE;\n",
              "      border: none;\n",
              "      border-radius: 50%;\n",
              "      cursor: pointer;\n",
              "      display: none;\n",
              "      fill: #1967D2;\n",
              "      height: 32px;\n",
              "      padding: 0 0 0 0;\n",
              "      width: 32px;\n",
              "    }\n",
              "\n",
              "    .colab-df-convert:hover {\n",
              "      background-color: #E2EBFA;\n",
              "      box-shadow: 0px 1px 2px rgba(60, 64, 67, 0.3), 0px 1px 3px 1px rgba(60, 64, 67, 0.15);\n",
              "      fill: #174EA6;\n",
              "    }\n",
              "\n",
              "    [theme=dark] .colab-df-convert {\n",
              "      background-color: #3B4455;\n",
              "      fill: #D2E3FC;\n",
              "    }\n",
              "\n",
              "    [theme=dark] .colab-df-convert:hover {\n",
              "      background-color: #434B5C;\n",
              "      box-shadow: 0px 1px 3px 1px rgba(0, 0, 0, 0.15);\n",
              "      filter: drop-shadow(0px 1px 2px rgba(0, 0, 0, 0.3));\n",
              "      fill: #FFFFFF;\n",
              "    }\n",
              "  </style>\n",
              "\n",
              "      <script>\n",
              "        const buttonEl =\n",
              "          document.querySelector('#df-3a4e04c5-2e6a-410b-9239-a2327deca689 button.colab-df-convert');\n",
              "        buttonEl.style.display =\n",
              "          google.colab.kernel.accessAllowed ? 'block' : 'none';\n",
              "\n",
              "        async function convertToInteractive(key) {\n",
              "          const element = document.querySelector('#df-3a4e04c5-2e6a-410b-9239-a2327deca689');\n",
              "          const dataTable =\n",
              "            await google.colab.kernel.invokeFunction('convertToInteractive',\n",
              "                                                     [key], {});\n",
              "          if (!dataTable) return;\n",
              "\n",
              "          const docLinkHtml = 'Like what you see? Visit the ' +\n",
              "            '<a target=\"_blank\" href=https://colab.research.google.com/notebooks/data_table.ipynb>data table notebook</a>'\n",
              "            + ' to learn more about interactive tables.';\n",
              "          element.innerHTML = '';\n",
              "          dataTable['output_type'] = 'display_data';\n",
              "          await google.colab.output.renderOutput(dataTable, element);\n",
              "          const docLink = document.createElement('div');\n",
              "          docLink.innerHTML = docLinkHtml;\n",
              "          element.appendChild(docLink);\n",
              "        }\n",
              "      </script>\n",
              "    </div>\n",
              "  </div>\n",
              "  "
            ],
            "text/plain": [
              "     source  ...     score\n",
              "0  sociolla  ...  0.997601\n",
              "1  sociolla  ...   0.99484\n",
              "2  sociolla  ...  0.984812\n",
              "3  sociolla  ...  0.603314\n",
              "4  sociolla  ...  0.996414\n",
              "\n",
              "[5 rows x 4 columns]"
            ]
          },
          "metadata": {},
          "execution_count": 100
        }
      ]
    },
    {
      "cell_type": "markdown",
      "source": [
        "## Replace \"TOMUCH\" manual"
      ],
      "metadata": {
        "id": "_-jBa5bxk5UM"
      }
    },
    {
      "cell_type": "code",
      "source": [
        "# replace TOMUCH manual\n",
        "data_labelling.loc[1252,\"score\"]= 0.9973069429\n",
        "data_labelling.loc[1252,\"sentiment\"]= \"positive\"\n",
        "data_labelling.loc[1941,\"score\"]= 0.9973069429\n",
        "data_labelling.loc[1941,\"sentiment\"]= \"positive\""
      ],
      "metadata": {
        "id": "gXqgMXuueaZZ"
      },
      "execution_count": 101,
      "outputs": []
    },
    {
      "cell_type": "markdown",
      "source": [
        "## Chart all labelling data"
      ],
      "metadata": {
        "id": "Y8tq5MNkk990"
      }
    },
    {
      "cell_type": "code",
      "source": [
        "def makeChart(data, title):\n",
        "  tb_count = data.value_counts()\n",
        "  plt.figure(figsize=(10, 8))\n",
        "  plt.pie(tb_count.values, labels=tb_count.index, autopct='%.2f')\n",
        "  plt.title(title)\n",
        "  plt.legend()\n",
        "  plt.savefig(\"%s-.png\"%title)\n",
        "  plt.show()"
      ],
      "metadata": {
        "id": "jM2t1SZBculP"
      },
      "execution_count": 102,
      "outputs": []
    },
    {
      "cell_type": "code",
      "source": [
        "def makeBarChart(data, title):\n",
        "  %matplotlib inline\n",
        "  tb_count = data.value_counts()\n",
        "  plt.figure(figsize=(10, 8))\n",
        "  plt.bar(tb_count.index, tb_count.values)\n",
        "  plt.title(title)\n",
        "  plt.savefig(\"%s-.png\"%title)\n",
        "  plt.show()"
      ],
      "metadata": {
        "id": "Ulc45CSddMG_"
      },
      "execution_count": 103,
      "outputs": []
    },
    {
      "cell_type": "code",
      "source": [
        "makeChart(data_labelling['sentiment'], 'All Data')\n",
        "print('\\n')\n",
        "makeBarChart(data_labelling['sentiment'], 'All Data')"
      ],
      "metadata": {
        "colab": {
          "base_uri": "https://localhost:8080/",
          "height": 999
        },
        "id": "aVtuD9XRcVoi",
        "outputId": "42701ce3-75c6-4df3-ae98-d889c1a1bb5d"
      },
      "execution_count": 104,
      "outputs": [
        {
          "output_type": "display_data",
          "data": {
            "image/png": "[encoded data removed]",
            "text/plain": [
              "<Figure size 720x576 with 1 Axes>"
            ]
          },
          "metadata": {}
        },
        {
          "output_type": "stream",
          "name": "stdout",
          "text": [
            "\n",
            "\n"
          ]
        },
        {
          "output_type": "display_data",
          "data": {
            "image/png": "[encoded data removed]",
            "text/plain": [
              "<Figure size 720x576 with 1 Axes>"
            ]
          },
          "metadata": {
            "needs_background": "light"
          }
        }
      ]
    },
    {
      "cell_type": "markdown",
      "source": [
        "## Split data into train and test"
      ],
      "metadata": {
        "id": "crYrjQiqlUEM"
      }
    },
    {
      "cell_type": "code",
      "source": [
        "testSize = 0.2\n",
        "randomState = 1"
      ],
      "metadata": {
        "id": "r3Tr_Q4Tksd5"
      },
      "execution_count": 105,
      "outputs": []
    },
    {
      "cell_type": "code",
      "source": [
        "train, test = train_test_split(data_labelling, test_size=testSize, random_state=randomState)\n",
        "X_train = train['text'].values\n",
        "X_test = test['text'].values\n",
        "Y_train = train['sentiment']\n",
        "Y_test = test['sentiment']"
      ],
      "metadata": {
        "id": "Dj0q9u1UlWrU"
      },
      "execution_count": 106,
      "outputs": []
    },
    {
      "cell_type": "code",
      "source": [
        "data_train = pd.DataFrame()\n",
        "data_train['text'] = X_train\n",
        "data_train['sentiment'] = Y_train\n",
        "\n",
        "data_test = pd.DataFrame()\n",
        "data_test['text'] = X_test\n",
        "data_test['sentiment'] = Y_test"
      ],
      "metadata": {
        "id": "rotFvXM2t1gy"
      },
      "execution_count": 107,
      "outputs": []
    },
    {
      "cell_type": "markdown",
      "source": [
        "Length, and column"
      ],
      "metadata": {
        "id": "VDxwjmwYgloh"
      }
    },
    {
      "cell_type": "code",
      "source": [
        "print(\"\\nLength train data:\")\n",
        "print(len(data_train))\n",
        "print(\"\\Train columns:\")\n",
        "print(data_train.columns)"
      ],
      "metadata": {
        "colab": {
          "base_uri": "https://localhost:8080/"
        },
        "id": "dp3-CTVFgqQw",
        "outputId": "e4f7976b-c11b-40f7-f615-f9a9e9d09153"
      },
      "execution_count": 108,
      "outputs": [
        {
          "output_type": "stream",
          "name": "stdout",
          "text": [
            "\n",
            "Length train data:\n",
            "2190\n",
            "\\Train columns:\n",
            "Index(['text', 'sentiment'], dtype='object')\n"
          ]
        }
      ]
    },
    {
      "cell_type": "code",
      "source": [
        "print(\"\\nLength test data:\")\n",
        "print(len(data_test))\n",
        "print(\"\\nTest columns:\")\n",
        "print(data_test.columns)"
      ],
      "metadata": {
        "colab": {
          "base_uri": "https://localhost:8080/"
        },
        "id": "HOfZF8JAgxqB",
        "outputId": "33542d9e-d7f7-438d-a0c7-f9d2384afcbd"
      },
      "execution_count": 109,
      "outputs": [
        {
          "output_type": "stream",
          "name": "stdout",
          "text": [
            "\n",
            "Length test data:\n",
            "548\n",
            "\n",
            "Test columns:\n",
            "Index(['text', 'sentiment'], dtype='object')\n"
          ]
        }
      ]
    },
    {
      "cell_type": "markdown",
      "source": [
        "## Chart train and test data"
      ],
      "metadata": {
        "id": "1cyzBNdaes_o"
      }
    },
    {
      "cell_type": "markdown",
      "source": [
        "### Train"
      ],
      "metadata": {
        "id": "Qm2mEbJue5rq"
      }
    },
    {
      "cell_type": "code",
      "source": [
        "makeChart(data_train['sentiment'], 'Data Train')\n",
        "print('\\n')\n",
        "makeBarChart(data_train['sentiment'], 'Data Train')"
      ],
      "metadata": {
        "colab": {
          "base_uri": "https://localhost:8080/",
          "height": 0
        },
        "id": "PxXEhBcZceJY",
        "outputId": "ba8e1a5c-f7d0-4ab0-e405-c157f63a57ae"
      },
      "execution_count": 110,
      "outputs": [
        {
          "output_type": "display_data",
          "data": {
            "image/png": "[encoded data removed]",
            "text/plain": [
              "<Figure size 720x576 with 1 Axes>"
            ]
          },
          "metadata": {}
        },
        {
          "output_type": "stream",
          "name": "stdout",
          "text": [
            "\n",
            "\n"
          ]
        },
        {
          "output_type": "display_data",
          "data": {
            "image/png": "[encoded data removed]",
            "text/plain": [
              "<Figure size 720x576 with 1 Axes>"
            ]
          },
          "metadata": {
            "needs_background": "light"
          }
        }
      ]
    },
    {
      "cell_type": "markdown",
      "source": [
        "### Test"
      ],
      "metadata": {
        "id": "xuMUKU_le9Vg"
      }
    },
    {
      "cell_type": "code",
      "source": [
        "makeChart(data_test['sentiment'], 'Data Test')\n",
        "print('\\n')\n",
        "makeBarChart(data_test['sentiment'], 'Data Test')"
      ],
      "metadata": {
        "colab": {
          "base_uri": "https://localhost:8080/",
          "height": 0
        },
        "id": "JQxTfabQcpKn",
        "outputId": "bf4a6fc6-15dd-4344-c6f3-8b73126c1a28"
      },
      "execution_count": 111,
      "outputs": [
        {
          "output_type": "display_data",
          "data": {
            "image/png": "[encoded data removed]",
            "text/plain": [
              "<Figure size 720x576 with 1 Axes>"
            ]
          },
          "metadata": {}
        },
        {
          "output_type": "stream",
          "name": "stdout",
          "text": [
            "\n",
            "\n"
          ]
        },
        {
          "output_type": "display_data",
          "data": {
            "image/png": "[encoded data removed]",
            "text/plain": [
              "<Figure size 720x576 with 1 Axes>"
            ]
          },
          "metadata": {
            "needs_background": "light"
          }
        }
      ]
    },
    {
      "cell_type": "markdown",
      "source": [
        "## Checkpoint save train & test data"
      ],
      "metadata": {
        "id": "teEF3ST-uQre"
      }
    },
    {
      "cell_type": "code",
      "source": [
        "data_train.to_json(r'/content/data-train.json')\n",
        "data_test.to_json(r'/content/data-test.json')"
      ],
      "metadata": {
        "id": "ETARR6GluYBO"
      },
      "execution_count": 112,
      "outputs": []
    },
    {
      "cell_type": "markdown",
      "source": [
        "## TFIDF"
      ],
      "metadata": {
        "id": "2Cetd8mt4dkx"
      }
    },
    {
      "cell_type": "code",
      "source": [
        "TFIDF = TfidfVectorizer()"
      ],
      "metadata": {
        "id": "RsOlTRw-4juR"
      },
      "execution_count": 113,
      "outputs": []
    },
    {
      "cell_type": "code",
      "source": [
        "TFIDF.fit(data_labelling['text'])\n",
        "data_train_tfidf = TFIDF.transform(data_train['text'])\n",
        "data_test_tfidf = TFIDF.transform(data_test['text'])"
      ],
      "metadata": {
        "id": "ElNJgYtU4lyJ"
      },
      "execution_count": 114,
      "outputs": []
    },
    {
      "cell_type": "code",
      "source": [
        "print(TFIDF.vocabulary_)"
      ],
      "metadata": {
        "colab": {
          "base_uri": "https://localhost:8080/"
        },
        "id": "pO6hAh8M4m1Y",
        "outputId": "05787d8d-f783-4e3d-820e-231d5b8a0aaf"
      },
      "execution_count": 115,
      "outputs": [
        {
          "output_type": "stream",
          "name": "stdout",
          "text": [
            "{'suka': 4754, 'banget': 465, 'sama': 4303, 'produk': 4035, 'ini': 2191, 'gampang': 1736, 'bawa': 522, 'mana': 2986, 'dan': 1206, 'juga': 2360, 'emang': 1515, 'enak': 1525, 'di': 1285, 'muka': 3231, 'cuma': 1172, 'kurang': 2689, 'agak': 128, 'susah': 4862, 'keluar': 2490, 'gitu': 1840, 'jadi': 2273, 'harus': 1998, 'apply': 337, 'beberapa': 548, 'lama': 2738, 'baru': 508, 'rasa': 4124, 'kalo': 2415, 'isi': 2248, 'aku': 177, 'pertama': 3863, 'kali': 2409, 'beli': 580, 'excited': 1563, 'bgt': 696, 'mau': 3049, 'coba': 1066, 'moga': 3192, 'cocok': 1085, 'hasil': 2002, 'bakal': 434, 'good': 1895, 'hehe': 2024, 'it': 2254, 'really': 4137, 'wajah': 5365, 'jdi': 2310, 'glowing': 1859, 'love': 2893, 'the': 5091, 'packaging': 3688, 'texture': 5074, 'tapi': 4918, 'whitecastnya': 5437, 'yaa': 5500, 'akan': 160, 'sirna': 4595, 'iring': 2242, 'waktu': 5387, 'sih': 4557, 'buat': 861, 'retouch': 4211, 'lumayan': 2919, 'ya': 5499, 'karna': 2446, 'pas': 3788, 'itu': 2262, 'salah': 4294, 'jd': 2308, 'yauda': 5533, 'ttp': 5229, 'caw': 969, 'aja': 147, 'pake': 3730, 'ampe': 259, 'abis': 76, 'sesal': 4510, 'kenapa': 2521, 'tahu': 4887, 'ada': 102, 'sunscreen': 4819, 'yang': 5526, 'bentuk': 608, 'bedak': 555, 'soal': 4666, 'punya': 4075, 'selalu': 4429, 'bikin': 730, 'tambah': 4900, 'kusam': 2695, 'bantu': 498, 'solusi': 4678, 'aplikasi': 316, 'ulang': 5285, 'bagus': 403, 'touch': 5177, 'up': 5310, 'lg': 2824, 'spfnya': 4708, 'mantul': 3009, 'dibawabawa': 1300, 'ringkes': 4248, 'bisa': 740, 'dimasukkin': 1343, 'ke': 2463, 'dalam': 1202, 'pouch': 3971, 'makeup': 2966, 'so': 4665, 'usefull': 5327, 'turut': 5255, 'gue': 1929, 'yg': 5552, 'dari': 1216, 'gak': 1716, 'lengket': 2805, 'sensitif': 4474, 'breakout': 828, 'cinta': 1036, 'nih': 3451, 'npure': 3494, 'sunscreennya': 4825, 'nggak': 3419, 'ribet': 4217, 'karena': 2441, 'dia': 1286, 'powder': 3974, 'pakai': 3723, 'kapan': 2435, 'tekstur': 4949, 'simple': 4583, 'make': 2958, 'tahan': 4886, 'hari': 1993, 'diplay': 1370, 'pencet': 3826, 'saran': 4329, 'packagingnya': 3691, 'baik': 428, 'sedikit': 4388, 'sihh': 4559, 'reapply': 4144, 'terus': 5057, 'mate': 3038, 'kecil': 2472, 'dimasukin': 1342, 'tas': 4926, 'jujurly': 2376, 'penasaran': 3824, 'lucuk': 2914, 'dateng': 1223, 'nyata': 3559, 'nya': 3532, 'karen': 2440, 'ga': 1690, 'nempel': 3311, 'ku': 2663, 'hehehehe': 2030, 'bener': 593, 'ngaruh': 3333, 'tadi': 4884, 'belang': 575, 'abnget': 79, 'siang': 4547, 'pke': 3892, 'kerudung': 2555, 'lagi': 2716, 'telah': 4969, 'rutin': 4280, 'belum': 585, 'rumah': 4271, 'ngecover': 3359, 'semua': 4454, 'restock': 4204, 'lalallaayeuyeyelallalayeyeyyeyeelalalalayeyeye': 2735, '1st': 20, 'time': 5125, 'lihat': 2847, 'review': 4213, 'orangorang': 3644, 'tarik': 4923, 'konsep': 2639, 'kalian': 2410, 'males': 2980, 'brushnya': 846, 'lembut': 2794, 'super': 4847, 'halus': 1967, 'gradakan': 1907, 'worth': 5479, 'to': 5154, 'try': 5222, 'recommended': 4164, 'langsug': 2747, 'far': 1589, 'selain': 4426, 'bahan': 420, 'alami': 206, 'milik': 3149, 'kandung': 2423, 'aman': 245, 'untuk': 5304, 'kulit': 2679, 'efek': 1476, 'lembab': 2787, 'takut': 4897, 'hmmm': 2077, 'ringan': 4235, 'nemu': 3313, 'dgn': 1283, 'travel': 5192, 'friendly': 1677, 'gin': 1832, 'tp': 5181, 'gatau': 1769, 'knp': 2619, 'tiap': 5113, 'muncul': 3250, 'bruntusan': 840, 'parah': 3774, 'hm': 2075, 'masih': 3019, 'blm': 763, 'ngaruh2': 3334, 'skrg': 4626, 'warna': 5396, 'terlalu': 5035, 'after': 123, 'application': 332, 'asa': 359, 'liat': 2836, 'happy': 1981, 'bangettt': 484, 'cuteeee': 1184, 'benerbenerrr': 599, 'ringann': 4243, 'parahhh': 3776, 'dipake': 1361, 'nyaaa': 3534, 'ringannn': 4244, 'natural': 3290, 'bangetttt': 485, 'jujur': 2375, 'fiks': 1605, 'pasti': 3795, 'order': 3646, 'sihhhh': 4562, 'jatuh': 2301, 'cintaaa': 1038, 'bs': 850, 'komen': 2635, 'banyak': 500, 'krn': 2660, 'racun': 4104, 'flash': 1636, 'bundle': 892, '12': 10, 'hrus': 2097, 'rekomennya': 4182, 'kak': 2401, 'tasya': 4928, 'sensi': 4473, 'krim': 2657, 'putih': 4089, 'cepet': 995, 'serap': 4488, 'greasy': 1915, 'berat': 617, 'nyaman': 3543, 'anehaneh': 276, 'deh': 1247, 'engga': 1536, 'wangi': 5392, 'ganggu': 1741, 'ken': 2516, 'cari': 954, 'soresore': 4694, 'kalau': 2405, 'jajan': 2282, 'sper': 4702, 'gp': 1902, 'mahal': 2941, 'sekali': 4411, 'over': 3666, 'joy': 2348, 'apa': 295, 'makenya': 2962, 'sometimes': 4685, 'kek': 2483, 'topeng': 5171, 'haha': 1950, 'at': 374, 'least': 2775, 'seperti': 4486, 'kilang': 2576, 'minyak': 3162, 'matte': 3042, 'sangat': 4320, 'mudah': 3226, 'apalagi': 303, 'tipe': 5137, 'makan': 2951, 'tempat': 4982, 'langsung': 2748, 'pasa': 3789, 'recomended': 4156, 'yaaaaa': 5503, 'kirain': 2583, 'kilap': 2577, 'tau': 4929, 'ngefek': 3364, 'atau': 376, 'enggak': 1538, 'lucu': 2911, 'efektif': 1478, 'light': 2843, 'oily': 3602, 'bkin': 745, 'jerawat': 2330, 'harga': 1988, 'jangkau': 2291, 'bangga': 492, 'sm': 4643, 'lokal': 2874, 'skr': 4624, 'life': 2842, 'changerrr': 1018, 'bener2': 594, 'tolong': 5161, 'mid': 3141, 'day': 1227, 'ganti': 1742, 'jg': 2335, 'wkakaka': 5453, 'translucent': 5189, 'gaada': 1693, 'fragrance': 1660, 'very': 5350, 'comfyy': 1104, 'walau': 5389, 'keringat': 2545, 'during': 1464, 'sukakkk': 4772, 'awal': 383, 'claimnya': 1054, 'kering': 2544, 'and': 267, 'timbul': 5124, 'reaksi': 4136, 'negatif': 3302, 'panas': 3752, 'gatal': 1768, 'no': 3467, 'white': 5426, 'cast': 965, 'soothingnya': 4691, 'cons': 1116, 'dry': 1448, 'skin': 4613, 'malah': 2977, 'jauh': 2304, 'bingung': 736, 'udah': 5274, 'trus': 5217, 're': 4135, 'gimana': 1831, 'praktis': 4002, 'nambah': 3274, 'coverage': 1135, 'asal': 360, 'kita': 2587, 'foundation': 1654, 'pudar': 4067, 'padahal': 3709, 'aplikasiinnya': 319, 'tuh': 5237, 'kerja': 2551, 'dengan': 1264, 'job': 2346, 'kasih': 2451, 'effect': 1481, 'dewy': 1281, 'lama2': 2739, 'blend': 756, 'akhir': 162, 'tidak': 5118, 'finish': 1616, 'suitable': 4753, 'akueven': 180, 'acne': 90, 'untung': 5307, 'nyajadi': 3540, 'malas': 2978, 'somehow': 4683, 'oke': 3610, 'cukup': 1170, 'sahabat': 4287, 'size': 4605, 'oke2': 3611, 'komposisi': 2637, 'but': 902, 'hopefully': 2089, 'someday': 4682, 'hybrid': 2120, 'guna': 1931, 'manfaat': 2993, 'utk': 5331, 'nyerap': 3566, 'jenis': 2328, 'compact': 1106, 'dibawa2': 1298, 'paling': 3750, 'penting': 3832, 'affordable': 121, 'terenakkkkk': 5019, 'ninggalin': 3463, 'pokok': 3929, 'definisi': 1244, 'cintak': 1044, 'kombinasi': 2632, 'tanpa': 4914, 'kusaammm': 2694, 'pokoknyaaa': 3936, 'sukaaaaaa': 4759, 'spf': 4705, 'tinggi': 5134, 'lebih': 2783, 'outdoor': 3662, 'cica': 1030, 'ok': 3608, 'sensitive': 4479, 'sudah': 4750, 'repurchase': 4198, 'kayak': 2461, 'prlu': 4024, 'suncreen': 4800, 'simpleunik': 4586, 'mager': 2937, 'skincare': 4614, 'ber': 610, 'layer': 2770, 'moisturising': 3196, 'stlh': 4743, 'toner': 5164, 'serum': 4507, 'lanjut': 2751, 'skip': 4619, 'moisturiser': 3195, 'sumuk': 4790, 'pernah': 3857, 'atas': 375, 'bawah': 525, 'set': 4516, 'baguss': 407, 'dann': 1208, 'lindung': 2856, 'sinar': 4589, 'matahari': 3029, 'waw': 5406, 'bangett': 482, 'naro': 3288, 'wishlist': 5448, 'release': 4187, 'dannnn': 1210, 'omg': 3629, 'this': 5101, 'product': 4031, 'is': 2246, 'beyond': 690, 'my': 3262, 'expectationsss': 1567, 'senang': 4460, 'iniiii': 2197, 'beat': 540, 'sun': 4791, 'benerbener': 598, 'kemanamana': 2502, 'tetep': 5072, 'bgtt': 705, 'reccomended': 4149, 'model': 3190, 'mula': 3240, 'nyobain': 3584, 'tinggal': 5132, 'putar': 4086, 'sapuin': 4327, 'seluruh': 4442, 'travelling': 5197, 'like': 2848, 'sunscreens': 4828, 'are': 350, 'easy': 1468, 'get': 1816, 'especially': 1550, 'local': 2868, 'brands': 822, 'with': 5451, 'not': 3489, 'hot': 2090, 'on': 3631, 'face': 1577, 'comfortable': 1102, 'wear': 5409, 'all': 228, 'still': 4742, 'safe': 4285, 'tentang': 4994, 'fungsi': 1687, 'kemana2': 2499, 'perlu': 3856, 'jari': 2293, 'higienis': 2058, 'cream': 1146, 'diblenddan': 1308, 'menyerapgk': 3114, 'whiitecastdan': 5424, 'melembabkankadang': 3068, 'moisturizergk': 3201, 'pilling': 3881, 'jugafinishingnya': 2368, 'yacuman': 5515, 'kok': 2625, 'hype': 2126, 'ukur': 5282, '35': 39, 'ml': 3174, 'hehhe': 2034, 'screen': 4353, 'ter': 5002, 'best': 674, 'saya': 4341, 'abuabu': 87, 'dua': 1453, 'purchase': 4080, 'barangkali': 504, 'prelov': 4010, 'hanya': 1980, 'bnyk': 790, 'only': 3637, '90k': 56, 'wa': 5358, 'me': 3056, '081515037312': 0, 'satu': 4334, 'formula': 1647, 'watery': 5405, 'based': 514, 'makanya': 2952, 'acneprone': 91, 'calming': 929, 'kenal': 2518, 'alcoholfree': 213, 'parabenfree': 3773, 'slsfree': 4640, 'fragrancefree': 1662, 'bumil': 883, 'utama': 5330, 'tube': 5236, 'sampai': 4312, 'bulan': 875, 'cuman': 1174, 'bagai': 396, 'its': 2258, 'own': 3671, 'lowkey': 2903, 'kecewa': 2471, 'timpa': 5126, 'biar': 716, 'begitu': 569, 'apakah': 302, 'turun': 5253, 'brush': 843, 'overall': 3668, 'concept': 1113, 'pakaaai': 3721, 'powdernya': 3984, 'jam': 2286, 'powdernyaaa': 3986, 'iniiiiii': 2199, 'perdana': 3841, 'texturenya': 5075, 'creamy': 1149, 'gumpal': 1930, 'mulus': 3247, 'biasa': 719, 'primer': 4022, 'sebenernya': 4371, 'saja': 4289, 'ketika': 2564, 'mulai': 3241, 'ekstra': 1505, 'sebum': 4376, 'agar': 132, 'hingga': 2070, 'tengah': 4992, 'andal': 270, 'base': 513, '50': 44, 'case': 961, 'kucel': 2673, 'thankyou': 5085, 'coba2': 1067, 'beauty': 544, 'influencer': 2174, 'udh': 5277, 'sempet': 4450, 'bau': 518, 'daily': 1199, 'use': 5325, 'definitely': 1245, 'buy': 909, 'packing': 3702, 'ny': 3531, 'elegantt': 1511, 'gpg': 1903, 'bw': 912, 'kmana2': 2607, 'ad': 101, 'gausa': 1775, 'tkut': 5150, 'kluar': 2603, 'papar': 3769, 'rekomend': 4176, 'crii': 1156, 'reaply': 4141, 'sunscreenpraktis': 4827, 'manadan': 2990, 'diaplikasiin': 1291, 'walaupun': 5390, 'aga': 125, 'ko': 2620, 'teksure': 4961, 'resap': 4201, 'indonesia': 2169, 'hampir': 1975, 'mirip': 3168, 'kaya': 2458, 'sunscreem': 4818, 'gemoy': 1800, 'jugabga': 2365, 'tap': 4916, 'taro': 4924, 'tasdompet': 4927, 'must': 3258, 'matter': 3047, 'what': 5420, 'gada': 1706, 'arti': 357, 'choose': 1027, 'pure': 4081, 'because': 549, 'auto': 380, 'dong': 1422, 'tentu': 4995, 'betul': 684, 'nyari': 3556, 'loose': 2887, 'segi': 4395, 'unik': 5295, 'repurchased': 4199, 'keren': 2540, 'staple': 4731, 'mobilitas': 3188, 'balik': 443, 'kyk': 2706, 'pandemi': 3761, 'ngerusak': 3408, 'pat': 3801, 'excess': 1562, 'oil': 3600, 'swipe': 4870, 'there': 5094, 'go': 1884, 'fresh': 1673, 'as': 358, 'new': 3325, 'favorite': 1593, 'glow': 1857, 'whitecast': 5435, 'luuvv': 2926, 'diskon': 1390, 'mungkin': 3253, 'huhu': 2110, 'sedih': 4387, 'inovatif': 2230, 'hemat': 2037, 'jalan': 2284, 'panjang': 3763, 'keringdulu': 2547, 'si': 4546, 'kies': 2575, 'mirip2': 3169, 'sama2': 4304, 'melembabkan': 3067, 'beda': 551, 'murce': 3255, 'banding': 447, 'dulu': 1457, 'kan': 2422, 'lanjur': 2750, 'makeupnya': 2969, 'beranta': 614, 'kamu': 2421, 'even': 1557, 'full': 1683, 'npureofficial': 3506, 'nama': 3272, '30': 32, 'pa': 3677, 'gais': 1714, 'beri': 630, 'protection': 4056, 'uvauvb': 5337, 'pun': 4073, 'bpom': 815, 'halal': 1959, 'dermatologically': 1271, 'tested': 5066, 'mineral': 3153, 'oilfree': 3601, 'eu': 1555, 'allergenfree': 230, 'minimal': 3157, 'ingredients': 2185, 'free': 1666, 'nonnano': 3481, 'beatthesun': 541, 'naturaldailyprotection': 3293, 'secondshield': 4382, 'tbh': 4933, 'lah': 2727, 'bilang': 732, 'cair': 921, 'kentel': 2527, 'rada': 4106, 'diratainnya': 1377, 'looknya': 2883, 'gt': 1921, 'hidung': 2051, 'bibir': 726, 'pipi': 3888, 'jidat': 2340, 'hubung': 2105, 'masalah': 3018, 'feelnya': 1601, 'sampe': 4313, 'habis': 1945, 'rata': 4127, 'sret': 4722, 'licin': 2839, 'bukan': 873, 'deskripsiinnya': 1278, 'ngesret': 3414, 'ikut': 2147, 'gasuka': 1765, 'aduhh': 117, 'tanya': 4915, 'kadang': 2390, 'gmn': 1878, 'emg': 1520, 'jgn': 2339, 'tiru': 5144, 'hal': 1958, 'normal': 3485, 'sreg': 4721, 'neko': 3308, 'napa': 3287, 'maybe': 3055, 'hhehehehe': 2045, 'temu': 4987, 'diblendnya': 1309, 'taptap': 4921, 'ngilngin': 3424, 'kit': 2586, 'sedang': 4385, 'bagusssss': 412, 'recomendeddd': 4157, 'dikulitkuuu': 1336, 'terjangkaau': 5031, 'noworrieskit': 3492, 'belanja': 578, 'sociolla': 4670, 'promooonyaaaaaaa': 4050, 'pergi': 3846, 'luar': 2906, 'ruang': 4265, 'ngelindungi': 3380, 'recommend': 4163, 'sering': 4495, 'dapet': 1213, 'gaakan': 1694, 'nah': 3267, 'kemarin': 2506, 'expect': 1565, 'awet': 386, 'alhamdulillah': 220, 'second': 4380, 'packaginya': 3696, 'kokoh': 2628, 'minggu': 3154, 'mengunakan': 3102, 'handy': 1977, 'bleberan': 754, 'tumpah': 5245, 'klo': 2601, 'ngeluarin': 3382, 'cari2': 955, 'gamau': 1729, 'alcoholnya': 215, 'orang2': 3643, 'antara': 283, 'fs': 1681, 'mikir2': 3146, 'pilih': 3878, 'iniii': 2196, 'nyerapnya': 3567, 'sehat': 4405, 'terusss': 5059, 'ribetkalo': 4220, 'fondationnya': 1644, 'aplikatornyakalo': 323, 'niat': 3448, 'ditaptap': 1394, 'keras': 2535, 'byk': 917, 'xixixi': 5496, 'membantuu': 3076, 'ngeset': 3410, 'jugaa': 2361, 'neng': 3318, 'nemuin': 3315, 'makeu': 2964, 'nolong': 3469, 'apply2': 338, 'much': 3223, 'boros': 809, 'beliin': 583, 'kado': 2393, 'temen': 4978, 'kata': 2452, 'bngt': 779, 'nyerep': 3568, 'cerah': 1001, 'okay': 3609, 'sayang': 4342, 'atur': 378, 'pada': 3708, 'saat': 4282, 'iseng': 2247, 'hahaha': 1952, 'tapiiiii': 4920, 'dicobain': 1318, 'wah': 5362, 'gila': 1821, 'versi': 5348, 'manamana': 2991, 'rajin': 4113, 'cobain': 1074, 'oles': 3623, 'kuas': 2666, 'cling': 1060, 'tebel': 4942, 'moisturizer': 3200, 'ngga': 3417, 'aman2': 246, 'bersih': 659, 'bring': 835, 'amat': 249, 'usah': 5320, 'repot': 4194, 'lgi': 2826, 'touchup': 5178, 'for': 1645, 'upa': 5311, 'ginibuat': 1834, 'terluv': 5039, 'cintaa': 1037, 'tawar': 4932, 'kental': 2526, 'lalu': 2737, 'diamatin': 1290, 'keijoan': 2481, 'dibiarin': 1303, 'oilynya': 3605, 'dipakein': 1364, 'masker': 3022, 'engep': 1535, 'sumbat': 4780, 'poripori': 3963, 'knapa': 2617, 'tdak': 4934, 'bubuk': 865, 'cara': 951, 'benar': 589, 'efisien': 1488, 'hehehehehehheheheh': 2031, 'prone': 4051, 'instagram': 2232, 'tiktok': 5122, 'travle': 5198, 'ditambel': 1393, 'powderbedak': 3975, 'gagitu': 1712, 'gabikin': 1699, 'berminyakk': 652, 'favoritekuu': 1595, 'kemas': 2508, 'takuk': 4896, 'finishing': 1617, 'aplly': 325, 'highly': 2055, 'syukaa': 4872, 'kesan': 2559, 'diblend': 1307, 'kena': 2517, 'semenjak': 4447, 'khawatir': 2572, 'aktivitas': 176, 'jaga': 2278, 'dikiraiin': 1330, 'orang': 3642, 'bohong': 797, 'sunscreenn': 4823, 'baguuus': 417, 'help': 2035, 'butek': 903, 'ngertikan': 3406, 'instruksi': 2235, 'powdenya': 3973, 'pakenya': 3741, 'ubah': 5267, 'google': 1897, 'ngerti': 3405, 'lgsng': 2831, 'kepo': 2531, 'giniii': 1837, 'nge': 3342, 'cover': 1134, 'yah': 5516, 'nyaa': 3533, 'gemes': 1790, 'finally': 1608, 'launching': 2765, 'nanti': 3285, 'bayar': 529, 'canggih': 939, 'tersimple': 5053, 'dempul': 1257, 'gituh': 1841, 'tone': 5162, 'wajib': 5379, 'cepat': 990, 'tetap': 5070, 'bye': 916, 'berpackaging': 656, 'simpel': 4581, 'sam': 4302, 'uv': 5335, 'mikir': 3145, 'kondisi': 2638, 'polusi': 3954, 'dll': 1402, 'soft': 4674, 'plus': 3908, 'geeser': 1782, 'tuhh': 5239, 'aplikatornya': 322, 'mleber': 3175, 'look': 2881, 'moist': 3193, 'uda': 5272, 'denga': 1261, 'rule': 4270, 'of': 3594, 'thumb': 5110, 'sebentar': 4372, 'hiksss': 2066, 'tabur': 4879, 'supaya': 4844, 'adalah': 105, 'sulit': 4779, 'tempatnyaaa': 4984, 'bangget': 493, 'maksimal': 2974, 'berlebihmeminimalkan': 643, 'tampil': 4902, 'pori': 3961, 'rias': 4216, 'sekaligus': 4412, 'thankkyu': 5082, 'cantik': 943, 'prodct': 4029, 'bahkan': 426, 'masuk': 3025, 'kantong': 2431, 'muat': 3221, 'setting': 4523, 'kl': 2592, 'agak2': 129, 'basah': 512, 'glowy': 1872, 'tipis2': 5141, 'nahan': 3268, 'transfer': 5186, 'luv': 2927, 'makin': 2971, 'lebay': 2778, 'kesel': 2560, 'point': 3924, 'yap': 5530, 'bersiin': 661, 'sekitar': 4422, 'cuci': 1166, 'an': 264, 'cepetcepet': 996, 'hapus': 1984, 'rekomendasiin': 4178, 'sure': 4856, 'jadiin': 2274, 'main': 2946, 'khusus': 2573, 'ajjjja': 156, 'saking': 4290, 'suncren': 4803, 'repeat': 4192, 'sekian': 4421, 'glowingnya': 1866, 'harap': 1987, 'ngebantu': 3345, 'bangeet': 461, 'fix': 1632, 'efficient': 1485, 'thank': 5081, 'segitu': 4397, 'mantep': 3007, 'bangeett': 462, 'preloved': 4011, 'kakak': 2402, 'pd': 3806, 'kepake': 2530, 'mending': 3089, 'euuyy': 1556, '80k': 55, 'mahal2': 2942, 'chat': 1020, 'shopee': 4545, 'frieskawiyana': 1678, 'yaaaa': 5502, 'poko': 3928, 'se': 4361, 'barang': 503, 'datengggggg': 1224, 'akutu': 193, 'lupa': 2923, 'aplikasiin': 318, 'gemess': 1795, 'riviewnya': 4255, '10': 1, 'first': 1628, 'asli': 367, 'dpt': 1443, 'kece': 2470, 'enteng': 1544, 'sunblock': 4794, 'pdhl': 3807, 'loh': 2870, 'trs': 5215, 'semu': 4453, 'lewat': 2822, 'cute': 1182, 'has': 2000, 'looks': 2884, 'doesnt': 1416, 'spill': 4711, 'easily': 1467, 'or': 3641, 'be': 538, 'afraid': 122, 'fall': 1583, 'off': 3596, 'carry': 959, 'anywhere': 294, 'that': 5090, 'pureee': 4083, 'loveeee': 2897, 'you': 5556, 'have': 2013, 'puree': 4082, 'ilangin': 2149, 'multifungsi': 3244, 'final': 1607, 'blush': 768, 'effortless': 1487, 'beneran': 595, 'holy': 2083, 'grail': 1908, 'aplgi': 313, 'powfer': 3997, 'nyoba': 3581, 'sukaaa': 4756, 'dr': 1444, 'bngtttt': 783, 'brand': 821, 'out': 3661, 'put': 4085, 'pipe': 3886, 'type': 5263, 'kontrol': 2643, 'dikeluarin': 1329, 'hijau': 2065, 'tua': 5231, 'khas': 2570, 'slim': 4633, 'serta': 4504, 'tutup': 5257, 'ulir': 5286, 'safety': 4286, 'sendiri': 4461, 'teksture': 4950, 'blendable': 757, 'ngasih': 3337, 'lembap': 2792, 'gendut': 1801, 'nyaman2': 3544, 'apa2': 296, 'meski': 3128, 'applying': 340, 'sesuatu': 4514, 'powdery': 3994, 'double': 1438, 'oh': 3599, 'lho': 2833, 'bonus': 803, 'healthy': 2016, 'nonya': 3483, 'busui': 899, 'murah': 3254, 'pula': 4069, 'karenatipe': 2444, 'pakek': 3737, 'samar': 4306, 'chemical': 1024, 'kusem': 2700, 'ngefilter': 3365, '9798': 58, 'elegant': 1510, 'mewah': 3137, 'siiih': 4568, 'npureee': 3500, 'in': 2161, '35ml': 40, 'gtu': 1925, 'nanggung': 3281, 'alcohol': 212, 'jika': 2341, 'maka': 2950, 'ridak': 4226, 'paksa': 3746, 'tuangin': 5233, 'bedaknyan': 559, 'telapak': 4970, 'tangan': 4908, 'baur': 520, 'gel': 1784, 'berulang2': 666, 'feelsnya': 1603, 'nampol': 3277, 'emng': 1521, 'moisturizing': 3204, 'finishingnya': 1618, 'falling': 1585, 'eye': 1575, 'catching': 968, 'design': 1277, 'clean': 1056, 'ramping': 4117, 'finishnya': 1620, 'hours': 2091, 'ngeblendnya': 3350, 'duh': 1454, 'butuh': 905, 'moisturaizer': 3194, 'setia': 4519, 'sedia': 4386, 'luvv': 2928, 'sll': 4636, 'rangkai': 4120, 'air': 145, 'nyerepnya': 3569, 'sangat2': 4321, 'ngelembapinn': 3377, 'akuu': 195, 'next': 3326, 'bgtttt': 709, 'lotion': 2890, 'too': 5168, 'speechless': 4701, 'peeling': 3811, 'essential': 1551, 'pori2': 3962, 'nimbulin': 3461, 'seharihari': 4404, 'pantai': 3764, 'bukti': 874, 'bakar': 438, 'gosong': 1900, 'wkwkwk': 5458, 'dah': 1196, 'kirim': 2585, 'bubble': 864, 'wrap': 5491, 'nunggu': 3523, 'online': 3636, 'lubang': 2909, 'nanya': 3286, 'admin': 115, 'spray': 4716, 'bersihin': 660, 'hmm': 2076, 'bucin': 866, 'ss': 4726, 'ni': 3446, 'rekomendasi': 4177, 'poles': 3949, 'cash': 963, 'crack': 1144, 'tunggu': 5249, 'pricey': 4019, 'gpp': 1904, 'modal': 3189, 'zaman': 5573, 'yekaan': 5547, 'yaitu': 5519, 'plant': 3898, 'extract': 1574, 'breathable': 829, 'worry': 5477, 'bulu': 880, 'hindar': 2069, 'favorit': 1592, 'amaze': 251, 'juara': 2357, 'diaplikasiinnya': 1292, 'garekomen': 1757, 'dijadiin': 1327, 'protect': 4054, 'glowinggggggg': 1865, 'cuy': 1185, 'gemesh': 1791, 'bgttt': 708, 'dosis': 1437, 'lenget': 2800, 'seger': 4394, 'daya': 1228, 'ratain': 4129, 'rekomended': 4179, 'sunscreenpowder': 4826, 'nyariselain': 3558, 'packagingny': 3690, 'kemana2finishing': 2500, 'geser': 1814, '2021': 23, 'calm': 927, 'proteksi': 4060, 'sore': 4693, 'drama': 1445, 'perih': 3850, 'area': 351, 'mata': 3028, 'sodaranya': 4672, 'mucchh': 3222, 'betul2': 685, 'likey': 2849, 'manfaatnyajujur': 2994, 'adem': 112, 'nyesel': 3574, 'gede': 1779, 'yakin': 5523, 'wahhh': 5364, 'amazing': 253, 'bnget': 775, 'makinn': 2972, 'jga': 2336, 'nyamain': 3542, 'sma': 4644, 'weell': 5411, 'terimakasih': 5027, 'pernh': 3859, 'step': 4736, 'skincarean': 4615, 'mesti': 3130, 'ditingkatin': 1395, 'ringkih': 4249, 'buka': 872, 'wort': 5478, 'garagara': 1756, 'sekarang': 4420, 'sukaa': 4755, 'yipii': 5553, 'mika': 3144, 'dengam': 1263, 'non': 3471, 'alkohol': 225, 'bebas': 547, 'plisssss': 3907, 'duper': 1463, 'mukakuu': 3236, 'bawabawa': 523, 'suuuperrr': 4869, 'hrs': 2095, 'goyang': 1901, 'kenceng': 2524, 'tebar': 4941, 'dikit': 1331, 'great': 1916, 'innovation': 2227, 'tebel2': 4943, 'works': 5473, 'well': 5415, 'smoga': 4653, 'azarine': 389, 'alih': 224, 'god': 1885, 'negative': 3303, 'hihi': 2059, 'inovasi': 2228, 'ngurangin': 3444, 'sebucin': 4375, 'sihhhhh': 4563, 'guys': 1940, 'huhuhu': 2111, 'gapernah': 1752, 'toktok': 5160, 'sale': 4296, 'boomm': 806, 'candu': 938, 'move': 3215, 'loreal': 2888, 'aroma': 354, 'menggangguu': 3099, 'dibutuhin': 1312, 'para': 3771, 'wanita': 5393, 'weightless': 5414, 'itself': 2259, 'seneeeng': 4464, 'kyknya': 2707, 'minus': 3161, 'gabisa': 1701, 'rumahingredients': 4274, 'orderkarna': 3648, 'repurches': 4200, 'surprisingly': 4857, 'tib': 5115, 'xxxxx': 5498, 'dipakenya': 1367, 'yaaa': 5501, 'promo': 4049, 'heheheeh': 2029, 'recomend': 4154, 'mnurut': 3186, 'skli': 4620, 'alcholol': 211, 'cobainn': 1078, 'ragu': 4110, 'klau': 2595, 'buruw': 898, 'praktisss': 4005, 'gampil': 1737, 'tuw': 5260, 'nyebelin': 3562, 'dekil': 1253, 'just': 2381, 'memang': 3074, 'rata2': 4128, 'savior': 4338, 'item': 2256, 'menolonggg': 3107, 'makeupan': 2967, 'jatohnyaa': 2300, 'cobaa': 1068, 'smart': 4647, 'sunscree': 4815, 'dri': 1446, 'nivea': 3464, 'biru': 739, 'maki': 2970, 'ngatasi': 3338, 'tpi': 5182, 'daerah': 1194, 'hdung': 2015, 'kemodoku': 2514, 'nonjol': 3479, 'idont': 2132, 'uwow': 5342, 'jak': 2283, 'smpe': 4656, 'melembab': 3066, 'appreciate': 341, '60mlnya': 53, 'pliket': 3902, 'gausah': 1776, 'general': 1803, 'giat': 1820, 'efektifitasnya': 1479, '23jam': 25, 'sesuai': 4513, 'dioutdor': 1356, '58': 49, 'jawab': 2305, 'akukalian': 182, 'ngerubah': 3407, 'justru': 2382, 'karea': 2439, 'teksturenya': 4953, 'foundie': 1656, 'cakep': 924, 'sumpah': 4785, 'kenyel': 2529, 'diwjhku': 1399, 'puas': 4066, 'beginianbisa': 568, 'usap': 5321, 'beres': 626, 'biasarepurchase': 724, 'doonng': 1433, 'diratain': 1375, 'kombi': 2631, 'glowynya': 1873, 'standar': 4730, 'ccok': 972, 'klian': 2596, 'wrna': 5492, 'msih': 3217, 'rekom': 4170, 'terthebestttt': 5056, 'whitecase': 5430, 'abu': 84, 'gituu': 1846, 'enggaa': 1537, 'sumpaahhh': 4784, 'whitecasenyaaa': 5433, 'sekaliiii': 4414, 'terfavorite': 5021, 'luuuvvv': 2925, 'glossy': 1855, 'rekomenin': 4181, 'launch': 2764, 'gamales': 1727, 'pakein': 3736, 'beuh': 686, 'pkonya': 3896, 'bermakeup': 646, 'berminyakjadi': 651, 'harirecommended': 1996, 'direapply': 1380, 'btw': 854, 'kaget': 2397, 'fixx': 1633, 'stay': 4734, 'flawless': 1637, 'mulifungsi': 3242, 'bagusssuka': 413, 'jugaaa': 2362, 'tebal': 4939, 'nyampee': 3549, 'benerpowder': 602, 'kliatan': 2598, 'xixi': 5495, 'ngeblend': 3349, 'putihputih': 4093, 'tonenya': 5163, 'bagussss': 409, 'pernahh': 3858, 'sil': 4574, 'guyss': 1941, 'superrr': 4851, 'poll': 3951, 'bestttttttt': 678, 'aw': 382, 'mageran': 2938, 'ngeapply': 3344, 'thnk': 5103, 'kyak': 2705, 'umum': 5291, 'abu2': 85, 'rontok': 4258, 'lengkett': 2814, 'truss': 5218, 'lovee': 2895, 'was': 5399, 'level': 2821, 'include': 2163, 'bangeeeet': 457, 'ngeblur': 3352, 'mini': 3155, 'slingbag': 4635, 'akuuu': 197, 'berminyaak': 650, 'smaa': 4645, 'okee': 3612, 'harganyaa': 1991, 'jgg': 2337, 'superr': 4850, 'ke5': 2465, 'komedo': 2633, 'pribadi': 4016, 'merah2': 3117, 'bekas': 572, 'sekalipun': 4416, 'sini': 4594, 'ksih': 2662, 'solusinyaa': 4679, 'sticky': 4740, 'skali': 4609, 'game': 1732, 'changer': 1017, 'keringetan': 2549, 'keringet': 2548, 'berebih': 624, 'gatel': 1772, 'entah': 1543, 'jarang': 2292, 'blen': 755, 'sekalisudah': 4417, 'bu': 855, 'sui': 4752, 'berbahayaudah': 622, 'lohh': 2871, 'ceamy': 973, 'cenderung': 983, 'frangrance': 1664, 'complexion': 1111, 'bnrbnr': 788, 'gapapa': 1749, 'demen': 1254, 'wkwkw': 5457, 'girls': 1838, 'cuaca': 1163, 'indo': 2168, 'beruntus': 668, 'fungal': 1686, 'sengaja': 4469, 'ngucek': 3442, 'mungil': 3252, 'meretouch': 3125, 'choice': 1026, 'jangan': 2289, 'digunain': 1326, 'nenangin': 3317, 'residu': 4203, 'pokonyaaa': 3946, 'ngresap': 3437, 'ngedempul': 3361, 'rusak': 4279, '2jam': 27, 'gaperlu': 1750, 'repot2': 4195, 'kebel': 2467, 'dryabis': 1449, 'ngebaur': 3346, 'tumpu': 5247, 'krem': 2654, 'lain': 2730, 'ngerata': 3392, 'sat': 4331, 'aj': 146, 'krna': 2661, 'cegah': 975, 'dini': 1352, 'pagi': 3717, 'kerut': 2556, 'jerawatann': 2332, 'wonder': 5468, 'how': 2092, 'apaapa': 298, 'beforeafternya': 566, 'combo': 1098, 'paduin': 3716, 'impressed': 2153, 'makasih': 2954, 'puol': 4078, 'ciptain': 1047, 'worried': 5475, 'kenapanapa': 2523, 'ingat': 2178, 'korea': 2644, 'same': 4311, 'different': 1324, 'one': 3633, 'enthusiast': 1545, 'dimana2': 1341, 'bin': 734, 'bkn': 748, 'gerah': 1809, 'aaa': 59, 'dasar': 1221, 'luvvvv': 2930, 'baguus': 415, 'kawatir': 2457, 'gemesin': 1793, 'astaga': 373, 'bget': 692, 'uji': 5280, 'dermatolog': 1270, 'sls': 4639, 'paraben': 3772, 'alergen': 216, 'ue': 5278, '30nya': 35, 'powderny': 3983, 'terik': 5023, 'merah': 3116, 'meng': 3092, 'ajabisa': 151, 'butir': 904, 'alus': 238, 'ky': 2703, 'nyatu': 3561, 'kurangsoalnya': 2691, 'jdnky': 2312, 'hambur': 1973, 'hrsnya': 2096, 'bagi': 398, 'keluar2': 2491, 'soalnyahehehe': 4669, 'ih': 2137, 'wkwk': 5456, 'teskturnya': 5064, 'fav': 1591, 'siapa': 4551, 'serius': 4501, 'ganyangka': 1745, 'huaaa': 2100, 'hihiii': 2062, 'paham': 3718, 'filter': 1606, 'agent': 133, 'memprotect': 3084, '100': 2, 'centella': 988, 'asiatica': 363, 'leaf': 2774, 'water': 5400, 'dapat': 1212, 'tenang': 4991, 'chrysanthemum': 1029, 'chamomilla': 1015, 'camellia': 932, 'sinensis': 4590, 'antioksidan': 289, 'antiinflammatory': 288, 'hidrasi': 2050, 'from': 1679, 'silicone': 4579, 'allergen': 229, 'laa': 2709, 'goodd': 1896, 'kita2': 2588, 'terbaikkk': 5012, 'kualitas': 2664, 'tekturnyaaa': 4966, 'jerawatanbruntusan': 2331, 'iritasi': 2244, 'bund': 888, 'produkny': 4041, 'ig': 2135, 'emamg': 1514, 'ngelindungin': 3381, 'bolong': 801, 'efect': 1475, 'sunscream': 4813, 'transparant': 5191, 'bade': 395, 'ngeresapnya': 3400, 'namun': 3279, 'tips': 5142, 'padu': 3715, '14': 12, 'kliataan': 2597, 'stelah': 4735, 'kaaann': 2386, 'fyp': 1689, 'eh': 1489, 'aaaa': 60, 'lovers': 2900, 'oya': 3676, 'kemarin2': 2507, 'ngadain': 3329, 'gratis': 1911, 'milih': 3148, '15x': 18, 'wadah': 5361, 'ujung': 5281, 'runcing': 4276, 'nuang': 3515, 'samar2': 4307, 'diakalin': 1289, 'berspf': 663, 'ospi': 3658, 'zuzur': 5574, 'nerima': 3321, 'nyamantekstur': 3547, 'plastik': 3899, 'kaca': 2389, 'bening': 605, 'sukakk': 4771, 'pelembab': 3817, 'yes': 5548, 'ngomongin': 3432, 'home': 2085, 'looksnya': 2885, 'mas': 3016, 'ukuranny': 5283, 'cakey': 926, 'prefer': 4009, 'activities': 99, 'would': 5483, 'tho': 5104, 'daripada': 1219, 'pakeknya': 3738, 'imut': 2160, 'doang': 1412, 'sukamakasih': 4774, 'pikir': 3876, 'nyiptain': 3578, '12an': 11, 'yeayyy': 5542, 'ilang': 2148, 'reaplynya': 4142, 'wudhu': 5493, 'wow': 5484, 'abiez': 74, 'bun': 887, 'terkahir': 5034, 'sunscreendan': 4821, 'sunacreen': 4792, 'hrganya': 2094, 'lamaaaawet': 2740, 'mah': 2940, 'sukakkkkkk': 4773, 'ngeresap': 3399, 'drpd': 1447, 'shadenya': 4531, 'nilai': 3459, 'plushya': 3909, 'jarihasil': 2294, 'hits': 2074, 'minyakminyak': 3167, 'ngrusak': 3439, 'inikarna': 2206, 'trmasuk': 5210, 'sunscreentapi': 4829, 'megarab': 3063, 'lgidan': 2827, 'bngtfinishnya': 780, 'trllu': 5208, 'nutupin': 3529, 'kemasanannya': 2510, 'alias': 223, 'rekomenbgt': 4175, 'skg': 4612, 'siih': 4565, 'dunia': 1461, 'perskincarean': 3862, 'lhooo': 2835, 'cuss': 1179, 'dicobaa': 1317, 'terringaannn': 5050, 'rekomen': 4173, '3x': 41, 'seriously': 4499, 'traveling': 5194, 'aplikator': 321, 'menurutkuu': 3111, 'im': 2152, 'bcs': 536, 'result': 4206, 'gakeliatan': 1717, 'samsek': 4317, 'pricy': 4020, 'ittt': 2261, 'kog': 2623, 'medium': 3059, 'gores': 1899, 'klw': 2605, 'single': 4593, 'dlu': 1404, 'maksimalin': 2975, 'lebh': 2780, 'budget': 868, 'absen': 81, 'berkat': 640, 'dama': 1204, 'paraktis': 3778, 'kilau': 2579, 'pacakgingnya': 3682, 'kuat': 2670, 'jatoh': 2298, 'ngegeser': 3367, 'debest': 1234, 'jugaaaa': 2363, 'ud': 5271, 'kmn2': 2611, 'lepek': 2819, 'terdebest': 5018, 'sd': 4356, 'teruuussssss': 5061, 'nyatidak': 3560, 'tabung': 4878, 'emerald': 1519, 'sehingga': 4406, 'sambung': 4310, 'diri': 1383, 'titanium': 5147, 'dioxide': 1357, 'ethylhexyl': 1553, 'salicylate': 4298, 'methoxycinnamate': 3132, 'rice': 4225, 'bran': 820, 'vitamin': 5354, 'agam': 131, 'manfaaf': 2992, 'hadap': 1947, 'buruk': 897, 'tangkal': 4911, 'uva': 5336, 'maupun': 3050, 'uvb': 5339, 'potensi': 3969, 'rusa': 4278, 'sunburn': 4797, 'mataharini': 3032, 'nutrisi': 3526, 'sifat': 4555, 'noncomedogenic': 3475, 'mengset': 3101, 'hidup': 2052, 'heheh': 2026, 'ituu': 2265, 'powdernyaa': 3985, 'pokonyaa': 3945, 'formulasi': 1649, 'sika': 4571, 'sentel': 4482, 'asia': 362, 'tika': 5121, 'matahri': 3034, 'lipstik': 2859, 'genggam': 1804, 'paka': 3720, 'muas': 3220, 'bahaya': 425, 'pawder': 3804, 'lengkap': 2801, 'matahridari': 3035, 'milky': 3150, 'trnyata': 5211, '50pa': 46, 'repotrepot': 4196, 'samasekali': 4308, 'cipta': 1046, 'magic': 2939, 'luvvv': 2929, 'sii': 4564, 'sesak': 4509, 'cpt': 1143, 'diapply': 1295, 'panaspanasan': 3758, 'sunscrene': 4833, 'thanks': 5083, 'imprestion': 2157, 'effort': 1486, 'ekspektasi': 1501, 'ganyesel': 1746, 'nyangka': 3551, 'retoch': 4210, 'gara': 1754, 'larang': 2757, 'bahagia': 419, 'selainnitu': 4428, 'nwhitecast': 3530, 'takar': 4892, 'heboh': 2021, 'another': 282, 'by': 914, 'sakuin': 4293, 'silau': 4576, 'supple': 4853, 'eksplorasi': 1504, 'biasaaa': 720, 'npuree': 3499, 'tempel': 4985, 'kmn': 2610, 'mna': 3181, 'komedoan': 2634, 'luntur': 2921, 'praktiss': 4004, 'shade': 4530, 'gituuu': 1848, 'why': 5443, 'kenyal': 2528, 'deeeh': 1240, 'instant': 2234, 'almost': 232, '2months': 29, 'disoco': 1392, 'stock': 4744, 'poweder': 3995, 'ever': 1559, 'apalg': 305, 'normaloily': 3488, 'brg': 830, 'cepattt': 992, 'minyakkk': 3166, 'makasihhh': 2956, 'luvvvvv': 2931, 'karene': 2445, 'kocok': 2621, 'wudlu': 5494, 'lengketga': 2810, 'cas': 960, 'travell': 5196, 'besar': 672, 'buang': 859, 'ngereapply': 3397, 'alternatif': 237, 'biasaaaa': 721, 'andai': 269, 'sizenya': 4606, 'dech': 1238, 'walapun': 5388, 'ijo': 2143, 'qta': 4098, 'bbrapa': 532, 'recomendnin': 4159, 'atica': 377, 'kasar': 2449, 'selamat': 4430, 'dehh': 1248, 'teeurama': 4945, 'klaim': 2593, 'sekaluan': 4419, 'nonton': 3482, 'terapply': 5007, 'kirakira': 2584, 'ngerasa': 3390, 'wahh': 5363, 'bangeeet': 458, 'holygrail': 2084, 'radikal': 4109, 'dimataa': 1344, 'berkali2': 638, 'merek': 3119, 'teruss': 5058, 'bangen': 464, 'cakepp': 925, 'stok': 4745, 'kalah': 2403, 'dariii': 1217, 'louching': 2891, 'perihpokonya': 3852, 'ketemu': 2563, 'kitatampak': 2591, 'cerahapa': 1002, 'panya': 3766, 'spfnyateksturnya': 4710, 'lengketselama': 2813, 'brani': 823, 'beraktifitas': 611, 'rmh': 4256, 'rubah': 4267, 'ampuh': 261, 'mampu': 2984, 'alam': 205, 'sukaaaa': 4757, 'inti': 2238, 'satusatunya': 4336, 'berporipori': 658, 'bareng': 506, 'cocokkkkk': 1091, 'aaaaaaaaaaaaaaaaaaaaaaaaaaammmmmmmmmmmmmmmiiiiiiiiiiiiiiinnnnnnnnnnnnnnnnnnnnnnnnnnnnnnnnnnnnnnnnnnnnnnnnnnnnnnnnnnnnnnnnnn': 64, 'shades': 4532, 'cucok': 1167, 'smooth': 4654, '100k': 6, 'bagus2': 404, 'bom': 802, 'botol': 812, 'think': 5100, 'cb': 970, 'laen': 2713, 'dl': 1400, 'replay': 4193, 'dar': 1215, 'bland': 749, 'asliii': 368, 'crease': 1151, 'exited': 1564, 'sunsreen': 4842, 'versiii': 5349, 'simpleee': 4584, 'sukanyaa': 4775, 'lgii': 2828, 'brushnyaaa': 847, 'yuhu': 5565, 'kemanapunnn': 2504, 'mantap': 3002, 'anti': 285, 'pingin': 3884, 'partikel': 3787, 'kuning': 2688, 'langsat': 2745, 'kara': 2437, 'discount': 1387, 'ketok2': 2566, 'screennya': 4354, 'sunscreenya': 4830, 'bakalım': 437, 'kokk': 2626, 'selamjutnya': 4431, 'sunscreeennn': 4817, 'pertamaa': 3864, 'tenyataa': 4996, 'enakk': 1528, 'gaa': 1691, 'kusamm': 2696, 'samaaa': 4305, 'sekaliiiiii': 4415, 'baruuuu': 511, 'nyobaa': 3583, 'kusammm': 2698, 'ehh': 1493, 'powderrrr': 3990, 'ternyataa': 5045, 'karenaa': 2442, 'masa': 3017, 'tzone': 5266, 'kmren': 2615, 'dn': 1408, 'co': 1065, 'foundi': 1655, 'garibet': 1758, 'ah': 136, 'loveee': 2896, 'eeeeh': 1473, 'cassst': 964, 'dikulitkuenak': 1335, 'anak': 265, 'kola': 2629, 'pacaging': 3681, 'langsng': 2746, 'colok': 1093, 'parfume': 3781, 'percaya': 3838, 'toh': 5157, 'say': 4340, 'big': 727, 'cumaa': 1173, 'kpan': 2649, 'aktifitas': 172, 'ingredientsnya': 2188, 'kes': 2557, 'elegan': 1508, 'concern': 1114, 'putus': 4094, 'less': 2820, 'better': 683, 'than': 5080, 'none': 3476, 'yeayyyyy': 5543, 'mwskipun': 3261, 'minim': 3156, 'sesukak': 4515, 'sukak': 4770, 'diolesin': 1354, 'ruas': 4266, 'jelas': 2322, 'before': 565, 'tervaforit': 5062, 'impression': 2154, 'uvauvbpackgingnya': 5338, 'tekturnya': 4965, 'viral': 5352, 'riview': 4254, 'seleb': 4435, 'pemakaiannnya': 3820, 'cocok2': 1086, 'mukaa': 3232, 'needed': 3300, 'most': 3211, '5gr': 50, 'tekstrunya': 4948, 'pakee': 3733, 'ngecrack': 3360, 'kuu': 2701, 'pastinyaa': 3799, 'bnr': 785, 'keringg': 2550, 'suncreennya': 4801, 'upnya': 5314, 'orng': 3654, 'ngrubah': 3438, 'kitacintaaaa': 2590, 'suscreen': 4863, 'glosy': 1856, 'olahraga': 3619, 'cm': 1062, 'gmpg': 1881, 'which': 5423, 'sabar': 4283, 'stick': 4739, 'depan': 1269, 'tumben': 5243, 'berjewarat': 635, 'main2': 2947, 'bersin': 662, 'tumpahtumpah': 5246, 'steril': 4737, 'brushbrush': 845, 'hitam': 2073, 'berlamalama': 641, 'krena': 2655, 'naik': 3270, 'gunung': 1937, 'ama': 243, 'tumbuh': 5244, 'official': 3598, 'passss': 3794, 'donggg': 1424, 'dermatology': 1272, 'lot': 2889, 'woiii': 5466, 'aplagi': 312, 'mereka': 3120, 'tanding': 4906, 'keluarin': 2494, 'turunin': 5254, 'hatihati': 2009, 'hati2': 2008, 'iniaku': 2192, 'hilang': 2067, 'semuadan': 4458, 'inibakal': 2193, 'bangettttttttttttt': 491, 'slalu': 4630, 'cowo': 1138, 'holidaayyy': 2080, 'unique': 5299, 'applicator': 333, 'when': 5422, 'applied': 335, 'facial': 1578, 'disappears': 1384, 'brighter': 831, 'fresher': 1674, 'can': 937, 'used': 5326, 'gituuh': 1847, 'ringaan': 4234, 'doong': 1432, 'tan': 4903, 'break': 827, 'bb': 530, 'endul': 1533, 'manjalita': 2998, 'de': 1232, 'ntar': 3514, 'bagusss': 408, 'ngecewaiin': 3356, 'higi': 2056, 'dipouch': 1371, 'puter': 4087, 'kerennn': 2542, 'bisa2nya': 741, 'ootb': 3639, 'mikirin': 3147, 'powderrr': 3988, 'ribet2': 4218, 'reaplly': 4140, 'powderr': 3987, 'ekstrak': 1506, 'wajar': 5378, 'sosmed': 4697, 'gasih': 1762, 'besok2nya': 673, 'banget2': 466, 'brasa': 824, 'semi': 4448, 'selera': 4438, 'masing2': 3021, 'touchup2': 5179, 'bilas2': 733, 'makasihh': 2955, 'ngantuk': 3332, 'sngt': 4664, 'pegang': 3813, 'sisa': 4597, 'betah': 681, 'lu': 2905, 'thick': 5098, 'mnrtku': 3185, '45': 42, 'yaampun': 5512, 'sapu': 4326, 'lsg': 2904, 'gasihh': 1763, 'fluffy': 1642, 'smua': 4657, 'gas': 1761, 'alhasil': 221, 'sikat': 4572, 'mengcover': 3098, 'seriouslyyy': 4500, 'nemuinn': 3316, 'penasarn': 3825, 'dehhh': 1249, 'ngerataain': 3393, 'gilaa': 1822, 'apaasampai': 299, 'bestie': 675, 'gengs': 1805, 'keluyur': 2498, 'sungguh': 4806, 'kejam': 2482, 'benerannpure': 597, 'gagal': 1710, 'gengsbagussuka': 1806, 'bts': 853, 'soonrok': 4689, 'akting': 175, 'hwarang': 2117, 'henti': 2038, 'situ': 4603, 'doangkalau': 1413, 'sensasi': 4471, 'comfy': 1103, 'gapake': 1748, 'ide': 2129, 'apus': 345, 'mattifying': 3048, 'recommeded': 4161, 'lembutsuka': 2795, 'banget3': 467, 'desain': 1275, 'premium': 4012, 'lapis': 2756, 'bleber': 753, 'parfum': 3780, 'spf50': 4707, 'beige': 571, 'wewangian': 5419, 'nentuin': 3319, 'berapa': 616, 'menerkanerka': 3091, 'disclaimer': 1386, 'arah': 349, 'nutup': 3528, 'noda': 3468, 'finefine': 1613, 'keluh': 2496, 'honest': 2086, 'jadinyaman': 2276, 'makeknya': 2961, 'prkatis': 4023, 'gapaham': 1747, 'woiiii': 5467, 'nyamaaan': 3541, 'sehariann': 4403, 'leave': 2776, 'hati': 2007, 'ngecewain': 3357, 'ringanmudah': 4242, 'dibland': 1304, 'semur': 4459, 'kmnamana': 2614, 'makeupbedakan': 2968, 'temen2': 4979, 'gara2': 1755, 'kelar': 2485, 'bahanbahan': 422, 'kus': 2693, 'nonalcohol': 3473, 'dipakek': 1365, 'impressions': 2155, 'jujurr': 2377, 'cocokk': 1090, 'meet': 3062, 'suns': 4810, 'paola': 3767, 'helua': 2036, 'suhay': 4751, 'spons2': 4714, 'dibrush': 1310, 'otomatis': 3659, 'sangatsangat': 4322, 'simpleeee': 4585, 'susncreen': 4865, 'debestttt': 1236, 'sihhh': 4560, 'texturnya': 5076, 'npureso': 3509, 'dimakeup': 1340, 'jamin': 2287, 'enakringan': 1530, 'ngeratainnya': 3395, 'cepetga': 997, 'yanv': 5529, 'normalkering': 3487, 'kecil2': 2473, 'cabe': 919, 'rawit': 4133, 'pling': 3903, 'tu': 5230, 'perfect': 3843, 'bangt': 494, 'honestly': 2087, 'prodak': 4027, 'bangetringan': 479, 'oxsidize': 3674, 'travelfriendly': 5193, 'price': 4017, 'bgs': 695, 'mine': 3152, 'banged': 454, 'dikulitdaya': 1333, 'cepatteksturnya': 991, 'whitecasegak': 5431, 'nyesell': 3575, 'teracunii': 5004, 'gilak': 1825, 'hebat': 2020, 'soothing': 4690, 'camelia': 931, 'oxidant': 3672, 'inflamasi': 2172, 'retak': 4209, 'sakit': 4291, 'hobby': 2078, 'manta': 3000, 'bakeup': 439, '910': 57, 'amanaman': 247, 'benarbenar': 591, 'tampak': 4901, 'pede': 3809, 'bad': 392, 'oliy': 3626, 'kira': 2582, 'iini': 2141, 'palinh': 3751, 'ngincer': 3425, 'transparan': 5190, 'kasi': 2450, 'hydrating': 2123, 'disaranin': 1385, 'concealer': 1112, 'pengap': 3827, 'keapply': 2466, 'transflucentnya': 5188, 'kudu': 2674, 'pokoknyaa': 3935, 'daaan': 1188, 'ngelembabin': 3375, 'nurutku': 3525, 'kreatif': 2652, 'jjur': 2342, 'bru': 838, 'gaptek': 1753, 'telaah': 4968, 'tok': 5158, 'gmw': 1883, 'pkoknya': 3895, 'sukaaaak': 4762, 'aaaaproduknya': 66, 'kecuali': 2476, 'awat': 385, 'menuhin': 3109, 'hangout': 1979, 'tdk': 4935, 'top': 5170, 'siang2': 4548, 'bgus': 715, 'combination': 1096, 'ngasi': 3336, 'mukagk': 3235, 'kulitpokoknya': 2683, 'npures': 3508, 'boasts': 793, 'impressive': 2156, '55': 48, 'add': 108, 'your': 5557, 'routine': 4260, 'yearround': 5538, 'rubs': 4268, 'clear': 1059, 'tones': 5166, 'doesn': 1415, 'behind': 570, 'any': 292, 'feeling': 1600, 'points': 3925, 'kemna': 2513, 'ngeaplikasiin': 3343, 'teksturnyaaa': 4957, 'biasaanya': 722, 'bintang': 737, 'sebelmnya': 4370, 'reviewnya': 4214, 'yess': 5549, 'nget': 3415, 'casenya': 962, 'uu': 5333, 'tim': 5123, 'saver': 4337, 'wajahkuuu': 5374, 'blendnya': 759, 'bangettttt': 486, 'saranin': 4330, 'pertamatama': 3866, 'ucapin': 5269, 'shiny': 4542, 'then': 5093, 'bgttttttttluv': 712, 'packagingnyano': 3693, 'overal': 3667, 'sumpahh': 4786, 'ngluarin': 3430, 'sbagus': 4345, 'yeay': 5540, 'akhirnyaa': 164, 'pluss': 3910, 'mantapp': 3003, 'gmjadi': 1877, 'mmbuat': 3179, 'terhidar': 5022, 'stiap': 4738, 'tidk': 5119, 'care': 953, 'suncare': 4798, 'mette': 3134, 'sfp': 4527, 'ingredientsna': 2187, 'slm': 4638, 'gua': 1928, 'ngebuat': 3353, 'iritsasijerawatan': 2245, '2x': 31, 'upside': 5316, 'down': 1439, 'roll': 4257, 'usap2': 5322, 'ssh': 4727, 'tmpt': 5153, 'org2': 3651, 'tipe2': 5138, 'wnita': 5460, 'siap2': 4550, 'apkai': 310, 'toplahfav': 5172, 'kaliann': 2411, 'laku': 2734, 'gegara': 1783, 'diaplly': 1293, 'direaplly': 1379, 'hadir': 1949, 'tani': 4912, 'ceria': 1007, 'juaraa': 2358, 'untukk': 5305, 'whitecastfinishingnya': 5436, 'siii': 4567, 'extra': 1572, 'shield': 4538, 'gunain': 1934, 'fully': 1684, 'cusss': 1180, 'sh': 4529, 'ringa': 4231, 'ngejaga': 3371, 'pusing': 4084, 'transcluent': 5184, 'cemong': 981, 'bangetsih': 480, 'kdang': 2462, 'kmanapun': 2608, 'pgn': 3869, 'cute3': 1183, 'olesoles': 3625, 'cushion': 1178, 'creamygel': 1150, 'iniga': 2194, 'packingnya': 3705, 'tancap': 4904, 'effectiveness': 1483, 'tanda': 4905, 'manjiw': 2999, 'samping': 4316, 'kerenn': 2541, 'sica': 4553, 'kah': 2400, 'shake': 4533, 'kaliii': 2413, 'serbuk': 4491, 'cmiiw': 1063, 'ngabisin': 3328, 'trouble': 5214, 'produk2': 4036, 'bangeeett': 459, 'tementemen': 4981, 'finsih': 1625, 'activity': 100, 'org': 3650, 'gunainnya': 1935, 'biasadan': 723, 'ahhh': 139, 'ekspektasiku': 1502, 'penuh': 3836, 'rewel': 4215, 'urus': 5319, '30ml': 34, 'aneh': 274, 'produknyaa': 4042, 'teman': 4975, 'lohhhh': 2873, 'hv': 2116, 'nice': 3450, 'dayy': 1230, 'giur': 1850, 'bocor': 794, 'bagussssbagusssssssbagusssssssbagussssbagusssssssbagusssssssbagussssbagusssssssbagusssssss': 410, 'picu': 3874, 'lbh': 2772, 'cinderung': 1035, 'wajjb': 5385, 'powderso': 3993, 'pergi2': 3847, 'oles2': 3624, 'kotor': 2648, 'creamnya': 1147, 'gantung': 1744, 'buildnya': 871, 'pastiin': 3797, 'timpain': 5127, 'da': 1187, 'pokoke': 3930, 'bulat': 877, 'kedikit': 2477, 'soale': 4667, 'ngerasain': 3391, 'mrk': 3216, 'heavyoily': 2019, 'jdnya': 2313, 'dobel2': 1414, 'last': 2760, 'morning': 3210, 'pretty': 4015, 'solid': 4677, 'barun': 509, 'unboxing': 5292, 'experiencenya': 1570, 'seru': 4506, 'ajaa': 148, 'applicatornya': 334, 'fingers': 1614, 'crossed': 1157, 'will': 5447, 'update': 5312, 'once': 3632, 've': 5345, 'emak2': 1513, 'serba': 4490, 'cussss': 1181, 'again': 126, 'lekat': 2785, 'puter2': 4088, 'nyobainnya': 3586, 'buru2': 895, 'baca': 391, 'iiniiiii': 2142, 'pacar': 3683, 'saling': 4300, 'powdered': 3980, 'packaginyaa': 3697, 'teksturnyaa': 4956, 'sehariaaan': 4402, 'appkybgatakut': 328, 'bestt': 676, 'pokoknyaaaaaaa': 3939, 'mahalmahal': 2943, 'though': 5105, 'idea': 2130, 'about': 80, 'sisi': 4599, 'siangsiang': 4549, 'cemilan': 980, 'pindah': 3882, 'lokasi': 2875, 'numah': 3519, 'sibuk': 4552, 'siihh': 4566, 'lembabin': 2789, 'gtuu': 1927, 'yahh': 5518, 'pecah': 3808, 'reduce': 4167, 'memanh': 3075, 'susuadakah': 4868, 'kadang2': 2391, 'dy': 1466, 'pasang': 3790, 'secondprotection': 4381, 'sering2': 4496, 'aplynya': 326, 'bagusbagus': 405, 'nahhh': 3269, 'pangling': 3762, 'pakainnya': 3726, 'creme': 1155, 'sembaraang': 4444, 'scroll': 4355, 'rekomendeddd': 4180, 'ekspetasi': 1503, 'terimakasihhhhh': 5028, 'liat2': 2837, 'ytb': 5563, 'content': 1121, 'also': 236, 'results': 4208, 'quite': 4101, 'fast': 1590, 'weeks': 5410, 'dont': 1430, 'hesitate': 2043, 'terima': 5026, 'enggk': 1539, 'foundatin': 1653, 'sembarang': 4445, 'produkproduk': 4045, 'ngeliat': 3379, 'ke2': 2464, 'mnmbulkan': 3183, 'bopeng': 808, 'lighweight': 2846, 'gampah': 1735, 'terter': 5054, 'baiqqqq': 431, 'bundahhh': 890, 'cyinn': 1186, 'ciwikciwik': 1051, 'libur': 2838, 'bal': 442, 'nyangkut2': 3554, 'goop': 1898, 'iya': 2270, 'control': 1123, 'oiya': 3606, 'cleansing': 1058, 'jangka': 2290, 'prnh': 4026, 'jrwat': 2350, 'ii': 2139, 'lv': 2932, 'diratainmya': 1376, 'baguuuus': 418, 'inivatif': 2224, 'sunscrern': 4838, 'padet': 3713, 'terobos': 5047, 'namnya': 3275, 'bumpy': 886, 'eventho': 1558, 'whatsoever': 5421, 'makes': 2963, 'feels': 1602, 'softer': 4675, 'dinkulit': 1353, 'sensivite': 4481, 'doalnya': 1411, 'afternya': 124, 'tingkat': 5135, 'sesimple': 4511, 'pokoknha': 3933, 'match': 3037, 'outdor': 3664, 'bangeettt': 463, 'superrrr': 4852, 'ennaaakk': 1541, 'toch': 5155, 'alas': 210, 'macam': 2935, 'meat': 3057, 'baguuss': 416, 'indoor': 2170, 'pliss': 3905, 'malesan': 2981, 'dipakaig': 1358, 'bawag': 524, 'tempatkalau': 4983, 'creasy': 1152, 'pokoknyaaaaaa': 3938, 'tipis': 5140, 'suncream': 4799, 'gaperna': 1751, 'teh': 4946, 'berjamjam': 631, 'kamar': 2418, 'teksurnya': 4962, 'meres': 3121, 'segitu3': 4398, 'hallo': 1964, 'tricky': 5203, 'sengat': 4470, 'chamomile': 1014, 'buru': 894, 'tunjang': 5251, 'totalitas': 5175, '2020': 22, 'walopun': 5391, 'banyak2': 501, 'menit': 3106, 'transclusent': 5185, 'hehegak': 2025, 'alesan': 218, 'buangeeet': 860, 'seller': 4440, 'powdercocok': 3977, 'sensitifn': 4476, 'lucuuu': 2916, 'paket': 3744, 'kunci': 2687, 'mauu': 3052, 'maximal': 3054, 'powdernga': 3982, 'hehehhe': 2032, 'indah': 2164, 'cleanse': 1057, 'sebab': 4363, 'jatuhh': 2302, 'experience': 1569, 'bermakaeup': 645, 'seruu': 4508, 'berturutturut': 665, 'moisturized': 3199, 'higienies': 2057, 'seri': 4492, 'hinyai': 2071, 'kelindungin': 2489, 'sawo': 4339, 'mateng': 3039, 'ngerawat': 3396, 'radang': 4107, 'rilex': 4228, 'berjeraway': 633, '2minggu': 28, 'rawat': 4132, 'tep': 4997, 'ngbland': 3341, 'aciatica': 89, 'butuhin': 906, 'series': 4493, 'taruh': 4925, 'boleh': 800, 'unggul': 5294, 'yuk': 5568, 'gilir': 1829, 'mu': 3218, 'overprice': 3670, 'thrilled': 5107, 'find': 1611, 'form': 1646, 'way': 5407, 'cheaper': 1021, 'compared': 1108, 'western': 5417, 'quality': 4100, 'cost': 1131, 'cant': 941, 'flow': 1641, 'amount': 258, 'rather': 4130, 'stiff': 4741, 'risk': 4252, 'shifting': 4539, 'scraped': 4352, 'indeed': 2165, 'number': 3520, 'low': 2902, 'something': 4684, 'country': 1132, 'constantly': 1118, 'bathed': 516, 'sunlight': 4808, 'cannot': 940, 'ones': 3634, 'unless': 5300, 'were': 5416, 'going': 1887, 'cake': 922, 'therefore': 5095, 'need': 3299, 'higher': 2054, 'some': 4681, 'they': 5096, 'ive': 2269, 'seen': 4391, 'togo': 5156, 'hope': 2088, 'theyre': 5097, 'improving': 2159, 'seem': 4390, 'lightpale': 2844, 'blurs': 767, 'into': 2239, 'deep': 1243, 'skintone': 4617, 'fine': 1612, 'particles': 3786, 'dusting': 1465, 'wet': 5418, 'ngerusakngapusngulang': 3409, 'room': 4259, 'improve': 2158, 'nyuci': 3591, 'jorok': 2347, 'kilat': 2578, 'perhati': 3849, 'kadsng': 2394, 'kocok2': 2622, 'aampun': 71, 'poder': 3922, 'sunscrwen': 4841, 'setwlah': 4524, 'coxok': 1141, 'please': 3901, 'baner': 449, 'hehehe': 2027, 'dg': 1282, 'glowingg': 1861, 'packanging': 3699, 'tacap': 4880, 'benget': 604, 'ngilangin': 3423, 'anda': 268, 'voila': 5356, 'akunjatih': 184, 'cintacocok': 1043, '30pa': 36, 'testur': 5068, 'terbaeeeeek': 5009, 'anterjemput': 284, 'skolah': 4622, 'dingin': 1351, '48': 43, 'sebading': 4364, 'carii2': 957, 'ginii': 1836, 'udang': 5276, 'akuuuuuu': 201, 'ngedempulll': 3362, 'wajibb': 5380, 'cobainnnnnn': 1080, 'bedakk': 557, 'yanh': 5528, 'tap2': 4917, 'merk': 3126, 'bo': 792, 'nyumbat': 3592, 'lafff': 2715, 'kalengkaleng': 2408, 'kantongable': 2432, 'performa': 3844, 'ecommerce': 1471, 'olshop': 3627, 'lainnyajgn': 2732, 'original': 3653, 'yu': 5564, 'gaes': 1707, 'bua': 856, 'kusamminyakan': 2697, 'diapus': 1296, 'micellar': 3140, 'slu': 4642, 'deng': 1260, 'smoothing': 4655, 'bawak': 526, 'boong': 807, 'pavvvvv': 3803, 'ahhhhh': 140, 'pavvv': 3802, 'sunscrine': 4839, 'muda': 3225, 'halau': 1963, 'picky': 3872, 'nggk': 3421, 'ngebland': 3347, 'media': 3058, 'sosial': 4696, 'bedakpowder': 560, 'eits': 1496, 'kaprah': 2436, 'pasar': 3791, 'twoway': 5261, 'diselipin': 1388, 'bedainnya': 554, 'protector': 4058, 'cowok': 1139, 'kabar': 2388, 'ngeluh': 3384, 'mainly': 2948, 'fokus': 1643, 'broad': 837, 'spectrum': 4700, 'donat': 1421, 'kampung': 2420, 'cowokcowok': 1140, 'yakali': 5521, 'yuyur': 5572, 'physical': 3870, 'ngosngosan': 3434, 'rupa': 4277, 'bunda': 889, 'gembira': 1788, 'oilykombinasi': 3604, 'jempol': 2324, 'teknologi': 4947, 'every': 1560, 'penny': 3831, 'bngettttttttt': 778, 'lembutttt': 2796, 'wajibbb': 5381, 'orderrr': 3649, 'kepoinn': 2532, 'olshoppppnya': 3628, 'soco': 4671, 'nyaaaaa': 3536, 'bought': 813, 'intrigued': 2240, 'bringing': 836, 'lil': 2851, 'bit': 743, 'uncomfortable': 5293, 'naturall': 3294, 'mantepp': 3008, 'formulated': 1650, 'contains': 1120, 'types': 5265, 'protects': 4059, 'against': 127, 'rays': 4134, 'while': 5425, 'tabir': 4877, 'surya': 4861, 'daun': 1226, 'varian': 5344, 'gabung': 1705, 'menurutt': 3112, 'contoh': 1122, 'pakcagingnya': 3729, 'multi': 3243, 'nude': 3517, 'daftar': 1195, 'moisturize': 3198, 'layering': 2771, 'trevel': 5200, 'lawan': 2769, 'sunscrennn': 4835, 'sunscren': 4832, 'utus': 5332, 'ngatur': 3340, 'kalok': 2416, 'cecer': 974, 'gaberasa': 1697, 'ingredients2nya': 2186, 'ngliat': 3429, 'cintaapalagi': 1041, 'bgtgampang': 701, 'nyamudah': 3550, 'kuasnyadan': 2668, 'cantella': 942, 'mataharidan': 3030, 'syuka': 4871, 'inikarena': 2205, 'pemakaiandengan': 3819, 'gercep': 1812, 'sunpowder': 4809, 'copot': 1129, 'eitsss': 1497, 'ajaaa': 149, 'ill': 2150, 'pilihpilih': 3880, 'kuasnyatp': 2669, 'efekti': 1477, 'ps': 4064, 'blmnyauntuk': 764, 'dipakekuasnya': 1366, 'lightweight': 2845, 'bery': 671, 'becek': 550, 'desa': 1273, 'muluspackaging': 3248, 'konsisten': 2640, 'nyapokoknya': 3555, 'ituumudah': 2266, 'lari': 2758, 'riding': 4227, 'cendrung': 984, 'korean': 2645, 'ringat': 4246, 'kagum': 2399, 'tahu2': 4888, 'nimbul': 3460, 'initu': 2221, 'skintoneku': 4618, 'mon': 3208, 'maap': 2934, 'tercompactt': 5016, 'buyy': 910, 'itt': 2260, 'muchh': 3224, 'bruntusankandungannya': 841, 'alamicocok': 207, 'gabakal': 1695, 'ngedumpel': 3363, 'sehar': 4400, 'tuang': 5232, 'hargnya': 1992, 'golong': 1892, 'syukur': 4875, 'sring': 4723, 'sbg': 4346, 'coveragenya': 1136, 'netral': 3322, 'mnrt': 3184, 'akujadi': 181, 'fit': 1630, 'colours': 1094, 'igs': 2136, 'rachelvennya': 4103, 'yaaku': 5509, 'prouk': 4062, 'jln': 2343, 'uma': 5289, 'found': 1652, 'everyday': 1561, 'somuch': 4686, 'briliant': 834, 'create': 1153, 'thisss': 5102, 'we': 5408, 'erase': 1547, 'aplicator': 314, 'coklat': 1092, 'sekaliterus': 4418, 'pesona': 3868, 'pandang': 3760, 'box': 814, 'usapin': 5323, 'sempurna': 4451, 'leher': 2784, 'belakang': 574, 'gatakut': 1767, 'abu2an': 86, 'rasain': 4125, 'nada': 3266, 'norak': 3484, 'dsuruh': 1451, 'kelupas': 2497, 'ngunci': 3443, 'finisihing': 1622, 'dhe': 1284, 'kadi': 2392, 'usapusap': 5324, 'kulita': 2680, 'terikteriknya': 5025, 'bgr': 694, 'gat': 1766, 'srtelah': 4725, 'inimalah': 2210, 'alergi': 217, 'package': 3687, 'mahh': 2945, 'natte': 3289, 'pekat': 3814, 'susu': 4867, 'lewatin': 2823, 'issa': 2252, 'buddy': 867, 'dibawagampang': 1302, 'garuk': 1760, 'aestetic': 119, 'pakao': 3728, 'wishlistnya': 5449, 'supergoop': 4849, 'cekout': 977, 'feel': 1599, 'shinny': 4541, 'gitulohh': 1843, 'repuchase': 4197, 'berativitas': 618, 'car': 950, 'products': 4033, 'ibu': 2127, 'hamil': 1974, 'diraguin': 1373, 'kuliah': 2678, 'huuuu': 2115, 'cobasampe': 1082, 'skrng': 4627, 'jugapas': 2372, 'mukatrus': 3239, 'hehesejauh': 2033, 'whitecasabuabu': 5429, 'jugaoverall': 2371, 'gressy': 1919, 'polll': 3952, 'ngelembapin': 3376, 'sneng': 4663, 'nyobanyoba': 3588, 'pnsran': 3919, 'gaharus': 1713, 'orgnya': 3652, 'bakaln': 436, 'bangetfinishnya': 473, 'nyerepnyaand': 3570, 'alamipackagingnya': 208, 'dibwa': 1314, 'sentosa': 4483, 'tetapi': 5071, 'berlian': 644, 'intensitas': 2236, 'kulitkuuuuuu': 2682, 'powderbrush': 3976, 'bangetini': 476, 'wajahkuohhiyaa': 5373, 'nglembapin': 3428, 'dipakeuntuk': 1368, 'sitp': 4602, 'reaplay': 4138, 'worksss': 5474, 'ngegumpal': 3368, 'terkadang': 5033, 'bagikuuu': 399, 'bangetproduk': 478, 'terfav': 5020, 'tahun': 4889, 'meminimalisir': 3078, 'kaga': 2396, 'sich': 4554, 'dibalikin': 1297, 'ketukketuk': 2568, '5gram': 51, 'enakeun': 1526, 'mantulity': 3010, 'lebar': 2777, 'ajar': 154, 'nampak': 3276, 'cruelty': 1159, 'expectation': 1566, 'tepuk': 5000, 'gampng': 1738, 'okey': 3616, '1x': 21, 'nyari2': 3557, 'bagustrus': 414, 'dipke': 1369, 'spread': 4717, 'proses': 4052, 'haluus': 1972, 'upreapply': 5315, 'vlogger': 5355, 'almiranti': 231, 'fira': 1626, 'heeyyy': 2022, 'berlayer2': 642, 'tak': 4891, 'nyampe': 3548, 'ketuk': 2567, 'creamsunscreen': 1148, 'fail': 1581, 'sorry': 4695, 'huftt': 2107, 'mattenya': 3046, 'aplllay': 324, 'bya': 915, 'bangedd': 455, 'pedih': 3810, 'gatelgatel': 1773, 'huhuhuu': 2112, 'mudah2an': 3227, 'aamiinnnn': 70, 'ngrasa': 3435, 'pooknyaaa': 3957, 'hasill': 2003, 'anjur': 279, 'aduh': 116, 'panas2': 3753, 'oxidation': 3673, 'badan': 394, 'pom': 3956, 'kesampesan': 2558, 'kokkk': 2627, 'tryyy': 5223, 'ngubah': 3441, 'gemens': 1789, 'wkwkwkw': 5459, 'camical': 933, 'lite': 2862, 'direplynyapersis': 1382, 'spfnyadapat': 4709, 'teb': 4938, 'kibas': 2574, 'topp': 5173, 'markotop': 3015, 'ringkas': 4247, 'memudshkan': 3086, 'sdan': 4358, 'keliar': 2488, 'whitecash': 5434, 'detelah': 1279, 'tauu': 4931, 'tachap': 4882, 'agakk': 130, 'salah2': 4295, 'muter': 3260, 'glowink': 1868, 'lucuu': 2915, 'lainnyaa': 2731, 'ngeri': 3403, 'surprizing': 4858, 'terik2': 5024, 'gtfinishnya': 1922, 'falloutnya': 1586, 'diratakandan': 1378, 'dilayering': 1338, 'berminyaktapi': 655, 'overallbagus': 3669, 'syukaaaa': 4873, 'pokoknyai': 3942, 'yabg': 5514, 'reaplikasikn': 4139, 'dlam': 1401, 'pngen': 3918, 'ambil': 255, 'tagih': 4885, 'akupokok': 187, 'ganti2': 1743, 'truz': 5221, 'per': 3837, 'molita': 3206, 'lin': 2854, 'ngalahin': 3331, 'work': 5471, 'thankyouuu': 5087, 'akhirnyaaa': 165, 'woyy': 5489, 'lngsung': 2865, 'bold': 799, 'shg': 4537, 'mkn': 3173, 'bnykk': 791, 'dark': 1220, 'lov': 2892, 'rekomedasi': 4171, 'bamgt': 445, 'kuar': 2665, 'ruamh': 4264, 'panas2an': 3754, 'kuga': 2675, 'packajing': 3698, 'cuality': 1165, 'coming': 1105, 'thankyouuuuu': 5088, 'gladddddd': 1852, 'youuuuu': 5561, 'tryyyyy': 5224, 'dindonesia': 1350, 'chemicalphysical': 1025, 'lembuuut': 2798, 'waaah': 5360, 'kagetsih': 2398, 'ultimate': 5287, 'ringaaann': 4233, 'yahg': 5517, 'sensitifff': 4475, 'worthit': 5480, 'potong': 3970, 'pointt': 3926, 'bange': 453, 'pad': 3707, 'freshh': 1675, 'demplok': 1256, 'fixxx': 1634, 'protectionnya': 4057, 'lalang': 2736, 'buana': 858, 'parahhhhh': 3777, 'barengin': 507, 'pastinyaaa': 3800, 'pakebedak': 3732, 'usih': 5328, 'juta': 2383, 'umat': 5290, 'fisikal': 1629, 'jahat': 2280, 'rp': 4261, '119000': 9, 'gr': 1906, 'sejuk': 4410, 'sebernya': 4373, '149000': 13, 'nomor': 3470, 'kepooo': 2533, 'berekspektasi': 625, 'weight': 5413, 'test': 5065, 'sunblok': 4795, 'kalp': 2417, 'lago': 2726, 'oleh': 3622, 'sampee': 4315, 'ngak': 3330, 'lengketbahannya': 2807, 'bpomnya': 818, 'ginidan': 1835, 'bangetdimuka': 472, 'hasilnyaa': 2006, 'finishsukaaaa': 1621, 'laginihh': 2723, 'inisangat': 2214, 'akucocok': 179, 'keringdan': 2546, 'liquid': 2860, 'wajahcuma': 5367, 'yajadi': 5520, 'akutapi': 190, 'sunacren': 4793, 'plisss': 3906, 'claim': 1053, 'toneup': 5167, 'witch': 5450, 'bagoss': 400, 'srius': 4724, 'mana2': 2987, 'pngaplikasinya': 3917, 'brash': 825, 'klit': 2600, 'krek': 2653, 'ukuranya': 5284, 'diaajak': 1288, 'kantor': 2433, 'ydah': 5536, '1530': 15, 'tissue': 5145, 'lgsg': 2830, 'combine': 1097, 'vit': 5353, 'avoskin': 381, 'kumpal': 2685, 'finising': 1624, 'gemas': 1786, 'segar': 4393, 'cahaya': 920, 'arghhhhh': 352, 'wortit': 5481, 'angkat': 277, 'story': 4748, 'tmn2': 5152, 'yaaaaaaaaaaaaaaaaaaaaaaaaaaaaaaaaaaaaaaa': 5505, 'padatini': 3712, 'akutekstur': 191, 'sunbrush': 4796, 'nyabsuper': 3538, 'lucubikin': 2912, 'matteaku': 3043, 'mengwcil': 3103, 'bangetaman': 468, 'luarkalian': 2907, 'bodo': 795, 'ehhhhh': 1494, 'skrang': 4625, 'flek': 1639, 'ternuata': 5044, 'belepotan': 579, 'amanbuat': 248, 'melindungin': 3073, 'pny': 3921, 'tingat': 5130, 'cewek': 1010, 'duhh': 1455, 'cantikdan': 945, 'mengapply': 3096, 'powderkarena': 3981, 'kemaren': 2505, 'macem': 2936, 'abisss': 78, 'primadona': 4021, 'industri': 2171, 'sebut': 4377, 'prtama': 4063, 'do': 1410, 'lgsung': 2832, 'trnyta': 5212, 'ituuu': 2267, 'course': 1133, 'nuat': 3516, 'coverin': 1137, 'dngan': 1409, 'langsunh': 2749, 'sentuh': 4484, 'unik2': 5296, 'sangking': 4324, 'influence': 2173, 'ngereview': 3402, 'jugakk': 2370, 'inj': 2226, 'goda': 1886, 'nyaehh': 3539, 'pemakain': 3822, 'seblm': 4374, 'gone': 1893, 'salut': 4301, 'yakan': 5522, 'bulang': 876, 'midah': 3142, 'terlindungin': 5037, '23': 24, 'makee': 2959, 'npurebiasanyaa': 3495, 'kann': 2429, 'yaahh': 5507, 'upskrrang': 5317, 'lagikarena': 2722, 'gitutinggal': 1845, 'onga': 3635, 'makas': 2953, 'amazed': 252, 'outdooraku': 3663, 'sndr': 4661, 'inikrena': 2207, 'pokokkknyaaaaaaaaaa': 3932, 'teerrrrrrrrrrdaaaabestttttt': 4944, 'tacappp': 4881, 'sanskrennn': 4325, 'fallin': 1584, 'sight': 4556, 'sukaaaaaaa': 4760, 'sunscreennnnn': 4824, 'cumeewew': 1175, 'cucokkk': 1168, 'meongggg': 3115, 'mantappppp': 3004, 'pokoknyaaaa': 3937, 'hatiii': 2010, 'meresappp': 3124, 'dannn': 1209, 'mukaaaaaa': 3233, 'foto': 1651, 'gemashh': 1787, 'nrmu': 3512, 'sumpa': 4782, 'ramah': 4116, 'bmgt': 770, 'skul': 4628, 'osis': 3657, 'bt': 852, '2in1': 26, 'protecting': 4055, 'pakaibrushnya': 3724, '100100': 4, 'vaforite': 5343, 'pelan': 3816, 'temenku': 4980, 'ggr': 1819, 'kmna2': 2613, 'gaush': 1777, 'ngelupas': 3385, 'masukkin': 3026, 'npurecocok': 3496, 'ideal': 2131, 'activites': 98, 'spot': 4715, 'paripurna': 3782, 'amburadul': 256, 'berkalikali': 639, 'ikan': 2145, 'embossnya': 1518, 'pipa': 3885, 'luberluberformulanya': 2910, 'apek': 309, 'cium': 1049, 'jarna': 2296, 'yakinnn': 5524, 'berjutajuta': 637, 'bolakbalik': 798, 'asliiii': 369, 'mudahin': 3229, 'rivew': 4253, 'menggangu': 3100, 'looh': 2880, 'yng': 5554, 'bnr2': 786, 'bedak2': 556, 'transferproof': 5187, 'minimalin': 3158, 'tenaga': 4990, 'cck': 971, 'sk': 4608, 'dioutdoor': 1355, 'praktik': 4001, 'digabungin': 1325, 'beehhhh': 562, 'haiii': 1957, 'jual': 2356, 'storenya': 4747, 'dishopee': 1389, 'minat': 3151, 'dm': 1406, 'devikaangelita': 1280, 'rachel': 4102, 'daannnnn': 1190, 'castt': 967, 'segala': 4392, 'buildable': 870, 'pektay': 3815, 'terbaikkkk': 5013, 'dlm': 1403, 'sejak': 4408, 'ribetkayak': 4221, 'mevvvaahh': 3136, 'kmasannyapowdernya': 2609, 'halusini': 1969, 'orderbakalan': 3647, 'spertinyabotolnya': 4704, 'minimudah2an': 3160, 'awetsampai': 387, 'selanjutnyahehheheehe': 4433, 'wowww': 5486, 'ucap': 5268, 'lagiini': 2721, 'lovvvee': 2901, 'kyooott': 2708, 'solutif': 4680, 'ciwi2': 1050, 'kpn': 2650, 'dmn': 1407, 'terlau': 5036, 'badai': 393, 'unikk': 5297, 'desaign': 1274, 'dengab': 1262, 'weew': 5412, 'hygine': 2125, 'pengaplikasan': 3828, 'wajahmempermudah': 5376, 'wihihihihi': 5445, 'kereennn': 2539, 'siiii': 4569, 'produkk': 4039, 'giniaann': 1833, 'dipakainyaa': 1359, 'gambar': 1731, 'bahwa': 427, 'wowwww': 5487, 'kereeennn': 2537, 'punyaa': 4076, 'dimukaaa': 1348, 'aseli': 361, 'nyetock': 3576, 'pict': 3873, 'post': 3967, 'aahh': 69, 'misal': 3171, 'spons': 4713, 'nekatin': 3307, 'tektursnya': 4967, 'lohhh': 2872, 'stabil': 4729, 'thumbs': 5111, 'fixxxx': 1635, 'woyyy': 5490, 'jafj': 2277, 'yaudah': 5534, 'pass': 3793, 'duluu': 1458, 'packingya': 3706, 'gemoin': 1799, 'parktis': 3783, 'bnht': 784, 'tggal': 5077, 'brush2': 844, 'rekomn': 4184, 'bbgt': 531, 'tunggu2': 5250, 'gunaiin': 1932, 'lupaa': 2924, 'dimudahin': 1346, 'comel': 1100, 'brat': 826, 'debesttt': 1235, 'refill': 4168, 'gaksuka': 1720, 'ajaib': 153, 'cobak': 1081, 'dimilikiii': 1345, 'nemenin': 3309, 'rutinitas': 4281, 'bagsu': 401, 'kang': 2427, 'smuaa': 4658, 'halo': 1965, 'hasilny': 2005, 'blum': 765, 'nmu': 3465, 'info': 2175, 'apoly': 327, 'late': 2762, 'nemui': 3314, 'praktisdan': 4003, 'recommemdpengaplikasian': 4162, '30jadi': 33, 'oengaruh': 3593, 'ketimbang': 2565, 'tinggak': 5131, 'cracky': 1145, 'cobatekstur': 1083, 'ringanlembutcreamygampang': 4240, 'lhoo': 2834, 'kontaminasi': 2642, 'freindly': 1672, 'dompet': 1420, 'paas': 3679, 'makup': 2976, 'mangats': 2996, 'bermanfaay': 647, 'halusdan': 1968, 'benar2': 590, 'diaa': 1287, 'diwajahkuudah': 1398, 'didalemnyajujur': 1321, 'uve': 5341, 'nyobian': 3590, 'applay': 329, 'profuct': 4048, 'kannn': 2430, 'kerjaliburan': 2552, 'lebi': 2781, 'kaaaannn': 2385, 'happyyyy': 1983, 'tering': 5030, 'adaaaa': 104, 'finishinhnya': 1619, 'lub': 2908, 'powdee': 3972, 'elegand': 1509, 'bner2': 773, 'boom': 804, 'jawat': 2306, 'cobaaa': 1069, 'temuin': 4989, 'kmna': 2612, 'palai': 3748, 'holly': 2082, 'gokil': 1888, 'karnaa': 2447, 'ordee': 3645, 'sekaliii': 4413, 'halusss': 1971, 'alusss': 240, 'amaaan': 244, 'pokokya': 3944, 'inimemudahkan': 2211, 'baget': 397, 'pengaplikasiaannya': 3829, 'kmu': 2616, 'assalamualaikum': 372, 'hai': 1956, 'beauties': 543, 'burn': 893, 'dibawadan': 1301, 'spt': 4719, 'balut': 444, 'tranparan': 5183, 'infromasi': 2177, 'netto': 3323, 'produsen': 4047, 'tera': 5003, 'lap': 2754, 'key': 2569, 'heran': 2039, 'tiga': 5120, 'diethylamino': 1323, 'hydroxybenzoyl': 2124, 'hexyl': 2044, 'benzoate': 609, 'bisethylhexyloxyphenol': 742, 'methoxyphenyl': 3133, 'triazine': 5201, 'aging': 135, 'kanker': 2428, 'sgt': 4528, 'optimal': 3640, 'konsistensi': 2641, 'penggunaanya': 3830, 'vpop': 5357, 'dorong': 1436, 'flick': 1640, 'jentik': 2329, 'telinga': 4971, 'gera': 1808, 'lingkar': 2858, 'kembali': 2512, 'rapat': 4121, 'npureofficialid': 3507, 'marketplace': 3014, 'rp119000': 4262, 'informasi': 2176, 'beatthesunpowder': 542, 'cicabeatthesunpowder': 1032, 'perlindunganharianalami': 3855, 'ngikat': 3422, 'outlook': 3665, 'packingingnya': 3704, 'rekommend': 4183, 'sanget': 4323, 'musti': 3259, 'cobaaaaaaaa': 1071, 'posisi': 3965, 'ribetw': 4223, 'juag': 2355, 'lucudiwajah': 2913, 'begini': 567, 'pergipergi': 3848, 'silah': 4575, 'brusnya': 849, 'note': 3490, 'gamimbulin': 1733, 'finisihingnya': 1623, 'cicanya': 1033, 'pki': 3893, 'kuatir': 2671, 'sdh': 4359, 'terpangpang': 5048, 'effek': 1484, 'sunsceen': 4812, 'qu': 4099, 'bedakpowderrecomended': 561, 'mirror': 3170, 'blepot': 762, 'youtube': 5559, 'aqu': 347, 'jayanti': 2307, 'channel': 1019, 'berani': 613, 'comedogenic': 1099, 'semangat': 4443, 'asiaticanya': 364, 'rilis': 4229, 'produk2nya': 4037, 'sayy': 4344, 'skaligus': 4610, 'brus': 842, 'easysimple': 1469, 'gambah': 1730, 'fragranceno': 1663, 'tepat': 4998, 'postingan': 3968, 'ngerilis': 3404, 'ihhh': 2138, 'glowimg': 1858, 'gaaboong': 1692, 'keset': 2562, 'gitulo': 1842, 'doooong': 1434, 'daaannn': 1189, 'glowingdan': 1860, 'akusuka': 189, 'bgttdan': 707, 'apple': 331, 'nyaacinta': 3537, 'inikrna': 2208, 'emngg': 1522, 'terbagu': 5010, 'terlupp': 5038, 'termantuliti': 5041, 'dumbel': 1460, 'sekolah': 4423, 'gamasalah': 1728, 'teksturny': 4955, 'registrasi': 4169, 'gokill': 1889, 'inovasinyanpure': 2229, 'hapus2': 1985, 'takaranan': 4893, 'depakw': 1268, 'aripada': 353, 'datang': 1222, 'arsitek': 356, 'methoxcinnamate': 3131, 'bumilbusui': 884, 'club': 1061, 'maskerberaktivitas': 3023, 'waterproof': 5403, 'bercak': 623, 'ajaberaktivitas': 150, 'ajah': 152, 'pakenyaa': 3742, 'doff': 1417, 'hehehee': 2028, 'cepept': 993, 'demi': 1255, 'kesemuanyaintinya': 2561, 'pastiny': 3798, 'pokokk': 3931, 'cantika': 944, 'worh': 5470, 'ngrasain': 3436, 'nyerepp': 3571, 'huhuu': 2113, 'thankyouu': 5086, 'pack': 3684, 'proskin': 4053, 'lagibulunya': 2718, 'beminyak': 587, 'apart': 307, 'beware': 689, 'beb': 545, 'unikkk': 5298, 'gamain2': 1726, 'packagingnyaa': 3692, 'semnjak': 4449, 'kayagini': 2460, 'reapplyy': 4146, 'powderryyy': 3992, 'okeeee': 3614, 'sukaaaakk': 4763, 'bahan2': 421, 'proud': 4061, 'mush': 3256, 'siy': 4604, 'mastiin': 3024, 'pulas': 4072, 'ahahaha': 137, 'bluring': 766, 'sets': 4522, 'salfok': 4297, 'pisah': 3890, 'akupasti': 186, 'belilagi': 584, 'kadung': 2395, 'spf30': 4706, 'busuii': 901, 'raguragu': 4111, 'laaa': 2710, 'idam': 2128, 'menutupkaan': 3113, 'huaaaaaaaaaaaaaaaa': 2102, 'gilakk': 1826, 'bulky': 879, 'gaiss': 1715, 'serasa': 4489, 'ara': 348, 'aktif': 171, 'ingin': 2181, 'jni': 2344, 'pale': 3749, 'orsng': 3655, 'ringsn': 4250, 'dsn': 1450, 'besttt': 677, 'likuid': 2850, 'okes': 3615, 'ckaging': 1052, 'nekad': 3306, 'sebagua': 4365, 'rawan': 4131, 'dengann': 1265, 'puus': 4095, 'npurr': 3511, 'produkproduknya': 4046, 'apalgi': 306, 'fyi': 1688, 'akibat': 169, 'uras': 5318, 'mama': 2983, 'pop': 3958, 'reda': 4166, 'waternya': 5402, 'diclear': 1316, 'yampun': 5525, 'pilihhh': 3879, 'prakyis': 4006, 'kerontang': 2553, 'ngontrol': 3433, 'hybird': 2119, 'packagingnyq': 3694, 'kaum': 2455, 'takutdeh': 4898, 'ptoduknya': 4065, 'bemtuk': 588, 'oiyaa': 3607, 'haragmya': 1986, 'huga': 2108, 'kekyi': 2484, 'loook': 2886, 'mattedan': 3045, 'dabest': 1192, 'bedakkk': 558, 'cucoook': 1169, 'laah': 2711, 'launchingaku': 2766, 'buruburu': 896, 'cobaineh': 1076, 'sihhhbutirbutirnya': 4561, 'halusjadi': 1970, 'bgtjdi': 702, 'nyamanringan': 3546, 'terrecommended': 5049, 'akubener': 178, 'meresapaku': 3122, 'klik': 2599, 'gatumpang': 1774, 'diapplay': 1294, 'kelembaban': 2486, 'green': 1917, 'tea': 4937, 'mixed': 3172, 'fruit': 1680, 'niacinamide': 3447, 'dikalim': 1328, 'dluar': 1405, 'mang': 2995, 'daripad': 1218, 'padat': 3711, 'powderrrini': 3989, 'hwwaaaa': 2118, 'thx': 5112, 'youuuu': 5560, 'pertma': 3867, 'ribut': 4224, 'selesai': 4439, 'ges': 1813, 'cobaaaa': 1070, 'jggg': 2338, 'hibrida': 2049, 'gabuat': 1704, 'bangeeettt': 460, 'kawah': 2456, 'kinclongannya': 2580, 'sapusapu': 4328, 'kitaaa': 2589, 'salim': 4299, 'negara': 3301, 'iklim': 2146, 'tropis': 5213, 'saing': 4288, 'negeri': 3304, 'inspiratif': 2231, 'warnya': 5397, 'kmana': 2606, 'ngecilin': 3358, 'selasela': 4434, 'benefitnya': 592, 'satisfying': 4332, 'secure': 4384, 'yanga': 5527, 'cus': 1177, 'hatisunscreen': 2012, 'wajahgampang': 5369, 'initercovered': 2220, 'tepuk2': 5001, 'beresdan': 627, 'dbawa2': 1231, 'gede2banget': 1780, 'jadinyaa': 2275, 'greassy': 1914, 'bak': 433, 'spv': 4720, 'gemmoy': 1797, 'reapplay': 4143, 'loch': 2869, 'menproteksi': 3108, 'dahh': 1197, 'npuredari': 3498, 'star': 4732, 'tutupin': 5258, 'lengkep': 2804, 'sukasunscreen': 4776, 'uvbuvakarena': 5340, 'wajahhasil': 5371, 'nun': 3522, 'telusur': 4974, 'tindak': 5128, 'langka': 2744, 'aqq': 346, 'cariiiiiiiiiiii': 958, 'besyukur': 679, 'bangetttttt': 488, 'sumper': 4788, 'slimfit': 4634, 'maklum': 2973, 'geser2': 1815, 'guysss': 1942, 'betapa': 682, 'fun': 1685, 'fact': 1579, 'ngatasin': 3339, 'doyan': 1440, 'edisi': 1472, 'share': 4534, 'cobacoba': 1073, 'sendirisendiri': 4462, 'renang': 4191, 'hawa': 2014, 'tools': 5169, 'hadil': 1948, 'befaknya': 564, 'fsr': 1682, 'nyidain': 3577, 'hi': 2048, 'tanp': 4913, 'nempelnya': 3312, 'kebrush': 2468, 'kendali': 2525, 'ayo': 388, 'tingal': 5129, 'senditif': 4463, 'whitecadt': 5427, 'calmingnya': 930, 'unyuk': 5309, 'trimakasih': 5206, 'diblandnya': 1305, 'coca': 1084, 'denger': 1266, 'siiini': 4570, 'wowgampang': 5485, 'apu': 344, 'buluk': 881, 'alot': 233, 'bet': 680, 'dukung': 1456, 'komplit': 2636, 'gama': 1724, 'ribetttt': 4222, 'gaberminyakk': 1698, 'sneeng': 4662, 'cobainnn': 1079, 'telrindungi': 4973, 'kya': 2704, 'sukabagusnya': 4768, 'untuntuk': 5308, 'oryza': 3656, 'sativa': 4333, 'happynya': 1982, 'nggaknpure': 3420, 'menganggu': 3095, 'longsor': 2877, 'remaja': 4188, 'sana': 4318, 'apagi': 301, 'play': 3900, 'dicombine': 1320, 'nongkrong': 3477, 'terjun': 5032, 'effective': 1482, 'alcoholl': 214, 'lauching': 2763, 'productnya': 4032, 'penasara': 3823, 'loved': 2894, 'bearlt': 539, 'mya': 3263, 'lifa': 2841, 'bare': 505, 'bklan': 747, 'yeeeey': 5544, 'cobaini': 1077, 'sblm': 4348, 'dempull': 1258, 'packaginnya': 3695, 'uhh': 5279, 'hihiww': 2063, 'lapang': 2755, 'akuuuu': 199, 'sumpahhh': 4787, 'mlongo': 3177, 'aie': 144, 'chamical': 1012, 'na18210400929': 3264, 'start': 4733, 'years': 5539, 'old': 3620, 'sunscreenyangpowder': 4831, 'memperpudah': 3083, 'cewe': 1009, 'yeh': 5546, 'dongpaling': 1427, 'efec': 1474, 'bgd': 691, 'nd': 3296, 'gresy': 1920, 'pkk': 3894, 'nyman': 3580, 'sehrihri': 4407, 'powderdilengkapi': 3979, 'sblum': 4350, 'pkai': 3891, 'dahulu': 1198, 'inisimpel': 2218, 'lup': 2922, 'deeeeh': 1239, 'tanganpake': 4909, 'tisu': 5146, '100an': 5, 'verry': 5347, 'verrry': 5346, 'pertamakali': 3865, 'menenagkan': 3090, 'manaa': 2988, 'long': 2876, 'lasting': 2761, 'gmna': 1879, 'rumahh': 4272, 'doi': 1418, 'susncren': 4866, 'bemer2': 586, 'juarak': 2359, 'plis': 3904, 'bangetdan': 471, 'sunscrenkarna': 4834, '1010': 7, 'failed': 1582, 'bgtkrna': 703, 'tipikal': 5139, 'mls': 3178, 'smnjk': 4652, 'sleek': 4632, 'tumpuk': 5248, 'perempuan': 3842, 'teksturnyabikin': 4958, 'ngesetini': 3411, 'pulang': 4070, 'sekolat': 4424, 'dapetin': 1214, 'recomen': 4153, 'simungil': 4587, 'kaapn': 2387, 'teksur': 4960, 'sensitiv': 4478, 'aaahhhhh': 68, 'gilasihhhh': 1828, 'kecintaankuu': 2475, 'bangettttttaku': 489, 'ercaya': 1548, 'dapakai': 1211, 'takjub': 4894, 'medok': 3060, 'guyssssss': 1943, 'senengnyaaa': 4468, 'sunsceeen': 4811, 'ahhhhhhemang': 141, 'buatt': 862, 'whitecasenya': 5432, 'bumi': 882, 'gatauuuu': 1771, 'kemasanny': 2511, 'ellegant': 1512, 'gmptng': 1882, 'jrwtaan': 2351, 'le': 2773, 'dati': 1225, 'baut': 521, 'ngecase': 3355, 'kulitt': 2684, 'cintaaaaaa': 1040, 'bgtaaaaaa': 697, 'benerann': 596, 'ta': 4876, 'nyangkaaa': 3552, 'prduk': 4008, 'sethebest': 4518, 'bermi': 648, 'hisa': 2072, 'adaptasi': 107, 'instan': 2233, 'nihapalagi': 3452, 'batural': 517, 'rapi': 4122, 'adh': 113, 'ngeresep': 3401, 'wanitatexture': 5394, 'diwajahkemasan': 1396, 'dibawa2suka': 1299, 'reapplynya': 4145, 'kenalin': 2519, 'pap': 3768, 'cocokdimuka': 1089, 'akhirnyaaaaa': 167, 'dimukaa': 1347, 'duo': 1462, 'maut': 3051, 'diwajahkuu': 1397, 'memgatur': 3077, 'upmudah': 5313, 'checkout': 1023, 'sumscreen': 4789, 'bentu': 607, 'powderry': 3991, 'mui': 3230, 'slsnon': 4641, 'debu': 1237, 'sambil': 4309, 'shine': 4540, 'wii': 5446, 'gilaaaaa': 1823, 'temuii': 4988, 'bgtuu': 714, 'dtg': 1452, 'tuhan': 5238, 'beliii': 581, 'ring': 4230, 'brightly': 832, 'small': 4646, 'brightness': 833, 'jugs': 2374, 'dalem': 1203, 'produc': 4030, 'applaynya': 330, 'aaaaaaaaa': 63, 'yaammpun': 5510, 'bngettt': 777, 'bleandable': 752, 'pakentas': 3740, 'berbagiii': 620, 'biarr': 718, 'tepattt': 4999, 'gtt': 1924, 'woee': 5462, 'ahh': 138, 'senengg': 4465, 'inimah': 2209, 'senenggg': 4466, 'maless': 2982, 'beet': 563, 'gemeshh': 1792, 'klu': 2602, 'senengggg': 4467, 'nyamannn': 3545, 'loveeeee': 2898, 'jugaemang': 2367, 'gitutexturnya': 1844, 'sunsreennya': 4843, 'kamdunganya': 2419, 'iniselain': 2215, 'efektivitas': 1480, 'cemerlang': 979, 'gus': 1938, 'gusss': 1939, 'sebel': 4369, 'lengketlengket': 2812, '2nd': 30, 'aneh2': 275, 'seprti': 4487, 'bnyak': 789, 'kandungn': 2426, 'trdpt': 5199, 'istilah': 2253, 'twtep': 5262, 'naturalbanget': 3292, 'aluss': 239, 'radiasi': 4108, 'ambyarrr': 257, 'ninggalih': 3462, 'bau2': 519, 'packejing': 3700, 'gemoi': 1798, 'bngtt': 781, 'jugak': 2369, 'dibrushbrush': 1311, 'hasilnnya': 2004, 'ancur': 266, 'nihkemasannya': 3457, 'th': 5078, 'bgtpakainya': 704, 'ribetinovasinya': 4219, 'dehterbaik': 1252, 'bgtbegitu': 699, 'ngelembab': 3374, 'gunaiinnya': 1933, 'secondshieldnpure': 4383, 'asing': 366, 'donk': 1429, 'inisoalnya': 2219, 'cicanyajd': 1034, 'jugabtw': 2366, 'travelinggampang': 5195, 'powderdan': 3978, 'inigampang': 2195, 'manabisa': 2989, 'kalitrus': 2414, 'matteaplikatornya': 3044, 'brushnyapokoknya': 848, 'bedah': 553, 'dikombinasiin': 1332, 'okeee': 3613, 'mereesap': 3118, 'kecilin': 2474, 'ngematte': 3386, 'ye': 5537, 'syukkaaa': 4874, 'masyaallah': 3027, 'blentong': 761, 'freagance': 1665, 'cepetttt': 998, 'selebgram': 4436, 'ngerecommend': 3398, 'iniiiii': 2198, 'soon': 4688, 'bwt': 913, 'epic': 1546, 'benerrr': 603, 'lengkettttt': 2816, 'productttt': 4034, 'ituuuuu': 2268, 'aware': 384, '149k': 14, 'biore': 738, 'abiiisss': 75, 'larilari': 2759, 'nyaaaa': 3535, 'bangetttttgt': 487, 'compare': 1107, 'cek': 976, 'untjk': 5302, 'hollllllllyyyyyyyyyyyyyyyyyyyyy': 2081, 'graillllllllllllllllllll': 1909, 'bangeeeeeetttt': 456, 'moooo': 3209, 'nangissss': 3283, 'iniiiiiii': 2200, 'sebagusnituu': 4366, 'aghhhj': 134, 'ngira': 3426, 'gataunya': 1770, 'beliiiii': 582, 'encerterlalu': 1532, 'buyyy': 911, 'gonna': 1894, 'lie': 2840, 'ala2': 204, 'lo': 2866, 'berjuta2': 636, 'daki': 1201, 'tacky': 4883, 'sel': 4425, 'mati': 3040, 'tiba': 5116, 'br': 819, 'expensive': 1568, 'smga': 4649, 'ttg': 5228, 'suncsreen': 4805, 'iniproduk': 2213, 'wajahga': 5368, 'ehehe': 1490, 'tell': 4972, 'trurt': 5216, 'bbrpa': 534, 'bgtu': 713, '34jam': 38, 'temanteman': 4976, 'natutal': 3295, 'contained': 1119, 'triazone': 5202, 'isoamyl': 2249, 'pmethoxycinnamate': 3914, 'polysilicone15': 3955, 'our': 3660, 'am': 242, 'survivor': 4860, 'here': 2042, 'ram': 4115, 'sehappy': 4399, 'alpply': 234, 'kereeen': 2536, 'youre': 5558, 'soo': 4687, 'amazinggg': 254, 'pentinga': 3833, 'ternyta': 5046, 'akutuh': 194, 'oilyacne': 3603, 'literally': 2863, 'sold': 4676, 'percicaan': 3840, 'alwaysss': 241, 'physicalfinish': 3871, 'bangetcocok': 470, 'harta': 1997, 'karun': 2448, 'kurleb': 2692, 'ngaruuh': 3335, 'hahha': 1955, 'nprue': 3493, 'ingrediantsnya': 2182, 'sps': 4718, 'baikbaik': 430, 'adaa': 103, 'diskonn': 1391, 'lumayann': 2920, 'thankss': 5084, 'tekstureenya': 4952, 'kusampackagingnya': 2699, 'kotak': 2647, 'bagussssbgt': 411, 'sumfehhh': 4781, 'ofcourse': 3595, 'bunddddd': 891, 'lembuttttt': 2797, 'tanggung': 4910, 'degdegan': 1246, 'blendtapi': 760, 'botanical': 811, 'if': 2134, 'might': 3143, 'want': 5395, 'already': 235, 'enough': 1542, 'glides': 1854, 'reminds': 4189, 'neogens': 3320, 'totally': 5176, 'lansung': 2753, 'mlembabkan': 3176, 'castnya': 966, 'bakteri': 441, 'mukaemg': 3234, 'kerucut': 2554, 'jarijari': 2295, 'pemakaiaannya': 3818, 'recently': 4150, 'sukaakk': 4766, 'kereeennnn': 2538, 'akhirnyaaaa': 166, 'hargaa': 1989, 'mantab': 3001, 'npurenya': 3505, 'kaleng': 2407, 'mosturizer': 3213, 'lucy': 2917, 'pms': 3916, 'jerwatan': 2334, 'packging': 3701, 'langgan': 2743, 'ucul': 5270, 'nemenuin': 3310, 'pakaidan': 3725, 'memliki': 3079, 'glowingggggg': 1864, 'ssnya': 4728, 'barusan': 510, 'pinggir': 3883, 'siksa': 4573, 'dampak': 1205, 'dpet': 1441, 'tuk': 5241, 'pnting': 3920, 'sdah': 4357, 'halalaman': 1960, 'jnis': 2345, 'nyengat': 3565, 'bajalan': 432, 'classy': 1055, 'internasional': 2237, 'label': 2712, 'apabila': 300, 'bijak': 729, 'ininpure': 2212, 'gunakanproduk': 1936, 'selainn': 4427, 'inituuu': 2223, 'banua': 499, 'mencaricari': 3087, 'applycatormya': 339, 'tkt': 5148, 'fa': 1576, 'ingredient': 2184, 'melembabkannya': 3069, 'gmpang': 1880, 'termoisture': 5042, 'gils': 1830, 'itusih': 2263, 'sunscrean': 4814, 'ahkirnya': 143, 'prnah': 4025, 'akhir2': 163, '50spf': 47, 'biat': 725, 'kemasaanya': 2509, 'ampir': 260, 'toko': 5159, '34': 37, 'mengcalming': 3097, 'akalin': 159, 'mahasiswa': 2944, 'terimaksih': 5029, 'gangerti': 1740, 'yuks': 5570, 'lengketdan': 2808, 'muncul2': 3251, 'dehlove': 1251, 'diracunin': 1372, 'ngeracunin': 3389, 'nga': 3327, 'moisturisingnya': 3197, 'npuredah': 3497, 'doooongggkrn': 1435, 'lainnyapokoknya': 2733, 'deeehhhhlove': 1241, 'suncreennyaa': 4802, 'akuutekstur': 196, 'medsos': 3061, 'ultraviolet': 5288, 'gag': 1709, 'kalem': 2406, 'finis': 1615, '5hari': 52, 'sunscreenkarena': 4822, 'kun': 2686, 'nyesal': 3573, 'cobainaku': 1075, 'laff': 2714, 'ngeh': 3369, 'antiaging': 286, 'pantes': 3765, 'mulukmuluk': 3246, 'klaimnyatapi': 2594, 'tiputipugilasih': 5143, 'huee': 2106, 'poin': 3923, 'nyobainn': 3585, 'rena': 4190, 'baangetttttttttttttttttttt': 390, 'akhirnyaringan': 168, 'bkl': 746, 'sina': 4588, 'lengket2': 2806, 'workit': 5472, 'bgni': 693, 'depa': 1267, 'searching': 4362, 'restok': 4205, 'dominan': 1419, 'garis': 1759, 'wih': 5444, 'blande': 750, 'bngett': 776, 'adekku': 111, 'grease': 1913, 'meyerapnya': 3138, 'lindungin': 2857, 'binggung': 735, 'fregrance': 1671, 'power': 3996, 'marigold': 3013, 'pudarin': 4068, 'dipakaipackagingnya': 1360, 'higenis': 2053, 'baguspakai': 406, 'anmakeup': 280, 'flawlessharganya': 1638, 'woy': 5488, 'sumpaaaaah': 4783, 'buagus': 857, 'heh': 2023, 'ply': 3912, 'sehari2': 4401, 'daycream': 1229, 'deehhh': 1242, '50nya': 45, 'menurutkuapalagi': 3110, 'berjerawatini': 632, 'krisan': 2658, 'npuresunscreen': 3510, 'ppkm': 3998, 'aromanyaa': 355, 'menhganding': 3104, 'fragnance': 1659, 'moizturizer': 3205, 'yaaiiiyy': 5508, 'yuhuuu': 5567, 'beban': 546, 'wkkww': 5454, 'manteb': 3005, 'padan': 3710, 'dehhhh': 1250, 'cera': 999, 'sunkarna': 4807, 'ala': 203, 'makek': 2960, 'jsdi': 2352, 'gasken': 1764, 'tapiiii': 4919, 'hasih': 2001, 'alamisari': 209, 'krisanekstrak': 2659, 'chamomila': 1013, 'sis': 4596, 'ingridients': 2190, 'testedparaben': 5067, 'freesls': 1670, 'freemineral': 1668, 'freealcohol': 1667, 'freeminimal': 1669, 'ingridientfragrance': 2189, 'finallyyy': 1610, 'never': 3324, 'thought': 5106, 'fan': 1587, 'didnt': 1322, 'gentle': 1807, 'perfume': 3845, 'etc': 1552, 'nutritious': 3527, 'bc': 535, 'camomile': 935, 'skinlike': 4616, 'complement': 1109, 'tried': 5204, 'comes': 1101, 'body': 796, 'bigger': 728, 'friend': 1676, 'who': 5441, 'keep': 2479, 'merupaka': 3127, 'pikoknya': 3877, 'celacela': 978, 'jendela': 2327, 'npurejenis': 3504, 'blandengga': 751, 'whitecastnyapas': 5439, 'moisturizermeskipun': 3202, 'goks': 1890, 'kardus': 2438, 'warp': 5398, 'congrast': 1115, 'shipping': 4543, 'meresapkulitku': 3123, 'nyobatin': 3589, 'berminyakkemasannya': 653, 'reccomend': 4148, 'modern': 3191, 'list': 2861, 'pokoknyaudah': 3943, 'taku': 4895, 'gaboleh': 1702, 'npureini': 3503, 'debat': 1233, 'yaps': 5531, 'recom': 4151, 'ingredienst': 2183, 'malem': 2979, 'gokss': 1891, 'berjerwat': 634, 'gerahh': 1810, 'ahirnya': 142, 'donggteksturnya': 1426, 'bangettttttt': 490, 'desfan': 1276, 'pipet': 3887, 'adang': 106, 'current': 1176, 'sblmnya': 4349, 'benernyaman': 601, 'typecal': 5264, 'bakalam': 435, 'ngendap': 3388, 'jatuhin': 2303, 'tuntut': 5252, 'ceper': 994, 'mantulll': 3012, 'lngket': 2864, 'adek': 110, 'idup': 2133, 'abubikin': 88, 'andddd': 272, 'bcz': 537, 'worries': 5476, 'kerennndan': 2543, 'wajahhh': 5372, 'ngk': 3427, 'bedaa': 552, 'jemur': 2325, 'emosi': 1523, 'says': 4343, 'crysanthemum': 1160, 'terang': 5005, 'tulis': 5242, 'bahasa': 424, 'inggris': 2180, 'embossed': 1517, 'lancip': 2742, 'glycerin': 1874, 'dibutyl': 1313, 'adipate': 114, 'butyloctyl': 908, 'butylene': 907, 'glycol': 1876, 'pentylene': 3835, 'pmethoxycinnamatepolysilicone15': 3915, 'inulin': 2241, 'lauryl': 2768, 'carbamate': 952, 'chrysantemum': 1028, 'parthenium': 3785, 'feverfew': 1604, 'recutita': 4165, 'matricaria': 3041, 'sodium': 4673, 'acrylate': 93, 'acrylodimethyl': 96, 'taurate': 4930, 'copolymer': 1128, 'acrylates': 94, 'c1030alkyl': 918, 'crosspolymer': 1158, 'thrometamine': 5108, 'isodexadecane': 2250, 'glyceryl': 1875, 'caprylate': 948, 'caprylil': 949, 'polisorbate': 3950, '80': 54, 'sinenss': 4591, 'sorbitan': 4692, 'oleate': 3621, 'consistency': 1117, 'rebus': 4147, 'ngebut': 3354, 'had': 1946, 'ngeblandnya': 3348, 'dipakeapalagi': 1362, 'pollnggak': 3953, 'bangttttt': 495, 'favoritttttt': 1597, 'semuaaaa': 4457, 'resultnya': 4207, 'tembus': 4977, 'dailyku': 1200, 'sndiri': 4660, 'bgtt2': 706, 'ringancepet': 4237, 'lengkettrus': 2815, 'perihhlovee': 3851, 'superb': 4848, 'cool': 1126, 'blendeble': 758, 'amaz': 250, 'prep': 4013, 'secintaaa': 4379, 'teruuss': 5060, 'pakanya': 3727, 'whort': 5442, 'gaess': 1708, 'saku': 4292, 'ets': 1554, 'ampunnn': 262, 'toxic': 5180, 'supwrluvv': 4855, 'approved': 342, 'aaaaa': 61, 'ali': 222, 'suncscreennya': 4804, 'bner': 772, 'soalnyaa': 4668, 'pkonyaa': 3897, 'ngehapus': 3370, 'sponge': 4712, 'bergumpal2': 629, 'absorb': 83, 'takuttapi': 4899, 'selove': 4441, 'punyaaa': 4077, 'lahh': 2728, 'nyekekk': 3564, 'waterr': 5404, 'nan': 3280, 'kemanapunn': 2503, 'recomed': 4152, 'kayaa': 2459, 'lagiii': 2719, 'apaaa': 297, 'bgttttkrim': 710, 'paraven': 3779, 'akuuuusuka': 200, 'akupaling': 185, 'bangus': 496, 'applikasiin': 336, 'tekturenya': 4964, 'dada': 1193, 'sihdari': 4558, 'ringannon': 4245, 'calmga': 928, 'singkat': 4592, 'lagj': 2725, 'yok': 5555, 'chakep': 1011, 'berantak': 615, 'huu': 2114, 'grailnya': 1910, 'hihihi': 2061, 'crysanthium': 1162, 'esktrak': 1549, 'ma': 2933, 'indera': 2166, 'inikalian': 2203, 'gendutgendut': 1802, 'cocokdan': 1088, 'memuaskanmudah': 3085, 'paklo': 3745, 'pabisa': 3680, 'denfan': 1259, 'preparation': 4014, 'keq': 2534, 'trust': 5219, 'ngomong': 3431, 'cintya': 1045, 'thaknyou': 5079, 'cicaa': 1031, 'kemanaa': 2501, 'absolutely': 82, 'biarpun': 717, 'cantul': 947, 'secintaa': 4378, 'favvv': 1598, 'irit': 2243, 'wak': 5386, 'ijo2': 2144, 'waa': 5359, 'ngemoist': 3387, 'bbrp': 533, 'yuhuu': 5566, 'sensation': 4472, 'berpapsan': 657, 'finallynemuin': 1609, 'pmbelian': 3913, 'woaaaaw': 5461, 'andelan': 273, 'gtuh': 1926, 'tuapenuaan': 5234, 'berwhite': 670, 'inisih': 2216, 'jagain': 2279, 'pegagan': 3812, 'nongol': 3478, 'kinyis2': 2581, 'hhihi': 2047, 'sesnsitif': 4512, 'ragutapi': 4112, 'bangetgampang': 474, 'kulitapalagi': 2681, 'berminyaklepas': 654, 'putihglowing': 4091, 'dongtolongg': 1428, 'produkini': 4038, 'terbilanh': 5015, 'hr': 2093, 'suruh': 4859, 'angsung': 278, 'ka': 2384, 'enakin': 1527, 'mauy': 3053, 'belang2': 576, 'muma': 3249, 'su': 4749, 'creen': 1154, 'hang': 1978, 'iniwalaupunspf': 2225, 'tinggalin': 5133, 'nihh': 3453, 'glowly': 1869, 'tuhhh': 5240, 'complete': 1110, 'ringaaan': 4232, 'minimalisir': 3159, 'produknyamuka': 4044, 'alhamdulilah': 219, 'aduhhh': 118, 'fans': 1588, 'booming': 805, '10000100': 3, 'akun': 183, 'shoope': 4544, 'video': 5351, 'hoby': 2079, 'jalan2': 2285, 'waterbased': 5401, 'terdabest': 5017, 'rua': 4263, 'rasanyar': 4126, 'memosturize': 3082, 'normalbto': 3486, 'bgttttt': 711, 'iniiiiiiiiiiiiiiii': 2201, 'recomendedddd': 4158, 'nihhhh': 3455, 'trutamaaaaaaa': 5220, 'buatttt': 863, 'kaliannnnnnnnnn': 2412, 'seringgggg': 4497, 'ngelakuin': 3372, 'aktifitasssss': 174, 'rumahhhhh': 4273, 'kuranglebih': 2690, 'pentingokee': 3834, 'wajahh': 5370, 'mantull': 3011, 'pakagingnya': 3722, 'sejuat': 4409, 'tengkyuu': 4993, 'dabesst': 1191, 'slain': 4629, 'untk': 5303, 'wjah': 5452, 'terringan': 5051, 'favoritkuu': 1596, 'kucariii': 2672, 'gamudah': 1739, 'rajinrajinnya': 4114, 'isoman': 2251, 'mudahann': 3228, 'getting': 1817, 'risih': 4251, 'reksturnyaaa': 4185, 'bikinn': 731, 'bakl': 440, 'inisihhh': 2217, 'pastiii': 3796, 'produkkk': 4040, 'enk': 1540, 'nyobak': 3587, 'sensitifudah': 4477, 'ceraah': 1000, 'ringangak': 4239, 'gemesss': 1796, 'bueat': 869, 'beut': 688, 'ndak': 3297, 'papparan': 3770, 'packingannya': 3703, 'kegiatannku': 2480, 'bang': 450, 'rugi': 4269, 'lebig': 2782, 'heavy': 2018, 'sampean': 4314, 'muai': 3219, 'yaay': 5513, 'lembabnya': 2790, 'range': 4119, 'rekomenasi': 4174, 'galau': 1721, 'prawatan': 4007, 'panasansetelah': 3757, 'ttep': 5227, 'mulu': 3245, 'dirasain': 1374, 'karenabenerbener': 2443, 'mengandumg': 3094, 'kukut': 2676, 'iniini': 2202, 'teksturnnya': 4954, 'glowingggg': 1863, 'aaahh': 67, 'semsitif': 4452, 'jelekk': 2323, 'bnaget': 771, 'huat': 2104, 'jan': 2288, 'sukain': 4769, 'whitecastnyaa': 5438, 'udaa': 5273, 'loo': 2879, 'pakw': 3747, 'lengkeg': 2803, 'semuaa': 4455, 'gagall': 1711, 'semuaaa': 4456, 'melindungicepat': 3072, 'teballlsuka': 4940, 'alkoholparabensls': 226, 'busuihalal': 900, 'pulapokoknya': 4071, 'seginii': 4396, 'thankyouuuuuuuuuuuuuuuuuuuuuuuuuuuuuuuuuuuuuuuuuuuuuuuuuuuuuuuuuu': 5089, 'glowingpokonya': 1867, 'pragrance': 3999, 'bahanbahannya': 423, 'rapih': 4123, 'bagu': 402, 'ampunnnn': 263, 'musim': 3257, 'seringsering': 4498, 'jemurjemur': 2326, 'yeeey': 5545, 'hahahaha': 1953, 'support': 4854, 'cocokcocok': 1087, 'anyway': 293, 'spertinya': 4703, 'sensitivekombinasi': 4480, 'sdikit': 4360, 'baik2': 429, 'keefektifitasan': 2478, 'scr': 4351, 'kluar2': 2604, 'smg': 4648, 'pricely': 4018, 'seworthit': 4526, 'hydrated': 2122, 'aaaah': 65, 'lagiiiii': 2720, 'gitcuuuu': 1839, 'lancar': 2741, 'campur': 936, 'gilakkk': 1827, 'abel': 73, 'pakenyaterus': 3743, 'aplikasiian': 317, 'mukasuka': 3238, 'yeyyyy': 5551, 'dpetin': 1442, 'ajib': 155, 'gabanyak': 1696, 'ngesetnya': 3412, 'leleh': 2786, 'gelap': 1785, 'terapapar': 5006, 'antiinflamasi': 287, 'asiknya': 365, 'punggung': 4074, 'krasa': 2651, '1mingguan': 19, 'bsa': 851, 'leber': 2779, 'sukaaakk': 4764, 'sepadet': 4485, 'berfragrance': 628, 'cintaas': 1042, 'cpet': 1142, 'jdiin': 2311, 'hahahha': 1954, 'bangetsuka': 481, 'dikulitkubuat': 1334, 'pore': 3960, 'ngeluarinnya': 3383, 'selektif': 4437, 'lima': 2853, 'siliconefree': 4580, 'endulita': 1534, 'manjaaa': 2997, 'sbgai': 4347, 'cuakep': 1164, 'puollll': 4079, 'beuhhhh': 687, 'nampolll': 3278, 'tsay': 5225, 'halang': 1962, 'cerita': 1008, 'itdari': 2255, 'teksture2': 4951, 'sunscrennya': 4836, 'huaaaah': 2103, 'ehehehe': 1492, 'qt': 4097, 'aky': 202, 'cintaaaa': 1039, 'whitwcast': 5440, 'oksida': 3617, 'acohol': 92, 'packacing': 3685, 'aesteticc': 120, 'gemesinn': 1794, 'yass': 5532, 'meninggalkn': 3105, 'plusss': 3911, 'wohooo': 5463, 'dandan': 1207, 'yukk': 5569, 'motor': 3214, 'enakny': 1529, 'hargany': 1990, 'pokokny': 3934, 'lemgket': 2799, 'galengket': 1722, 'dongg': 1423, 'rumahngga': 4275, 'pakeegampang': 3735, 'lggg': 2825, 'dilindungin': 1339, 'bneran': 774, 'asliiikkkk': 370, 'pis': 3889, 'bangetbdi': 469, 'berminyaaak': 649, 'supeeer': 4845, 'seriusss': 4503, 'ciri': 1048, 'kuli': 2677, 'tuu': 5259, 'galfok': 1723, 'pa50': 3678, 'npureid': 3502, 'sukaaaaaaaaa': 4761, 'bngttt': 782, 'cukuppp': 1171, 'kategori': 2453, 'akohhhh': 170, 'sukaaaaa': 4758, 'lobe': 2867, 'favoriteku': 1594, 'jas': 2297, 'yqng': 5562, 'izin': 2272, 'sertifikat': 4505, 'skop': 4623, 'ngeskip': 3413, 'koleksi': 2630, 'cos': 1130, 'jrawat': 2349, 'centela': 987, 'chamomille': 1016, 'lengketwangi': 2818, 'cerahkesannya': 1005, 'thebest': 5092, 'pakelembut': 3739, 'lahhh': 2729, 'setiapkeluar': 4520, 'hahah': 1951, 'smngattt': 4651, 'selanjutnyaaa': 4432, 'suksess': 4778, 'sllu': 4637, 'ngeganggu': 3366, 'minyakannn': 3164, 'nonkomedogenic': 3480, 'trlu': 5209, 'yeayy': 5541, 'sebaguss': 4367, 'wajih': 5383, 'toppp': 5174, 'nangisss': 3282, 'panasanabikin': 3755, 'cerahglowing': 1004, 'ngeblok': 3351, 'haloo': 1966, 'whitecas': 5428, 'jugaspfnya': 2373, 'percayain': 3839, 'npureemang': 3501, 'itusihwajah': 2264, 'beruntusansetelh': 669, 'hilangaku': 2068, 'positif': 3966, 'cengang': 985, 'jungkal': 2380, 'jth': 2354, 'cnta': 1064, 'kndungan': 2618, 'bpomhalal': 816, 'lagipas': 2724, 'aplikasikn': 320, 'nnti': 3466, 'krg': 2656, 'offeral': 3597, 'meghidrasi': 3064, 'greese': 1918, 'silicon': 4577, 'nebel': 3298, 'simpelcute': 4582, 'firendly': 1627, 'faforiteeeee': 1580, 'dibleand': 1306, 'siska': 4600, 'kohl': 2624, 'woii': 5465, 'cantikk': 946, 'jumpa': 2378, 'basis': 515, 'jdaman': 2309, 'trlalu': 5207, 'bruntus': 839, 'nyoba2': 3582, 'kosong': 2646, 'na18211700661': 3265, 'melidungi': 3071, 'jahatt': 2281, 'specialnya': 4699, 'banjir': 497, 'foundition': 1657, 'luff': 2918, 'antioxidant': 290, 'bayang': 527, 'tip': 5136, 'acrylic': 95, 'niattt': 3449, 'tub': 5235, 'empuk': 1524, 'recommed': 4160, 'nyereppp': 3572, 'dicobainnn': 1319, 'emas': 1516, 'cooling': 1127, 'messy': 3129, 'eksklusif': 1499, 'ngeleber': 3373, 'longtime': 2878, 'wajahnyaa': 5377, 'apas': 308, 'yey': 5550, 'hihih': 2060, 'gakk': 1718, 'mantemannn': 3006, 'yup': 5571, 'kandunganya': 2425, 'dimukaspfnya50pa': 1349, 'rekomemded': 4172, 'panassan': 3759, 'bos': 810, 'anw': 291, 'memoliki': 3081, 'coock': 1125, 'jerawta': 2333, 'sj': 4607, 'ilove': 2151, 'eheheh': 1491, 'gg': 1818, 'sist': 4601, 'annoying': 281, 'caricari': 956, 'bnran': 787, 'prodaknya': 4028, 'lengketdi': 2809, 'cerahpokonya': 1006, 'resep': 4202, 'lgs': 2829, 'putihhh': 4092, 'bangettaman': 483, 'matahariproduk': 3033, 'akuuukarena': 198, 'pemakaianya': 3821, 'wajin': 5384, 'halalnyaa': 1961, 'kalangannn': 2404, 'sn': 4659, 'jumpain': 2379, 'bandel': 446, 'sush': 4864, 'silicondll': 4578, 'ringanmelembabkan': 4241, 'untul': 5306, 'tempelin': 4986, 'tmbah': 5151, 'direkomendasiin': 1381, 'inikandungan': 2204, 'lengkapsekarang': 2802, 'lagiaman': 2717, 'lembak': 2791, 'sangaat': 4319, 'pakebebas': 3731, 'ringancepat': 4236, 'terbaikwaktu': 5014, 'launchinglangsung': 2767, 'aktifitasnya': 173, 'belangkusum': 577, 'trik': 5205, 'healty': 2017, 'glowinggg': 1862, 'kandungann': 2424, 'perskincare': 3861, 'woi': 5464, 'benrrr': 606, 'bgtbgtbgtttbgt': 700, 'fragerance': 1658, 'spa': 4698, 'keluarga': 2493, 'banyakkk': 502, 'bulet': 878, 'sharing': 4535, 'ngtt': 3440, 'tektur': 4963, 'bumill': 885, 'omong': 3630, 'jejak': 2314, 'ekslusif': 1500, 'wajahbener2': 5366, 'kwalitas': 2702, 'unt': 5301, 'kau': 2454, 'gituuuu': 1849, 'terbaikk': 5011, 'pakeee': 3734, 'pokonyaaaa': 3947, 'makasiiikkkk': 2957, 'cammomile': 934, 'cerahgak': 1003, 'wajahmakasih': 5375, 'incer': 2162, 'tonernya': 5165, 'mngenadung': 3182, 'huaaaa': 2101, 'wajibbbb': 5382, 'appy': 343, 'pahamm': 3719, 'sukaak': 4765, 'hsrus': 2099, 'putih2': 4090, 'nonalchohol': 3472, 'explore': 1571, 'setinggi': 4521, 'nihhh': 3454, 'ingedientsnya': 2179, 'pokoknyaaaku': 3941, 'racunin': 4105, 'five': 1631, 'centellanya': 989, 'ngg': 3416, 'nii': 3458, 'nangkap': 3284, 'lembu': 2793, 'nyegat': 3563, 'tang': 4907, 'masing': 3020, 'centeaaciatika': 986, 'terasaa': 5008, 'sklii': 4621, 'akh': 161, 'naman': 3273, 'skarang': 4611, 'berangkat': 612, 'panasankarna': 3756, 'iteminijuga': 2257, 'mukany': 3237, 'gabikinin': 1700, 'nulis': 3518, 'kemudian': 2515, 'ringanga': 4238, 'hijab': 2064, 'nha': 3445, 'woowww': 5469, 'sedmpat': 4389, 'sunscreen2': 4820, 'keliahatn': 2487, 'gilaaadan': 1824, 'serig': 4494, 'menganduk': 3093, 'sadar': 4284, 'smggu': 4650, 'hsilnya': 2098, 'extraas': 1573, 'usual': 5329, 'thincenderung': 5099, 'lengketgreasy': 2811, 'either': 1495, 'ekonomis': 1498, 'perlh': 3854, 'part': 3784, 'supeer': 4846, 'nungguin': 3524, 'dibwh': 1315, 'nyangkaini': 3553, 'lannya': 2752, 'woubikin': 5482, 'lembabdan': 2788, 'lindu': 2855, 'bjatuh': 744, 'cakeep': 923, 'looking': 2882, 'relatif': 4186, 'jatohnya': 2299, 'lengketttttt': 2817, 'termantul': 5040, 'benerlembut': 600, 'gamoang': 1734, 'kantung': 2434, 'elastisitas': 1507, 'formulanyaya': 1648, 'crysantheum': 1161, 'kenapaa': 2522, 'ngeratain': 3394, 'paskibra': 3792, 'bangetlahh': 477, 'glownya': 1870, 'oy': 3675, 'gray': 1912, 'mmg': 3180, 'aslik': 371, 'nakar': 3271, 'minyakann': 3163, 'apalagiii': 304, 'mataharijujur': 3031, 'cencer': 982, 'herbal': 2041, 'neglindungin': 3305, 'rana': 4118, 'khawarir': 2571, 'ebst': 1470, 'noure': 3491, 'aunscreen': 379, 'memoisturizing': 3080, 'terrr': 5052, 'naturalalami': 3291, 'sukkaaaa': 4777, 'mainmain': 2949, 'keluarberaktivitas': 2492, 'textur': 5073, 'setetlah': 4517, 'beratt': 619, 'ngelembkan': 3378, 'gerahlengket': 1811, 'cobaaainnnnn': 1072, 'iyaaa': 2271, 'indikator': 2167, 'mevvah': 3135, 'encer': 1531, 'wktu': 5455, 'sukaakkkk': 4767, 'active': 97, 'terthe': 5055, 'melembabpin': 3070, 'teksturr': 4959, 'perlahan': 3853, 'lovely': 2899, 'hatisoalnya': 2011, 'gthu': 1923, 'sunscrenya': 4837, 'nonalkohol': 3474, 'mencet': 3088, 'gakkk': 1719, 'dongggg': 1425, 'abiss': 77, 'pbom': 3805, 'gprlu': 1905, 'testurnya': 5069, 'sisain': 4598, '107': 8, '1540': 16, 'lillymaliah': 2852, 'tibe': 5117, '1541': 17, 'tajem': 4890, 'keluarpunya': 2495, 'tara': 4922, 'tiapjalan': 5114, 'packadgingnya': 3686, 'handle': 1976, 'parahakhirnya': 3775, 'mostly': 3212, 'moisturizernya': 3203, 'gw': 1944, 'teskturnta': 5063, 'bangat': 452, 'hhi': 2046, 'bangak': 451, 'meindungi': 3065, 'udahh': 5275, 'sebagusss': 4368, 'herann': 2040, 'produknyaaa': 4043, 'mh': 3139, 'aplicatornya': 315, 'nyisahin': 3579, 'gedong': 1781, 'shayy': 4536, 'yaampoonn': 5511, 'mommy': 3207, 'dipakeenon': 1363, 'alkoholpastinya': 227, 'bpomjd': 817, 'pol': 3948, 'hydrate': 2121, 'through': 5109, 'check': 1022, 'tt': 5226, 'banegt': 448, 'keburu2': 2469, 'kenall': 2520, 'akutesturnya': 192, 'hariburuan': 1994, 'yaah': 5506, 'gaboong': 1703, 'pwoll': 4096, 'akuselain': 188, 'recomendded': 4155, 'bayangin': 528, 'sunscrren': 4840, 'satudan': 4335, 'ooo': 3638, 'kuasnyaa': 2667, 'persenn': 3860, 'apkenya': 311, 'gk': 1851, 'berulangkali': 667, 'prahhhh': 4000, 'fragrancee': 1661, 'poriporisekaligus': 3964, 'minyakjadi': 3165, 'ge': 1778, 'seriuss': 4502, 'te': 4936, 'bangethdjdhdjjdjdjjsjdjdhhdhshshshshshshshshshsheheehhehehehdb': 475, 'jsjsjdjejej': 2353, 'jejejejejjeje': 2320, 'jejejejejejdjjd': 2316, 'jejejejejejejejejjejeje': 2318, 'jejejejejjeiee': 2319, 'jejejejejeje': 2317, 'jejejekekekkjejeejjeej': 2321, 'nsjejejejejej': 3513, 'jejejejejej': 2315, 'xx': 5497, 'seworth': 4525, 'sunscreean': 4816, 'andalang': 271, 'sembuh': 4446, 'nihhhhh': 3456, 'makeuo': 2965, 'mo': 3187, 'berbahayaaa': 621, 'bgtakhirnya': 698, 'inituh': 2222, 'numpuk': 3521, 'bekurang': 573, 'termyata': 5043, 'padhaal': 3714, 'gamahal': 1725, 'pigmen': 3875, 'nggaa': 3418, 'dikulitt': 1337, 'jugaaaaa': 2364, 'addict': 109, 'duluuu': 1459, 'matang': 3036, 'uuu': 5334, 'glass': 1853, 'combi': 1095, 'glowwy': 1871, 'oksidasi': 3618, 'controlnya': 1124, 'aaaaaa': 62, 'bertexture': 664, 'stop': 4746, 'haruuus': 1999, 'yaaaaaaaaaaaaa': 5504, 'yayyy': 5535, 'aaplikasikan': 72, 'iiiii': 2140, 'mampuy': 2985, 'ak': 157, 'akal': 158, 'pokoknyaaaharganya': 3940, 'retractable': 4212, 'blussh': 769, 'slama': 4631, 'doomss': 1431, 'huhhh': 2109, 'popok': 3959, 'tktk': 5149, 'packagingnnya': 3689, 'pointtt': 3927, 'tutorial': 5256, 'hariii': 1995}\n"
          ]
        }
      ]
    },
    {
      "cell_type": "markdown",
      "source": [
        "## SVM analysis"
      ],
      "metadata": {
        "id": "D4Fep3_YUQWw"
      }
    },
    {
      "cell_type": "markdown",
      "source": [
        "### Model"
      ],
      "metadata": {
        "id": "MpWHGpa1wwPS"
      }
    },
    {
      "cell_type": "code",
      "source": [
        "SVMkernel = 'linear'\n",
        "SVMprobability = True"
      ],
      "metadata": {
        "id": "HmfKhZRpl1oL"
      },
      "execution_count": 116,
      "outputs": []
    },
    {
      "cell_type": "code",
      "source": [
        "SVM_model = SVC(kernel=SVMkernel, probability=SVMprobability)\n",
        "SVM_model.fit(data_train_tfidf, Y_train)"
      ],
      "metadata": {
        "colab": {
          "base_uri": "https://localhost:8080/"
        },
        "id": "pCqa1PJOhwc3",
        "outputId": "261e9a84-2937-4668-a77d-3ffc6a40dcfe"
      },
      "execution_count": 117,
      "outputs": [
        {
          "output_type": "execute_result",
          "data": {
            "text/plain": [
              "SVC(kernel='linear', probability=True)"
            ]
          },
          "metadata": {},
          "execution_count": 117
        }
      ]
    },
    {
      "cell_type": "markdown",
      "source": [
        "### Accuracy"
      ],
      "metadata": {
        "id": "yy7KHNznw0Fk"
      }
    },
    {
      "cell_type": "code",
      "source": [
        "predictions_SVM = SVM_model.predict(data_test_tfidf)\n",
        "test_prediction = pd.DataFrame()\n",
        "test_prediction['text'] = X_test\n",
        "test_prediction['sentiment'] = predictions_SVM\n",
        "SVM_accuracy = accuracy_score(predictions_SVM, Y_test) * 100\n",
        "SVM_accuracy = round(SVM_accuracy, 1)"
      ],
      "metadata": {
        "id": "8AKpEg2ihyzn"
      },
      "execution_count": 118,
      "outputs": []
    },
    {
      "cell_type": "code",
      "source": [
        "SVM_accuracy"
      ],
      "metadata": {
        "colab": {
          "base_uri": "https://localhost:8080/"
        },
        "id": "X7qKVvTOh92O",
        "outputId": "86387ed4-332f-499e-d57d-a9423492bdfa"
      },
      "execution_count": 119,
      "outputs": [
        {
          "output_type": "execute_result",
          "data": {
            "text/plain": [
              "98.5"
            ]
          },
          "metadata": {},
          "execution_count": 119
        }
      ]
    },
    {
      "cell_type": "code",
      "source": [
        "print(\"\\nSVM classification report:\") \n",
        "print(classification_report(Y_test, predictions_SVM))"
      ],
      "metadata": {
        "colab": {
          "base_uri": "https://localhost:8080/"
        },
        "id": "niKsZOfxiDzO",
        "outputId": "1b66232a-5a72-4638-a0de-88fd121a8fb7"
      },
      "execution_count": 120,
      "outputs": [
        {
          "output_type": "stream",
          "name": "stdout",
          "text": [
            "\n",
            "SVM classification report:\n",
            "              precision    recall  f1-score   support\n",
            "\n",
            "    negative       0.00      0.00      0.00         5\n",
            "     neutral       0.00      0.00      0.00         3\n",
            "    positive       0.99      1.00      0.99       540\n",
            "\n",
            "    accuracy                           0.99       548\n",
            "   macro avg       0.33      0.33      0.33       548\n",
            "weighted avg       0.97      0.99      0.98       548\n",
            "\n"
          ]
        },
        {
          "output_type": "stream",
          "name": "stderr",
          "text": [
            "/usr/local/lib/python3.7/dist-packages/sklearn/metrics/_classification.py:1308: UndefinedMetricWarning: Precision and F-score are ill-defined and being set to 0.0 in labels with no predicted samples. Use `zero_division` parameter to control this behavior.\n",
            "  _warn_prf(average, modifier, msg_start, len(result))\n",
            "/usr/local/lib/python3.7/dist-packages/sklearn/metrics/_classification.py:1308: UndefinedMetricWarning: Precision and F-score are ill-defined and being set to 0.0 in labels with no predicted samples. Use `zero_division` parameter to control this behavior.\n",
            "  _warn_prf(average, modifier, msg_start, len(result))\n",
            "/usr/local/lib/python3.7/dist-packages/sklearn/metrics/_classification.py:1308: UndefinedMetricWarning: Precision and F-score are ill-defined and being set to 0.0 in labels with no predicted samples. Use `zero_division` parameter to control this behavior.\n",
            "  _warn_prf(average, modifier, msg_start, len(result))\n"
          ]
        }
      ]
    },
    {
      "cell_type": "markdown",
      "source": [
        "## Naive bayes analysis"
      ],
      "metadata": {
        "id": "iS8zL07wn92L"
      }
    },
    {
      "cell_type": "markdown",
      "source": [
        "### Model"
      ],
      "metadata": {
        "id": "v58DipV847tQ"
      }
    },
    {
      "cell_type": "code",
      "source": [
        "cnb_model = ComplementNB()\n",
        "cnb_model.fit(data_train_tfidf, Y_train)"
      ],
      "metadata": {
        "colab": {
          "base_uri": "https://localhost:8080/"
        },
        "id": "MTJ5yLPc1CJu",
        "outputId": "fec7aa2b-794f-490d-b388-e6386bccc397"
      },
      "execution_count": 121,
      "outputs": [
        {
          "output_type": "execute_result",
          "data": {
            "text/plain": [
              "ComplementNB()"
            ]
          },
          "metadata": {},
          "execution_count": 121
        }
      ]
    },
    {
      "cell_type": "code",
      "source": [
        "bnb_model = BernoulliNB()\n",
        "bnb_model.fit(data_train_tfidf, Y_train)"
      ],
      "metadata": {
        "colab": {
          "base_uri": "https://localhost:8080/"
        },
        "id": "uWCwW32DntKS",
        "outputId": "30ee971b-5ea8-4505-a7f7-8936d4c0149d"
      },
      "execution_count": 122,
      "outputs": [
        {
          "output_type": "execute_result",
          "data": {
            "text/plain": [
              "BernoulliNB()"
            ]
          },
          "metadata": {},
          "execution_count": 122
        }
      ]
    },
    {
      "cell_type": "code",
      "source": [
        "mnb_model = MultinomialNB()\n",
        "mnb_model.fit(data_train_tfidf, Y_train)"
      ],
      "metadata": {
        "colab": {
          "base_uri": "https://localhost:8080/"
        },
        "id": "gyqEW3lQpVPf",
        "outputId": "9e01d749-dd6d-4948-ef66-448360b7c668"
      },
      "execution_count": 123,
      "outputs": [
        {
          "output_type": "execute_result",
          "data": {
            "text/plain": [
              "MultinomialNB()"
            ]
          },
          "metadata": {},
          "execution_count": 123
        }
      ]
    },
    {
      "cell_type": "markdown",
      "source": [
        "### Accuracy"
      ],
      "metadata": {
        "id": "aZQnyclX5Ely"
      }
    },
    {
      "cell_type": "code",
      "source": [
        "def naiveAccuracy(model, data_test):\n",
        "  predictions_Naive = model.predict(data_test_tfidf)\n",
        "  test_prediction = pd.DataFrame()\n",
        "  test_prediction['text'] = X_test\n",
        "  test_prediction['sentiment'] = predictions_Naive\n",
        "  Naive_accuracy = accuracy_score(predictions_Naive, Y_test) * 100\n",
        "  Naive_accuracy = round(Naive_accuracy, 1)\n",
        "  \n",
        "  return predictions_Naive, Naive_accuracy"
      ],
      "metadata": {
        "id": "imnKe8I9nKkA"
      },
      "execution_count": 124,
      "outputs": []
    },
    {
      "cell_type": "code",
      "source": [
        "cnb_acc = naiveAccuracy(cnb_model, data_test_tfidf)\n",
        "bnb_acc = naiveAccuracy(bnb_model, data_test_tfidf)\n",
        "mnb_acc = naiveAccuracy(mnb_model, data_test_tfidf)\n",
        "\n",
        "print(cnb_acc[1])\n",
        "print(bnb_acc[1])\n",
        "print(mnb_acc[1])"
      ],
      "metadata": {
        "colab": {
          "base_uri": "https://localhost:8080/"
        },
        "id": "nFN2ZAhO3pJh",
        "outputId": "a3434a4a-b7b1-4059-bc34-cb0ca92a07ba"
      },
      "execution_count": 125,
      "outputs": [
        {
          "output_type": "stream",
          "name": "stdout",
          "text": [
            "98.5\n",
            "98.5\n",
            "98.5\n"
          ]
        }
      ]
    },
    {
      "cell_type": "code",
      "source": [
        "print(\"\\nNaive bayes ComplementNB classification report:\") \n",
        "print(classification_report(Y_test, cnb_acc[0]))\n",
        "print(\"\\nNaive bayes BernoulliNB classification report:\") \n",
        "print(classification_report(Y_test, bnb_acc[0]))\n",
        "print(\"\\nNaive bayes MultinomialNB classification report:\") \n",
        "print(classification_report(Y_test, mnb_acc[0]))"
      ],
      "metadata": {
        "colab": {
          "base_uri": "https://localhost:8080/"
        },
        "id": "m8dmZCjw5U3q",
        "outputId": "53ef8245-a13c-455c-db46-f79556c82ca7"
      },
      "execution_count": 126,
      "outputs": [
        {
          "output_type": "stream",
          "name": "stdout",
          "text": [
            "\n",
            "Naive bayes ComplementNB classification report:\n",
            "              precision    recall  f1-score   support\n",
            "\n",
            "    negative       0.00      0.00      0.00         5\n",
            "     neutral       0.50      0.33      0.40         3\n",
            "    positive       0.99      1.00      0.99       540\n",
            "\n",
            "    accuracy                           0.99       548\n",
            "   macro avg       0.50      0.44      0.46       548\n",
            "weighted avg       0.98      0.99      0.98       548\n",
            "\n",
            "\n",
            "Naive bayes BernoulliNB classification report:\n",
            "              precision    recall  f1-score   support\n",
            "\n",
            "    negative       0.00      0.00      0.00         5\n",
            "     neutral       0.00      0.00      0.00         3\n",
            "    positive       0.99      1.00      0.99       540\n",
            "\n",
            "    accuracy                           0.99       548\n",
            "   macro avg       0.33      0.33      0.33       548\n",
            "weighted avg       0.97      0.99      0.98       548\n",
            "\n",
            "\n",
            "Naive bayes MultinomialNB classification report:\n",
            "              precision    recall  f1-score   support\n",
            "\n",
            "    negative       0.00      0.00      0.00         5\n",
            "     neutral       0.00      0.00      0.00         3\n",
            "    positive       0.99      1.00      0.99       540\n",
            "\n",
            "    accuracy                           0.99       548\n",
            "   macro avg       0.33      0.33      0.33       548\n",
            "weighted avg       0.97      0.99      0.98       548\n",
            "\n"
          ]
        },
        {
          "output_type": "stream",
          "name": "stderr",
          "text": [
            "/usr/local/lib/python3.7/dist-packages/sklearn/metrics/_classification.py:1308: UndefinedMetricWarning: Precision and F-score are ill-defined and being set to 0.0 in labels with no predicted samples. Use `zero_division` parameter to control this behavior.\n",
            "  _warn_prf(average, modifier, msg_start, len(result))\n",
            "/usr/local/lib/python3.7/dist-packages/sklearn/metrics/_classification.py:1308: UndefinedMetricWarning: Precision and F-score are ill-defined and being set to 0.0 in labels with no predicted samples. Use `zero_division` parameter to control this behavior.\n",
            "  _warn_prf(average, modifier, msg_start, len(result))\n",
            "/usr/local/lib/python3.7/dist-packages/sklearn/metrics/_classification.py:1308: UndefinedMetricWarning: Precision and F-score are ill-defined and being set to 0.0 in labels with no predicted samples. Use `zero_division` parameter to control this behavior.\n",
            "  _warn_prf(average, modifier, msg_start, len(result))\n",
            "/usr/local/lib/python3.7/dist-packages/sklearn/metrics/_classification.py:1308: UndefinedMetricWarning: Precision and F-score are ill-defined and being set to 0.0 in labels with no predicted samples. Use `zero_division` parameter to control this behavior.\n",
            "  _warn_prf(average, modifier, msg_start, len(result))\n",
            "/usr/local/lib/python3.7/dist-packages/sklearn/metrics/_classification.py:1308: UndefinedMetricWarning: Precision and F-score are ill-defined and being set to 0.0 in labels with no predicted samples. Use `zero_division` parameter to control this behavior.\n",
            "  _warn_prf(average, modifier, msg_start, len(result))\n",
            "/usr/local/lib/python3.7/dist-packages/sklearn/metrics/_classification.py:1308: UndefinedMetricWarning: Precision and F-score are ill-defined and being set to 0.0 in labels with no predicted samples. Use `zero_division` parameter to control this behavior.\n",
            "  _warn_prf(average, modifier, msg_start, len(result))\n",
            "/usr/local/lib/python3.7/dist-packages/sklearn/metrics/_classification.py:1308: UndefinedMetricWarning: Precision and F-score are ill-defined and being set to 0.0 in labels with no predicted samples. Use `zero_division` parameter to control this behavior.\n",
            "  _warn_prf(average, modifier, msg_start, len(result))\n",
            "/usr/local/lib/python3.7/dist-packages/sklearn/metrics/_classification.py:1308: UndefinedMetricWarning: Precision and F-score are ill-defined and being set to 0.0 in labels with no predicted samples. Use `zero_division` parameter to control this behavior.\n",
            "  _warn_prf(average, modifier, msg_start, len(result))\n",
            "/usr/local/lib/python3.7/dist-packages/sklearn/metrics/_classification.py:1308: UndefinedMetricWarning: Precision and F-score are ill-defined and being set to 0.0 in labels with no predicted samples. Use `zero_division` parameter to control this behavior.\n",
            "  _warn_prf(average, modifier, msg_start, len(result))\n"
          ]
        }
      ]
    },
    {
      "cell_type": "markdown",
      "source": [
        "## Conclusion"
      ],
      "metadata": {
        "id": "ofXEq9vF7sHT"
      }
    },
    {
      "cell_type": "code",
      "source": [
        "def top_words(data, title):\n",
        "  words_list = data.split(' ')\n",
        "  counts = Counter(words_list)\n",
        "  top_words = counts.most_common(30)\n",
        "  length_of_list = len(top_words)\n",
        "  index = np.arange(length_of_list)\n",
        "  print(top_words)\n",
        "  count_values = [x[1] for x in top_words]\n",
        "  count_words = [x[0] for x in top_words]\n",
        "  fig = plt.figure(figsize = (16,9))\n",
        "  bar_width = 0.4\n",
        "  rects1 = plt.bar(index, count_values)\n",
        "  plt.xticks(index + bar_width, count_words, rotation=0)\n",
        "  plt.title(title)\n",
        "  plt.savefig(\"%s-.png\"%title)\n",
        "  plt.show()"
      ],
      "metadata": {
        "id": "eMDOQLxh7x2o"
      },
      "execution_count": 141,
      "outputs": []
    },
    {
      "cell_type": "code",
      "source": [
        "def makeWordcloud(data, title):\n",
        "  wordcloud = WordCloud(max_font_size=50, max_words=100, background_color=\"white\").generate(data)\n",
        "  plt.figure()\n",
        "  plt.imshow(wordcloud, interpolation=\"bilinear\")\n",
        "  plt.axis(\"off\")\n",
        "  plt.title(title)\n",
        "  plt.savefig(\"%s-.png\"%title)\n",
        "  plt.show()"
      ],
      "metadata": {
        "id": "jhgNuxqRf1fY"
      },
      "execution_count": 142,
      "outputs": []
    },
    {
      "cell_type": "markdown",
      "source": [
        "### Sociolla"
      ],
      "metadata": {
        "id": "8r2t2kNi-g97"
      }
    },
    {
      "cell_type": "code",
      "source": [
        "sociolla_positive_sentiment = data_labelling[(data_labelling['sentiment'] == 'positive') & (data_labelling['source'] == 'sociolla')]\n",
        "sociolla_positive_words = ' '.join(sociolla_positive_sentiment['text'])"
      ],
      "metadata": {
        "id": "xziStwa678VR"
      },
      "execution_count": 143,
      "outputs": []
    },
    {
      "cell_type": "code",
      "source": [
        "top_words(sociolla_positive_words, \"Sociolla top words in positive sentiment\")\n",
        "print(\"\\n\")\n",
        "makeWordcloud(sociolla_positive_words, \"Sociolla top words in positive sentiment\")"
      ],
      "metadata": {
        "colab": {
          "base_uri": "https://localhost:8080/",
          "height": 822
        },
        "id": "xHNwGk2pXDGf",
        "outputId": "0e42390f-c6f8-40d9-8ed7-905f62da0b93"
      },
      "execution_count": 144,
      "outputs": [
        {
          "output_type": "stream",
          "name": "stdout",
          "text": [
            "[('dan', 2857), ('banget', 2799), ('ini', 2666), ('aku', 2363), ('sunscreen', 2270), ('kulit', 1672), ('di', 1618), ('yang', 1427), ('juga', 1297), ('ga', 1292), ('jadi', 1167), ('buat', 1074), ('suka', 1056), ('bikin', 1034), ('sama', 994), ('nya', 973), ('npure', 971), ('wajah', 959), ('produk', 906), ('yg', 844), ('bagus', 794), ('tekstur', 763), ('pake', 735), ('dari', 719), ('ringan', 719), ('powder', 696), ('gak', 695), ('pakai', 695), ('bgt', 660), ('cocok', 625)]\n"
          ]
        },
        {
          "output_type": "display_data",
          "data": {
            "image/png": "[encoded data removed]",
            "text/plain": [
              "<Figure size 1152x648 with 1 Axes>"
            ]
          },
          "metadata": {
            "needs_background": "light"
          }
        },
        {
          "output_type": "stream",
          "name": "stdout",
          "text": [
            "\n",
            "\n"
          ]
        },
        {
          "output_type": "display_data",
          "data": {
            "image/png": "[encoded data removed]",
            "text/plain": [
              "<Figure size 432x288 with 1 Axes>"
            ]
          },
          "metadata": {
            "needs_background": "light"
          }
        }
      ]
    },
    {
      "cell_type": "code",
      "source": [
        "sociolla_negative_sentiment = data_labelling[(data_labelling['sentiment'] == 'negative') & (data_labelling['source'] == 'sociolla')]\n",
        "sociolla_negative_words = ' '.join(sociolla_negative_sentiment['text'])"
      ],
      "metadata": {
        "id": "F5coySMiWdPS"
      },
      "execution_count": 145,
      "outputs": []
    },
    {
      "cell_type": "code",
      "source": [
        "top_words(sociolla_negative_words, \"Sociolla top words in positive sentiment\")\n",
        "print(\"\\n\")\n",
        "makeWordcloud(sociolla_negative_words, \"Sociolla top words in positive sentiment\")"
      ],
      "metadata": {
        "colab": {
          "base_uri": "https://localhost:8080/",
          "height": 822
        },
        "id": "RcgdNbgu9bUk",
        "outputId": "47fd2da2-867d-41bc-ff2c-028d84db2aa7"
      },
      "execution_count": 146,
      "outputs": [
        {
          "output_type": "stream",
          "name": "stdout",
          "text": [
            "[('bagus', 160), ('ini', 35), ('ga', 27), ('di', 27), ('banget', 19), ('aku', 19), ('yg', 19), ('sunscreen', 17), ('tp', 17), ('produk', 16), ('tapi', 15), ('pake', 15), ('ya', 14), ('bedak', 13), ('jd', 13), ('jadi', 13), ('kulit', 12), ('karena', 11), ('dan', 11), ('wajah', 11), ('kalo', 11), ('bgt', 10), ('apa', 10), ('sih', 9), ('untuk', 9), ('sama', 9), ('gak', 8), ('bingung', 8), ('buat', 8), ('aja', 8)]\n"
          ]
        },
        {
          "output_type": "display_data",
          "data": {
            "image/png": "[encoded data removed]",
            "text/plain": [
              "<Figure size 1152x648 with 1 Axes>"
            ]
          },
          "metadata": {
            "needs_background": "light"
          }
        },
        {
          "output_type": "stream",
          "name": "stdout",
          "text": [
            "\n",
            "\n"
          ]
        },
        {
          "output_type": "display_data",
          "data": {
            "image/png": "[encoded data removed]",
            "text/plain": [
              "<Figure size 432x288 with 1 Axes>"
            ]
          },
          "metadata": {
            "needs_background": "light"
          }
        }
      ]
    },
    {
      "cell_type": "markdown",
      "source": [
        "### Female daily"
      ],
      "metadata": {
        "id": "aKCPJL88XlnY"
      }
    },
    {
      "cell_type": "code",
      "source": [
        "femaleDaily_positive_sentiment = data_labelling[(data_labelling['sentiment'] == 'positive') & (data_labelling['source'] == 'femaleDaily')]\n",
        "femaleDaily_positive_words = ' '.join(femaleDaily_positive_sentiment['text'])"
      ],
      "metadata": {
        "id": "PJfXigGAXlnY"
      },
      "execution_count": 147,
      "outputs": []
    },
    {
      "cell_type": "code",
      "source": [
        "top_words(femaleDaily_positive_words, \"Female daily top words in positive sentiment\")\n",
        "print(\"\\n\")\n",
        "makeWordcloud(femaleDaily_positive_words, \"Female daily top words in positive sentiment\")"
      ],
      "metadata": {
        "colab": {
          "base_uri": "https://localhost:8080/",
          "height": 822
        },
        "outputId": "40be4d0b-5607-46a9-a5a9-288d7131fcb5",
        "id": "Yc_9p9e8XlnY"
      },
      "execution_count": 148,
      "outputs": [
        {
          "output_type": "stream",
          "name": "stdout",
          "text": [
            "[('ini', 204), ('banget', 198), ('dan', 178), ('aku', 172), ('sunscreen', 138), ('di', 132), ('kulit', 126), ('buat', 100), ('ga', 100), ('juga', 98), ('yang', 94), ('powder', 78), ('produk', 72), ('jadi', 72), ('suka', 72), ('sama', 70), ('pake', 62), ('bikin', 58), ('wajah', 56), ('cocok', 54), ('lagi', 52), ('bagus', 52), ('tekstur', 52), ('makeup', 50), ('bisa', 48), ('dari', 48), ('npure', 48), ('yg', 48), ('sun', 46), ('bgt', 46)]\n"
          ]
        },
        {
          "output_type": "display_data",
          "data": {
            "image/png": "[encoded data removed]",
            "text/plain": [
              "<Figure size 1152x648 with 1 Axes>"
            ]
          },
          "metadata": {
            "needs_background": "light"
          }
        },
        {
          "output_type": "stream",
          "name": "stdout",
          "text": [
            "\n",
            "\n"
          ]
        },
        {
          "output_type": "display_data",
          "data": {
            "image/png": "[encoded data removed]",
            "text/plain": [
              "<Figure size 432x288 with 1 Axes>"
            ]
          },
          "metadata": {
            "needs_background": "light"
          }
        }
      ]
    },
    {
      "cell_type": "markdown",
      "source": [
        "### Accuracy"
      ],
      "metadata": {
        "id": "97ZFFhuY-vKj"
      }
    },
    {
      "cell_type": "code",
      "source": [
        "print(\"\\nSVM bayes classification report:\") \n",
        "print(classification_report(Y_test, predictions_SVM))"
      ],
      "metadata": {
        "colab": {
          "base_uri": "https://localhost:8080/"
        },
        "id": "j5ywEfjr-zx7",
        "outputId": "bbd23c61-f278-4a2b-ae13-ed1f8b4ed8da"
      },
      "execution_count": 149,
      "outputs": [
        {
          "output_type": "stream",
          "name": "stdout",
          "text": [
            "\n",
            "SVM bayes classification report:\n",
            "              precision    recall  f1-score   support\n",
            "\n",
            "    negative       0.00      0.00      0.00         5\n",
            "     neutral       0.00      0.00      0.00         3\n",
            "    positive       0.99      1.00      0.99       540\n",
            "\n",
            "    accuracy                           0.99       548\n",
            "   macro avg       0.33      0.33      0.33       548\n",
            "weighted avg       0.97      0.99      0.98       548\n",
            "\n"
          ]
        },
        {
          "output_type": "stream",
          "name": "stderr",
          "text": [
            "/usr/local/lib/python3.7/dist-packages/sklearn/metrics/_classification.py:1308: UndefinedMetricWarning: Precision and F-score are ill-defined and being set to 0.0 in labels with no predicted samples. Use `zero_division` parameter to control this behavior.\n",
            "  _warn_prf(average, modifier, msg_start, len(result))\n",
            "/usr/local/lib/python3.7/dist-packages/sklearn/metrics/_classification.py:1308: UndefinedMetricWarning: Precision and F-score are ill-defined and being set to 0.0 in labels with no predicted samples. Use `zero_division` parameter to control this behavior.\n",
            "  _warn_prf(average, modifier, msg_start, len(result))\n",
            "/usr/local/lib/python3.7/dist-packages/sklearn/metrics/_classification.py:1308: UndefinedMetricWarning: Precision and F-score are ill-defined and being set to 0.0 in labels with no predicted samples. Use `zero_division` parameter to control this behavior.\n",
            "  _warn_prf(average, modifier, msg_start, len(result))\n"
          ]
        }
      ]
    },
    {
      "cell_type": "code",
      "source": [
        "print(\"\\nNaive bayes ComplementNB classification report:\") \n",
        "print(classification_report(Y_test, cnb_acc[0]))\n",
        "print(\"\\nNaive bayes BernoulliNB classification report:\") \n",
        "print(classification_report(Y_test, bnb_acc[0]))\n",
        "print(\"\\nNaive bayes MultinomialNB classification report:\") \n",
        "print(classification_report(Y_test, mnb_acc[0]))"
      ],
      "metadata": {
        "colab": {
          "base_uri": "https://localhost:8080/"
        },
        "id": "t3bm00Q1--fL",
        "outputId": "7b578fdb-0080-4030-b9e6-adba3f85bf66"
      },
      "execution_count": 150,
      "outputs": [
        {
          "output_type": "stream",
          "name": "stdout",
          "text": [
            "\n",
            "Naive bayes ComplementNB classification report:\n",
            "              precision    recall  f1-score   support\n",
            "\n",
            "    negative       0.00      0.00      0.00         5\n",
            "     neutral       0.50      0.33      0.40         3\n",
            "    positive       0.99      1.00      0.99       540\n",
            "\n",
            "    accuracy                           0.99       548\n",
            "   macro avg       0.50      0.44      0.46       548\n",
            "weighted avg       0.98      0.99      0.98       548\n",
            "\n",
            "\n",
            "Naive bayes BernoulliNB classification report:\n",
            "              precision    recall  f1-score   support\n",
            "\n",
            "    negative       0.00      0.00      0.00         5\n",
            "     neutral       0.00      0.00      0.00         3\n",
            "    positive       0.99      1.00      0.99       540\n",
            "\n",
            "    accuracy                           0.99       548\n",
            "   macro avg       0.33      0.33      0.33       548\n",
            "weighted avg       0.97      0.99      0.98       548\n",
            "\n",
            "\n",
            "Naive bayes MultinomialNB classification report:\n",
            "              precision    recall  f1-score   support\n",
            "\n",
            "    negative       0.00      0.00      0.00         5\n",
            "     neutral       0.00      0.00      0.00         3\n",
            "    positive       0.99      1.00      0.99       540\n",
            "\n",
            "    accuracy                           0.99       548\n",
            "   macro avg       0.33      0.33      0.33       548\n",
            "weighted avg       0.97      0.99      0.98       548\n",
            "\n"
          ]
        },
        {
          "output_type": "stream",
          "name": "stderr",
          "text": [
            "/usr/local/lib/python3.7/dist-packages/sklearn/metrics/_classification.py:1308: UndefinedMetricWarning: Precision and F-score are ill-defined and being set to 0.0 in labels with no predicted samples. Use `zero_division` parameter to control this behavior.\n",
            "  _warn_prf(average, modifier, msg_start, len(result))\n",
            "/usr/local/lib/python3.7/dist-packages/sklearn/metrics/_classification.py:1308: UndefinedMetricWarning: Precision and F-score are ill-defined and being set to 0.0 in labels with no predicted samples. Use `zero_division` parameter to control this behavior.\n",
            "  _warn_prf(average, modifier, msg_start, len(result))\n",
            "/usr/local/lib/python3.7/dist-packages/sklearn/metrics/_classification.py:1308: UndefinedMetricWarning: Precision and F-score are ill-defined and being set to 0.0 in labels with no predicted samples. Use `zero_division` parameter to control this behavior.\n",
            "  _warn_prf(average, modifier, msg_start, len(result))\n",
            "/usr/local/lib/python3.7/dist-packages/sklearn/metrics/_classification.py:1308: UndefinedMetricWarning: Precision and F-score are ill-defined and being set to 0.0 in labels with no predicted samples. Use `zero_division` parameter to control this behavior.\n",
            "  _warn_prf(average, modifier, msg_start, len(result))\n",
            "/usr/local/lib/python3.7/dist-packages/sklearn/metrics/_classification.py:1308: UndefinedMetricWarning: Precision and F-score are ill-defined and being set to 0.0 in labels with no predicted samples. Use `zero_division` parameter to control this behavior.\n",
            "  _warn_prf(average, modifier, msg_start, len(result))\n",
            "/usr/local/lib/python3.7/dist-packages/sklearn/metrics/_classification.py:1308: UndefinedMetricWarning: Precision and F-score are ill-defined and being set to 0.0 in labels with no predicted samples. Use `zero_division` parameter to control this behavior.\n",
            "  _warn_prf(average, modifier, msg_start, len(result))\n",
            "/usr/local/lib/python3.7/dist-packages/sklearn/metrics/_classification.py:1308: UndefinedMetricWarning: Precision and F-score are ill-defined and being set to 0.0 in labels with no predicted samples. Use `zero_division` parameter to control this behavior.\n",
            "  _warn_prf(average, modifier, msg_start, len(result))\n",
            "/usr/local/lib/python3.7/dist-packages/sklearn/metrics/_classification.py:1308: UndefinedMetricWarning: Precision and F-score are ill-defined and being set to 0.0 in labels with no predicted samples. Use `zero_division` parameter to control this behavior.\n",
            "  _warn_prf(average, modifier, msg_start, len(result))\n",
            "/usr/local/lib/python3.7/dist-packages/sklearn/metrics/_classification.py:1308: UndefinedMetricWarning: Precision and F-score are ill-defined and being set to 0.0 in labels with no predicted samples. Use `zero_division` parameter to control this behavior.\n",
            "  _warn_prf(average, modifier, msg_start, len(result))\n"
          ]
        }
      ]
    },
    {
      "cell_type": "markdown",
      "source": [
        "### Note"
      ],
      "metadata": {
        "id": "k-VKbOc9jDeZ"
      }
    },
    {
      "cell_type": "markdown",
      "source": [
        "From this data"
      ],
      "metadata": {
        "id": "QVKc8t-MiZd5"
      }
    },
    {
      "cell_type": "code",
      "source": [
        "print(\"Length data labelling:\", len(data_labelling))\n",
        "print(\"Split data test size:\", testSize)\n",
        "print(\"Split data random state:\", randomState)\n",
        "print(\"Length train data:\", len(data_train))\n",
        "print(\"Length test data:\", len(data_test))\n",
        "print(\"Length train data positive:\", len(data_train[data_train['sentiment'] == 'positive']))\n",
        "print(\"Length train data negative:\", len(data_train[data_train['sentiment'] == 'negative']))\n",
        "print(\"Length test data positive:\", len(data_test[data_test['sentiment'] == 'positive']))\n",
        "print(\"Length test data negative:\", len(data_test[data_test['sentiment'] == 'negative']))\n",
        "print(\"SVM kernel:\", SVMkernel)\n",
        "print(\"SVM probability:\", SVMprobability)"
      ],
      "metadata": {
        "colab": {
          "base_uri": "https://localhost:8080/"
        },
        "id": "0XpOnn8oidKZ",
        "outputId": "bd7e6df4-c4ec-4ee6-89b3-4bafcfa434b2"
      },
      "execution_count": 151,
      "outputs": [
        {
          "output_type": "stream",
          "name": "stdout",
          "text": [
            "Length data labelling: 2738\n",
            "Split data test size: 0.2\n",
            "Split data random state: 1\n",
            "Length train data: 2190\n",
            "Length test data: 548\n",
            "Length train data positive: 1728\n",
            "Length train data negative: 21\n",
            "Length test data positive: 95\n",
            "Length test data negative: 2\n",
            "SVM kernel: linear\n",
            "SVM probability: True\n"
          ]
        }
      ]
    },
    {
      "cell_type": "markdown",
      "source": [
        "got this accuracy"
      ],
      "metadata": {
        "id": "OHiIj_FckR20"
      }
    },
    {
      "cell_type": "code",
      "source": [
        "print(\"SVM accuracy:\", SVM_accuracy)\n",
        "print(\"Naive Bayes ComplementNB accuracy:\", cnb_acc[1])\n",
        "print(\"Naive Bayes BernoulliNB accuracy:\", bnb_acc[1])\n",
        "print(\"Naive Bayes MultinomialNB accuracy:\", mnb_acc[1])"
      ],
      "metadata": {
        "colab": {
          "base_uri": "https://localhost:8080/"
        },
        "id": "oamf1ynXkXxq",
        "outputId": "58696643-28a4-460c-9477-9b94030a7a8d"
      },
      "execution_count": 152,
      "outputs": [
        {
          "output_type": "stream",
          "name": "stdout",
          "text": [
            "SVM accuracy: 98.5\n",
            "Naive Bayes ComplementNB accuracy: 98.5\n",
            "Naive Bayes BernoulliNB accuracy: 98.5\n",
            "Naive Bayes MultinomialNB accuracy: 98.5\n"
          ]
        }
      ]
    }
  ]
}